{
 "cells": [
  {
   "cell_type": "code",
   "execution_count": 9,
   "metadata": {},
   "outputs": [],
   "source": [
    "import numpy as np\n",
    "import pandas as pd\n",
    "import matplotlib.pyplot as plt\n",
    "import xarray as xr\n",
    "import dask.array as da\n",
    "import pyproj\n",
    "import sys\n",
    "from joblib import Parallel, delayed\n",
    "from tqdm import tqdm\n",
    "from pycontrails import Flight, Fleet, MetDataset\n",
    "from pycontrails.core import models\n",
    "from pycontrails.datalib.ecmwf import ERA5\n",
    "from pycontrails.physics import geo, thermo, units, constants\n",
    "from pycontrails.models.gpat.gpat import GPAT"
   ]
  },
  {
   "cell_type": "code",
   "execution_count": 10,
   "metadata": {},
   "outputs": [],
   "source": [
    "# flight trajectory parameters\n",
    "fl_params = {\n",
    "    \"t0_fl\": pd.to_datetime(\"2022-01-20 13:00:00\"),  # flight start time\n",
    "    \"rt_fl\": pd.Timedelta(minutes=60),  # flight run time\n",
    "    \"ts_fl\": pd.Timedelta(minutes=2),  # flight time step\n",
    "    \"ac_type\": \"A320\",  # aircraft type\n",
    "    \"fl0_speed\": 100.0,  # m/s\n",
    "    \"fl0_heading\": 0.0,  # deg\n",
    "    \"fl0_coords0\": (0.1, 0.125, 12500),  # lat, lon, alt [deg, deg, m]\n",
    "    \"sep_dist\": (5000, 2000, 0),  # dx, dy, dz [m]\n",
    "    \"n_ac\": 1,  # number of aircraft\n",
    "}"
   ]
  },
  {
   "cell_type": "code",
   "execution_count": 11,
   "metadata": {},
   "outputs": [],
   "source": [
    " # plume dispersion parameters\n",
    "plume_params = {\n",
    "    \"dt_integration\": pd.Timedelta(minutes=2),  # integration time step\n",
    "    \"max_age\": pd.Timedelta(hours=2),  # maximum age of the plume\n",
    "    \"depth\": 50.0,  # initial plume depth, [m]\n",
    "    \"width\": 50.0,  # initial plume width, [m]\n",
    "    \"shear\": 0.01,  # wind shear [1/s]\n",
    "    \"hres_pl\": 0.01, # horizontal resolution of the plume [deg]\n",
    "    \"vres_pl\": 500 # vertical resolution of the plume [m]\n",
    "}"
   ]
  },
  {
   "cell_type": "code",
   "execution_count": 12,
   "metadata": {},
   "outputs": [],
   "source": [
    "# chemistry sim parameters\n",
    "sim_params = {\n",
    "    \"t0_sim\": pd.to_datetime(\"2022-01-20 12:00:00\"),  # chemistry start time\n",
    "    \"rt_sim\": pd.Timedelta(hours=3),  # chemistry runtime\n",
    "    \"ts_sim\": pd.Timedelta(seconds=20),  # chemistry time step\n",
    "    \"lat_bounds\": (0.0, 1.0),  # lat bounds [deg]\n",
    "    \"lon_bounds\": (0.0, 1.0),  # lon bounds [deg]\n",
    "    \"alt_bounds\": (12000, 13000),  # alt bounds [m]\n",
    "    \"hres_sim\": 0.01,  # horizontal resolution [deg]\n",
    "    \"vres_sim\": 500,  # vertical resolution [m]\n",
    "    \"eastward_wind\": 0.0,  # m/s\n",
    "    \"northward_wind\": 0.0,  # m/s\n",
    "    \"lagrangian_tendency_of_air_pressure\": 0.0,  # m/s\n",
    "    \"species_out\": np.array([3, 4, 5, 6, 8, 9, 12, 13, 14, 21, 22, 39, 198])\n",
    "}"
   ]
  },
  {
   "cell_type": "code",
   "execution_count": 13,
   "metadata": {},
   "outputs": [],
   "source": [
    "gpat = GPAT(fl_params, plume_params, sim_params)"
   ]
  },
  {
   "cell_type": "code",
   "execution_count": null,
   "metadata": {},
   "outputs": [],
   "source": [
    "gpat.alts"
   ]
  },
  {
   "cell_type": "code",
   "execution_count": null,
   "metadata": {},
   "outputs": [],
   "source": [
    "gpat.eval()"
   ]
  },
  {
   "cell_type": "code",
   "execution_count": null,
   "metadata": {},
   "outputs": [],
   "source": [
    "gpat.met"
   ]
  },
  {
   "cell_type": "code",
   "execution_count": null,
   "metadata": {},
   "outputs": [],
   "source": []
  }
 ],
 "metadata": {
  "kernelspec": {
   "display_name": "contrails",
   "language": "python",
   "name": "python3"
  },
  "language_info": {
   "codemirror_mode": {
    "name": "ipython",
    "version": 3
   },
   "file_extension": ".py",
   "mimetype": "text/x-python",
   "name": "python",
   "nbconvert_exporter": "python",
   "pygments_lexer": "ipython3",
   "version": "3.12.4"
  }
 },
 "nbformat": 4,
 "nbformat_minor": 2
}
