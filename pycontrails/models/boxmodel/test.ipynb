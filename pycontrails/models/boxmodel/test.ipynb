{
 "cells": [
  {
   "cell_type": "code",
   "execution_count": 1,
   "metadata": {},
   "outputs": [],
   "source": [
    "import xarray as xr\n",
    "import numpy as np\n",
    "from pycontrails.core.met import MetDataArray, MetDataset\n",
    "from pycontrails.ext.flight_gen import FlightGen\n",
    "import pycontrails.models.boxmodel.boxm as boxm\n",
    "import sys\n",
    "import os\n",
    "np.set_printoptions(threshold=sys.maxsize)"
   ]
  },
  {
   "cell_type": "code",
   "execution_count": 2,
   "metadata": {},
   "outputs": [
    {
     "name": "stderr",
     "output_type": "stream",
     "text": [
      "/home/ktait98/miniconda3/envs/contrails/lib/python3.12/site-packages/xarray/backends/plugins.py:80: RuntimeWarning: Engine 'cfgrib' loading failed:\n",
      "Cannot find the ecCodes library\n",
      "  warnings.warn(f\"Engine {name!r} loading failed:\\n{ex}\", RuntimeWarning)\n"
     ]
    }
   ],
   "source": [
    "chem = xr.open_dataset(\"/home/ktait98/pycontrails_kt/pycontrails/models/boxmodel/species.nc\")\n"
   ]
  },
  {
   "cell_type": "code",
   "execution_count": 6,
   "metadata": {},
   "outputs": [
    {
     "data": {
      "text/plain": [
       "array([[2.032e-08, 2.425e-08, 2.286e-08, 2.657e-08, 2.187e-08, 2.139e-08,\n",
       "        2.300e-08, 3.132e-08, 3.191e-08, 3.336e-08, 2.848e-08, 2.474e-08],\n",
       "       [2.481e-08, 2.238e-08, 2.689e-08, 3.374e-08, 2.626e-08, 2.502e-08,\n",
       "        2.828e-08, 3.567e-08, 3.596e-08, 3.705e-08, 3.356e-08, 2.876e-08],\n",
       "       [2.582e-08, 2.584e-08, 2.835e-08, 3.151e-08, 2.622e-08, 2.582e-08,\n",
       "        3.068e-08, 3.646e-08, 3.661e-08, 3.916e-08, 3.650e-08, 3.036e-08],\n",
       "       [2.690e-08, 2.664e-08, 3.305e-08, 4.312e-08, 2.716e-08, 2.964e-08,\n",
       "        2.921e-08, 3.661e-08, 3.788e-08, 3.929e-08, 3.770e-08, 3.199e-08],\n",
       "       [3.051e-08, 3.759e-08, 4.150e-08, 5.500e-08, 4.344e-08, 4.194e-08,\n",
       "        3.362e-08, 3.989e-08, 3.934e-08, 3.931e-08, 3.874e-08, 3.292e-08],\n",
       "       [3.293e-08, 3.828e-08, 6.129e-08, 6.083e-08, 5.457e-08, 4.606e-08,\n",
       "        4.517e-08, 3.906e-08, 3.973e-08, 4.131e-08, 4.052e-08, 3.387e-08],\n",
       "       [4.103e-08, 5.298e-08, 7.928e-08, 1.089e-07, 6.533e-08, 6.504e-08,\n",
       "        6.424e-08, 4.318e-08, 5.093e-08, 4.429e-08, 4.604e-08, 3.674e-08],\n",
       "       [5.557e-08, 9.828e-08, 1.145e-07, 1.613e-07, 9.104e-08, 1.066e-07,\n",
       "        8.333e-08, 6.304e-08, 6.501e-08, 5.482e-08, 6.359e-08, 4.639e-08],\n",
       "       [1.037e-07, 1.598e-07, 1.758e-07, 1.779e-07, 1.424e-07, 1.310e-07,\n",
       "        1.061e-07, 9.196e-08, 9.258e-08, 7.424e-08, 1.114e-07, 6.498e-08]])"
      ]
     },
     "execution_count": 6,
     "metadata": {},
     "output_type": "execute_result"
    }
   ],
   "source": [
    "chem.bg_chem.sel(species=\"O3\", latitude=-90, longitude=-180).values\n",
    "\n",
    "\n",
    "# y_values = chem[\"Y\"].sel(cell=300, species=\"O3\")\n",
    "# emi_values = chem[\"emi\"].sel(cell=181, emi_species=\"NO\")\n",
    "\n",
    "# y_values.plot()\n"
   ]
  },
  {
   "cell_type": "code",
   "execution_count": 7,
   "metadata": {},
   "outputs": [
    {
     "ename": "NameError",
     "evalue": "name 'emi_values' is not defined",
     "output_type": "error",
     "traceback": [
      "\u001b[0;31m---------------------------------------------------------------------------\u001b[0m",
      "\u001b[0;31mNameError\u001b[0m                                 Traceback (most recent call last)",
      "Cell \u001b[0;32mIn[7], line 1\u001b[0m\n\u001b[0;32m----> 1\u001b[0m \u001b[43memi_values\u001b[49m\u001b[38;5;241m.\u001b[39mplot()\n",
      "\u001b[0;31mNameError\u001b[0m: name 'emi_values' is not defined"
     ]
    }
   ],
   "source": [
    "emi_values.plot()"
   ]
  },
  {
   "cell_type": "code",
   "execution_count": null,
   "metadata": {},
   "outputs": [],
   "source": [
    "\n",
    "\n",
    "\n",
    "y_values = chem[\"Y\"].isel(time=230).sel(species=\"NO\").values\n",
    "emi_values = chem[\"emi\"].isel(time=230).sel(emi_species=\"NO\").values\n",
    "\n",
    "for i, (y_val, emi_val) in enumerate(zip(y_values, emi_values)):\n",
    "    # if 200 <= i <= 250:\n",
    "    print(i, y_val, emi_val)\n",
    "\n",
    "# for i, val in enumerate(chem[\"Y\"].sel(cell=181, species=\"NO\").values):\n",
    "#     if 200 <= i <= 250:\n",
    "#         print(i, val)"
   ]
  },
  {
   "cell_type": "code",
   "execution_count": null,
   "metadata": {},
   "outputs": [],
   "source": [
    "for i, val in enumerate(chem[\"emi\"].sel(cell=181, emi_species=\"NO\").values):\n",
    "    if 200 <= i <= 250:\n",
    "        print(i, val)\n"
   ]
  },
  {
   "cell_type": "code",
   "execution_count": null,
   "metadata": {},
   "outputs": [],
   "source": [
    "# with open('species_num.txt', 'r') as file:\n",
    "#     species_names = file.read().splitlines()\n",
    "\n",
    "# species_names\n",
    "\n",
    "# bg_chem[\"Y\"] = xr.DataArray(\n",
    "#     np.zeros((len(bg_chem[\"latitude\"]), len(bg_chem[\"longitude\"]), len(bg_chem[\"level\"]), len(bg_chem[\"month\"]), len(species_names))),\n",
    "#     dims=('latitude', 'longitude', 'level', 'month', 'species'),\n",
    "#     coords={'latitude': bg_chem[\"latitude\"], 'longitude': bg_chem[\"longitude\"], 'level': bg_chem[\"level\"], 'species': species_names}\n",
    "# )\n",
    "\n",
    "# bg_chem = bg_chem.rename({\"RN9O2\": \"RN902\"})\n",
    "\n",
    "# for i, species in enumerate(species_names):\n",
    "#     if species in bg_chem:\n",
    "#         bg_chem['Y'][:, :, :, :, i] = bg_chem[species].values\n",
    "#         del bg_chem[species]\n",
    "\n",
    "# if species.nc exists, delete first\n",
    "# os.remove(\"species.nc\")\n",
    "\n",
    "# bg_chem.to_netcdf(\"species.nc\")"
   ]
  }
 ],
 "metadata": {
  "kernelspec": {
   "display_name": "contrails",
   "language": "python",
   "name": "python3"
  },
  "language_info": {
   "codemirror_mode": {
    "name": "ipython",
    "version": 3
   },
   "file_extension": ".py",
   "mimetype": "text/x-python",
   "name": "python",
   "nbconvert_exporter": "python",
   "pygments_lexer": "ipython3",
   "version": "3.12.3"
  }
 },
 "nbformat": 4,
 "nbformat_minor": 2
}
