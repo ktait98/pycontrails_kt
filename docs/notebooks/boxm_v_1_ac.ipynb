{
 "cells": [
  {
   "cell_type": "code",
   "execution_count": 1,
   "metadata": {},
   "outputs": [],
   "source": [
    "import numpy as np\n",
    "import pandas as pd\n",
    "import matplotlib.pyplot as plt\n",
    "import xarray as xr\n",
    "import dask.array as da\n",
    "import pyproj\n",
    "import sys\n",
    "from joblib import Parallel, delayed\n",
    "from tqdm import tqdm\n",
    "\n",
    "pd.set_option(\"display.max_rows\", 200)\n",
    "import pdb\n",
    "\n",
    "from pycontrails import Flight, Fleet, MetDataset\n",
    "from pycontrails.core import models\n",
    "from pycontrails.datalib.ecmwf import ERA5\n",
    "from pycontrails.physics import geo, thermo, units, constants\n",
    "\n",
    "# from pycontrails.models.ps_model import PSFlight\n",
    "# from pycontrails.models.emissions import Emissions\n",
    "from pycontrails.ext.flight_gen import FlightGen\n",
    "from pycontrails.models.boxmodel.boxm_ac import Boxm\n",
    "\n",
    "# from pycontrails.models.dry_advection import DryAdvection\n",
    "from pycontrails.core.met_var import (\n",
    "    AirTemperature,\n",
    "    RelativeHumidity,\n",
    "    SpecificHumidity,\n",
    "    EastwardWind,\n",
    "    NorthwardWind,\n",
    "    VerticalVelocity,\n",
    ")"
   ]
  },
  {
   "cell_type": "code",
   "execution_count": 2,
   "metadata": {},
   "outputs": [],
   "source": [
    "# meteorological parameters\n",
    "met_params = {\n",
    "    \"air_temperature\": 235.0,  # K\n",
    "    \"specific_humidity\": 0.003,  # 1\n",
    "    \"relative_humidity\": 0.5,  # 1\n",
    "    \"eastward_wind\": 0.0,  # m/s\n",
    "    \"northward_wind\": 0.0,  # m/s\n",
    "    \"lagrangian_tendency_of_air_pressure\": 0.0,  # m/s\n",
    "}"
   ]
  },
  {
   "cell_type": "code",
   "execution_count": 3,
   "metadata": {},
   "outputs": [],
   "source": [
    "# flight trajectory parameters\n",
    "fl_params = {\n",
    "    \"t0_fl\": pd.to_datetime(\"2022-01-20 14:00:00\"),  # flight start time\n",
    "    \"rt_fl\": pd.Timedelta(minutes=60),  # flight run time\n",
    "    \"ts_fl\": pd.Timedelta(minutes=2),  # flight time step\n",
    "    \"ac_type\": \"A320\",  # aircraft type\n",
    "    \"fl0_speed\": 100.0,  # m/s\n",
    "    \"fl0_heading\": 0.0,  # deg\n",
    "    \"fl0_coords0\": (47.55, -32.5, 12500),  # lat, lon, alt [deg, deg, m]\n",
    "    \"sep_dist\": (5000, 2000, 0),  # dx, dy, dz [m]\n",
    "    \"n_ac\": 1,  # number of aircraft\n",
    "}"
   ]
  },
  {
   "cell_type": "code",
   "execution_count": 4,
   "metadata": {},
   "outputs": [],
   "source": [
    " # plume dispersion parameters\n",
    "plume_params = {\n",
    "    \"dt_integration\": pd.Timedelta(minutes=5),  # integration time step\n",
    "    \"max_age\": pd.Timedelta(hours=2),  # maximum age of the plume\n",
    "    \"depth\": 50.0,  # initial plume depth, [m]\n",
    "    \"width\": 50.0,  # initial plume width, [m]\n",
    "    \"shear\": 0.01,  # wind shear [1/s]\n",
    "}"
   ]
  },
  {
   "cell_type": "code",
   "execution_count": 5,
   "metadata": {},
   "outputs": [],
   "source": [
    "# chemistry sim parameters\n",
    "chem_params = {\n",
    "    \"t0_chem\": pd.to_datetime(\"2022-01-20 12:00:00\"),  # chemistry start time\n",
    "    \"rt_chem\": pd.Timedelta(hours=6),  # chemistry runtime\n",
    "    \"ts_chem\": pd.Timedelta(seconds=20),  # chemistry time step\n",
    "    \"lat_bounds\": (47.0, 48.0),  # lat bounds [deg]\n",
    "    \"lon_bounds\": (-33.0, -32.0),  # lon bounds [deg]\n",
    "    \"alt_bounds\": (12000, 13000),  # alt bounds [m]\n",
    "    \"hres_pl\": 0.02,  # horizontal resolution of the plume, [deg]\n",
    "    \"hres_chem\": 0.1,  # horizontal resolution [deg]\n",
    "    \"vres_chem\": 500,  # vertical resolution [m]\n",
    "}"
   ]
  },
  {
   "cell_type": "code",
   "execution_count": 6,
   "metadata": {},
   "outputs": [],
   "source": [
    "lats_pl = np.arange(\n",
    "    chem_params[\"lat_bounds\"][0], chem_params[\"lat_bounds\"][1] + chem_params[\"hres_pl\"], chem_params[\"hres_pl\"]\n",
    ")\n",
    "\n",
    "lons_pl = np.arange(\n",
    "    chem_params[\"lon_bounds\"][0], chem_params[\"lon_bounds\"][1] + chem_params[\"hres_pl\"], chem_params[\"hres_pl\"]\n",
    ")"
   ]
  },
  {
   "cell_type": "code",
   "execution_count": 7,
   "metadata": {},
   "outputs": [],
   "source": [
    "lats = np.arange(\n",
    "    chem_params[\"lat_bounds\"][0], chem_params[\"lat_bounds\"][1] + chem_params[\"hres_chem\"], chem_params[\"hres_chem\"]\n",
    ")\n",
    "\n",
    "lons = np.arange(\n",
    "    chem_params[\"lon_bounds\"][0], chem_params[\"lon_bounds\"][1] + chem_params[\"hres_chem\"], chem_params[\"hres_chem\"]\n",
    ")\n",
    "\n",
    "alts = np.arange(\n",
    "    chem_params[\"alt_bounds\"][0], chem_params[\"alt_bounds\"][1] + chem_params[\"vres_chem\"], chem_params[\"vres_chem\"]\n",
    ")\n",
    "\n",
    "times = pd.date_range(\n",
    "    start=chem_params[\"t0_chem\"],\n",
    "    end=chem_params[\"t0_chem\"] + chem_params[\"rt_chem\"],\n",
    "    freq=chem_params[\"ts_chem\"],\n",
    ")"
   ]
  },
  {
   "cell_type": "code",
   "execution_count": 8,
   "metadata": {},
   "outputs": [
    {
     "data": {
      "text/html": [
       "<b>MetDataset</b> with data:<br/ ><br/> <div><svg style=\"position: absolute; width: 0; height: 0; overflow: hidden\">\n",
       "<defs>\n",
       "<symbol id=\"icon-database\" viewBox=\"0 0 32 32\">\n",
       "<path d=\"M16 0c-8.837 0-16 2.239-16 5v4c0 2.761 7.163 5 16 5s16-2.239 16-5v-4c0-2.761-7.163-5-16-5z\"></path>\n",
       "<path d=\"M16 17c-8.837 0-16-2.239-16-5v6c0 2.761 7.163 5 16 5s16-2.239 16-5v-6c0 2.761-7.163 5-16 5z\"></path>\n",
       "<path d=\"M16 26c-8.837 0-16-2.239-16-5v6c0 2.761 7.163 5 16 5s16-2.239 16-5v-6c0 2.761-7.163 5-16 5z\"></path>\n",
       "</symbol>\n",
       "<symbol id=\"icon-file-text2\" viewBox=\"0 0 32 32\">\n",
       "<path d=\"M28.681 7.159c-0.694-0.947-1.662-2.053-2.724-3.116s-2.169-2.030-3.116-2.724c-1.612-1.182-2.393-1.319-2.841-1.319h-15.5c-1.378 0-2.5 1.121-2.5 2.5v27c0 1.378 1.122 2.5 2.5 2.5h23c1.378 0 2.5-1.122 2.5-2.5v-19.5c0-0.448-0.137-1.23-1.319-2.841zM24.543 5.457c0.959 0.959 1.712 1.825 2.268 2.543h-4.811v-4.811c0.718 0.556 1.584 1.309 2.543 2.268zM28 29.5c0 0.271-0.229 0.5-0.5 0.5h-23c-0.271 0-0.5-0.229-0.5-0.5v-27c0-0.271 0.229-0.5 0.5-0.5 0 0 15.499-0 15.5 0v7c0 0.552 0.448 1 1 1h7v19.5z\"></path>\n",
       "<path d=\"M23 26h-14c-0.552 0-1-0.448-1-1s0.448-1 1-1h14c0.552 0 1 0.448 1 1s-0.448 1-1 1z\"></path>\n",
       "<path d=\"M23 22h-14c-0.552 0-1-0.448-1-1s0.448-1 1-1h14c0.552 0 1 0.448 1 1s-0.448 1-1 1z\"></path>\n",
       "<path d=\"M23 18h-14c-0.552 0-1-0.448-1-1s0.448-1 1-1h14c0.552 0 1 0.448 1 1s-0.448 1-1 1z\"></path>\n",
       "</symbol>\n",
       "</defs>\n",
       "</svg>\n",
       "<style>/* CSS stylesheet for displaying xarray objects in jupyterlab.\n",
       " *\n",
       " */\n",
       "\n",
       ":root {\n",
       "  --xr-font-color0: var(--jp-content-font-color0, rgba(0, 0, 0, 1));\n",
       "  --xr-font-color2: var(--jp-content-font-color2, rgba(0, 0, 0, 0.54));\n",
       "  --xr-font-color3: var(--jp-content-font-color3, rgba(0, 0, 0, 0.38));\n",
       "  --xr-border-color: var(--jp-border-color2, #e0e0e0);\n",
       "  --xr-disabled-color: var(--jp-layout-color3, #bdbdbd);\n",
       "  --xr-background-color: var(--jp-layout-color0, white);\n",
       "  --xr-background-color-row-even: var(--jp-layout-color1, white);\n",
       "  --xr-background-color-row-odd: var(--jp-layout-color2, #eeeeee);\n",
       "}\n",
       "\n",
       "html[theme=dark],\n",
       "body[data-theme=dark],\n",
       "body.vscode-dark {\n",
       "  --xr-font-color0: rgba(255, 255, 255, 1);\n",
       "  --xr-font-color2: rgba(255, 255, 255, 0.54);\n",
       "  --xr-font-color3: rgba(255, 255, 255, 0.38);\n",
       "  --xr-border-color: #1F1F1F;\n",
       "  --xr-disabled-color: #515151;\n",
       "  --xr-background-color: #111111;\n",
       "  --xr-background-color-row-even: #111111;\n",
       "  --xr-background-color-row-odd: #313131;\n",
       "}\n",
       "\n",
       ".xr-wrap {\n",
       "  display: block !important;\n",
       "  min-width: 300px;\n",
       "  max-width: 700px;\n",
       "}\n",
       "\n",
       ".xr-text-repr-fallback {\n",
       "  /* fallback to plain text repr when CSS is not injected (untrusted notebook) */\n",
       "  display: none;\n",
       "}\n",
       "\n",
       ".xr-header {\n",
       "  padding-top: 6px;\n",
       "  padding-bottom: 6px;\n",
       "  margin-bottom: 4px;\n",
       "  border-bottom: solid 1px var(--xr-border-color);\n",
       "}\n",
       "\n",
       ".xr-header > div,\n",
       ".xr-header > ul {\n",
       "  display: inline;\n",
       "  margin-top: 0;\n",
       "  margin-bottom: 0;\n",
       "}\n",
       "\n",
       ".xr-obj-type,\n",
       ".xr-array-name {\n",
       "  margin-left: 2px;\n",
       "  margin-right: 10px;\n",
       "}\n",
       "\n",
       ".xr-obj-type {\n",
       "  color: var(--xr-font-color2);\n",
       "}\n",
       "\n",
       ".xr-sections {\n",
       "  padding-left: 0 !important;\n",
       "  display: grid;\n",
       "  grid-template-columns: 150px auto auto 1fr 20px 20px;\n",
       "}\n",
       "\n",
       ".xr-section-item {\n",
       "  display: contents;\n",
       "}\n",
       "\n",
       ".xr-section-item input {\n",
       "  display: none;\n",
       "}\n",
       "\n",
       ".xr-section-item input + label {\n",
       "  color: var(--xr-disabled-color);\n",
       "}\n",
       "\n",
       ".xr-section-item input:enabled + label {\n",
       "  cursor: pointer;\n",
       "  color: var(--xr-font-color2);\n",
       "}\n",
       "\n",
       ".xr-section-item input:enabled + label:hover {\n",
       "  color: var(--xr-font-color0);\n",
       "}\n",
       "\n",
       ".xr-section-summary {\n",
       "  grid-column: 1;\n",
       "  color: var(--xr-font-color2);\n",
       "  font-weight: 500;\n",
       "}\n",
       "\n",
       ".xr-section-summary > span {\n",
       "  display: inline-block;\n",
       "  padding-left: 0.5em;\n",
       "}\n",
       "\n",
       ".xr-section-summary-in:disabled + label {\n",
       "  color: var(--xr-font-color2);\n",
       "}\n",
       "\n",
       ".xr-section-summary-in + label:before {\n",
       "  display: inline-block;\n",
       "  content: '►';\n",
       "  font-size: 11px;\n",
       "  width: 15px;\n",
       "  text-align: center;\n",
       "}\n",
       "\n",
       ".xr-section-summary-in:disabled + label:before {\n",
       "  color: var(--xr-disabled-color);\n",
       "}\n",
       "\n",
       ".xr-section-summary-in:checked + label:before {\n",
       "  content: '▼';\n",
       "}\n",
       "\n",
       ".xr-section-summary-in:checked + label > span {\n",
       "  display: none;\n",
       "}\n",
       "\n",
       ".xr-section-summary,\n",
       ".xr-section-inline-details {\n",
       "  padding-top: 4px;\n",
       "  padding-bottom: 4px;\n",
       "}\n",
       "\n",
       ".xr-section-inline-details {\n",
       "  grid-column: 2 / -1;\n",
       "}\n",
       "\n",
       ".xr-section-details {\n",
       "  display: none;\n",
       "  grid-column: 1 / -1;\n",
       "  margin-bottom: 5px;\n",
       "}\n",
       "\n",
       ".xr-section-summary-in:checked ~ .xr-section-details {\n",
       "  display: contents;\n",
       "}\n",
       "\n",
       ".xr-array-wrap {\n",
       "  grid-column: 1 / -1;\n",
       "  display: grid;\n",
       "  grid-template-columns: 20px auto;\n",
       "}\n",
       "\n",
       ".xr-array-wrap > label {\n",
       "  grid-column: 1;\n",
       "  vertical-align: top;\n",
       "}\n",
       "\n",
       ".xr-preview {\n",
       "  color: var(--xr-font-color3);\n",
       "}\n",
       "\n",
       ".xr-array-preview,\n",
       ".xr-array-data {\n",
       "  padding: 0 5px !important;\n",
       "  grid-column: 2;\n",
       "}\n",
       "\n",
       ".xr-array-data,\n",
       ".xr-array-in:checked ~ .xr-array-preview {\n",
       "  display: none;\n",
       "}\n",
       "\n",
       ".xr-array-in:checked ~ .xr-array-data,\n",
       ".xr-array-preview {\n",
       "  display: inline-block;\n",
       "}\n",
       "\n",
       ".xr-dim-list {\n",
       "  display: inline-block !important;\n",
       "  list-style: none;\n",
       "  padding: 0 !important;\n",
       "  margin: 0;\n",
       "}\n",
       "\n",
       ".xr-dim-list li {\n",
       "  display: inline-block;\n",
       "  padding: 0;\n",
       "  margin: 0;\n",
       "}\n",
       "\n",
       ".xr-dim-list:before {\n",
       "  content: '(';\n",
       "}\n",
       "\n",
       ".xr-dim-list:after {\n",
       "  content: ')';\n",
       "}\n",
       "\n",
       ".xr-dim-list li:not(:last-child):after {\n",
       "  content: ',';\n",
       "  padding-right: 5px;\n",
       "}\n",
       "\n",
       ".xr-has-index {\n",
       "  font-weight: bold;\n",
       "}\n",
       "\n",
       ".xr-var-list,\n",
       ".xr-var-item {\n",
       "  display: contents;\n",
       "}\n",
       "\n",
       ".xr-var-item > div,\n",
       ".xr-var-item label,\n",
       ".xr-var-item > .xr-var-name span {\n",
       "  background-color: var(--xr-background-color-row-even);\n",
       "  margin-bottom: 0;\n",
       "}\n",
       "\n",
       ".xr-var-item > .xr-var-name:hover span {\n",
       "  padding-right: 5px;\n",
       "}\n",
       "\n",
       ".xr-var-list > li:nth-child(odd) > div,\n",
       ".xr-var-list > li:nth-child(odd) > label,\n",
       ".xr-var-list > li:nth-child(odd) > .xr-var-name span {\n",
       "  background-color: var(--xr-background-color-row-odd);\n",
       "}\n",
       "\n",
       ".xr-var-name {\n",
       "  grid-column: 1;\n",
       "}\n",
       "\n",
       ".xr-var-dims {\n",
       "  grid-column: 2;\n",
       "}\n",
       "\n",
       ".xr-var-dtype {\n",
       "  grid-column: 3;\n",
       "  text-align: right;\n",
       "  color: var(--xr-font-color2);\n",
       "}\n",
       "\n",
       ".xr-var-preview {\n",
       "  grid-column: 4;\n",
       "}\n",
       "\n",
       ".xr-index-preview {\n",
       "  grid-column: 2 / 5;\n",
       "  color: var(--xr-font-color2);\n",
       "}\n",
       "\n",
       ".xr-var-name,\n",
       ".xr-var-dims,\n",
       ".xr-var-dtype,\n",
       ".xr-preview,\n",
       ".xr-attrs dt {\n",
       "  white-space: nowrap;\n",
       "  overflow: hidden;\n",
       "  text-overflow: ellipsis;\n",
       "  padding-right: 10px;\n",
       "}\n",
       "\n",
       ".xr-var-name:hover,\n",
       ".xr-var-dims:hover,\n",
       ".xr-var-dtype:hover,\n",
       ".xr-attrs dt:hover {\n",
       "  overflow: visible;\n",
       "  width: auto;\n",
       "  z-index: 1;\n",
       "}\n",
       "\n",
       ".xr-var-attrs,\n",
       ".xr-var-data,\n",
       ".xr-index-data {\n",
       "  display: none;\n",
       "  background-color: var(--xr-background-color) !important;\n",
       "  padding-bottom: 5px !important;\n",
       "}\n",
       "\n",
       ".xr-var-attrs-in:checked ~ .xr-var-attrs,\n",
       ".xr-var-data-in:checked ~ .xr-var-data,\n",
       ".xr-index-data-in:checked ~ .xr-index-data {\n",
       "  display: block;\n",
       "}\n",
       "\n",
       ".xr-var-data > table {\n",
       "  float: right;\n",
       "}\n",
       "\n",
       ".xr-var-name span,\n",
       ".xr-var-data,\n",
       ".xr-index-name div,\n",
       ".xr-index-data,\n",
       ".xr-attrs {\n",
       "  padding-left: 25px !important;\n",
       "}\n",
       "\n",
       ".xr-attrs,\n",
       ".xr-var-attrs,\n",
       ".xr-var-data,\n",
       ".xr-index-data {\n",
       "  grid-column: 1 / -1;\n",
       "}\n",
       "\n",
       "dl.xr-attrs {\n",
       "  padding: 0;\n",
       "  margin: 0;\n",
       "  display: grid;\n",
       "  grid-template-columns: 125px auto;\n",
       "}\n",
       "\n",
       ".xr-attrs dt,\n",
       ".xr-attrs dd {\n",
       "  padding: 0;\n",
       "  margin: 0;\n",
       "  float: left;\n",
       "  padding-right: 10px;\n",
       "  width: auto;\n",
       "}\n",
       "\n",
       ".xr-attrs dt {\n",
       "  font-weight: normal;\n",
       "  grid-column: 1;\n",
       "}\n",
       "\n",
       ".xr-attrs dt:hover span {\n",
       "  display: inline-block;\n",
       "  background: var(--xr-background-color);\n",
       "  padding-right: 10px;\n",
       "}\n",
       "\n",
       ".xr-attrs dd {\n",
       "  grid-column: 2;\n",
       "  white-space: pre-wrap;\n",
       "  word-break: break-all;\n",
       "}\n",
       "\n",
       ".xr-icon-database,\n",
       ".xr-icon-file-text2,\n",
       ".xr-no-icon {\n",
       "  display: inline-block;\n",
       "  vertical-align: middle;\n",
       "  width: 1em;\n",
       "  height: 1.5em !important;\n",
       "  stroke-width: 0;\n",
       "  stroke: currentColor;\n",
       "  fill: currentColor;\n",
       "}\n",
       "</style><pre class='xr-text-repr-fallback'>&lt;xarray.Dataset&gt; Size: 22MB\n",
       "Dimensions:                              (longitude: 12, latitude: 12,\n",
       "                                          level: 3, time: 1081)\n",
       "Coordinates:\n",
       "  * longitude                            (longitude) float64 96B -33.0 ... -31.9\n",
       "  * latitude                             (latitude) float64 96B 47.0 ... 48.1\n",
       "  * level                                (level) float64 24B 165.1 178.6 193.3\n",
       "  * time                                 (time) datetime64[ns] 9kB 2022-01-20...\n",
       "    air_pressure                         (level) float64 24B 1.651e+04 ... 1....\n",
       "    altitude                             (level) float64 24B 1.3e+04 ... 1.2e+04\n",
       "Data variables:\n",
       "    air_temperature                      (longitude, latitude, level, time) float64 4MB dask.array&lt;chunksize=(12, 12, 3, 100), meta=np.ndarray&gt;\n",
       "    specific_humidity                    (longitude, latitude, level, time) float64 4MB dask.array&lt;chunksize=(12, 12, 3, 100), meta=np.ndarray&gt;\n",
       "    relative_humidity                    (longitude, latitude, level, time) float64 4MB dask.array&lt;chunksize=(12, 12, 3, 100), meta=np.ndarray&gt;\n",
       "    eastward_wind                        (longitude, latitude, level, time) float64 4MB dask.array&lt;chunksize=(12, 12, 3, 100), meta=np.ndarray&gt;\n",
       "    northward_wind                       (longitude, latitude, level, time) float64 4MB dask.array&lt;chunksize=(12, 12, 3, 100), meta=np.ndarray&gt;\n",
       "    lagrangian_tendency_of_air_pressure  (longitude, latitude, level, time) float64 4MB dask.array&lt;chunksize=(12, 12, 3, 100), meta=np.ndarray&gt;</pre><div class='xr-wrap' style='display:none'><div class='xr-header'><div class='xr-obj-type'>xarray.Dataset</div></div><ul class='xr-sections'><li class='xr-section-item'><input id='section-c77ebb67-754b-4cab-aaad-83c59a87a928' class='xr-section-summary-in' type='checkbox' disabled ><label for='section-c77ebb67-754b-4cab-aaad-83c59a87a928' class='xr-section-summary'  title='Expand/collapse section'>Dimensions:</label><div class='xr-section-inline-details'><ul class='xr-dim-list'><li><span class='xr-has-index'>longitude</span>: 12</li><li><span class='xr-has-index'>latitude</span>: 12</li><li><span class='xr-has-index'>level</span>: 3</li><li><span class='xr-has-index'>time</span>: 1081</li></ul></div><div class='xr-section-details'></div></li><li class='xr-section-item'><input id='section-64333027-0d1c-4732-9f0c-e35d51ec8bbd' class='xr-section-summary-in' type='checkbox'  checked><label for='section-64333027-0d1c-4732-9f0c-e35d51ec8bbd' class='xr-section-summary' >Coordinates: <span>(6)</span></label><div class='xr-section-inline-details'></div><div class='xr-section-details'><ul class='xr-var-list'><li class='xr-var-item'><div class='xr-var-name'><span class='xr-has-index'>longitude</span></div><div class='xr-var-dims'>(longitude)</div><div class='xr-var-dtype'>float64</div><div class='xr-var-preview xr-preview'>-33.0 -32.9 -32.8 ... -32.0 -31.9</div><input id='attrs-5fc58c0e-4a3a-4345-b903-fb2899f71b62' class='xr-var-attrs-in' type='checkbox' disabled><label for='attrs-5fc58c0e-4a3a-4345-b903-fb2899f71b62' title='Show/Hide attributes'><svg class='icon xr-icon-file-text2'><use xlink:href='#icon-file-text2'></use></svg></label><input id='data-14fb3778-5c3e-466f-9d54-8d35b4af0933' class='xr-var-data-in' type='checkbox'><label for='data-14fb3778-5c3e-466f-9d54-8d35b4af0933' title='Show/Hide data repr'><svg class='icon xr-icon-database'><use xlink:href='#icon-database'></use></svg></label><div class='xr-var-attrs'><dl class='xr-attrs'></dl></div><div class='xr-var-data'><pre>array([-33. , -32.9, -32.8, -32.7, -32.6, -32.5, -32.4, -32.3, -32.2, -32.1,\n",
       "       -32. , -31.9])</pre></div></li><li class='xr-var-item'><div class='xr-var-name'><span class='xr-has-index'>latitude</span></div><div class='xr-var-dims'>(latitude)</div><div class='xr-var-dtype'>float64</div><div class='xr-var-preview xr-preview'>47.0 47.1 47.2 ... 47.9 48.0 48.1</div><input id='attrs-406978af-533e-471f-9de8-2a3e4947a662' class='xr-var-attrs-in' type='checkbox' disabled><label for='attrs-406978af-533e-471f-9de8-2a3e4947a662' title='Show/Hide attributes'><svg class='icon xr-icon-file-text2'><use xlink:href='#icon-file-text2'></use></svg></label><input id='data-723234fc-8da4-4945-bbfe-7bf896f2df23' class='xr-var-data-in' type='checkbox'><label for='data-723234fc-8da4-4945-bbfe-7bf896f2df23' title='Show/Hide data repr'><svg class='icon xr-icon-database'><use xlink:href='#icon-database'></use></svg></label><div class='xr-var-attrs'><dl class='xr-attrs'></dl></div><div class='xr-var-data'><pre>array([47. , 47.1, 47.2, 47.3, 47.4, 47.5, 47.6, 47.7, 47.8, 47.9, 48. , 48.1])</pre></div></li><li class='xr-var-item'><div class='xr-var-name'><span class='xr-has-index'>level</span></div><div class='xr-var-dims'>(level)</div><div class='xr-var-dtype'>float64</div><div class='xr-var-preview xr-preview'>165.1 178.6 193.3</div><input id='attrs-b375714a-b532-4b29-b93b-69367f2f11b6' class='xr-var-attrs-in' type='checkbox' ><label for='attrs-b375714a-b532-4b29-b93b-69367f2f11b6' title='Show/Hide attributes'><svg class='icon xr-icon-file-text2'><use xlink:href='#icon-file-text2'></use></svg></label><input id='data-f01ea27a-1525-4b88-ac7e-bef4cf910124' class='xr-var-data-in' type='checkbox'><label for='data-f01ea27a-1525-4b88-ac7e-bef4cf910124' title='Show/Hide data repr'><svg class='icon xr-icon-database'><use xlink:href='#icon-database'></use></svg></label><div class='xr-var-attrs'><dl class='xr-attrs'><dt><span>units :</span></dt><dd>hPa</dd><dt><span>long_name :</span></dt><dd>Pressure</dd><dt><span>positive :</span></dt><dd>down</dd></dl></div><div class='xr-var-data'><pre>array([165.100852, 178.645172, 193.300623])</pre></div></li><li class='xr-var-item'><div class='xr-var-name'><span class='xr-has-index'>time</span></div><div class='xr-var-dims'>(time)</div><div class='xr-var-dtype'>datetime64[ns]</div><div class='xr-var-preview xr-preview'>2022-01-20T12:00:00 ... 2022-01-...</div><input id='attrs-74b0f7dc-8048-45c3-96ec-8c067a3dcaa7' class='xr-var-attrs-in' type='checkbox' disabled><label for='attrs-74b0f7dc-8048-45c3-96ec-8c067a3dcaa7' title='Show/Hide attributes'><svg class='icon xr-icon-file-text2'><use xlink:href='#icon-file-text2'></use></svg></label><input id='data-637e28dd-4771-465a-9bea-19a4ffbeca5c' class='xr-var-data-in' type='checkbox'><label for='data-637e28dd-4771-465a-9bea-19a4ffbeca5c' title='Show/Hide data repr'><svg class='icon xr-icon-database'><use xlink:href='#icon-database'></use></svg></label><div class='xr-var-attrs'><dl class='xr-attrs'></dl></div><div class='xr-var-data'><pre>array([&#x27;2022-01-20T12:00:00.000000000&#x27;, &#x27;2022-01-20T12:00:20.000000000&#x27;,\n",
       "       &#x27;2022-01-20T12:00:40.000000000&#x27;, ..., &#x27;2022-01-20T17:59:20.000000000&#x27;,\n",
       "       &#x27;2022-01-20T17:59:40.000000000&#x27;, &#x27;2022-01-20T18:00:00.000000000&#x27;],\n",
       "      dtype=&#x27;datetime64[ns]&#x27;)</pre></div></li><li class='xr-var-item'><div class='xr-var-name'><span>air_pressure</span></div><div class='xr-var-dims'>(level)</div><div class='xr-var-dtype'>float64</div><div class='xr-var-preview xr-preview'>1.651e+04 1.786e+04 1.933e+04</div><input id='attrs-8c51c411-aee1-422a-87f6-d9bec5446896' class='xr-var-attrs-in' type='checkbox' ><label for='attrs-8c51c411-aee1-422a-87f6-d9bec5446896' title='Show/Hide attributes'><svg class='icon xr-icon-file-text2'><use xlink:href='#icon-file-text2'></use></svg></label><input id='data-30e31e2e-9a1d-4d3f-912d-96fbc8005c79' class='xr-var-data-in' type='checkbox'><label for='data-30e31e2e-9a1d-4d3f-912d-96fbc8005c79' title='Show/Hide data repr'><svg class='icon xr-icon-database'><use xlink:href='#icon-database'></use></svg></label><div class='xr-var-attrs'><dl class='xr-attrs'><dt><span>standard_name :</span></dt><dd>air_pressure</dd><dt><span>long_name :</span></dt><dd>Air pressure</dd><dt><span>units :</span></dt><dd>Pa</dd></dl></div><div class='xr-var-data'><pre>array([16510.08517301, 17864.51721842, 19330.06232874])</pre></div></li><li class='xr-var-item'><div class='xr-var-name'><span>altitude</span></div><div class='xr-var-dims'>(level)</div><div class='xr-var-dtype'>float64</div><div class='xr-var-preview xr-preview'>1.3e+04 1.25e+04 1.2e+04</div><input id='attrs-618c03d5-2cb3-43a4-aa26-2f35c31c61e1' class='xr-var-attrs-in' type='checkbox' ><label for='attrs-618c03d5-2cb3-43a4-aa26-2f35c31c61e1' title='Show/Hide attributes'><svg class='icon xr-icon-file-text2'><use xlink:href='#icon-file-text2'></use></svg></label><input id='data-3ae9ada5-0c72-4a17-9cc1-9ca547714ec0' class='xr-var-data-in' type='checkbox'><label for='data-3ae9ada5-0c72-4a17-9cc1-9ca547714ec0' title='Show/Hide data repr'><svg class='icon xr-icon-database'><use xlink:href='#icon-database'></use></svg></label><div class='xr-var-attrs'><dl class='xr-attrs'><dt><span>standard_name :</span></dt><dd>altitude</dd><dt><span>long_name :</span></dt><dd>Altitude</dd><dt><span>units :</span></dt><dd>m</dd></dl></div><div class='xr-var-data'><pre>array([13000., 12500., 12000.])</pre></div></li></ul></div></li><li class='xr-section-item'><input id='section-72ff930d-8e00-4ea3-bf35-22295fdc507f' class='xr-section-summary-in' type='checkbox'  checked><label for='section-72ff930d-8e00-4ea3-bf35-22295fdc507f' class='xr-section-summary' >Data variables: <span>(6)</span></label><div class='xr-section-inline-details'></div><div class='xr-section-details'><ul class='xr-var-list'><li class='xr-var-item'><div class='xr-var-name'><span>air_temperature</span></div><div class='xr-var-dims'>(longitude, latitude, level, time)</div><div class='xr-var-dtype'>float64</div><div class='xr-var-preview xr-preview'>dask.array&lt;chunksize=(12, 12, 3, 100), meta=np.ndarray&gt;</div><input id='attrs-471631d6-6457-4889-877e-1c1131c12620' class='xr-var-attrs-in' type='checkbox' disabled><label for='attrs-471631d6-6457-4889-877e-1c1131c12620' title='Show/Hide attributes'><svg class='icon xr-icon-file-text2'><use xlink:href='#icon-file-text2'></use></svg></label><input id='data-6074e5d9-ecaa-4ac3-b2b4-3d1f3b40b0c2' class='xr-var-data-in' type='checkbox'><label for='data-6074e5d9-ecaa-4ac3-b2b4-3d1f3b40b0c2' title='Show/Hide data repr'><svg class='icon xr-icon-database'><use xlink:href='#icon-database'></use></svg></label><div class='xr-var-attrs'><dl class='xr-attrs'></dl></div><div class='xr-var-data'><table>\n",
       "    <tr>\n",
       "        <td>\n",
       "            <table style=\"border-collapse: collapse;\">\n",
       "                <thead>\n",
       "                    <tr>\n",
       "                        <td> </td>\n",
       "                        <th> Array </th>\n",
       "                        <th> Chunk </th>\n",
       "                    </tr>\n",
       "                </thead>\n",
       "                <tbody>\n",
       "                    \n",
       "                    <tr>\n",
       "                        <th> Bytes </th>\n",
       "                        <td> 3.56 MiB </td>\n",
       "                        <td> 337.50 kiB </td>\n",
       "                    </tr>\n",
       "                    \n",
       "                    <tr>\n",
       "                        <th> Shape </th>\n",
       "                        <td> (12, 12, 3, 1081) </td>\n",
       "                        <td> (12, 12, 3, 100) </td>\n",
       "                    </tr>\n",
       "                    <tr>\n",
       "                        <th> Dask graph </th>\n",
       "                        <td colspan=\"2\"> 11 chunks in 6 graph layers </td>\n",
       "                    </tr>\n",
       "                    <tr>\n",
       "                        <th> Data type </th>\n",
       "                        <td colspan=\"2\"> float64 numpy.ndarray </td>\n",
       "                    </tr>\n",
       "                </tbody>\n",
       "            </table>\n",
       "        </td>\n",
       "        <td>\n",
       "        <svg width=\"375\" height=\"90\" style=\"stroke:rgb(0,0,0);stroke-width:1\" >\n",
       "\n",
       "  <!-- Horizontal lines -->\n",
       "  <line x1=\"0\" y1=\"0\" x2=\"25\" y2=\"0\" style=\"stroke-width:2\" />\n",
       "  <line x1=\"0\" y1=\"25\" x2=\"25\" y2=\"25\" style=\"stroke-width:2\" />\n",
       "\n",
       "  <!-- Vertical lines -->\n",
       "  <line x1=\"0\" y1=\"0\" x2=\"0\" y2=\"25\" style=\"stroke-width:2\" />\n",
       "  <line x1=\"25\" y1=\"0\" x2=\"25\" y2=\"25\" style=\"stroke-width:2\" />\n",
       "\n",
       "  <!-- Colored Rectangle -->\n",
       "  <polygon points=\"0.0,0.0 25.919604993359286,0.0 25.919604993359286,25.412616514582485 0.0,25.412616514582485\" style=\"fill:#ECB172A0;stroke-width:0\"/>\n",
       "\n",
       "  <!-- Text -->\n",
       "  <text x=\"12.959802\" y=\"45.412617\" font-size=\"1.0rem\" font-weight=\"100\" text-anchor=\"middle\" >12</text>\n",
       "  <text x=\"45.919605\" y=\"12.706308\" font-size=\"1.0rem\" font-weight=\"100\" text-anchor=\"middle\" transform=\"rotate(0,45.919605,12.706308)\">1</text>\n",
       "\n",
       "\n",
       "  <!-- Horizontal lines -->\n",
       "  <line x1=\"95\" y1=\"0\" x2=\"110\" y2=\"15\" style=\"stroke-width:2\" />\n",
       "  <line x1=\"95\" y1=\"25\" x2=\"110\" y2=\"40\" style=\"stroke-width:2\" />\n",
       "\n",
       "  <!-- Vertical lines -->\n",
       "  <line x1=\"95\" y1=\"0\" x2=\"95\" y2=\"25\" style=\"stroke-width:2\" />\n",
       "  <line x1=\"110\" y1=\"15\" x2=\"110\" y2=\"40\" style=\"stroke-width:2\" />\n",
       "\n",
       "  <!-- Colored Rectangle -->\n",
       "  <polygon points=\"95.0,0.0 110.24682646668194,15.246826466681933 110.24682646668194,40.65944298126442 95.0,25.412616514582485\" style=\"fill:#ECB172A0;stroke-width:0\"/>\n",
       "\n",
       "  <!-- Horizontal lines -->\n",
       "  <line x1=\"95\" y1=\"0\" x2=\"215\" y2=\"0\" style=\"stroke-width:2\" />\n",
       "  <line x1=\"110\" y1=\"15\" x2=\"230\" y2=\"15\" style=\"stroke-width:2\" />\n",
       "\n",
       "  <!-- Vertical lines -->\n",
       "  <line x1=\"95\" y1=\"0\" x2=\"110\" y2=\"15\" style=\"stroke-width:2\" />\n",
       "  <line x1=\"106\" y1=\"0\" x2=\"121\" y2=\"15\" />\n",
       "  <line x1=\"117\" y1=\"0\" x2=\"132\" y2=\"15\" />\n",
       "  <line x1=\"128\" y1=\"0\" x2=\"143\" y2=\"15\" />\n",
       "  <line x1=\"139\" y1=\"0\" x2=\"154\" y2=\"15\" />\n",
       "  <line x1=\"150\" y1=\"0\" x2=\"165\" y2=\"15\" />\n",
       "  <line x1=\"161\" y1=\"0\" x2=\"176\" y2=\"15\" />\n",
       "  <line x1=\"172\" y1=\"0\" x2=\"187\" y2=\"15\" />\n",
       "  <line x1=\"183\" y1=\"0\" x2=\"199\" y2=\"15\" />\n",
       "  <line x1=\"194\" y1=\"0\" x2=\"210\" y2=\"15\" />\n",
       "  <line x1=\"206\" y1=\"0\" x2=\"221\" y2=\"15\" />\n",
       "  <line x1=\"215\" y1=\"0\" x2=\"230\" y2=\"15\" style=\"stroke-width:2\" />\n",
       "\n",
       "  <!-- Colored Rectangle -->\n",
       "  <polygon points=\"95.0,0.0 215.0,0.0 230.24682646668194,15.246826466681933 110.24682646668194,15.246826466681933\" style=\"fill:#ECB172A0;stroke-width:0\"/>\n",
       "\n",
       "  <!-- Horizontal lines -->\n",
       "  <line x1=\"110\" y1=\"15\" x2=\"230\" y2=\"15\" style=\"stroke-width:2\" />\n",
       "  <line x1=\"110\" y1=\"40\" x2=\"230\" y2=\"40\" style=\"stroke-width:2\" />\n",
       "\n",
       "  <!-- Vertical lines -->\n",
       "  <line x1=\"110\" y1=\"15\" x2=\"110\" y2=\"40\" style=\"stroke-width:2\" />\n",
       "  <line x1=\"121\" y1=\"15\" x2=\"121\" y2=\"40\" />\n",
       "  <line x1=\"132\" y1=\"15\" x2=\"132\" y2=\"40\" />\n",
       "  <line x1=\"143\" y1=\"15\" x2=\"143\" y2=\"40\" />\n",
       "  <line x1=\"154\" y1=\"15\" x2=\"154\" y2=\"40\" />\n",
       "  <line x1=\"165\" y1=\"15\" x2=\"165\" y2=\"40\" />\n",
       "  <line x1=\"176\" y1=\"15\" x2=\"176\" y2=\"40\" />\n",
       "  <line x1=\"187\" y1=\"15\" x2=\"187\" y2=\"40\" />\n",
       "  <line x1=\"199\" y1=\"15\" x2=\"199\" y2=\"40\" />\n",
       "  <line x1=\"210\" y1=\"15\" x2=\"210\" y2=\"40\" />\n",
       "  <line x1=\"221\" y1=\"15\" x2=\"221\" y2=\"40\" />\n",
       "  <line x1=\"230\" y1=\"15\" x2=\"230\" y2=\"40\" style=\"stroke-width:2\" />\n",
       "\n",
       "  <!-- Colored Rectangle -->\n",
       "  <polygon points=\"110.24682646668194,15.246826466681933 230.24682646668194,15.246826466681933 230.24682646668194,40.65944298126442 110.24682646668194,40.65944298126442\" style=\"fill:#ECB172A0;stroke-width:0\"/>\n",
       "\n",
       "  <!-- Text -->\n",
       "  <text x=\"170.246826\" y=\"60.659443\" font-size=\"1.0rem\" font-weight=\"100\" text-anchor=\"middle\" >1081</text>\n",
       "  <text x=\"250.246826\" y=\"27.953135\" font-size=\"1.0rem\" font-weight=\"100\" text-anchor=\"middle\" transform=\"rotate(0,250.246826,27.953135)\">3</text>\n",
       "  <text x=\"92.623413\" y=\"53.036030\" font-size=\"1.0rem\" font-weight=\"100\" text-anchor=\"middle\" transform=\"rotate(45,92.623413,53.036030)\">12</text>\n",
       "</svg>\n",
       "        </td>\n",
       "    </tr>\n",
       "</table></div></li><li class='xr-var-item'><div class='xr-var-name'><span>specific_humidity</span></div><div class='xr-var-dims'>(longitude, latitude, level, time)</div><div class='xr-var-dtype'>float64</div><div class='xr-var-preview xr-preview'>dask.array&lt;chunksize=(12, 12, 3, 100), meta=np.ndarray&gt;</div><input id='attrs-22d38228-e530-4022-a398-6e8b156af998' class='xr-var-attrs-in' type='checkbox' disabled><label for='attrs-22d38228-e530-4022-a398-6e8b156af998' title='Show/Hide attributes'><svg class='icon xr-icon-file-text2'><use xlink:href='#icon-file-text2'></use></svg></label><input id='data-78c50fd0-16d6-4f5d-a249-869983cf2069' class='xr-var-data-in' type='checkbox'><label for='data-78c50fd0-16d6-4f5d-a249-869983cf2069' title='Show/Hide data repr'><svg class='icon xr-icon-database'><use xlink:href='#icon-database'></use></svg></label><div class='xr-var-attrs'><dl class='xr-attrs'></dl></div><div class='xr-var-data'><table>\n",
       "    <tr>\n",
       "        <td>\n",
       "            <table style=\"border-collapse: collapse;\">\n",
       "                <thead>\n",
       "                    <tr>\n",
       "                        <td> </td>\n",
       "                        <th> Array </th>\n",
       "                        <th> Chunk </th>\n",
       "                    </tr>\n",
       "                </thead>\n",
       "                <tbody>\n",
       "                    \n",
       "                    <tr>\n",
       "                        <th> Bytes </th>\n",
       "                        <td> 3.56 MiB </td>\n",
       "                        <td> 337.50 kiB </td>\n",
       "                    </tr>\n",
       "                    \n",
       "                    <tr>\n",
       "                        <th> Shape </th>\n",
       "                        <td> (12, 12, 3, 1081) </td>\n",
       "                        <td> (12, 12, 3, 100) </td>\n",
       "                    </tr>\n",
       "                    <tr>\n",
       "                        <th> Dask graph </th>\n",
       "                        <td colspan=\"2\"> 11 chunks in 6 graph layers </td>\n",
       "                    </tr>\n",
       "                    <tr>\n",
       "                        <th> Data type </th>\n",
       "                        <td colspan=\"2\"> float64 numpy.ndarray </td>\n",
       "                    </tr>\n",
       "                </tbody>\n",
       "            </table>\n",
       "        </td>\n",
       "        <td>\n",
       "        <svg width=\"375\" height=\"90\" style=\"stroke:rgb(0,0,0);stroke-width:1\" >\n",
       "\n",
       "  <!-- Horizontal lines -->\n",
       "  <line x1=\"0\" y1=\"0\" x2=\"25\" y2=\"0\" style=\"stroke-width:2\" />\n",
       "  <line x1=\"0\" y1=\"25\" x2=\"25\" y2=\"25\" style=\"stroke-width:2\" />\n",
       "\n",
       "  <!-- Vertical lines -->\n",
       "  <line x1=\"0\" y1=\"0\" x2=\"0\" y2=\"25\" style=\"stroke-width:2\" />\n",
       "  <line x1=\"25\" y1=\"0\" x2=\"25\" y2=\"25\" style=\"stroke-width:2\" />\n",
       "\n",
       "  <!-- Colored Rectangle -->\n",
       "  <polygon points=\"0.0,0.0 25.919604993359286,0.0 25.919604993359286,25.412616514582485 0.0,25.412616514582485\" style=\"fill:#ECB172A0;stroke-width:0\"/>\n",
       "\n",
       "  <!-- Text -->\n",
       "  <text x=\"12.959802\" y=\"45.412617\" font-size=\"1.0rem\" font-weight=\"100\" text-anchor=\"middle\" >12</text>\n",
       "  <text x=\"45.919605\" y=\"12.706308\" font-size=\"1.0rem\" font-weight=\"100\" text-anchor=\"middle\" transform=\"rotate(0,45.919605,12.706308)\">1</text>\n",
       "\n",
       "\n",
       "  <!-- Horizontal lines -->\n",
       "  <line x1=\"95\" y1=\"0\" x2=\"110\" y2=\"15\" style=\"stroke-width:2\" />\n",
       "  <line x1=\"95\" y1=\"25\" x2=\"110\" y2=\"40\" style=\"stroke-width:2\" />\n",
       "\n",
       "  <!-- Vertical lines -->\n",
       "  <line x1=\"95\" y1=\"0\" x2=\"95\" y2=\"25\" style=\"stroke-width:2\" />\n",
       "  <line x1=\"110\" y1=\"15\" x2=\"110\" y2=\"40\" style=\"stroke-width:2\" />\n",
       "\n",
       "  <!-- Colored Rectangle -->\n",
       "  <polygon points=\"95.0,0.0 110.24682646668194,15.246826466681933 110.24682646668194,40.65944298126442 95.0,25.412616514582485\" style=\"fill:#ECB172A0;stroke-width:0\"/>\n",
       "\n",
       "  <!-- Horizontal lines -->\n",
       "  <line x1=\"95\" y1=\"0\" x2=\"215\" y2=\"0\" style=\"stroke-width:2\" />\n",
       "  <line x1=\"110\" y1=\"15\" x2=\"230\" y2=\"15\" style=\"stroke-width:2\" />\n",
       "\n",
       "  <!-- Vertical lines -->\n",
       "  <line x1=\"95\" y1=\"0\" x2=\"110\" y2=\"15\" style=\"stroke-width:2\" />\n",
       "  <line x1=\"106\" y1=\"0\" x2=\"121\" y2=\"15\" />\n",
       "  <line x1=\"117\" y1=\"0\" x2=\"132\" y2=\"15\" />\n",
       "  <line x1=\"128\" y1=\"0\" x2=\"143\" y2=\"15\" />\n",
       "  <line x1=\"139\" y1=\"0\" x2=\"154\" y2=\"15\" />\n",
       "  <line x1=\"150\" y1=\"0\" x2=\"165\" y2=\"15\" />\n",
       "  <line x1=\"161\" y1=\"0\" x2=\"176\" y2=\"15\" />\n",
       "  <line x1=\"172\" y1=\"0\" x2=\"187\" y2=\"15\" />\n",
       "  <line x1=\"183\" y1=\"0\" x2=\"199\" y2=\"15\" />\n",
       "  <line x1=\"194\" y1=\"0\" x2=\"210\" y2=\"15\" />\n",
       "  <line x1=\"206\" y1=\"0\" x2=\"221\" y2=\"15\" />\n",
       "  <line x1=\"215\" y1=\"0\" x2=\"230\" y2=\"15\" style=\"stroke-width:2\" />\n",
       "\n",
       "  <!-- Colored Rectangle -->\n",
       "  <polygon points=\"95.0,0.0 215.0,0.0 230.24682646668194,15.246826466681933 110.24682646668194,15.246826466681933\" style=\"fill:#ECB172A0;stroke-width:0\"/>\n",
       "\n",
       "  <!-- Horizontal lines -->\n",
       "  <line x1=\"110\" y1=\"15\" x2=\"230\" y2=\"15\" style=\"stroke-width:2\" />\n",
       "  <line x1=\"110\" y1=\"40\" x2=\"230\" y2=\"40\" style=\"stroke-width:2\" />\n",
       "\n",
       "  <!-- Vertical lines -->\n",
       "  <line x1=\"110\" y1=\"15\" x2=\"110\" y2=\"40\" style=\"stroke-width:2\" />\n",
       "  <line x1=\"121\" y1=\"15\" x2=\"121\" y2=\"40\" />\n",
       "  <line x1=\"132\" y1=\"15\" x2=\"132\" y2=\"40\" />\n",
       "  <line x1=\"143\" y1=\"15\" x2=\"143\" y2=\"40\" />\n",
       "  <line x1=\"154\" y1=\"15\" x2=\"154\" y2=\"40\" />\n",
       "  <line x1=\"165\" y1=\"15\" x2=\"165\" y2=\"40\" />\n",
       "  <line x1=\"176\" y1=\"15\" x2=\"176\" y2=\"40\" />\n",
       "  <line x1=\"187\" y1=\"15\" x2=\"187\" y2=\"40\" />\n",
       "  <line x1=\"199\" y1=\"15\" x2=\"199\" y2=\"40\" />\n",
       "  <line x1=\"210\" y1=\"15\" x2=\"210\" y2=\"40\" />\n",
       "  <line x1=\"221\" y1=\"15\" x2=\"221\" y2=\"40\" />\n",
       "  <line x1=\"230\" y1=\"15\" x2=\"230\" y2=\"40\" style=\"stroke-width:2\" />\n",
       "\n",
       "  <!-- Colored Rectangle -->\n",
       "  <polygon points=\"110.24682646668194,15.246826466681933 230.24682646668194,15.246826466681933 230.24682646668194,40.65944298126442 110.24682646668194,40.65944298126442\" style=\"fill:#ECB172A0;stroke-width:0\"/>\n",
       "\n",
       "  <!-- Text -->\n",
       "  <text x=\"170.246826\" y=\"60.659443\" font-size=\"1.0rem\" font-weight=\"100\" text-anchor=\"middle\" >1081</text>\n",
       "  <text x=\"250.246826\" y=\"27.953135\" font-size=\"1.0rem\" font-weight=\"100\" text-anchor=\"middle\" transform=\"rotate(0,250.246826,27.953135)\">3</text>\n",
       "  <text x=\"92.623413\" y=\"53.036030\" font-size=\"1.0rem\" font-weight=\"100\" text-anchor=\"middle\" transform=\"rotate(45,92.623413,53.036030)\">12</text>\n",
       "</svg>\n",
       "        </td>\n",
       "    </tr>\n",
       "</table></div></li><li class='xr-var-item'><div class='xr-var-name'><span>relative_humidity</span></div><div class='xr-var-dims'>(longitude, latitude, level, time)</div><div class='xr-var-dtype'>float64</div><div class='xr-var-preview xr-preview'>dask.array&lt;chunksize=(12, 12, 3, 100), meta=np.ndarray&gt;</div><input id='attrs-420b4c6e-a763-4c63-98ab-46f50b33c1fc' class='xr-var-attrs-in' type='checkbox' disabled><label for='attrs-420b4c6e-a763-4c63-98ab-46f50b33c1fc' title='Show/Hide attributes'><svg class='icon xr-icon-file-text2'><use xlink:href='#icon-file-text2'></use></svg></label><input id='data-e3a4e55d-f243-4161-8f5c-e73cda183944' class='xr-var-data-in' type='checkbox'><label for='data-e3a4e55d-f243-4161-8f5c-e73cda183944' title='Show/Hide data repr'><svg class='icon xr-icon-database'><use xlink:href='#icon-database'></use></svg></label><div class='xr-var-attrs'><dl class='xr-attrs'></dl></div><div class='xr-var-data'><table>\n",
       "    <tr>\n",
       "        <td>\n",
       "            <table style=\"border-collapse: collapse;\">\n",
       "                <thead>\n",
       "                    <tr>\n",
       "                        <td> </td>\n",
       "                        <th> Array </th>\n",
       "                        <th> Chunk </th>\n",
       "                    </tr>\n",
       "                </thead>\n",
       "                <tbody>\n",
       "                    \n",
       "                    <tr>\n",
       "                        <th> Bytes </th>\n",
       "                        <td> 3.56 MiB </td>\n",
       "                        <td> 337.50 kiB </td>\n",
       "                    </tr>\n",
       "                    \n",
       "                    <tr>\n",
       "                        <th> Shape </th>\n",
       "                        <td> (12, 12, 3, 1081) </td>\n",
       "                        <td> (12, 12, 3, 100) </td>\n",
       "                    </tr>\n",
       "                    <tr>\n",
       "                        <th> Dask graph </th>\n",
       "                        <td colspan=\"2\"> 11 chunks in 6 graph layers </td>\n",
       "                    </tr>\n",
       "                    <tr>\n",
       "                        <th> Data type </th>\n",
       "                        <td colspan=\"2\"> float64 numpy.ndarray </td>\n",
       "                    </tr>\n",
       "                </tbody>\n",
       "            </table>\n",
       "        </td>\n",
       "        <td>\n",
       "        <svg width=\"375\" height=\"90\" style=\"stroke:rgb(0,0,0);stroke-width:1\" >\n",
       "\n",
       "  <!-- Horizontal lines -->\n",
       "  <line x1=\"0\" y1=\"0\" x2=\"25\" y2=\"0\" style=\"stroke-width:2\" />\n",
       "  <line x1=\"0\" y1=\"25\" x2=\"25\" y2=\"25\" style=\"stroke-width:2\" />\n",
       "\n",
       "  <!-- Vertical lines -->\n",
       "  <line x1=\"0\" y1=\"0\" x2=\"0\" y2=\"25\" style=\"stroke-width:2\" />\n",
       "  <line x1=\"25\" y1=\"0\" x2=\"25\" y2=\"25\" style=\"stroke-width:2\" />\n",
       "\n",
       "  <!-- Colored Rectangle -->\n",
       "  <polygon points=\"0.0,0.0 25.919604993359286,0.0 25.919604993359286,25.412616514582485 0.0,25.412616514582485\" style=\"fill:#ECB172A0;stroke-width:0\"/>\n",
       "\n",
       "  <!-- Text -->\n",
       "  <text x=\"12.959802\" y=\"45.412617\" font-size=\"1.0rem\" font-weight=\"100\" text-anchor=\"middle\" >12</text>\n",
       "  <text x=\"45.919605\" y=\"12.706308\" font-size=\"1.0rem\" font-weight=\"100\" text-anchor=\"middle\" transform=\"rotate(0,45.919605,12.706308)\">1</text>\n",
       "\n",
       "\n",
       "  <!-- Horizontal lines -->\n",
       "  <line x1=\"95\" y1=\"0\" x2=\"110\" y2=\"15\" style=\"stroke-width:2\" />\n",
       "  <line x1=\"95\" y1=\"25\" x2=\"110\" y2=\"40\" style=\"stroke-width:2\" />\n",
       "\n",
       "  <!-- Vertical lines -->\n",
       "  <line x1=\"95\" y1=\"0\" x2=\"95\" y2=\"25\" style=\"stroke-width:2\" />\n",
       "  <line x1=\"110\" y1=\"15\" x2=\"110\" y2=\"40\" style=\"stroke-width:2\" />\n",
       "\n",
       "  <!-- Colored Rectangle -->\n",
       "  <polygon points=\"95.0,0.0 110.24682646668194,15.246826466681933 110.24682646668194,40.65944298126442 95.0,25.412616514582485\" style=\"fill:#ECB172A0;stroke-width:0\"/>\n",
       "\n",
       "  <!-- Horizontal lines -->\n",
       "  <line x1=\"95\" y1=\"0\" x2=\"215\" y2=\"0\" style=\"stroke-width:2\" />\n",
       "  <line x1=\"110\" y1=\"15\" x2=\"230\" y2=\"15\" style=\"stroke-width:2\" />\n",
       "\n",
       "  <!-- Vertical lines -->\n",
       "  <line x1=\"95\" y1=\"0\" x2=\"110\" y2=\"15\" style=\"stroke-width:2\" />\n",
       "  <line x1=\"106\" y1=\"0\" x2=\"121\" y2=\"15\" />\n",
       "  <line x1=\"117\" y1=\"0\" x2=\"132\" y2=\"15\" />\n",
       "  <line x1=\"128\" y1=\"0\" x2=\"143\" y2=\"15\" />\n",
       "  <line x1=\"139\" y1=\"0\" x2=\"154\" y2=\"15\" />\n",
       "  <line x1=\"150\" y1=\"0\" x2=\"165\" y2=\"15\" />\n",
       "  <line x1=\"161\" y1=\"0\" x2=\"176\" y2=\"15\" />\n",
       "  <line x1=\"172\" y1=\"0\" x2=\"187\" y2=\"15\" />\n",
       "  <line x1=\"183\" y1=\"0\" x2=\"199\" y2=\"15\" />\n",
       "  <line x1=\"194\" y1=\"0\" x2=\"210\" y2=\"15\" />\n",
       "  <line x1=\"206\" y1=\"0\" x2=\"221\" y2=\"15\" />\n",
       "  <line x1=\"215\" y1=\"0\" x2=\"230\" y2=\"15\" style=\"stroke-width:2\" />\n",
       "\n",
       "  <!-- Colored Rectangle -->\n",
       "  <polygon points=\"95.0,0.0 215.0,0.0 230.24682646668194,15.246826466681933 110.24682646668194,15.246826466681933\" style=\"fill:#ECB172A0;stroke-width:0\"/>\n",
       "\n",
       "  <!-- Horizontal lines -->\n",
       "  <line x1=\"110\" y1=\"15\" x2=\"230\" y2=\"15\" style=\"stroke-width:2\" />\n",
       "  <line x1=\"110\" y1=\"40\" x2=\"230\" y2=\"40\" style=\"stroke-width:2\" />\n",
       "\n",
       "  <!-- Vertical lines -->\n",
       "  <line x1=\"110\" y1=\"15\" x2=\"110\" y2=\"40\" style=\"stroke-width:2\" />\n",
       "  <line x1=\"121\" y1=\"15\" x2=\"121\" y2=\"40\" />\n",
       "  <line x1=\"132\" y1=\"15\" x2=\"132\" y2=\"40\" />\n",
       "  <line x1=\"143\" y1=\"15\" x2=\"143\" y2=\"40\" />\n",
       "  <line x1=\"154\" y1=\"15\" x2=\"154\" y2=\"40\" />\n",
       "  <line x1=\"165\" y1=\"15\" x2=\"165\" y2=\"40\" />\n",
       "  <line x1=\"176\" y1=\"15\" x2=\"176\" y2=\"40\" />\n",
       "  <line x1=\"187\" y1=\"15\" x2=\"187\" y2=\"40\" />\n",
       "  <line x1=\"199\" y1=\"15\" x2=\"199\" y2=\"40\" />\n",
       "  <line x1=\"210\" y1=\"15\" x2=\"210\" y2=\"40\" />\n",
       "  <line x1=\"221\" y1=\"15\" x2=\"221\" y2=\"40\" />\n",
       "  <line x1=\"230\" y1=\"15\" x2=\"230\" y2=\"40\" style=\"stroke-width:2\" />\n",
       "\n",
       "  <!-- Colored Rectangle -->\n",
       "  <polygon points=\"110.24682646668194,15.246826466681933 230.24682646668194,15.246826466681933 230.24682646668194,40.65944298126442 110.24682646668194,40.65944298126442\" style=\"fill:#ECB172A0;stroke-width:0\"/>\n",
       "\n",
       "  <!-- Text -->\n",
       "  <text x=\"170.246826\" y=\"60.659443\" font-size=\"1.0rem\" font-weight=\"100\" text-anchor=\"middle\" >1081</text>\n",
       "  <text x=\"250.246826\" y=\"27.953135\" font-size=\"1.0rem\" font-weight=\"100\" text-anchor=\"middle\" transform=\"rotate(0,250.246826,27.953135)\">3</text>\n",
       "  <text x=\"92.623413\" y=\"53.036030\" font-size=\"1.0rem\" font-weight=\"100\" text-anchor=\"middle\" transform=\"rotate(45,92.623413,53.036030)\">12</text>\n",
       "</svg>\n",
       "        </td>\n",
       "    </tr>\n",
       "</table></div></li><li class='xr-var-item'><div class='xr-var-name'><span>eastward_wind</span></div><div class='xr-var-dims'>(longitude, latitude, level, time)</div><div class='xr-var-dtype'>float64</div><div class='xr-var-preview xr-preview'>dask.array&lt;chunksize=(12, 12, 3, 100), meta=np.ndarray&gt;</div><input id='attrs-7cf257f2-8acd-4e04-bc7c-ccd7d0b79235' class='xr-var-attrs-in' type='checkbox' disabled><label for='attrs-7cf257f2-8acd-4e04-bc7c-ccd7d0b79235' title='Show/Hide attributes'><svg class='icon xr-icon-file-text2'><use xlink:href='#icon-file-text2'></use></svg></label><input id='data-51655bd4-6781-4333-92e6-a02566d60815' class='xr-var-data-in' type='checkbox'><label for='data-51655bd4-6781-4333-92e6-a02566d60815' title='Show/Hide data repr'><svg class='icon xr-icon-database'><use xlink:href='#icon-database'></use></svg></label><div class='xr-var-attrs'><dl class='xr-attrs'></dl></div><div class='xr-var-data'><table>\n",
       "    <tr>\n",
       "        <td>\n",
       "            <table style=\"border-collapse: collapse;\">\n",
       "                <thead>\n",
       "                    <tr>\n",
       "                        <td> </td>\n",
       "                        <th> Array </th>\n",
       "                        <th> Chunk </th>\n",
       "                    </tr>\n",
       "                </thead>\n",
       "                <tbody>\n",
       "                    \n",
       "                    <tr>\n",
       "                        <th> Bytes </th>\n",
       "                        <td> 3.56 MiB </td>\n",
       "                        <td> 337.50 kiB </td>\n",
       "                    </tr>\n",
       "                    \n",
       "                    <tr>\n",
       "                        <th> Shape </th>\n",
       "                        <td> (12, 12, 3, 1081) </td>\n",
       "                        <td> (12, 12, 3, 100) </td>\n",
       "                    </tr>\n",
       "                    <tr>\n",
       "                        <th> Dask graph </th>\n",
       "                        <td colspan=\"2\"> 11 chunks in 6 graph layers </td>\n",
       "                    </tr>\n",
       "                    <tr>\n",
       "                        <th> Data type </th>\n",
       "                        <td colspan=\"2\"> float64 numpy.ndarray </td>\n",
       "                    </tr>\n",
       "                </tbody>\n",
       "            </table>\n",
       "        </td>\n",
       "        <td>\n",
       "        <svg width=\"375\" height=\"90\" style=\"stroke:rgb(0,0,0);stroke-width:1\" >\n",
       "\n",
       "  <!-- Horizontal lines -->\n",
       "  <line x1=\"0\" y1=\"0\" x2=\"25\" y2=\"0\" style=\"stroke-width:2\" />\n",
       "  <line x1=\"0\" y1=\"25\" x2=\"25\" y2=\"25\" style=\"stroke-width:2\" />\n",
       "\n",
       "  <!-- Vertical lines -->\n",
       "  <line x1=\"0\" y1=\"0\" x2=\"0\" y2=\"25\" style=\"stroke-width:2\" />\n",
       "  <line x1=\"25\" y1=\"0\" x2=\"25\" y2=\"25\" style=\"stroke-width:2\" />\n",
       "\n",
       "  <!-- Colored Rectangle -->\n",
       "  <polygon points=\"0.0,0.0 25.919604993359286,0.0 25.919604993359286,25.412616514582485 0.0,25.412616514582485\" style=\"fill:#ECB172A0;stroke-width:0\"/>\n",
       "\n",
       "  <!-- Text -->\n",
       "  <text x=\"12.959802\" y=\"45.412617\" font-size=\"1.0rem\" font-weight=\"100\" text-anchor=\"middle\" >12</text>\n",
       "  <text x=\"45.919605\" y=\"12.706308\" font-size=\"1.0rem\" font-weight=\"100\" text-anchor=\"middle\" transform=\"rotate(0,45.919605,12.706308)\">1</text>\n",
       "\n",
       "\n",
       "  <!-- Horizontal lines -->\n",
       "  <line x1=\"95\" y1=\"0\" x2=\"110\" y2=\"15\" style=\"stroke-width:2\" />\n",
       "  <line x1=\"95\" y1=\"25\" x2=\"110\" y2=\"40\" style=\"stroke-width:2\" />\n",
       "\n",
       "  <!-- Vertical lines -->\n",
       "  <line x1=\"95\" y1=\"0\" x2=\"95\" y2=\"25\" style=\"stroke-width:2\" />\n",
       "  <line x1=\"110\" y1=\"15\" x2=\"110\" y2=\"40\" style=\"stroke-width:2\" />\n",
       "\n",
       "  <!-- Colored Rectangle -->\n",
       "  <polygon points=\"95.0,0.0 110.24682646668194,15.246826466681933 110.24682646668194,40.65944298126442 95.0,25.412616514582485\" style=\"fill:#ECB172A0;stroke-width:0\"/>\n",
       "\n",
       "  <!-- Horizontal lines -->\n",
       "  <line x1=\"95\" y1=\"0\" x2=\"215\" y2=\"0\" style=\"stroke-width:2\" />\n",
       "  <line x1=\"110\" y1=\"15\" x2=\"230\" y2=\"15\" style=\"stroke-width:2\" />\n",
       "\n",
       "  <!-- Vertical lines -->\n",
       "  <line x1=\"95\" y1=\"0\" x2=\"110\" y2=\"15\" style=\"stroke-width:2\" />\n",
       "  <line x1=\"106\" y1=\"0\" x2=\"121\" y2=\"15\" />\n",
       "  <line x1=\"117\" y1=\"0\" x2=\"132\" y2=\"15\" />\n",
       "  <line x1=\"128\" y1=\"0\" x2=\"143\" y2=\"15\" />\n",
       "  <line x1=\"139\" y1=\"0\" x2=\"154\" y2=\"15\" />\n",
       "  <line x1=\"150\" y1=\"0\" x2=\"165\" y2=\"15\" />\n",
       "  <line x1=\"161\" y1=\"0\" x2=\"176\" y2=\"15\" />\n",
       "  <line x1=\"172\" y1=\"0\" x2=\"187\" y2=\"15\" />\n",
       "  <line x1=\"183\" y1=\"0\" x2=\"199\" y2=\"15\" />\n",
       "  <line x1=\"194\" y1=\"0\" x2=\"210\" y2=\"15\" />\n",
       "  <line x1=\"206\" y1=\"0\" x2=\"221\" y2=\"15\" />\n",
       "  <line x1=\"215\" y1=\"0\" x2=\"230\" y2=\"15\" style=\"stroke-width:2\" />\n",
       "\n",
       "  <!-- Colored Rectangle -->\n",
       "  <polygon points=\"95.0,0.0 215.0,0.0 230.24682646668194,15.246826466681933 110.24682646668194,15.246826466681933\" style=\"fill:#ECB172A0;stroke-width:0\"/>\n",
       "\n",
       "  <!-- Horizontal lines -->\n",
       "  <line x1=\"110\" y1=\"15\" x2=\"230\" y2=\"15\" style=\"stroke-width:2\" />\n",
       "  <line x1=\"110\" y1=\"40\" x2=\"230\" y2=\"40\" style=\"stroke-width:2\" />\n",
       "\n",
       "  <!-- Vertical lines -->\n",
       "  <line x1=\"110\" y1=\"15\" x2=\"110\" y2=\"40\" style=\"stroke-width:2\" />\n",
       "  <line x1=\"121\" y1=\"15\" x2=\"121\" y2=\"40\" />\n",
       "  <line x1=\"132\" y1=\"15\" x2=\"132\" y2=\"40\" />\n",
       "  <line x1=\"143\" y1=\"15\" x2=\"143\" y2=\"40\" />\n",
       "  <line x1=\"154\" y1=\"15\" x2=\"154\" y2=\"40\" />\n",
       "  <line x1=\"165\" y1=\"15\" x2=\"165\" y2=\"40\" />\n",
       "  <line x1=\"176\" y1=\"15\" x2=\"176\" y2=\"40\" />\n",
       "  <line x1=\"187\" y1=\"15\" x2=\"187\" y2=\"40\" />\n",
       "  <line x1=\"199\" y1=\"15\" x2=\"199\" y2=\"40\" />\n",
       "  <line x1=\"210\" y1=\"15\" x2=\"210\" y2=\"40\" />\n",
       "  <line x1=\"221\" y1=\"15\" x2=\"221\" y2=\"40\" />\n",
       "  <line x1=\"230\" y1=\"15\" x2=\"230\" y2=\"40\" style=\"stroke-width:2\" />\n",
       "\n",
       "  <!-- Colored Rectangle -->\n",
       "  <polygon points=\"110.24682646668194,15.246826466681933 230.24682646668194,15.246826466681933 230.24682646668194,40.65944298126442 110.24682646668194,40.65944298126442\" style=\"fill:#ECB172A0;stroke-width:0\"/>\n",
       "\n",
       "  <!-- Text -->\n",
       "  <text x=\"170.246826\" y=\"60.659443\" font-size=\"1.0rem\" font-weight=\"100\" text-anchor=\"middle\" >1081</text>\n",
       "  <text x=\"250.246826\" y=\"27.953135\" font-size=\"1.0rem\" font-weight=\"100\" text-anchor=\"middle\" transform=\"rotate(0,250.246826,27.953135)\">3</text>\n",
       "  <text x=\"92.623413\" y=\"53.036030\" font-size=\"1.0rem\" font-weight=\"100\" text-anchor=\"middle\" transform=\"rotate(45,92.623413,53.036030)\">12</text>\n",
       "</svg>\n",
       "        </td>\n",
       "    </tr>\n",
       "</table></div></li><li class='xr-var-item'><div class='xr-var-name'><span>northward_wind</span></div><div class='xr-var-dims'>(longitude, latitude, level, time)</div><div class='xr-var-dtype'>float64</div><div class='xr-var-preview xr-preview'>dask.array&lt;chunksize=(12, 12, 3, 100), meta=np.ndarray&gt;</div><input id='attrs-5baa7687-9728-46ac-93de-2312290594df' class='xr-var-attrs-in' type='checkbox' disabled><label for='attrs-5baa7687-9728-46ac-93de-2312290594df' title='Show/Hide attributes'><svg class='icon xr-icon-file-text2'><use xlink:href='#icon-file-text2'></use></svg></label><input id='data-6ec14269-d82a-41d6-93a3-90370e01a1c7' class='xr-var-data-in' type='checkbox'><label for='data-6ec14269-d82a-41d6-93a3-90370e01a1c7' title='Show/Hide data repr'><svg class='icon xr-icon-database'><use xlink:href='#icon-database'></use></svg></label><div class='xr-var-attrs'><dl class='xr-attrs'></dl></div><div class='xr-var-data'><table>\n",
       "    <tr>\n",
       "        <td>\n",
       "            <table style=\"border-collapse: collapse;\">\n",
       "                <thead>\n",
       "                    <tr>\n",
       "                        <td> </td>\n",
       "                        <th> Array </th>\n",
       "                        <th> Chunk </th>\n",
       "                    </tr>\n",
       "                </thead>\n",
       "                <tbody>\n",
       "                    \n",
       "                    <tr>\n",
       "                        <th> Bytes </th>\n",
       "                        <td> 3.56 MiB </td>\n",
       "                        <td> 337.50 kiB </td>\n",
       "                    </tr>\n",
       "                    \n",
       "                    <tr>\n",
       "                        <th> Shape </th>\n",
       "                        <td> (12, 12, 3, 1081) </td>\n",
       "                        <td> (12, 12, 3, 100) </td>\n",
       "                    </tr>\n",
       "                    <tr>\n",
       "                        <th> Dask graph </th>\n",
       "                        <td colspan=\"2\"> 11 chunks in 6 graph layers </td>\n",
       "                    </tr>\n",
       "                    <tr>\n",
       "                        <th> Data type </th>\n",
       "                        <td colspan=\"2\"> float64 numpy.ndarray </td>\n",
       "                    </tr>\n",
       "                </tbody>\n",
       "            </table>\n",
       "        </td>\n",
       "        <td>\n",
       "        <svg width=\"375\" height=\"90\" style=\"stroke:rgb(0,0,0);stroke-width:1\" >\n",
       "\n",
       "  <!-- Horizontal lines -->\n",
       "  <line x1=\"0\" y1=\"0\" x2=\"25\" y2=\"0\" style=\"stroke-width:2\" />\n",
       "  <line x1=\"0\" y1=\"25\" x2=\"25\" y2=\"25\" style=\"stroke-width:2\" />\n",
       "\n",
       "  <!-- Vertical lines -->\n",
       "  <line x1=\"0\" y1=\"0\" x2=\"0\" y2=\"25\" style=\"stroke-width:2\" />\n",
       "  <line x1=\"25\" y1=\"0\" x2=\"25\" y2=\"25\" style=\"stroke-width:2\" />\n",
       "\n",
       "  <!-- Colored Rectangle -->\n",
       "  <polygon points=\"0.0,0.0 25.919604993359286,0.0 25.919604993359286,25.412616514582485 0.0,25.412616514582485\" style=\"fill:#ECB172A0;stroke-width:0\"/>\n",
       "\n",
       "  <!-- Text -->\n",
       "  <text x=\"12.959802\" y=\"45.412617\" font-size=\"1.0rem\" font-weight=\"100\" text-anchor=\"middle\" >12</text>\n",
       "  <text x=\"45.919605\" y=\"12.706308\" font-size=\"1.0rem\" font-weight=\"100\" text-anchor=\"middle\" transform=\"rotate(0,45.919605,12.706308)\">1</text>\n",
       "\n",
       "\n",
       "  <!-- Horizontal lines -->\n",
       "  <line x1=\"95\" y1=\"0\" x2=\"110\" y2=\"15\" style=\"stroke-width:2\" />\n",
       "  <line x1=\"95\" y1=\"25\" x2=\"110\" y2=\"40\" style=\"stroke-width:2\" />\n",
       "\n",
       "  <!-- Vertical lines -->\n",
       "  <line x1=\"95\" y1=\"0\" x2=\"95\" y2=\"25\" style=\"stroke-width:2\" />\n",
       "  <line x1=\"110\" y1=\"15\" x2=\"110\" y2=\"40\" style=\"stroke-width:2\" />\n",
       "\n",
       "  <!-- Colored Rectangle -->\n",
       "  <polygon points=\"95.0,0.0 110.24682646668194,15.246826466681933 110.24682646668194,40.65944298126442 95.0,25.412616514582485\" style=\"fill:#ECB172A0;stroke-width:0\"/>\n",
       "\n",
       "  <!-- Horizontal lines -->\n",
       "  <line x1=\"95\" y1=\"0\" x2=\"215\" y2=\"0\" style=\"stroke-width:2\" />\n",
       "  <line x1=\"110\" y1=\"15\" x2=\"230\" y2=\"15\" style=\"stroke-width:2\" />\n",
       "\n",
       "  <!-- Vertical lines -->\n",
       "  <line x1=\"95\" y1=\"0\" x2=\"110\" y2=\"15\" style=\"stroke-width:2\" />\n",
       "  <line x1=\"106\" y1=\"0\" x2=\"121\" y2=\"15\" />\n",
       "  <line x1=\"117\" y1=\"0\" x2=\"132\" y2=\"15\" />\n",
       "  <line x1=\"128\" y1=\"0\" x2=\"143\" y2=\"15\" />\n",
       "  <line x1=\"139\" y1=\"0\" x2=\"154\" y2=\"15\" />\n",
       "  <line x1=\"150\" y1=\"0\" x2=\"165\" y2=\"15\" />\n",
       "  <line x1=\"161\" y1=\"0\" x2=\"176\" y2=\"15\" />\n",
       "  <line x1=\"172\" y1=\"0\" x2=\"187\" y2=\"15\" />\n",
       "  <line x1=\"183\" y1=\"0\" x2=\"199\" y2=\"15\" />\n",
       "  <line x1=\"194\" y1=\"0\" x2=\"210\" y2=\"15\" />\n",
       "  <line x1=\"206\" y1=\"0\" x2=\"221\" y2=\"15\" />\n",
       "  <line x1=\"215\" y1=\"0\" x2=\"230\" y2=\"15\" style=\"stroke-width:2\" />\n",
       "\n",
       "  <!-- Colored Rectangle -->\n",
       "  <polygon points=\"95.0,0.0 215.0,0.0 230.24682646668194,15.246826466681933 110.24682646668194,15.246826466681933\" style=\"fill:#ECB172A0;stroke-width:0\"/>\n",
       "\n",
       "  <!-- Horizontal lines -->\n",
       "  <line x1=\"110\" y1=\"15\" x2=\"230\" y2=\"15\" style=\"stroke-width:2\" />\n",
       "  <line x1=\"110\" y1=\"40\" x2=\"230\" y2=\"40\" style=\"stroke-width:2\" />\n",
       "\n",
       "  <!-- Vertical lines -->\n",
       "  <line x1=\"110\" y1=\"15\" x2=\"110\" y2=\"40\" style=\"stroke-width:2\" />\n",
       "  <line x1=\"121\" y1=\"15\" x2=\"121\" y2=\"40\" />\n",
       "  <line x1=\"132\" y1=\"15\" x2=\"132\" y2=\"40\" />\n",
       "  <line x1=\"143\" y1=\"15\" x2=\"143\" y2=\"40\" />\n",
       "  <line x1=\"154\" y1=\"15\" x2=\"154\" y2=\"40\" />\n",
       "  <line x1=\"165\" y1=\"15\" x2=\"165\" y2=\"40\" />\n",
       "  <line x1=\"176\" y1=\"15\" x2=\"176\" y2=\"40\" />\n",
       "  <line x1=\"187\" y1=\"15\" x2=\"187\" y2=\"40\" />\n",
       "  <line x1=\"199\" y1=\"15\" x2=\"199\" y2=\"40\" />\n",
       "  <line x1=\"210\" y1=\"15\" x2=\"210\" y2=\"40\" />\n",
       "  <line x1=\"221\" y1=\"15\" x2=\"221\" y2=\"40\" />\n",
       "  <line x1=\"230\" y1=\"15\" x2=\"230\" y2=\"40\" style=\"stroke-width:2\" />\n",
       "\n",
       "  <!-- Colored Rectangle -->\n",
       "  <polygon points=\"110.24682646668194,15.246826466681933 230.24682646668194,15.246826466681933 230.24682646668194,40.65944298126442 110.24682646668194,40.65944298126442\" style=\"fill:#ECB172A0;stroke-width:0\"/>\n",
       "\n",
       "  <!-- Text -->\n",
       "  <text x=\"170.246826\" y=\"60.659443\" font-size=\"1.0rem\" font-weight=\"100\" text-anchor=\"middle\" >1081</text>\n",
       "  <text x=\"250.246826\" y=\"27.953135\" font-size=\"1.0rem\" font-weight=\"100\" text-anchor=\"middle\" transform=\"rotate(0,250.246826,27.953135)\">3</text>\n",
       "  <text x=\"92.623413\" y=\"53.036030\" font-size=\"1.0rem\" font-weight=\"100\" text-anchor=\"middle\" transform=\"rotate(45,92.623413,53.036030)\">12</text>\n",
       "</svg>\n",
       "        </td>\n",
       "    </tr>\n",
       "</table></div></li><li class='xr-var-item'><div class='xr-var-name'><span>lagrangian_tendency_of_air_pressure</span></div><div class='xr-var-dims'>(longitude, latitude, level, time)</div><div class='xr-var-dtype'>float64</div><div class='xr-var-preview xr-preview'>dask.array&lt;chunksize=(12, 12, 3, 100), meta=np.ndarray&gt;</div><input id='attrs-15b347e8-f1f1-42cc-bb1a-ee88a179f536' class='xr-var-attrs-in' type='checkbox' disabled><label for='attrs-15b347e8-f1f1-42cc-bb1a-ee88a179f536' title='Show/Hide attributes'><svg class='icon xr-icon-file-text2'><use xlink:href='#icon-file-text2'></use></svg></label><input id='data-af57e799-38fa-4245-bdad-8aaedec337b1' class='xr-var-data-in' type='checkbox'><label for='data-af57e799-38fa-4245-bdad-8aaedec337b1' title='Show/Hide data repr'><svg class='icon xr-icon-database'><use xlink:href='#icon-database'></use></svg></label><div class='xr-var-attrs'><dl class='xr-attrs'></dl></div><div class='xr-var-data'><table>\n",
       "    <tr>\n",
       "        <td>\n",
       "            <table style=\"border-collapse: collapse;\">\n",
       "                <thead>\n",
       "                    <tr>\n",
       "                        <td> </td>\n",
       "                        <th> Array </th>\n",
       "                        <th> Chunk </th>\n",
       "                    </tr>\n",
       "                </thead>\n",
       "                <tbody>\n",
       "                    \n",
       "                    <tr>\n",
       "                        <th> Bytes </th>\n",
       "                        <td> 3.56 MiB </td>\n",
       "                        <td> 337.50 kiB </td>\n",
       "                    </tr>\n",
       "                    \n",
       "                    <tr>\n",
       "                        <th> Shape </th>\n",
       "                        <td> (12, 12, 3, 1081) </td>\n",
       "                        <td> (12, 12, 3, 100) </td>\n",
       "                    </tr>\n",
       "                    <tr>\n",
       "                        <th> Dask graph </th>\n",
       "                        <td colspan=\"2\"> 11 chunks in 6 graph layers </td>\n",
       "                    </tr>\n",
       "                    <tr>\n",
       "                        <th> Data type </th>\n",
       "                        <td colspan=\"2\"> float64 numpy.ndarray </td>\n",
       "                    </tr>\n",
       "                </tbody>\n",
       "            </table>\n",
       "        </td>\n",
       "        <td>\n",
       "        <svg width=\"375\" height=\"90\" style=\"stroke:rgb(0,0,0);stroke-width:1\" >\n",
       "\n",
       "  <!-- Horizontal lines -->\n",
       "  <line x1=\"0\" y1=\"0\" x2=\"25\" y2=\"0\" style=\"stroke-width:2\" />\n",
       "  <line x1=\"0\" y1=\"25\" x2=\"25\" y2=\"25\" style=\"stroke-width:2\" />\n",
       "\n",
       "  <!-- Vertical lines -->\n",
       "  <line x1=\"0\" y1=\"0\" x2=\"0\" y2=\"25\" style=\"stroke-width:2\" />\n",
       "  <line x1=\"25\" y1=\"0\" x2=\"25\" y2=\"25\" style=\"stroke-width:2\" />\n",
       "\n",
       "  <!-- Colored Rectangle -->\n",
       "  <polygon points=\"0.0,0.0 25.919604993359286,0.0 25.919604993359286,25.412616514582485 0.0,25.412616514582485\" style=\"fill:#ECB172A0;stroke-width:0\"/>\n",
       "\n",
       "  <!-- Text -->\n",
       "  <text x=\"12.959802\" y=\"45.412617\" font-size=\"1.0rem\" font-weight=\"100\" text-anchor=\"middle\" >12</text>\n",
       "  <text x=\"45.919605\" y=\"12.706308\" font-size=\"1.0rem\" font-weight=\"100\" text-anchor=\"middle\" transform=\"rotate(0,45.919605,12.706308)\">1</text>\n",
       "\n",
       "\n",
       "  <!-- Horizontal lines -->\n",
       "  <line x1=\"95\" y1=\"0\" x2=\"110\" y2=\"15\" style=\"stroke-width:2\" />\n",
       "  <line x1=\"95\" y1=\"25\" x2=\"110\" y2=\"40\" style=\"stroke-width:2\" />\n",
       "\n",
       "  <!-- Vertical lines -->\n",
       "  <line x1=\"95\" y1=\"0\" x2=\"95\" y2=\"25\" style=\"stroke-width:2\" />\n",
       "  <line x1=\"110\" y1=\"15\" x2=\"110\" y2=\"40\" style=\"stroke-width:2\" />\n",
       "\n",
       "  <!-- Colored Rectangle -->\n",
       "  <polygon points=\"95.0,0.0 110.24682646668194,15.246826466681933 110.24682646668194,40.65944298126442 95.0,25.412616514582485\" style=\"fill:#ECB172A0;stroke-width:0\"/>\n",
       "\n",
       "  <!-- Horizontal lines -->\n",
       "  <line x1=\"95\" y1=\"0\" x2=\"215\" y2=\"0\" style=\"stroke-width:2\" />\n",
       "  <line x1=\"110\" y1=\"15\" x2=\"230\" y2=\"15\" style=\"stroke-width:2\" />\n",
       "\n",
       "  <!-- Vertical lines -->\n",
       "  <line x1=\"95\" y1=\"0\" x2=\"110\" y2=\"15\" style=\"stroke-width:2\" />\n",
       "  <line x1=\"106\" y1=\"0\" x2=\"121\" y2=\"15\" />\n",
       "  <line x1=\"117\" y1=\"0\" x2=\"132\" y2=\"15\" />\n",
       "  <line x1=\"128\" y1=\"0\" x2=\"143\" y2=\"15\" />\n",
       "  <line x1=\"139\" y1=\"0\" x2=\"154\" y2=\"15\" />\n",
       "  <line x1=\"150\" y1=\"0\" x2=\"165\" y2=\"15\" />\n",
       "  <line x1=\"161\" y1=\"0\" x2=\"176\" y2=\"15\" />\n",
       "  <line x1=\"172\" y1=\"0\" x2=\"187\" y2=\"15\" />\n",
       "  <line x1=\"183\" y1=\"0\" x2=\"199\" y2=\"15\" />\n",
       "  <line x1=\"194\" y1=\"0\" x2=\"210\" y2=\"15\" />\n",
       "  <line x1=\"206\" y1=\"0\" x2=\"221\" y2=\"15\" />\n",
       "  <line x1=\"215\" y1=\"0\" x2=\"230\" y2=\"15\" style=\"stroke-width:2\" />\n",
       "\n",
       "  <!-- Colored Rectangle -->\n",
       "  <polygon points=\"95.0,0.0 215.0,0.0 230.24682646668194,15.246826466681933 110.24682646668194,15.246826466681933\" style=\"fill:#ECB172A0;stroke-width:0\"/>\n",
       "\n",
       "  <!-- Horizontal lines -->\n",
       "  <line x1=\"110\" y1=\"15\" x2=\"230\" y2=\"15\" style=\"stroke-width:2\" />\n",
       "  <line x1=\"110\" y1=\"40\" x2=\"230\" y2=\"40\" style=\"stroke-width:2\" />\n",
       "\n",
       "  <!-- Vertical lines -->\n",
       "  <line x1=\"110\" y1=\"15\" x2=\"110\" y2=\"40\" style=\"stroke-width:2\" />\n",
       "  <line x1=\"121\" y1=\"15\" x2=\"121\" y2=\"40\" />\n",
       "  <line x1=\"132\" y1=\"15\" x2=\"132\" y2=\"40\" />\n",
       "  <line x1=\"143\" y1=\"15\" x2=\"143\" y2=\"40\" />\n",
       "  <line x1=\"154\" y1=\"15\" x2=\"154\" y2=\"40\" />\n",
       "  <line x1=\"165\" y1=\"15\" x2=\"165\" y2=\"40\" />\n",
       "  <line x1=\"176\" y1=\"15\" x2=\"176\" y2=\"40\" />\n",
       "  <line x1=\"187\" y1=\"15\" x2=\"187\" y2=\"40\" />\n",
       "  <line x1=\"199\" y1=\"15\" x2=\"199\" y2=\"40\" />\n",
       "  <line x1=\"210\" y1=\"15\" x2=\"210\" y2=\"40\" />\n",
       "  <line x1=\"221\" y1=\"15\" x2=\"221\" y2=\"40\" />\n",
       "  <line x1=\"230\" y1=\"15\" x2=\"230\" y2=\"40\" style=\"stroke-width:2\" />\n",
       "\n",
       "  <!-- Colored Rectangle -->\n",
       "  <polygon points=\"110.24682646668194,15.246826466681933 230.24682646668194,15.246826466681933 230.24682646668194,40.65944298126442 110.24682646668194,40.65944298126442\" style=\"fill:#ECB172A0;stroke-width:0\"/>\n",
       "\n",
       "  <!-- Text -->\n",
       "  <text x=\"170.246826\" y=\"60.659443\" font-size=\"1.0rem\" font-weight=\"100\" text-anchor=\"middle\" >1081</text>\n",
       "  <text x=\"250.246826\" y=\"27.953135\" font-size=\"1.0rem\" font-weight=\"100\" text-anchor=\"middle\" transform=\"rotate(0,250.246826,27.953135)\">3</text>\n",
       "  <text x=\"92.623413\" y=\"53.036030\" font-size=\"1.0rem\" font-weight=\"100\" text-anchor=\"middle\" transform=\"rotate(45,92.623413,53.036030)\">12</text>\n",
       "</svg>\n",
       "        </td>\n",
       "    </tr>\n",
       "</table></div></li></ul></div></li><li class='xr-section-item'><input id='section-6f53ad27-cc10-4f98-ba20-feab2c7c0a2b' class='xr-section-summary-in' type='checkbox'  ><label for='section-6f53ad27-cc10-4f98-ba20-feab2c7c0a2b' class='xr-section-summary' >Indexes: <span>(4)</span></label><div class='xr-section-inline-details'></div><div class='xr-section-details'><ul class='xr-var-list'><li class='xr-var-item'><div class='xr-index-name'><div>longitude</div></div><div class='xr-index-preview'>PandasIndex</div><div></div><input id='index-6fab983e-76e4-4cca-912d-ec2f2409c287' class='xr-index-data-in' type='checkbox'/><label for='index-6fab983e-76e4-4cca-912d-ec2f2409c287' title='Show/Hide index repr'><svg class='icon xr-icon-database'><use xlink:href='#icon-database'></use></svg></label><div class='xr-index-data'><pre>PandasIndex(Index([              -33.0,               -32.9,               -32.8,\n",
       "       -32.699999999999996, -32.599999999999994,  -32.49999999999999,\n",
       "        -32.39999999999999,  -32.29999999999999,  -32.19999999999999,\n",
       "        -32.09999999999999, -31.999999999999986, -31.899999999999984],\n",
       "      dtype=&#x27;float64&#x27;, name=&#x27;longitude&#x27;))</pre></div></li><li class='xr-var-item'><div class='xr-index-name'><div>latitude</div></div><div class='xr-index-preview'>PandasIndex</div><div></div><input id='index-2e07a038-8833-4dce-9e82-beefd72c8f80' class='xr-index-data-in' type='checkbox'/><label for='index-2e07a038-8833-4dce-9e82-beefd72c8f80' title='Show/Hide index repr'><svg class='icon xr-icon-database'><use xlink:href='#icon-database'></use></svg></label><div class='xr-index-data'><pre>PandasIndex(Index([              47.0,               47.1,               47.2,\n",
       "       47.300000000000004, 47.400000000000006,  47.50000000000001,\n",
       "        47.60000000000001,  47.70000000000001,  47.80000000000001,\n",
       "        47.90000000000001, 48.000000000000014, 48.100000000000016],\n",
       "      dtype=&#x27;float64&#x27;, name=&#x27;latitude&#x27;))</pre></div></li><li class='xr-var-item'><div class='xr-index-name'><div>level</div></div><div class='xr-index-preview'>PandasIndex</div><div></div><input id='index-57c89a61-5660-4993-9e74-b9f79410f6b5' class='xr-index-data-in' type='checkbox'/><label for='index-57c89a61-5660-4993-9e74-b9f79410f6b5' title='Show/Hide index repr'><svg class='icon xr-icon-database'><use xlink:href='#icon-database'></use></svg></label><div class='xr-index-data'><pre>PandasIndex(Index([165.10085173011288, 178.64517218417367, 193.30062328740988], dtype=&#x27;float64&#x27;, name=&#x27;level&#x27;))</pre></div></li><li class='xr-var-item'><div class='xr-index-name'><div>time</div></div><div class='xr-index-preview'>PandasIndex</div><div></div><input id='index-3a265015-0ebd-42a7-b1ec-f486ab87701d' class='xr-index-data-in' type='checkbox'/><label for='index-3a265015-0ebd-42a7-b1ec-f486ab87701d' title='Show/Hide index repr'><svg class='icon xr-icon-database'><use xlink:href='#icon-database'></use></svg></label><div class='xr-index-data'><pre>PandasIndex(DatetimeIndex([&#x27;2022-01-20 12:00:00&#x27;, &#x27;2022-01-20 12:00:20&#x27;,\n",
       "               &#x27;2022-01-20 12:00:40&#x27;, &#x27;2022-01-20 12:01:00&#x27;,\n",
       "               &#x27;2022-01-20 12:01:20&#x27;, &#x27;2022-01-20 12:01:40&#x27;,\n",
       "               &#x27;2022-01-20 12:02:00&#x27;, &#x27;2022-01-20 12:02:20&#x27;,\n",
       "               &#x27;2022-01-20 12:02:40&#x27;, &#x27;2022-01-20 12:03:00&#x27;,\n",
       "               ...\n",
       "               &#x27;2022-01-20 17:57:00&#x27;, &#x27;2022-01-20 17:57:20&#x27;,\n",
       "               &#x27;2022-01-20 17:57:40&#x27;, &#x27;2022-01-20 17:58:00&#x27;,\n",
       "               &#x27;2022-01-20 17:58:20&#x27;, &#x27;2022-01-20 17:58:40&#x27;,\n",
       "               &#x27;2022-01-20 17:59:00&#x27;, &#x27;2022-01-20 17:59:20&#x27;,\n",
       "               &#x27;2022-01-20 17:59:40&#x27;, &#x27;2022-01-20 18:00:00&#x27;],\n",
       "              dtype=&#x27;datetime64[ns]&#x27;, name=&#x27;time&#x27;, length=1081, freq=None))</pre></div></li></ul></div></li><li class='xr-section-item'><input id='section-c4830441-2c2f-4f8c-8e14-89a5668088e3' class='xr-section-summary-in' type='checkbox' disabled ><label for='section-c4830441-2c2f-4f8c-8e14-89a5668088e3' class='xr-section-summary'  title='Expand/collapse section'>Attributes: <span>(0)</span></label><div class='xr-section-inline-details'></div><div class='xr-section-details'><dl class='xr-attrs'></dl></div></li></ul></div></div>"
      ],
      "text/plain": [
       "MetDataset with data:\n",
       "\n",
       "<xarray.Dataset> Size: 22MB\n",
       "Dimensions:                              (longitude: 12, latitude: 12,\n",
       "                                          level: 3, time: 1081)\n",
       "Coordinates:\n",
       "  * longitude                            (longitude) float64 96B -33.0 ... -31.9\n",
       "  * latitude                             (latitude) float64 96B 47.0 ... 48.1\n",
       "  * level                                (level) float64 24B 165.1 178.6 193.3\n",
       "  * time                                 (time) datetime64[ns] 9kB 2022-01-20...\n",
       "    air_pressure                         (level) float64 24B 1.651e+04 ... 1....\n",
       "    altitude                             (level) float64 24B 1.3e+04 ... 1.2e+04\n",
       "Data variables:\n",
       "    air_temperature                      (longitude, latitude, level, time) float64 4MB dask.array<chunksize=(12, 12, 3, 100), meta=np.ndarray>\n",
       "    specific_humidity                    (longitude, latitude, level, time) float64 4MB dask.array<chunksize=(12, 12, 3, 100), meta=np.ndarray>\n",
       "    relative_humidity                    (longitude, latitude, level, time) float64 4MB dask.array<chunksize=(12, 12, 3, 100), meta=np.ndarray>\n",
       "    eastward_wind                        (longitude, latitude, level, time) float64 4MB dask.array<chunksize=(12, 12, 3, 100), meta=np.ndarray>\n",
       "    northward_wind                       (longitude, latitude, level, time) float64 4MB dask.array<chunksize=(12, 12, 3, 100), meta=np.ndarray>\n",
       "    lagrangian_tendency_of_air_pressure  (longitude, latitude, level, time) float64 4MB dask.array<chunksize=(12, 12, 3, 100), meta=np.ndarray>"
      ]
     },
     "execution_count": 8,
     "metadata": {},
     "output_type": "execute_result"
    }
   ],
   "source": [
    "# generate artifical met dataset (boxm currently only supports zero-wind scenarios)\n",
    "data_vars = {\n",
    "    param: (\n",
    "        [\"longitude\", \"latitude\", \"level\", \"time\"],\n",
    "        da.full(\n",
    "            (len(lons), len(lats), len(alts), len(times)),\n",
    "            value,\n",
    "            chunks=(len(lons), len(lats), len(alts), 100),\n",
    "        ),\n",
    "    )\n",
    "    for param, value in met_params.items()\n",
    "}\n",
    "\n",
    "met = xr.Dataset(\n",
    "    data_vars,\n",
    "    coords={\"longitude\": lons, \"latitude\": lats, \"level\": units.m_to_pl(alts), \"time\": times},\n",
    ")\n",
    "\n",
    "met = MetDataset(met)\n",
    "\n",
    "met"
   ]
  },
  {
   "cell_type": "code",
   "execution_count": 9,
   "metadata": {},
   "outputs": [],
   "source": [
    "# instantiate FlightGen object\n",
    "fl_gen = FlightGen(met, fl_params, plume_params, chem_params)"
   ]
  },
  {
   "cell_type": "code",
   "execution_count": 10,
   "metadata": {},
   "outputs": [
    {
     "data": {
      "text/plain": [
       "[Flight [4 keys x 5 length, 3 attributes]\n",
       " \tKeys: longitude, latitude, altitude, time\n",
       " \tAttributes:\n",
       " \ttime                [2022-01-20 14:00:00, 2022-01-20 14:08:00]\n",
       " \tlongitude           [-32.5, -32.5]\n",
       " \tlatitude            [47.5, 47.932]\n",
       " \taltitude            [12500.0, 12500.0]\n",
       " \tflight_id           0\n",
       " \taircraft_type       A320\n",
       " \tcrs                 EPSG:4326]"
      ]
     },
     "execution_count": 10,
     "metadata": {},
     "output_type": "execute_result"
    }
   ],
   "source": [
    "fl = fl_gen.traj_gen()\n",
    "\n",
    "fl"
   ]
  },
  {
   "cell_type": "code",
   "execution_count": 11,
   "metadata": {},
   "outputs": [
    {
     "name": "stderr",
     "output_type": "stream",
     "text": [
      "/home/ktait98/pycontrails_kt/pycontrails/ext/flight_gen.py:128: FutureWarning: Series.fillna with 'method' is deprecated and will raise in a future version. Use obj.ffill() or obj.bfill() instead.\n",
      "  flights[i].dataframe[column] = flights[i].dataframe[column].fillna(method='ffill')\n"
     ]
    }
   ],
   "source": [
    "# estimate fuel burn and emissions using ps_model and emissions model\n",
    "fl = fl_gen.calc_fb_emissions()"
   ]
  },
  {
   "cell_type": "code",
   "execution_count": 12,
   "metadata": {},
   "outputs": [
    {
     "data": {
      "image/png": "[encoded data removed]",
      "text/plain": [
       "<Figure size 640x480 with 1 Axes>"
      ]
     },
     "metadata": {},
     "output_type": "display_data"
    }
   ],
   "source": [
    "# visualise the fleet\n",
    "ax = plt.axes()\n",
    "ax.set_xlim([lons[0], lons[-1]])\n",
    "ax.set_ylim([lats[0], lats[-1]])\n",
    "for i in fl:\n",
    "    i.plot(ax=ax)"
   ]
  },
  {
   "cell_type": "code",
   "execution_count": 13,
   "metadata": {},
   "outputs": [
    {
     "name": "stderr",
     "output_type": "stream",
     "text": [
      "/home/ktait98/pycontrails_kt/pycontrails/ext/flight_gen.py:182: FutureWarning: Series.fillna with 'method' is deprecated and will raise in a future version. Use obj.ffill() or obj.bfill() instead.\n",
      "  flights[i][column] = flights[i][column].fillna(method='ffill')\n"
     ]
    },
    {
     "data": {
      "text/html": [
       "<div>\n",
       "<style scoped>\n",
       "    .dataframe tbody tr th:only-of-type {\n",
       "        vertical-align: middle;\n",
       "    }\n",
       "\n",
       "    .dataframe tbody tr th {\n",
       "        vertical-align: top;\n",
       "    }\n",
       "\n",
       "    .dataframe thead th {\n",
       "        text-align: right;\n",
       "    }\n",
       "</style>\n",
       "<table border=\"1\" class=\"dataframe\">\n",
       "  <thead>\n",
       "    <tr style=\"text-align: right;\">\n",
       "      <th></th>\n",
       "      <th>longitude</th>\n",
       "      <th>latitude</th>\n",
       "      <th>altitude</th>\n",
       "      <th>time</th>\n",
       "      <th>air_temperature</th>\n",
       "      <th>specific_humidity</th>\n",
       "      <th>true_airspeed</th>\n",
       "      <th>flight_id</th>\n",
       "      <th>aircraft_mass</th>\n",
       "      <th>engine_efficiency</th>\n",
       "      <th>fuel_flow</th>\n",
       "      <th>fuel_burn</th>\n",
       "      <th>thrust</th>\n",
       "      <th>rocd</th>\n",
       "      <th>fuel_flow_per_engine</th>\n",
       "      <th>...</th>\n",
       "      <th>nvpm_number</th>\n",
       "      <th>CO2</th>\n",
       "      <th>H2O</th>\n",
       "      <th>SO2</th>\n",
       "      <th>nvPM</th>\n",
       "      <th>NO</th>\n",
       "      <th>NO2</th>\n",
       "      <th>CO</th>\n",
       "      <th>HCHO</th>\n",
       "      <th>CH3CHO</th>\n",
       "      <th>C2H4</th>\n",
       "      <th>C3H6</th>\n",
       "      <th>C2H2</th>\n",
       "      <th>BENZENE</th>\n",
       "      <th>waypoint</th>\n",
       "    </tr>\n",
       "  </thead>\n",
       "  <tbody>\n",
       "    <tr>\n",
       "      <th>0</th>\n",
       "      <td>-32.5</td>\n",
       "      <td>47.500000</td>\n",
       "      <td>12500.0</td>\n",
       "      <td>2022-01-20 14:00:00</td>\n",
       "      <td>235.0</td>\n",
       "      <td>0.003</td>\n",
       "      <td>100.009404</td>\n",
       "      <td>0.0</td>\n",
       "      <td>59450.531326</td>\n",
       "      <td>0.097151</td>\n",
       "      <td>0.803968</td>\n",
       "      <td>96.47615</td>\n",
       "      <td>96602.446771</td>\n",
       "      <td>0.0</td>\n",
       "      <td>0.401984</td>\n",
       "      <td>...</td>\n",
       "      <td>1.051590e+17</td>\n",
       "      <td>0.000001</td>\n",
       "      <td>3.955150e-07</td>\n",
       "      <td>2.701078e-10</td>\n",
       "      <td>2.305563e-11</td>\n",
       "      <td>3.728776e-09</td>\n",
       "      <td>1.962514e-10</td>\n",
       "      <td>1.975123e-10</td>\n",
       "      <td>2.312339e-12</td>\n",
       "      <td>7.707795e-13</td>\n",
       "      <td>2.890423e-12</td>\n",
       "      <td>7.707795e-13</td>\n",
       "      <td>7.707795e-13</td>\n",
       "      <td>3.853898e-13</td>\n",
       "      <td>0</td>\n",
       "    </tr>\n",
       "    <tr>\n",
       "      <th>1</th>\n",
       "      <td>-32.5</td>\n",
       "      <td>47.607925</td>\n",
       "      <td>12500.0</td>\n",
       "      <td>2022-01-20 14:02:00</td>\n",
       "      <td>235.0</td>\n",
       "      <td>0.003</td>\n",
       "      <td>100.009404</td>\n",
       "      <td>0.0</td>\n",
       "      <td>59354.055176</td>\n",
       "      <td>0.097151</td>\n",
       "      <td>0.803968</td>\n",
       "      <td>96.47615</td>\n",
       "      <td>96297.785745</td>\n",
       "      <td>0.0</td>\n",
       "      <td>0.401984</td>\n",
       "      <td>...</td>\n",
       "      <td>1.051590e+17</td>\n",
       "      <td>0.000001</td>\n",
       "      <td>3.955150e-07</td>\n",
       "      <td>2.701078e-10</td>\n",
       "      <td>2.305563e-11</td>\n",
       "      <td>3.728776e-09</td>\n",
       "      <td>1.962514e-10</td>\n",
       "      <td>1.975123e-10</td>\n",
       "      <td>2.312339e-12</td>\n",
       "      <td>7.707795e-13</td>\n",
       "      <td>2.890423e-12</td>\n",
       "      <td>7.707795e-13</td>\n",
       "      <td>7.707795e-13</td>\n",
       "      <td>3.853898e-13</td>\n",
       "      <td>1</td>\n",
       "    </tr>\n",
       "    <tr>\n",
       "      <th>2</th>\n",
       "      <td>-32.5</td>\n",
       "      <td>47.715850</td>\n",
       "      <td>12500.0</td>\n",
       "      <td>2022-01-20 14:04:00</td>\n",
       "      <td>235.0</td>\n",
       "      <td>0.003</td>\n",
       "      <td>100.009404</td>\n",
       "      <td>0.0</td>\n",
       "      <td>59257.579027</td>\n",
       "      <td>0.097151</td>\n",
       "      <td>0.803968</td>\n",
       "      <td>96.47615</td>\n",
       "      <td>95993.709187</td>\n",
       "      <td>0.0</td>\n",
       "      <td>0.401984</td>\n",
       "      <td>...</td>\n",
       "      <td>1.051590e+17</td>\n",
       "      <td>0.000001</td>\n",
       "      <td>3.955150e-07</td>\n",
       "      <td>2.701078e-10</td>\n",
       "      <td>2.305563e-11</td>\n",
       "      <td>3.728776e-09</td>\n",
       "      <td>1.962514e-10</td>\n",
       "      <td>1.975123e-10</td>\n",
       "      <td>2.312339e-12</td>\n",
       "      <td>7.707795e-13</td>\n",
       "      <td>2.890423e-12</td>\n",
       "      <td>7.707795e-13</td>\n",
       "      <td>7.707795e-13</td>\n",
       "      <td>3.853898e-13</td>\n",
       "      <td>2</td>\n",
       "    </tr>\n",
       "    <tr>\n",
       "      <th>3</th>\n",
       "      <td>-32.5</td>\n",
       "      <td>47.823775</td>\n",
       "      <td>12500.0</td>\n",
       "      <td>2022-01-20 14:06:00</td>\n",
       "      <td>235.0</td>\n",
       "      <td>0.003</td>\n",
       "      <td>100.009404</td>\n",
       "      <td>0.0</td>\n",
       "      <td>59161.102877</td>\n",
       "      <td>0.097151</td>\n",
       "      <td>0.803968</td>\n",
       "      <td>96.47615</td>\n",
       "      <td>95690.215904</td>\n",
       "      <td>0.0</td>\n",
       "      <td>0.401984</td>\n",
       "      <td>...</td>\n",
       "      <td>1.051590e+17</td>\n",
       "      <td>0.000001</td>\n",
       "      <td>3.955150e-07</td>\n",
       "      <td>2.701078e-10</td>\n",
       "      <td>2.305563e-11</td>\n",
       "      <td>3.728776e-09</td>\n",
       "      <td>1.962514e-10</td>\n",
       "      <td>1.975123e-10</td>\n",
       "      <td>2.312339e-12</td>\n",
       "      <td>7.707795e-13</td>\n",
       "      <td>2.890423e-12</td>\n",
       "      <td>7.707795e-13</td>\n",
       "      <td>7.707795e-13</td>\n",
       "      <td>3.853898e-13</td>\n",
       "      <td>3</td>\n",
       "    </tr>\n",
       "    <tr>\n",
       "      <th>4</th>\n",
       "      <td>-32.5</td>\n",
       "      <td>47.931699</td>\n",
       "      <td>12500.0</td>\n",
       "      <td>2022-01-20 14:08:00</td>\n",
       "      <td>235.0</td>\n",
       "      <td>0.003</td>\n",
       "      <td>100.009404</td>\n",
       "      <td>0.0</td>\n",
       "      <td>59064.626728</td>\n",
       "      <td>0.097151</td>\n",
       "      <td>0.803968</td>\n",
       "      <td>96.47615</td>\n",
       "      <td>95690.215904</td>\n",
       "      <td>0.0</td>\n",
       "      <td>0.401984</td>\n",
       "      <td>...</td>\n",
       "      <td>1.051590e+17</td>\n",
       "      <td>0.000001</td>\n",
       "      <td>3.955150e-07</td>\n",
       "      <td>2.701078e-10</td>\n",
       "      <td>2.305563e-11</td>\n",
       "      <td>3.728776e-09</td>\n",
       "      <td>1.962514e-10</td>\n",
       "      <td>1.975123e-10</td>\n",
       "      <td>2.312339e-12</td>\n",
       "      <td>7.707795e-13</td>\n",
       "      <td>2.890423e-12</td>\n",
       "      <td>7.707795e-13</td>\n",
       "      <td>7.707795e-13</td>\n",
       "      <td>3.853898e-13</td>\n",
       "      <td>4</td>\n",
       "    </tr>\n",
       "  </tbody>\n",
       "</table>\n",
       "<p>5 rows × 45 columns</p>\n",
       "</div>"
      ],
      "text/plain": [
       "   longitude   latitude  altitude                time  air_temperature  \\\n",
       "0      -32.5  47.500000   12500.0 2022-01-20 14:00:00            235.0   \n",
       "1      -32.5  47.607925   12500.0 2022-01-20 14:02:00            235.0   \n",
       "2      -32.5  47.715850   12500.0 2022-01-20 14:04:00            235.0   \n",
       "3      -32.5  47.823775   12500.0 2022-01-20 14:06:00            235.0   \n",
       "4      -32.5  47.931699   12500.0 2022-01-20 14:08:00            235.0   \n",
       "\n",
       "   specific_humidity  true_airspeed  flight_id  aircraft_mass  \\\n",
       "0              0.003     100.009404        0.0   59450.531326   \n",
       "1              0.003     100.009404        0.0   59354.055176   \n",
       "2              0.003     100.009404        0.0   59257.579027   \n",
       "3              0.003     100.009404        0.0   59161.102877   \n",
       "4              0.003     100.009404        0.0   59064.626728   \n",
       "\n",
       "   engine_efficiency  fuel_flow  fuel_burn        thrust  rocd  \\\n",
       "0           0.097151   0.803968   96.47615  96602.446771   0.0   \n",
       "1           0.097151   0.803968   96.47615  96297.785745   0.0   \n",
       "2           0.097151   0.803968   96.47615  95993.709187   0.0   \n",
       "3           0.097151   0.803968   96.47615  95690.215904   0.0   \n",
       "4           0.097151   0.803968   96.47615  95690.215904   0.0   \n",
       "\n",
       "   fuel_flow_per_engine  ...   nvpm_number       CO2           H2O  \\\n",
       "0              0.401984  ...  1.051590e+17  0.000001  3.955150e-07   \n",
       "1              0.401984  ...  1.051590e+17  0.000001  3.955150e-07   \n",
       "2              0.401984  ...  1.051590e+17  0.000001  3.955150e-07   \n",
       "3              0.401984  ...  1.051590e+17  0.000001  3.955150e-07   \n",
       "4              0.401984  ...  1.051590e+17  0.000001  3.955150e-07   \n",
       "\n",
       "            SO2          nvPM            NO           NO2            CO  \\\n",
       "0  2.701078e-10  2.305563e-11  3.728776e-09  1.962514e-10  1.975123e-10   \n",
       "1  2.701078e-10  2.305563e-11  3.728776e-09  1.962514e-10  1.975123e-10   \n",
       "2  2.701078e-10  2.305563e-11  3.728776e-09  1.962514e-10  1.975123e-10   \n",
       "3  2.701078e-10  2.305563e-11  3.728776e-09  1.962514e-10  1.975123e-10   \n",
       "4  2.701078e-10  2.305563e-11  3.728776e-09  1.962514e-10  1.975123e-10   \n",
       "\n",
       "           HCHO        CH3CHO          C2H4          C3H6          C2H2  \\\n",
       "0  2.312339e-12  7.707795e-13  2.890423e-12  7.707795e-13  7.707795e-13   \n",
       "1  2.312339e-12  7.707795e-13  2.890423e-12  7.707795e-13  7.707795e-13   \n",
       "2  2.312339e-12  7.707795e-13  2.890423e-12  7.707795e-13  7.707795e-13   \n",
       "3  2.312339e-12  7.707795e-13  2.890423e-12  7.707795e-13  7.707795e-13   \n",
       "4  2.312339e-12  7.707795e-13  2.890423e-12  7.707795e-13  7.707795e-13   \n",
       "\n",
       "        BENZENE  waypoint  \n",
       "0  3.853898e-13         0  \n",
       "1  3.853898e-13         1  \n",
       "2  3.853898e-13         2  \n",
       "3  3.853898e-13         3  \n",
       "4  3.853898e-13         4  \n",
       "\n",
       "[5 rows x 45 columns]"
      ]
     },
     "execution_count": 13,
     "metadata": {},
     "output_type": "execute_result"
    }
   ],
   "source": [
    "# simulate plume dispersion/advection using dry advection model\n",
    "fl_df, pl_df = fl_gen.sim_plumes()\n",
    "\n",
    "pd.set_option(\"display.max_rows\", 500)\n",
    "pd.set_option(\"display.max_columns\", 30)\n",
    "\n",
    "fl_df"
   ]
  },
  {
   "cell_type": "code",
   "execution_count": 14,
   "metadata": {},
   "outputs": [],
   "source": [
    "fl_gen.anim_fl(fl_df, pl_df)"
   ]
  },
  {
   "cell_type": "code",
   "execution_count": 15,
   "metadata": {},
   "outputs": [
    {
     "name": "stdout",
     "output_type": "stream",
     "text": [
      "Processing time:  2022-01-20 14:05:00\n"
     ]
    },
    {
     "data": {
      "application/vnd.jupyter.widget-view+json": {
       "model_id": "26f06b71e2de4e948d100fd74f5f7fd9",
       "version_major": 2,
       "version_minor": 0
      },
      "text/plain": [
       "  0%|          | 0/2 [00:00<?, ?it/s]"
      ]
     },
     "metadata": {},
     "output_type": "display_data"
    },
    {
     "data": {
      "application/vnd.jupyter.widget-view+json": {
       "model_id": "b83fff2bc2384ed39d18c365da1b1510",
       "version_major": 2,
       "version_minor": 0
      },
      "text/plain": [
       "  0%|          | 0/2 [00:00<?, ?it/s]"
      ]
     },
     "metadata": {},
     "output_type": "display_data"
    },
    {
     "data": {
      "application/vnd.jupyter.widget-view+json": {
       "model_id": "631e56aaa0a54a53982ee52f060c2027",
       "version_major": 2,
       "version_minor": 0
      },
      "text/plain": [
       "  0%|          | 0/2 [00:00<?, ?it/s]"
      ]
     },
     "metadata": {},
     "output_type": "display_data"
    },
    {
     "name": "stdout",
     "output_type": "stream",
     "text": [
      "Processing time:  2022-01-20 14:10:00\n"
     ]
    },
    {
     "data": {
      "application/vnd.jupyter.widget-view+json": {
       "model_id": "c7a42e5140dd433195d938cf26adb020",
       "version_major": 2,
       "version_minor": 0
      },
      "text/plain": [
       "  0%|          | 0/4 [00:00<?, ?it/s]"
      ]
     },
     "metadata": {},
     "output_type": "display_data"
    },
    {
     "data": {
      "application/vnd.jupyter.widget-view+json": {
       "model_id": "b7c3bfbd5c9a4946815436b3f4cfa3bd",
       "version_major": 2,
       "version_minor": 0
      },
      "text/plain": [
       "  0%|          | 0/4 [00:00<?, ?it/s]"
      ]
     },
     "metadata": {},
     "output_type": "display_data"
    },
    {
     "data": {
      "application/vnd.jupyter.widget-view+json": {
       "model_id": "114fddf14cef4b3689fd67da845257ac",
       "version_major": 2,
       "version_minor": 0
      },
      "text/plain": [
       "  0%|          | 0/4 [00:00<?, ?it/s]"
      ]
     },
     "metadata": {},
     "output_type": "display_data"
    },
    {
     "name": "stdout",
     "output_type": "stream",
     "text": [
      "Processing time:  2022-01-20 14:15:00\n"
     ]
    },
    {
     "data": {
      "application/vnd.jupyter.widget-view+json": {
       "model_id": "ca9ae7e838b14c518eb9763c75593ae0",
       "version_major": 2,
       "version_minor": 0
      },
      "text/plain": [
       "  0%|          | 0/4 [00:00<?, ?it/s]"
      ]
     },
     "metadata": {},
     "output_type": "display_data"
    },
    {
     "data": {
      "application/vnd.jupyter.widget-view+json": {
       "model_id": "b061befcc68b482791cb418ae4cc033f",
       "version_major": 2,
       "version_minor": 0
      },
      "text/plain": [
       "  0%|          | 0/4 [00:00<?, ?it/s]"
      ]
     },
     "metadata": {},
     "output_type": "display_data"
    },
    {
     "data": {
      "application/vnd.jupyter.widget-view+json": {
       "model_id": "7915bc173b354f2ab714a8ccb52f828c",
       "version_major": 2,
       "version_minor": 0
      },
      "text/plain": [
       "  0%|          | 0/4 [00:00<?, ?it/s]"
      ]
     },
     "metadata": {},
     "output_type": "display_data"
    },
    {
     "name": "stdout",
     "output_type": "stream",
     "text": [
      "Processing time:  2022-01-20 14:20:00\n"
     ]
    },
    {
     "data": {
      "application/vnd.jupyter.widget-view+json": {
       "model_id": "d6796a9917904b8baa94ff0e970345cc",
       "version_major": 2,
       "version_minor": 0
      },
      "text/plain": [
       "  0%|          | 0/4 [00:00<?, ?it/s]"
      ]
     },
     "metadata": {},
     "output_type": "display_data"
    },
    {
     "data": {
      "application/vnd.jupyter.widget-view+json": {
       "model_id": "479d874c98a649bf827110e0d5c5dde1",
       "version_major": 2,
       "version_minor": 0
      },
      "text/plain": [
       "  0%|          | 0/4 [00:00<?, ?it/s]"
      ]
     },
     "metadata": {},
     "output_type": "display_data"
    },
    {
     "data": {
      "application/vnd.jupyter.widget-view+json": {
       "model_id": "2814986b5f1f44b4b934c2dbb7904b15",
       "version_major": 2,
       "version_minor": 0
      },
      "text/plain": [
       "  0%|          | 0/4 [00:00<?, ?it/s]"
      ]
     },
     "metadata": {},
     "output_type": "display_data"
    },
    {
     "name": "stdout",
     "output_type": "stream",
     "text": [
      "Processing time:  2022-01-20 14:25:00\n"
     ]
    },
    {
     "data": {
      "application/vnd.jupyter.widget-view+json": {
       "model_id": "d09275f5b4054ce796bb769df87e2612",
       "version_major": 2,
       "version_minor": 0
      },
      "text/plain": [
       "  0%|          | 0/4 [00:00<?, ?it/s]"
      ]
     },
     "metadata": {},
     "output_type": "display_data"
    },
    {
     "data": {
      "application/vnd.jupyter.widget-view+json": {
       "model_id": "503c861881124d7db24184e8573a843a",
       "version_major": 2,
       "version_minor": 0
      },
      "text/plain": [
       "  0%|          | 0/4 [00:00<?, ?it/s]"
      ]
     },
     "metadata": {},
     "output_type": "display_data"
    },
    {
     "data": {
      "application/vnd.jupyter.widget-view+json": {
       "model_id": "3b826b8e960f45c9917437313716321a",
       "version_major": 2,
       "version_minor": 0
      },
      "text/plain": [
       "  0%|          | 0/4 [00:00<?, ?it/s]"
      ]
     },
     "metadata": {},
     "output_type": "display_data"
    },
    {
     "name": "stdout",
     "output_type": "stream",
     "text": [
      "Processing time:  2022-01-20 14:30:00\n"
     ]
    },
    {
     "data": {
      "application/vnd.jupyter.widget-view+json": {
       "model_id": "5ca8dc74b4724b84bceb05db22eb5fa0",
       "version_major": 2,
       "version_minor": 0
      },
      "text/plain": [
       "  0%|          | 0/4 [00:00<?, ?it/s]"
      ]
     },
     "metadata": {},
     "output_type": "display_data"
    },
    {
     "data": {
      "application/vnd.jupyter.widget-view+json": {
       "model_id": "f6c3d7dbeec441c8ad5d3e63c2a18e31",
       "version_major": 2,
       "version_minor": 0
      },
      "text/plain": [
       "  0%|          | 0/4 [00:00<?, ?it/s]"
      ]
     },
     "metadata": {},
     "output_type": "display_data"
    },
    {
     "data": {
      "application/vnd.jupyter.widget-view+json": {
       "model_id": "a8039d59c6a54812be86e2bf36f60d85",
       "version_major": 2,
       "version_minor": 0
      },
      "text/plain": [
       "  0%|          | 0/4 [00:00<?, ?it/s]"
      ]
     },
     "metadata": {},
     "output_type": "display_data"
    },
    {
     "name": "stdout",
     "output_type": "stream",
     "text": [
      "Processing time:  2022-01-20 14:35:00\n"
     ]
    },
    {
     "data": {
      "application/vnd.jupyter.widget-view+json": {
       "model_id": "964136c8e0614780bfe45d9c5cb851fd",
       "version_major": 2,
       "version_minor": 0
      },
      "text/plain": [
       "  0%|          | 0/4 [00:00<?, ?it/s]"
      ]
     },
     "metadata": {},
     "output_type": "display_data"
    },
    {
     "data": {
      "application/vnd.jupyter.widget-view+json": {
       "model_id": "dea0835426ba4a169037b8b5b60dce08",
       "version_major": 2,
       "version_minor": 0
      },
      "text/plain": [
       "  0%|          | 0/4 [00:00<?, ?it/s]"
      ]
     },
     "metadata": {},
     "output_type": "display_data"
    },
    {
     "data": {
      "application/vnd.jupyter.widget-view+json": {
       "model_id": "13e260792e174f17844371f2fa34d0a5",
       "version_major": 2,
       "version_minor": 0
      },
      "text/plain": [
       "  0%|          | 0/4 [00:00<?, ?it/s]"
      ]
     },
     "metadata": {},
     "output_type": "display_data"
    },
    {
     "name": "stdout",
     "output_type": "stream",
     "text": [
      "Processing time:  2022-01-20 14:40:00\n"
     ]
    },
    {
     "data": {
      "application/vnd.jupyter.widget-view+json": {
       "model_id": "2beee8e9c9d543b3911d5d74e6db7a35",
       "version_major": 2,
       "version_minor": 0
      },
      "text/plain": [
       "  0%|          | 0/4 [00:00<?, ?it/s]"
      ]
     },
     "metadata": {},
     "output_type": "display_data"
    },
    {
     "data": {
      "application/vnd.jupyter.widget-view+json": {
       "model_id": "b5958731e17a4301b1d1884838dc35b9",
       "version_major": 2,
       "version_minor": 0
      },
      "text/plain": [
       "  0%|          | 0/4 [00:00<?, ?it/s]"
      ]
     },
     "metadata": {},
     "output_type": "display_data"
    },
    {
     "data": {
      "application/vnd.jupyter.widget-view+json": {
       "model_id": "5407ab2cd2af4e058f930c30899339fb",
       "version_major": 2,
       "version_minor": 0
      },
      "text/plain": [
       "  0%|          | 0/4 [00:00<?, ?it/s]"
      ]
     },
     "metadata": {},
     "output_type": "display_data"
    },
    {
     "name": "stdout",
     "output_type": "stream",
     "text": [
      "Processing time:  2022-01-20 14:45:00\n"
     ]
    },
    {
     "data": {
      "application/vnd.jupyter.widget-view+json": {
       "model_id": "33f604987d59456b9bad61eaee2d7b36",
       "version_major": 2,
       "version_minor": 0
      },
      "text/plain": [
       "  0%|          | 0/4 [00:00<?, ?it/s]"
      ]
     },
     "metadata": {},
     "output_type": "display_data"
    },
    {
     "data": {
      "application/vnd.jupyter.widget-view+json": {
       "model_id": "43bb07778faa4ed48ea92755c239a4d9",
       "version_major": 2,
       "version_minor": 0
      },
      "text/plain": [
       "  0%|          | 0/4 [00:00<?, ?it/s]"
      ]
     },
     "metadata": {},
     "output_type": "display_data"
    },
    {
     "data": {
      "application/vnd.jupyter.widget-view+json": {
       "model_id": "88012126a8e84df3a4e5e5fa0064e132",
       "version_major": 2,
       "version_minor": 0
      },
      "text/plain": [
       "  0%|          | 0/4 [00:00<?, ?it/s]"
      ]
     },
     "metadata": {},
     "output_type": "display_data"
    },
    {
     "name": "stdout",
     "output_type": "stream",
     "text": [
      "Processing time:  2022-01-20 14:50:00\n"
     ]
    },
    {
     "data": {
      "application/vnd.jupyter.widget-view+json": {
       "model_id": "f15c5fdd1efb49f1ab253363cdeb3b08",
       "version_major": 2,
       "version_minor": 0
      },
      "text/plain": [
       "  0%|          | 0/4 [00:00<?, ?it/s]"
      ]
     },
     "metadata": {},
     "output_type": "display_data"
    },
    {
     "data": {
      "application/vnd.jupyter.widget-view+json": {
       "model_id": "50777ac4bd184f51b1ee34a46828abe0",
       "version_major": 2,
       "version_minor": 0
      },
      "text/plain": [
       "  0%|          | 0/4 [00:00<?, ?it/s]"
      ]
     },
     "metadata": {},
     "output_type": "display_data"
    },
    {
     "data": {
      "application/vnd.jupyter.widget-view+json": {
       "model_id": "829f450114a1405386d5c9a58b220aaf",
       "version_major": 2,
       "version_minor": 0
      },
      "text/plain": [
       "  0%|          | 0/4 [00:00<?, ?it/s]"
      ]
     },
     "metadata": {},
     "output_type": "display_data"
    },
    {
     "name": "stdout",
     "output_type": "stream",
     "text": [
      "Processing time:  2022-01-20 14:55:00\n"
     ]
    },
    {
     "data": {
      "application/vnd.jupyter.widget-view+json": {
       "model_id": "a9713d3bdb3941a49fc5aecf4a25244e",
       "version_major": 2,
       "version_minor": 0
      },
      "text/plain": [
       "  0%|          | 0/4 [00:00<?, ?it/s]"
      ]
     },
     "metadata": {},
     "output_type": "display_data"
    },
    {
     "data": {
      "application/vnd.jupyter.widget-view+json": {
       "model_id": "da5f9c92525e4469a37bd42ab2a9cc56",
       "version_major": 2,
       "version_minor": 0
      },
      "text/plain": [
       "  0%|          | 0/4 [00:00<?, ?it/s]"
      ]
     },
     "metadata": {},
     "output_type": "display_data"
    },
    {
     "data": {
      "application/vnd.jupyter.widget-view+json": {
       "model_id": "6e3ee1b16e6147e49f932628eb5641cc",
       "version_major": 2,
       "version_minor": 0
      },
      "text/plain": [
       "  0%|          | 0/4 [00:00<?, ?it/s]"
      ]
     },
     "metadata": {},
     "output_type": "display_data"
    },
    {
     "name": "stdout",
     "output_type": "stream",
     "text": [
      "Processing time:  2022-01-20 15:00:00\n"
     ]
    },
    {
     "data": {
      "application/vnd.jupyter.widget-view+json": {
       "model_id": "dc5ff36abefc4dcb8222599cbf0f154e",
       "version_major": 2,
       "version_minor": 0
      },
      "text/plain": [
       "  0%|          | 0/4 [00:00<?, ?it/s]"
      ]
     },
     "metadata": {},
     "output_type": "display_data"
    },
    {
     "data": {
      "application/vnd.jupyter.widget-view+json": {
       "model_id": "e522082bd5174acfa86ce9cd875e4f0a",
       "version_major": 2,
       "version_minor": 0
      },
      "text/plain": [
       "  0%|          | 0/4 [00:00<?, ?it/s]"
      ]
     },
     "metadata": {},
     "output_type": "display_data"
    },
    {
     "data": {
      "application/vnd.jupyter.widget-view+json": {
       "model_id": "d5be8c79fd3a44998cbc75cb5eaf5bfe",
       "version_major": 2,
       "version_minor": 0
      },
      "text/plain": [
       "  0%|          | 0/4 [00:00<?, ?it/s]"
      ]
     },
     "metadata": {},
     "output_type": "display_data"
    },
    {
     "name": "stdout",
     "output_type": "stream",
     "text": [
      "Processing time:  2022-01-20 15:05:00\n"
     ]
    },
    {
     "data": {
      "application/vnd.jupyter.widget-view+json": {
       "model_id": "26a41d7ef4934ebba3082016aaf9e333",
       "version_major": 2,
       "version_minor": 0
      },
      "text/plain": [
       "  0%|          | 0/4 [00:00<?, ?it/s]"
      ]
     },
     "metadata": {},
     "output_type": "display_data"
    },
    {
     "data": {
      "application/vnd.jupyter.widget-view+json": {
       "model_id": "7208e8a59f4a4f8bae6a4ebd9b1be0b7",
       "version_major": 2,
       "version_minor": 0
      },
      "text/plain": [
       "  0%|          | 0/4 [00:00<?, ?it/s]"
      ]
     },
     "metadata": {},
     "output_type": "display_data"
    },
    {
     "data": {
      "application/vnd.jupyter.widget-view+json": {
       "model_id": "1bb27d8eb0794ebdaf5c1ba32e3f2d69",
       "version_major": 2,
       "version_minor": 0
      },
      "text/plain": [
       "  0%|          | 0/4 [00:00<?, ?it/s]"
      ]
     },
     "metadata": {},
     "output_type": "display_data"
    },
    {
     "name": "stdout",
     "output_type": "stream",
     "text": [
      "Processing time:  2022-01-20 15:10:00\n"
     ]
    },
    {
     "data": {
      "application/vnd.jupyter.widget-view+json": {
       "model_id": "d87b63a46e494fe6ac3fb53944c803f5",
       "version_major": 2,
       "version_minor": 0
      },
      "text/plain": [
       "  0%|          | 0/4 [00:00<?, ?it/s]"
      ]
     },
     "metadata": {},
     "output_type": "display_data"
    },
    {
     "data": {
      "application/vnd.jupyter.widget-view+json": {
       "model_id": "2100d47819df49d9925b9b3856117bcb",
       "version_major": 2,
       "version_minor": 0
      },
      "text/plain": [
       "  0%|          | 0/4 [00:00<?, ?it/s]"
      ]
     },
     "metadata": {},
     "output_type": "display_data"
    },
    {
     "data": {
      "application/vnd.jupyter.widget-view+json": {
       "model_id": "bb6614ecd7934261931350a504a87462",
       "version_major": 2,
       "version_minor": 0
      },
      "text/plain": [
       "  0%|          | 0/4 [00:00<?, ?it/s]"
      ]
     },
     "metadata": {},
     "output_type": "display_data"
    },
    {
     "name": "stdout",
     "output_type": "stream",
     "text": [
      "Processing time:  2022-01-20 15:15:00\n"
     ]
    },
    {
     "data": {
      "application/vnd.jupyter.widget-view+json": {
       "model_id": "daed28f7e2554f1eb62fc854a0a2aeb8",
       "version_major": 2,
       "version_minor": 0
      },
      "text/plain": [
       "  0%|          | 0/4 [00:00<?, ?it/s]"
      ]
     },
     "metadata": {},
     "output_type": "display_data"
    },
    {
     "data": {
      "application/vnd.jupyter.widget-view+json": {
       "model_id": "8ac575ba00644cd8b514be6c93dcb244",
       "version_major": 2,
       "version_minor": 0
      },
      "text/plain": [
       "  0%|          | 0/4 [00:00<?, ?it/s]"
      ]
     },
     "metadata": {},
     "output_type": "display_data"
    },
    {
     "data": {
      "application/vnd.jupyter.widget-view+json": {
       "model_id": "ed14fa2bc867465cbca4097de1a91d26",
       "version_major": 2,
       "version_minor": 0
      },
      "text/plain": [
       "  0%|          | 0/4 [00:00<?, ?it/s]"
      ]
     },
     "metadata": {},
     "output_type": "display_data"
    },
    {
     "name": "stdout",
     "output_type": "stream",
     "text": [
      "Processing time:  2022-01-20 15:20:00\n"
     ]
    },
    {
     "data": {
      "application/vnd.jupyter.widget-view+json": {
       "model_id": "c2ece00234c94610b6ad6b121a860ea1",
       "version_major": 2,
       "version_minor": 0
      },
      "text/plain": [
       "  0%|          | 0/4 [00:00<?, ?it/s]"
      ]
     },
     "metadata": {},
     "output_type": "display_data"
    },
    {
     "data": {
      "application/vnd.jupyter.widget-view+json": {
       "model_id": "e2a954dbad7e42caa9c6cde525dc7552",
       "version_major": 2,
       "version_minor": 0
      },
      "text/plain": [
       "  0%|          | 0/4 [00:00<?, ?it/s]"
      ]
     },
     "metadata": {},
     "output_type": "display_data"
    },
    {
     "data": {
      "application/vnd.jupyter.widget-view+json": {
       "model_id": "8914f1a307b849929660ab5d3f17bcd4",
       "version_major": 2,
       "version_minor": 0
      },
      "text/plain": [
       "  0%|          | 0/4 [00:00<?, ?it/s]"
      ]
     },
     "metadata": {},
     "output_type": "display_data"
    },
    {
     "name": "stdout",
     "output_type": "stream",
     "text": [
      "Processing time:  2022-01-20 15:25:00\n"
     ]
    },
    {
     "data": {
      "application/vnd.jupyter.widget-view+json": {
       "model_id": "fde4f0f73cd046019046f84ba7f6c0fa",
       "version_major": 2,
       "version_minor": 0
      },
      "text/plain": [
       "  0%|          | 0/4 [00:00<?, ?it/s]"
      ]
     },
     "metadata": {},
     "output_type": "display_data"
    },
    {
     "data": {
      "application/vnd.jupyter.widget-view+json": {
       "model_id": "ac80ecb69f37473d8150d0270a7b7dec",
       "version_major": 2,
       "version_minor": 0
      },
      "text/plain": [
       "  0%|          | 0/4 [00:00<?, ?it/s]"
      ]
     },
     "metadata": {},
     "output_type": "display_data"
    },
    {
     "data": {
      "application/vnd.jupyter.widget-view+json": {
       "model_id": "dc1f29c3e13c42709963746ebe9c1d1f",
       "version_major": 2,
       "version_minor": 0
      },
      "text/plain": [
       "  0%|          | 0/4 [00:00<?, ?it/s]"
      ]
     },
     "metadata": {},
     "output_type": "display_data"
    },
    {
     "name": "stdout",
     "output_type": "stream",
     "text": [
      "Processing time:  2022-01-20 15:30:00\n"
     ]
    },
    {
     "data": {
      "application/vnd.jupyter.widget-view+json": {
       "model_id": "0720f1a255834fcbb151941579be5caa",
       "version_major": 2,
       "version_minor": 0
      },
      "text/plain": [
       "  0%|          | 0/4 [00:00<?, ?it/s]"
      ]
     },
     "metadata": {},
     "output_type": "display_data"
    },
    {
     "data": {
      "application/vnd.jupyter.widget-view+json": {
       "model_id": "ce63e600c2b04da3b2c5084695d6b15a",
       "version_major": 2,
       "version_minor": 0
      },
      "text/plain": [
       "  0%|          | 0/4 [00:00<?, ?it/s]"
      ]
     },
     "metadata": {},
     "output_type": "display_data"
    },
    {
     "data": {
      "application/vnd.jupyter.widget-view+json": {
       "model_id": "bf17cb6476fe45d0934fcedddbc81f1e",
       "version_major": 2,
       "version_minor": 0
      },
      "text/plain": [
       "  0%|          | 0/4 [00:00<?, ?it/s]"
      ]
     },
     "metadata": {},
     "output_type": "display_data"
    },
    {
     "name": "stdout",
     "output_type": "stream",
     "text": [
      "Processing time:  2022-01-20 15:35:00\n"
     ]
    },
    {
     "data": {
      "application/vnd.jupyter.widget-view+json": {
       "model_id": "18795436e8f047bd85065ad54e1e57a1",
       "version_major": 2,
       "version_minor": 0
      },
      "text/plain": [
       "  0%|          | 0/4 [00:00<?, ?it/s]"
      ]
     },
     "metadata": {},
     "output_type": "display_data"
    },
    {
     "data": {
      "application/vnd.jupyter.widget-view+json": {
       "model_id": "2e0e80782ca942d693676073dff31654",
       "version_major": 2,
       "version_minor": 0
      },
      "text/plain": [
       "  0%|          | 0/4 [00:00<?, ?it/s]"
      ]
     },
     "metadata": {},
     "output_type": "display_data"
    },
    {
     "data": {
      "application/vnd.jupyter.widget-view+json": {
       "model_id": "f7eb5254486d41119668b453d397b5fc",
       "version_major": 2,
       "version_minor": 0
      },
      "text/plain": [
       "  0%|          | 0/4 [00:00<?, ?it/s]"
      ]
     },
     "metadata": {},
     "output_type": "display_data"
    },
    {
     "name": "stdout",
     "output_type": "stream",
     "text": [
      "Processing time:  2022-01-20 15:40:00\n"
     ]
    },
    {
     "data": {
      "application/vnd.jupyter.widget-view+json": {
       "model_id": "4a6882a0834941dbb4223ba17921f91f",
       "version_major": 2,
       "version_minor": 0
      },
      "text/plain": [
       "  0%|          | 0/4 [00:00<?, ?it/s]"
      ]
     },
     "metadata": {},
     "output_type": "display_data"
    },
    {
     "data": {
      "application/vnd.jupyter.widget-view+json": {
       "model_id": "7bd0cb88a17d4d89920697bbf68e9700",
       "version_major": 2,
       "version_minor": 0
      },
      "text/plain": [
       "  0%|          | 0/4 [00:00<?, ?it/s]"
      ]
     },
     "metadata": {},
     "output_type": "display_data"
    },
    {
     "data": {
      "application/vnd.jupyter.widget-view+json": {
       "model_id": "d27eee22e76140e3be38234fb0b1f748",
       "version_major": 2,
       "version_minor": 0
      },
      "text/plain": [
       "  0%|          | 0/4 [00:00<?, ?it/s]"
      ]
     },
     "metadata": {},
     "output_type": "display_data"
    },
    {
     "name": "stdout",
     "output_type": "stream",
     "text": [
      "Processing time:  2022-01-20 15:45:00\n"
     ]
    },
    {
     "data": {
      "application/vnd.jupyter.widget-view+json": {
       "model_id": "639d3b07380f44dba39da76328281f8a",
       "version_major": 2,
       "version_minor": 0
      },
      "text/plain": [
       "  0%|          | 0/4 [00:00<?, ?it/s]"
      ]
     },
     "metadata": {},
     "output_type": "display_data"
    },
    {
     "data": {
      "application/vnd.jupyter.widget-view+json": {
       "model_id": "3960fe74dd4b45fe920cffaecb40203a",
       "version_major": 2,
       "version_minor": 0
      },
      "text/plain": [
       "  0%|          | 0/4 [00:00<?, ?it/s]"
      ]
     },
     "metadata": {},
     "output_type": "display_data"
    },
    {
     "data": {
      "application/vnd.jupyter.widget-view+json": {
       "model_id": "e9cf23ebd94d483fbf2f67e3e153a476",
       "version_major": 2,
       "version_minor": 0
      },
      "text/plain": [
       "  0%|          | 0/4 [00:00<?, ?it/s]"
      ]
     },
     "metadata": {},
     "output_type": "display_data"
    },
    {
     "name": "stdout",
     "output_type": "stream",
     "text": [
      "Processing time:  2022-01-20 15:50:00\n"
     ]
    },
    {
     "data": {
      "application/vnd.jupyter.widget-view+json": {
       "model_id": "c6eab149ae184d1d8440da933d84ee03",
       "version_major": 2,
       "version_minor": 0
      },
      "text/plain": [
       "  0%|          | 0/4 [00:00<?, ?it/s]"
      ]
     },
     "metadata": {},
     "output_type": "display_data"
    },
    {
     "data": {
      "application/vnd.jupyter.widget-view+json": {
       "model_id": "03328ef8c2bd4d98a98d244558573243",
       "version_major": 2,
       "version_minor": 0
      },
      "text/plain": [
       "  0%|          | 0/4 [00:00<?, ?it/s]"
      ]
     },
     "metadata": {},
     "output_type": "display_data"
    },
    {
     "data": {
      "application/vnd.jupyter.widget-view+json": {
       "model_id": "8c9721059c064de6939e0ce6f96cb5c8",
       "version_major": 2,
       "version_minor": 0
      },
      "text/plain": [
       "  0%|          | 0/4 [00:00<?, ?it/s]"
      ]
     },
     "metadata": {},
     "output_type": "display_data"
    },
    {
     "name": "stdout",
     "output_type": "stream",
     "text": [
      "Processing time:  2022-01-20 15:55:00\n"
     ]
    },
    {
     "data": {
      "application/vnd.jupyter.widget-view+json": {
       "model_id": "9e670d9b5345446383f0aaab7cf25f07",
       "version_major": 2,
       "version_minor": 0
      },
      "text/plain": [
       "  0%|          | 0/4 [00:00<?, ?it/s]"
      ]
     },
     "metadata": {},
     "output_type": "display_data"
    },
    {
     "data": {
      "application/vnd.jupyter.widget-view+json": {
       "model_id": "8d2a56235e6e4d54afbee1c56db2f3ed",
       "version_major": 2,
       "version_minor": 0
      },
      "text/plain": [
       "  0%|          | 0/4 [00:00<?, ?it/s]"
      ]
     },
     "metadata": {},
     "output_type": "display_data"
    },
    {
     "data": {
      "application/vnd.jupyter.widget-view+json": {
       "model_id": "6bc04b725960479783712a1512514a4f",
       "version_major": 2,
       "version_minor": 0
      },
      "text/plain": [
       "  0%|          | 0/4 [00:00<?, ?it/s]"
      ]
     },
     "metadata": {},
     "output_type": "display_data"
    },
    {
     "name": "stdout",
     "output_type": "stream",
     "text": [
      "Processing time:  2022-01-20 16:00:00\n"
     ]
    },
    {
     "data": {
      "application/vnd.jupyter.widget-view+json": {
       "model_id": "12538f955ca243eb87e41f736c50b3f1",
       "version_major": 2,
       "version_minor": 0
      },
      "text/plain": [
       "  0%|          | 0/4 [00:00<?, ?it/s]"
      ]
     },
     "metadata": {},
     "output_type": "display_data"
    },
    {
     "data": {
      "application/vnd.jupyter.widget-view+json": {
       "model_id": "e0b8e12886924265906507ae3dd54fa4",
       "version_major": 2,
       "version_minor": 0
      },
      "text/plain": [
       "  0%|          | 0/4 [00:00<?, ?it/s]"
      ]
     },
     "metadata": {},
     "output_type": "display_data"
    },
    {
     "data": {
      "application/vnd.jupyter.widget-view+json": {
       "model_id": "27cd559b47024dbc8bf0a843ce6396ba",
       "version_major": 2,
       "version_minor": 0
      },
      "text/plain": [
       "  0%|          | 0/4 [00:00<?, ?it/s]"
      ]
     },
     "metadata": {},
     "output_type": "display_data"
    },
    {
     "name": "stdout",
     "output_type": "stream",
     "text": [
      "Processing time:  2022-01-20 16:05:00\n"
     ]
    },
    {
     "data": {
      "application/vnd.jupyter.widget-view+json": {
       "model_id": "28a72e287bd24921810198d662cb75b8",
       "version_major": 2,
       "version_minor": 0
      },
      "text/plain": [
       "  0%|          | 0/1 [00:00<?, ?it/s]"
      ]
     },
     "metadata": {},
     "output_type": "display_data"
    },
    {
     "data": {
      "application/vnd.jupyter.widget-view+json": {
       "model_id": "7d653b7cde5d4f80a4109c18f02d1369",
       "version_major": 2,
       "version_minor": 0
      },
      "text/plain": [
       "  0%|          | 0/1 [00:00<?, ?it/s]"
      ]
     },
     "metadata": {},
     "output_type": "display_data"
    },
    {
     "data": {
      "application/vnd.jupyter.widget-view+json": {
       "model_id": "d731e4b1ca814cdc928e19f5f5310bcb",
       "version_major": 2,
       "version_minor": 0
      },
      "text/plain": [
       "  0%|          | 0/1 [00:00<?, ?it/s]"
      ]
     },
     "metadata": {},
     "output_type": "display_data"
    }
   ],
   "source": [
    "# convert plume dataframe to EMI geospatial xarray dataset\n",
    "emi = fl_gen.plume_to_grid(lats_pl, lons_pl, alts, times)"
   ]
  },
  {
   "cell_type": "code",
   "execution_count": 16,
   "metadata": {},
   "outputs": [
    {
     "name": "stderr",
     "output_type": "stream",
     "text": [
      "/home/ktait98/miniconda3/envs/contrails/lib/python3.12/site-packages/xarray/backends/plugins.py:80: RuntimeWarning: Engine 'cfgrib' loading failed:\n",
      "Cannot find the ecCodes library\n",
      "  warnings.warn(f\"Engine {name!r} loading failed:\\n{ex}\", RuntimeWarning)\n"
     ]
    }
   ],
   "source": [
    "# init boxm simulation and generate chemistry dataset\n",
    "boxm = Boxm(met=met, params=chem_params)"
   ]
  },
  {
   "cell_type": "code",
   "execution_count": 17,
   "metadata": {},
   "outputs": [
    {
     "name": "stderr",
     "output_type": "stream",
     "text": [
      "/home/ktait98/pycontrails_kt/pycontrails/models/boxmodel/boxm_ac.py:174: FutureWarning: The return type of `Dataset.dims` will be changed to return a set of dimension names in future, in order to be more consistent with `DataArray.dims`. To access a mapping from dimension names to lengths, please use `Dataset.sizes`.\n",
      "  self.boxm_ds[\"J\"] = ([\"time\", \"level\", \"longitude\", \"latitude\", \"photol_params\"], da.zeros((self.boxm_ds.dims[\"time\"], self.boxm_ds.dims[\"level\"], self.boxm_ds.dims[\"longitude\"], self.boxm_ds.dims[\"latitude\"], 5)))\n",
      "/home/ktait98/pycontrails_kt/pycontrails/models/boxmodel/boxm_ac.py:176: FutureWarning: The return type of `Dataset.dims` will be changed to return a set of dimension names in future, in order to be more consistent with `DataArray.dims`. To access a mapping from dimension names to lengths, please use `Dataset.sizes`.\n",
      "  self.boxm_ds[\"DJ\"] = ([\"time\", \"level\", \"longitude\", \"latitude\", \"photol_coeffs\"], da.zeros((self.boxm_ds.dims[\"time\"], self.boxm_ds.dims[\"level\"], self.boxm_ds.dims[\"longitude\"], self.boxm_ds.dims[\"latitude\"], 5)))\n",
      "/home/ktait98/pycontrails_kt/pycontrails/models/boxmodel/boxm_ac.py:178: FutureWarning: The return type of `Dataset.dims` will be changed to return a set of dimension names in future, in order to be more consistent with `DataArray.dims`. To access a mapping from dimension names to lengths, please use `Dataset.sizes`.\n",
      "  self.boxm_ds[\"RC\"] = ([\"time\", \"level\", \"longitude\", \"latitude\", \"therm_coeffs\"], da.zeros((self.boxm_ds.dims[\"time\"], self.boxm_ds.dims[\"level\"], self.boxm_ds.dims[\"longitude\"], self.boxm_ds.dims[\"latitude\"], 5)))\n",
      "/home/ktait98/pycontrails_kt/pycontrails/models/boxmodel/boxm_ac.py:180: FutureWarning: The return type of `Dataset.dims` will be changed to return a set of dimension names in future, in order to be more consistent with `DataArray.dims`. To access a mapping from dimension names to lengths, please use `Dataset.sizes`.\n",
      "  self.boxm_ds[\"Y\"] = ([\"time\", \"level\", \"longitude\", \"latitude\", \"species\"], da.zeros((self.boxm_ds.dims[\"time\"], self.boxm_ds.dims[\"level\"], self.boxm_ds.dims[\"longitude\"], self.boxm_ds.dims[\"latitude\"], self.boxm_ds.dims[\"species\"])))\n"
     ]
    },
    {
     "name": "stdout",
     "output_type": "stream",
     "text": [
      "MultiIndex([(165.10085173011288,               -33.0,               47.0),\n",
      "            (165.10085173011288,               -33.0,               47.1),\n",
      "            (165.10085173011288,               -33.0,               47.2),\n",
      "            (165.10085173011288,               -33.0, 47.300000000000004),\n",
      "            (165.10085173011288,               -33.0, 47.400000000000006),\n",
      "            (165.10085173011288,               -33.0,  47.50000000000001),\n",
      "            (165.10085173011288,               -33.0,  47.60000000000001),\n",
      "            (165.10085173011288,               -33.0,  47.70000000000001),\n",
      "            (165.10085173011288,               -33.0,  47.80000000000001),\n",
      "            (165.10085173011288,               -33.0,  47.90000000000001),\n",
      "            ...\n",
      "            (193.30062328740988, -31.899999999999984,               47.2),\n",
      "            (193.30062328740988, -31.899999999999984, 47.300000000000004),\n",
      "            (193.30062328740988, -31.899999999999984, 47.400000000000006),\n",
      "            (193.30062328740988, -31.899999999999984,  47.50000000000001),\n",
      "            (193.30062328740988, -31.899999999999984,  47.60000000000001),\n",
      "            (193.30062328740988, -31.899999999999984,  47.70000000000001),\n",
      "            (193.30062328740988, -31.899999999999984,  47.80000000000001),\n",
      "            (193.30062328740988, -31.899999999999984,  47.90000000000001),\n",
      "            (193.30062328740988, -31.899999999999984, 48.000000000000014),\n",
      "            (193.30062328740988, -31.899999999999984, 48.100000000000016)],\n",
      "           name='cell', length=432)\n",
      "deleting boxm_ds.nc\n",
      " TS =          180  (Hour =    1.00000000     )\n",
      " TS =          360  (Hour =    2.00000000     )\n",
      " TS =          540  (Hour =    3.00000000     )\n",
      " TS =          720  (Hour =    4.00000000     )\n",
      " TS =          900  (Hour =    5.00000000     )\n",
      " TS =         1080  (Hour =    6.00000000     )\n",
      "<xarray.Dataset> Size: 931MB\n",
      "Dimensions:          (time: 1081, cell: 432, species: 219, emi_species: 9,\n",
      "                      photol_params: 5, photol_coeffs: 5, therm_coeffs: 5)\n",
      "Coordinates:\n",
      "  * time             (time) datetime64[ns] 9kB 2022-01-20T12:00:00 ... 2022-0...\n",
      "    air_pressure     (cell) float64 3kB ...\n",
      "    altitude         (cell) float64 3kB ...\n",
      "  * species          (species) <U10 9kB 'O1D' 'O' 'OH' ... 'EMPOA' 'P2007'\n",
      "  * emi_species      (emi_species) <U7 252B 'NO' 'NO2' 'CO' ... 'C2H2' 'BENZENE'\n",
      "    level            (cell) float64 3kB ...\n",
      "    longitude        (cell) float64 3kB ...\n",
      "    latitude         (cell) float64 3kB ...\n",
      "Dimensions without coordinates: cell, photol_params, photol_coeffs, therm_coeffs\n",
      "Data variables:\n",
      "    air_temperature  (time, cell) float64 4MB ...\n",
      "    M                (time, cell) float64 4MB ...\n",
      "    H2O              (time, cell) float64 4MB ...\n",
      "    O2               (time, cell) float64 4MB ...\n",
      "    N2               (time, cell) float64 4MB ...\n",
      "    sza              (time, cell) float64 4MB ...\n",
      "    bg_chem          (species, cell) float64 757kB ...\n",
      "    emi              (time, emi_species, cell) float64 34MB ...\n",
      "    J                (time, photol_params, cell) float64 19MB ...\n",
      "    DJ               (time, photol_coeffs, cell) float64 19MB ...\n",
      "    RC               (time, therm_coeffs, cell) float64 19MB ...\n",
      "    Y                (time, species, cell) float64 818MB ...\n",
      "Attributes:\n",
      "    dts:      20.0\n",
      "coords set\n"
     ]
    }
   ],
   "source": [
    "# run boxm simulation\n",
    "chem = boxm.eval(emi)"
   ]
  },
  {
   "cell_type": "code",
   "execution_count": 18,
   "metadata": {},
   "outputs": [
    {
     "name": "stderr",
     "output_type": "stream",
     "text": [
      "/tmp/ipykernel_145025/1770926626.py:5: UserWarning: No artists with labels found to put in legend.  Note that artists whose label start with an underscore are ignored when legend() is called with no argument.\n",
      "  plt.legend()\n"
     ]
    },
    {
     "data": {
      "image/png": "[encoded data removed]",
      "text/plain": [
       "<Figure size 1000x600 with 1 Axes>"
      ]
     },
     "metadata": {},
     "output_type": "display_data"
    }
   ],
   "source": [
    "plt.figure(figsize=(10, 6))  # Optional: Adjust figure size\n",
    "\n",
    "boxm.boxm_ds[\"Y\"].sel(species=\"NO\", cell=14).plot()\n",
    "#boxm.boxm_ds[\"Y_orig\"].sel(species=\"NO\").plot()\n",
    "plt.legend()\n",
    "plt.show()"
   ]
  },
  {
   "cell_type": "code",
   "execution_count": 19,
   "metadata": {},
   "outputs": [
    {
     "name": "stdout",
     "output_type": "stream",
     "text": [
      "<xarray.DataArray 'emi' (time: 1081, longitude: 12, latitude: 12)> Size: 1MB\n",
      "array([[[ 0.,  0.,  0., ...,  0.,  0., nan],\n",
      "        [ 0.,  0.,  0., ...,  0.,  0., nan],\n",
      "        [ 0.,  0.,  0., ...,  0.,  0., nan],\n",
      "        ...,\n",
      "        [ 0.,  0.,  0., ...,  0.,  0., nan],\n",
      "        [ 0.,  0.,  0., ...,  0.,  0., nan],\n",
      "        [nan, nan, nan, ..., nan, nan, nan]],\n",
      "\n",
      "       [[ 0.,  0.,  0., ...,  0.,  0., nan],\n",
      "        [ 0.,  0.,  0., ...,  0.,  0., nan],\n",
      "        [ 0.,  0.,  0., ...,  0.,  0., nan],\n",
      "        ...,\n",
      "        [ 0.,  0.,  0., ...,  0.,  0., nan],\n",
      "        [ 0.,  0.,  0., ...,  0.,  0., nan],\n",
      "        [nan, nan, nan, ..., nan, nan, nan]],\n",
      "\n",
      "       [[ 0.,  0.,  0., ...,  0.,  0., nan],\n",
      "        [ 0.,  0.,  0., ...,  0.,  0., nan],\n",
      "        [ 0.,  0.,  0., ...,  0.,  0., nan],\n",
      "        ...,\n",
      "...\n",
      "        ...,\n",
      "        [ 0.,  0.,  0., ...,  0.,  0., nan],\n",
      "        [ 0.,  0.,  0., ...,  0.,  0., nan],\n",
      "        [nan, nan, nan, ..., nan, nan, nan]],\n",
      "\n",
      "       [[ 0.,  0.,  0., ...,  0.,  0., nan],\n",
      "        [ 0.,  0.,  0., ...,  0.,  0., nan],\n",
      "        [ 0.,  0.,  0., ...,  0.,  0., nan],\n",
      "        ...,\n",
      "        [ 0.,  0.,  0., ...,  0.,  0., nan],\n",
      "        [ 0.,  0.,  0., ...,  0.,  0., nan],\n",
      "        [nan, nan, nan, ..., nan, nan, nan]],\n",
      "\n",
      "       [[ 0.,  0.,  0., ...,  0.,  0., nan],\n",
      "        [ 0.,  0.,  0., ...,  0.,  0., nan],\n",
      "        [ 0.,  0.,  0., ...,  0.,  0., nan],\n",
      "        ...,\n",
      "        [ 0.,  0.,  0., ...,  0.,  0., nan],\n",
      "        [ 0.,  0.,  0., ...,  0.,  0., nan],\n",
      "        [nan, nan, nan, ..., nan, nan, nan]]])\n",
      "Coordinates:\n",
      "    level         float64 8B 178.6\n",
      "  * longitude     (longitude) float64 96B -33.0 -32.9 -32.8 ... -32.0 -31.9\n",
      "  * latitude      (latitude) float64 96B 47.0 47.1 47.2 47.3 ... 47.9 48.0 48.1\n",
      "  * time          (time) datetime64[ns] 9kB 2022-01-20T12:00:00 ... 2022-01-2...\n",
      "    air_pressure  (longitude, latitude) float64 1kB 1.786e+04 ... 1.786e+04\n",
      "    altitude      (longitude, latitude) float64 1kB 1.25e+04 ... 1.25e+04\n",
      "    emi_species   <U7 28B 'NO'\n",
      "New number of frames: 73\n"
     ]
    },
    {
     "data": {
      "image/png": "[encoded data removed]",
      "text/plain": [
       "<Figure size 1200x800 with 2 Axes>"
      ]
     },
     "metadata": {},
     "output_type": "display_data"
    }
   ],
   "source": [
    "boxm.anim_chem(\"emi\", \"NO\", 178.6)"
   ]
  }
 ],
 "metadata": {
  "kernelspec": {
   "display_name": "contrails",
   "language": "python",
   "name": "python3"
  },
  "language_info": {
   "codemirror_mode": {
    "name": "ipython",
    "version": 3
   },
   "file_extension": ".py",
   "mimetype": "text/x-python",
   "name": "python",
   "nbconvert_exporter": "python",
   "pygments_lexer": "ipython3",
   "version": "3.12.3"
  }
 },
 "nbformat": 4,
 "nbformat_minor": 2
}
