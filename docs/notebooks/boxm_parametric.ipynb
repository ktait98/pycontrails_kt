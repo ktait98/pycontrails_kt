{
 "cells": [
  {
   "cell_type": "code",
   "execution_count": null,
   "metadata": {},
   "outputs": [],
   "source": [
    "import numpy as np\n",
    "import pandas as pd\n",
    "import matplotlib.pyplot as plt\n",
    "import xarray as xr\n",
    "import dask.array as da\n",
    "import pyproj\n",
    "import sys\n",
    "\n",
    "pd.set_option(\"display.max_rows\", 200)\n",
    "import pdb\n",
    "\n",
    "from pycontrails import Flight, Fleet, MetDataset\n",
    "from pycontrails.core import models\n",
    "from pycontrails.datalib.ecmwf import ERA5\n",
    "from pycontrails.physics import geo, thermo, units, constants\n",
    "\n",
    "# from pycontrails.models.ps_model import PSFlight\n",
    "# from pycontrails.models.emissions import Emissions\n",
    "from pycontrails.ext.flight_gen import FlightGen\n",
    "from pycontrails.models.boxmodel.boxm import Boxm\n",
    "\n",
    "# from pycontrails.models.dry_advection import DryAdvection\n",
    "from pycontrails.core.met_var import (\n",
    "    AirTemperature,\n",
    "    RelativeHumidity,\n",
    "    SpecificHumidity,\n",
    "    EastwardWind,\n",
    "    NorthwardWind,\n",
    "    VerticalVelocity,\n",
    ")"
   ]
  },
  {
   "cell_type": "code",
   "execution_count": null,
   "metadata": {},
   "outputs": [],
   "source": [
    "# meteorological parameters\n",
    "met_params = {\n",
    "    \"air_temperature\": 235.0,  # K\n",
    "    \"specific_humidity\": 0.003,  # 1\n",
    "    \"relative_humidity\": 0.5,  # 1\n",
    "    \"eastward_wind\": 0.0,  # m/s\n",
    "    \"northward_wind\": 0.0,  # m/s\n",
    "    \"lagrangian_tendency_of_air_pressure\": 0.0,  # m/s\n",
    "}"
   ]
  },
  {
   "cell_type": "code",
   "execution_count": null,
   "metadata": {},
   "outputs": [],
   "source": [
    "# flight trajectory parameters\n",
    "fl_params = {\n",
    "    \"t0_fl\": pd.to_datetime(\"2022-01-20 14:00:00\"),  # flight start time\n",
    "    \"rt_fl\": pd.Timedelta(minutes=30),  # flight run time\n",
    "    \"ts_fl\": pd.Timedelta(minutes=2),  # flight time step\n",
    "    \"ac_type\": \"A320\",  # aircraft type\n",
    "    \"fl0_speed\": 100.0,  # m/s\n",
    "    \"fl0_heading\": 45.0,  # deg\n",
    "    \"fl0_coords0\": (47.5, -32.5, 12500),  # lat, lon, alt [deg, deg, m]\n",
    "    \"sep_dist\": (5000, 2000, 0),  # dx, dy, dz [m]\n",
    "    \"n_ac\": 5,  # number of aircraft\n",
    "}"
   ]
  },
  {
   "cell_type": "code",
   "execution_count": null,
   "metadata": {},
   "outputs": [],
   "source": [
    "# plume dispersion parameters\n",
    "plume_params = {\n",
    "    \"dt_integration\": pd.Timedelta(minutes=5),  # integration time step\n",
    "    \"max_age\": pd.Timedelta(hours=2),  # maximum age of the plume\n",
    "    \"depth\": 50.0,  # initial plume depth, [m]\n",
    "    \"width\": 50.0,  # initial plume width, [m]\n",
    "    \"shear\": 0.005,  # wind shear [1/s]\n",
    "}"
   ]
  },
  {
   "cell_type": "code",
   "execution_count": null,
   "metadata": {},
   "outputs": [],
   "source": [
    "# chemistry sim parameters\n",
    "chem_params = {\n",
    "    \"t0_chem\": pd.to_datetime(\"2022-01-20 12:00:00\"),  # chemistry start time\n",
    "    \"rt_chem\": pd.Timedelta(days=30),  # chemistry runtime\n",
    "    \"ts_chem\": pd.Timedelta(seconds=20),  # chemistry time step\n",
    "    \"lat_bounds\": (47.0, 48.0),  # lat bounds [deg]\n",
    "    \"lon_bounds\": (-33.0, -32.0),  # lon bounds [deg]\n",
    "    \"alt_bounds\": (12000, 13000),  # alt bounds [m]\n",
    "    \"hres_chem\": 0.5,  # horizontal resolution [deg]\n",
    "    \"vres_chem\": 500,  # vertical resolution [m]\n",
    "}"
   ]
  },
  {
   "cell_type": "code",
   "execution_count": null,
   "metadata": {},
   "outputs": [],
   "source": [
    "lats = np.arange(\n",
    "    chem_params[\"lat_bounds\"][0], chem_params[\"lat_bounds\"][1] + chem_params[\"hres_chem\"], chem_params[\"hres_chem\"]\n",
    ")\n",
    "\n",
    "lons = np.arange(\n",
    "    chem_params[\"lon_bounds\"][0], chem_params[\"lon_bounds\"][1] + chem_params[\"hres_chem\"], chem_params[\"hres_chem\"]\n",
    ")\n",
    "\n",
    "alts = np.arange(\n",
    "    chem_params[\"alt_bounds\"][0], chem_params[\"alt_bounds\"][1] + chem_params[\"vres_chem\"], chem_params[\"vres_chem\"]\n",
    ")\n",
    "\n",
    "times = pd.date_range(\n",
    "    start=chem_params[\"t0_chem\"],\n",
    "    end=chem_params[\"t0_chem\"] + chem_params[\"rt_chem\"],\n",
    "    freq=chem_params[\"ts_chem\"],\n",
    ")"
   ]
  },
  {
   "cell_type": "code",
   "execution_count": null,
   "metadata": {},
   "outputs": [],
   "source": [
    "# generate artifical met dataset (boxm currently only supports zero-wind scenarios)\n",
    "data_vars = {\n",
    "    param: (\n",
    "        [\"longitude\", \"latitude\", \"level\", \"time\"],\n",
    "        da.full(\n",
    "            (len(lons), len(lats), len(alts), len(times)),\n",
    "            value,\n",
    "            chunks=(len(lons), len(lats), len(alts), 100),\n",
    "        ),\n",
    "    )\n",
    "    for param, value in met_params.items()\n",
    "}\n",
    "\n",
    "met = xr.Dataset(\n",
    "    data_vars,\n",
    "    coords={\"longitude\": lons, \"latitude\": lats, \"level\": units.m_to_pl(alts), \"time\": times},\n",
    ")\n",
    "\n",
    "met = MetDataset(met)\n",
    "\n",
    "met"
   ]
  },
  {
   "cell_type": "code",
   "execution_count": null,
   "metadata": {},
   "outputs": [],
   "source": [
    "# instantiate FlightGen object\n",
    "fl_gen = FlightGen(met, fl_params, plume_params, chem_params)"
   ]
  },
  {
   "cell_type": "code",
   "execution_count": null,
   "metadata": {},
   "outputs": [],
   "source": [
    "fl = fl_gen.traj_gen()\n",
    "\n",
    "fl"
   ]
  },
  {
   "cell_type": "code",
   "execution_count": null,
   "metadata": {},
   "outputs": [],
   "source": [
    "# estimate fuel burn and emissions using ps_model and emissions model\n",
    "fl = fl_gen.calc_fb_emissions()"
   ]
  },
  {
   "cell_type": "code",
   "execution_count": null,
   "metadata": {},
   "outputs": [],
   "source": [
    "# visualise the fleet\n",
    "ax = plt.axes()\n",
    "ax.set_xlim([lons[0], lons[-1]])\n",
    "ax.set_ylim([lats[0], lats[-1]])\n",
    "for i in fl:\n",
    "    i.plot(ax=ax)"
   ]
  },
  {
   "cell_type": "code",
   "execution_count": null,
   "metadata": {},
   "outputs": [],
   "source": [
    "# simulate plume dispersion/advection using dry advection model\n",
    "fl_df, pl_df = fl_gen.sim_plumes()\n",
    "\n",
    "pd.set_option(\"display.max_rows\", 500)\n",
    "pd.set_option(\"display.max_columns\", 30)\n",
    "\n",
    "fl_df"
   ]
  },
  {
   "cell_type": "code",
   "execution_count": null,
   "metadata": {},
   "outputs": [],
   "source": [
    "# fl_gen.anim_fl(fl_df, pl_df)"
   ]
  },
  {
   "cell_type": "code",
   "execution_count": null,
   "metadata": {},
   "outputs": [],
   "source": [
    "# convert plume dataframe to EMI geospatial xarray dataset\n",
    "emi = fl_gen.plume_to_grid(lats, lons, alts, times)"
   ]
  },
  {
   "cell_type": "code",
   "execution_count": null,
   "metadata": {},
   "outputs": [],
   "source": [
    "# init boxm simulation and generate chemistry dataset\n",
    "boxm = Boxm(met=met, params=chem_params)"
   ]
  },
  {
   "cell_type": "code",
   "execution_count": null,
   "metadata": {},
   "outputs": [],
   "source": [
    "# run boxm simulation\n",
    "chem = boxm.eval(emi)"
   ]
  },
  {
   "cell_type": "code",
   "execution_count": null,
   "metadata": {},
   "outputs": [],
   "source": [
    "# plt.figure(figsize=(10, 6))  # Optional: Adjust figure size\n",
    "\n",
    "# print(boxm.boxm_ds[\"sza\"].sel(cell=0).values[500])\n",
    "# print(boxm.boxm_ds[\"ZEN_orig\"].values[500])\n",
    "\n",
    "# boxm.boxm_ds[\"sza\"].sel(cell=0).plot()\n",
    "# boxm.boxm_ds[\"ZEN_orig\"].plot()\n",
    "# plt.legend()\n",
    "# plt.show()"
   ]
  },
  {
   "cell_type": "code",
   "execution_count": null,
   "metadata": {},
   "outputs": [],
   "source": [
    "plt.figure(figsize=(10, 6))  # Optional: Adjust figure size\n",
    "\n",
    "#boxm.boxm_ds[\"Y\"].sel(species=\"NO\", cell=13).plot()\n",
    "# boxm.boxm_ds[\"Y_orig\"].sel(species=\"O3\").plot()\n",
    "# plt.legend()\n",
    "# plt.show()\n",
    "\n",
    "boxm.boxm_ds[\"species\"].values\n"
   ]
  },
  {
   "cell_type": "code",
   "execution_count": null,
   "metadata": {},
   "outputs": [],
   "source": [
    "# fig, axs = plt.subplots(3, 3, sharex=True, figsize=(15, 12), constrained_layout=True)\n",
    "# fig.suptitle('Box model validation - North Atlantic Airspace')\n",
    "\n",
    "# axs[0, 0].plot(boxm.boxm_ds[\"Y\"].sel(species=\"NO\", cell=13).values, 'r.-', lw=0.2)\n",
    "# axs[0, 0].plot(boxm.boxm_ds[\"Y_orig\"].sel(species=\"NO\").values, 'b.-', lw=0.2)\n",
    "# axs[0, 0].set(title='NO', xlabel='time [s]', ylabel='concentration [ppb]')\n",
    "\n",
    "# axs[0, 1].plot(boxm.boxm_ds[\"Y\"].sel(species=\"NO2\", cell=13).values, 'r.-', lw=0.2)\n",
    "# axs[0, 1].plot(boxm.boxm_ds[\"Y_orig\"].sel(species=\"NO2\").values, 'b.-', lw=0.2)\n",
    "# axs[0, 1].set(title='NO2', xlabel='time [s]', ylabel='concentration [ppb]')\n",
    "\n",
    "# axs[0, 2].plot(boxm.boxm_ds[\"Y\"].sel(species=\"OH\", cell=13).values, 'r.-', lw=0.2)\n",
    "# axs[0, 2].plot(boxm.boxm_ds[\"Y_orig\"].sel(species=\"OH\").values, 'b.-', lw=0.2)\n",
    "# axs[0, 2].set(title='OH', xlabel='time [s]', ylabel='concentration [ppb]')\n",
    "\n",
    "# axs[1, 0].plot(boxm.boxm_ds[\"Y\"].sel(species=\"HO2\", cell=13).values, 'r.-', lw=0.2)\n",
    "# axs[1, 0].plot(boxm.boxm_ds[\"Y_orig\"].sel(species=\"HO2\").values, 'b.-', lw=0.2)\n",
    "# axs[1, 0].set(title='HO2', xlabel='time [s]', ylabel='concentration [ppb]')\n",
    "\n",
    "# axs[1, 1].plot(boxm.boxm_ds[\"Y\"].sel(species=\"O3\", cell=13).values, 'r.-', lw=0.2)\n",
    "# axs[1, 1].plot(boxm.boxm_ds[\"Y_orig\"].sel(species=\"O3\").values, 'b.-', lw=0.2)\n",
    "# axs[1, 1].set(title='O3', xlabel='time [s]', ylabel='concentration [ppb]')\n",
    "\n",
    "# axs[1, 2].plot(boxm.boxm_ds[\"Y\"].sel(species=\"CO\", cell=13).values, 'r.-', lw=0.2)\n",
    "# axs[1, 2].plot(boxm.boxm_ds[\"Y_orig\"].sel(species=\"CO\").values, 'b.-', lw=0.2)\n",
    "# axs[1, 2].set(title='CO', xlabel='time [s]', ylabel='concentration [ppb]')\n",
    "\n",
    "# axs[2, 0].plot(boxm.boxm_ds[\"Y\"].sel(species=\"CH4\", cell=13).values, 'r.-', lw=0.2)\n",
    "# axs[2, 0].plot(boxm.boxm_ds[\"Y_orig\"].sel(species=\"CH4\").values, 'b.-', lw=0.2)\n",
    "# axs[2, 0].set(title='CH4', xlabel='time [s]', ylabel='concentration [ppb]')\n",
    "\n",
    "# axs[2, 1].plot(boxm.boxm_ds[\"Y\"].sel(species=\"HCHO\", cell=13).values, 'r.-', lw=0.2)\n",
    "# axs[2, 1].plot(boxm.boxm_ds[\"Y_orig\"].sel(species=\"HCHO\").values, 'b.-', lw=0.2)\n",
    "# axs[2, 1].set(title='HCHO', xlabel='time [s]', ylabel='concentration [ppb]')\n",
    "\n",
    "# axs[2, 2].plot(boxm.boxm_ds[\"Y\"].sel(species=\"HONO\", cell=13).values, 'r.-', lw=0.2)\n",
    "# axs[2, 2].plot(boxm.boxm_ds[\"Y_orig\"].sel(species=\"HONO\").values, 'b.-', lw=0.2)\n",
    "# axs[2, 2].set(title='HONO', xlabel='time [s]', ylabel='concentration [ppb]')\n",
    "\n",
    "# plt.savefig('/home/ktait98/pycontrails_kt/pycontrails/models/files/validation/NA_Airspace.png', dpi=1000)"
   ]
  },
  {
   "cell_type": "code",
   "execution_count": null,
   "metadata": {},
   "outputs": [],
   "source": [
    "r_squared = np.zeros(len(boxm.boxm_ds[\"species\"].values))\n",
    "\n",
    "for s, species in enumerate(boxm.boxm_ds[\"species\"].values):\n",
    "    ds_hourly = boxm.boxm_ds[\"Y\"].sel(species=species, cell=13).resample(time=\"1h\").mean()\n",
    "    ds_hourly_orig = boxm.boxm_ds[\"Y_orig\"].sel(species=species).resample(time=\"1h\").mean()\n",
    "    correlation_coefficient = (np.sum((ds_hourly - ds_hourly.mean()) * (ds_hourly_orig - ds_hourly_orig.mean()))) / \\\n",
    "                          np.sqrt(np.sum((ds_hourly - ds_hourly.mean()) ** 2) * np.sum((ds_hourly_orig - ds_hourly_orig.mean()) ** 2))\n",
    "    r_squared_s = correlation_coefficient ** 2\n",
    "\n",
    "    r_squared[s] = r_squared_s\n",
    "    print(f\"R^2 for {species} is {r_squared_s}\")\n",
    "\n",
    "# Convert the r_squared array to a pandas DataFrame\n",
    "r_squared_df = pd.DataFrame(r_squared, columns=[\"r_squared\"])\n",
    "\n",
    "# send to csv\n",
    "r_squared_df.to_csv(f\"/home/ktait98/pycontrails_kt/pycontrails/models/files/validation/r_squared_NA_Airspace.csv\")\n",
    "\n",
    "\n",
    "# rmse = np.sqrt(((ds_hourly - ds_hourly_orig) ** 2).mean())\n",
    "# nmrse = rmse / ds_hourly_orig.mean()\n",
    "\n",
    "# nmrse\n"
   ]
  },
  {
   "cell_type": "code",
   "execution_count": null,
   "metadata": {},
   "outputs": [],
   "source": [
    "correlation_coefficient = (np.sum((ds_hourly - ds_hourly.mean()) * (ds_hourly_orig - ds_hourly_orig.mean()))) / \\\n",
    "                          np.sqrt(np.sum((ds_hourly - ds_hourly.mean()) ** 2) * np.sum((ds_hourly_orig - ds_hourly_orig.mean()) ** 2))\n",
    "r_squared = correlation_coefficient ** 2\n",
    "\n",
    "r_squared"
   ]
  },
  {
   "cell_type": "code",
   "execution_count": null,
   "metadata": {},
   "outputs": [],
   "source": [
    "boxm.boxm_ds[\"Y\"].sel(species=\"NO3\").isel(time=1000).plot()"
   ]
  },
  {
   "cell_type": "code",
   "execution_count": null,
   "metadata": {},
   "outputs": [],
   "source": [
    "#boxm.anim_chem(\"Y_perc_diff\", \"O3\", 410.6)"
   ]
  },
  {
   "cell_type": "code",
   "execution_count": null,
   "metadata": {},
   "outputs": [],
   "source": [
    "boxm.params"
   ]
  },
  {
   "cell_type": "code",
   "execution_count": null,
   "metadata": {},
   "outputs": [],
   "source": []
  }
 ],
 "metadata": {
  "kernelspec": {
   "display_name": "contrails",
   "language": "python",
   "name": "python3"
  },
  "language_info": {
   "codemirror_mode": {
    "name": "ipython",
    "version": 3
   },
   "file_extension": ".py",
   "mimetype": "text/x-python",
   "name": "python",
   "nbconvert_exporter": "python",
   "pygments_lexer": "ipython3",
   "version": "3.12.3"
  }
 },
 "nbformat": 4,
 "nbformat_minor": 2
}
