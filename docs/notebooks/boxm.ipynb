{
 "cells": [
  {
   "cell_type": "code",
   "execution_count": 1,
   "metadata": {},
   "outputs": [],
   "source": [
    "import numpy as np\n",
    "import pandas as pd\n",
    "import matplotlib.pyplot as plt\n",
    "import xarray as xr\n",
    "import dask.array as da\n",
    "import pyproj\n",
    "import sys\n",
    "from joblib import Parallel, delayed\n",
    "from tqdm import tqdm\n",
    "\n",
    "pd.set_option(\"display.max_rows\", 200)\n",
    "import pdb\n",
    "\n",
    "from pycontrails import Flight, Fleet, MetDataset\n",
    "from pycontrails.core import models\n",
    "from pycontrails.datalib.ecmwf import ERA5\n",
    "from pycontrails.physics import geo, thermo, units, constants\n",
    "\n",
    "# from pycontrails.models.ps_model import PSFlight\n",
    "# from pycontrails.models.emissions import Emissions\n",
    "from pycontrails.ext.flight_gen import FlightGen\n",
    "from pycontrails.models.boxmodel.boxm_ac import Boxm\n",
    "import pycontrails.models.boxmodel.boxm_script as boxm_script\n",
    "\n",
    "# from pycontrails.models.dry_advection import DryAdvection\n",
    "from pycontrails.core.met_var import (\n",
    "    AirTemperature,\n",
    "    RelativeHumidity,\n",
    "    SpecificHumidity,\n",
    "    EastwardWind,\n",
    "    NorthwardWind,\n",
    "    VerticalVelocity,\n",
    ")"
   ]
  },
  {
   "cell_type": "code",
   "execution_count": 2,
   "metadata": {},
   "outputs": [],
   "source": [
    "# meteorological parameters\n",
    "met_params = {\n",
    "    \"air_temperature\": 235.0,  # K\n",
    "    \"specific_humidity\": 0.003,  # 1\n",
    "    \"relative_humidity\": 0.5,  # 1\n",
    "    \"eastward_wind\": 0.0,  # m/s\n",
    "    \"northward_wind\": 0.0,  # m/s\n",
    "    \"lagrangian_tendency_of_air_pressure\": 0.0,  # m/s\n",
    "}"
   ]
  },
  {
   "cell_type": "code",
   "execution_count": 3,
   "metadata": {},
   "outputs": [],
   "source": [
    "# flight trajectory parameters\n",
    "fl_params = {\n",
    "    \"t0_fl\": pd.to_datetime(\"2022-01-20 13:00:00\"),  # flight start time\n",
    "    \"rt_fl\": pd.Timedelta(minutes=60),  # flight run time\n",
    "    \"ts_fl\": pd.Timedelta(minutes=2),  # flight time step\n",
    "    \"ac_type\": \"A320\",  # aircraft type\n",
    "    \"fl0_speed\": 100.0,  # m/s\n",
    "    \"fl0_heading\": 0.0,  # deg\n",
    "    \"fl0_coords0\": (0.1, 0.125, 12500),  # lat, lon, alt [deg, deg, m]\n",
    "    \"sep_dist\": (5000, 2000, 0),  # dx, dy, dz [m]\n",
    "    \"n_ac\": 1,  # number of aircraft\n",
    "}"
   ]
  },
  {
   "cell_type": "code",
   "execution_count": 4,
   "metadata": {},
   "outputs": [],
   "source": [
    " # plume dispersion parameters\n",
    "plume_params = {\n",
    "    \"dt_integration\": pd.Timedelta(minutes=2),  # integration time step\n",
    "    \"max_age\": pd.Timedelta(hours=2),  # maximum age of the plume\n",
    "    \"depth\": 50.0,  # initial plume depth, [m]\n",
    "    \"width\": 50.0,  # initial plume width, [m]\n",
    "    \"shear\": 0.01,  # wind shear [1/s]\n",
    "}"
   ]
  },
  {
   "cell_type": "code",
   "execution_count": 5,
   "metadata": {},
   "outputs": [],
   "source": [
    "# chemistry sim parameters\n",
    "chem_params = {\n",
    "    \"t0_chem\": pd.to_datetime(\"2022-01-20 12:00:00\"),  # chemistry start time\n",
    "    \"rt_chem\": pd.Timedelta(hours=3),  # chemistry runtime\n",
    "    \"ts_chem\": pd.Timedelta(seconds=20),  # chemistry time step\n",
    "    \"lat_bounds\": (0.0, 1.0),  # lat bounds [deg]\n",
    "    \"lon_bounds\": (0.0, 1.0),  # lon bounds [deg]\n",
    "    \"alt_bounds\": (12000, 13000),  # alt bounds [m]\n",
    "    \"hres_pl\": 0.01,  # horizontal resolution of the plume, [deg]\n",
    "    \"hres_chem\": 0.01,  # horizontal resolution [deg]\n",
    "    \"vres_chem\": 500,  # vertical resolution [m]\n",
    "}"
   ]
  },
  {
   "cell_type": "code",
   "execution_count": 6,
   "metadata": {},
   "outputs": [],
   "source": [
    "lats_pl = np.arange(\n",
    "    chem_params[\"lat_bounds\"][0], chem_params[\"lat_bounds\"][1] + chem_params[\"hres_pl\"], chem_params[\"hres_pl\"]\n",
    ")\n",
    "\n",
    "lons_pl = np.arange(\n",
    "    chem_params[\"lon_bounds\"][0], chem_params[\"lon_bounds\"][1] + chem_params[\"hres_pl\"], chem_params[\"hres_pl\"]\n",
    ")"
   ]
  },
  {
   "cell_type": "code",
   "execution_count": null,
   "metadata": {},
   "outputs": [],
   "source": [
    "lats = np.arange(\n",
    "    chem_params[\"lat_bounds\"][0], chem_params[\"lat_bounds\"][1] + chem_params[\"hres_chem\"], chem_params[\"hres_chem\"]\n",
    ")\n",
    "\n",
    "lons = np.arange(\n",
    "    chem_params[\"lon_bounds\"][0], chem_params[\"lon_bounds\"][1] + chem_params[\"hres_chem\"], chem_params[\"hres_chem\"]\n",
    ")\n",
    "\n",
    "alts = np.arange(\n",
    "    chem_params[\"alt_bounds\"][0], chem_params[\"alt_bounds\"][1] + chem_params[\"vres_chem\"], chem_params[\"vres_chem\"]\n",
    ")\n",
    "\n",
    "times = pd.date_range(\n",
    "    start=chem_params[\"t0_chem\"],\n",
    "    end=chem_params[\"t0_chem\"] + chem_params[\"rt_chem\"],\n",
    "    freq=chem_params[\"ts_chem\"],\n",
    ")"
   ]
  },
  {
   "cell_type": "code",
   "execution_count": null,
   "metadata": {},
   "outputs": [],
   "source": [
    "fl_df, pl_df, boxm = boxm_script.boxm_run(lons, lons_pl, lats, lats_pl, alts, times, fl_params, plume_params, chem_params, met_params)"
   ]
  },
  {
   "cell_type": "code",
   "execution_count": null,
   "metadata": {},
   "outputs": [],
   "source": [
    "# ts = 6\n",
    "\n",
    "# fl_df.loc[fl_df[\"time\"] == fl_df[\"time\"][ts]]\n",
    "# pl_df.loc[pl_df[\"time\"] == fl_df[\"time\"][ts]]\n",
    "\n",
    "#pl_df\n",
    "\n",
    "boxm.boxm_ds_unstacked.emi.sel(emi_species=\"NO\", time=fl_df.time[2]).sel(level=178.6, method=\"nearest\")"
   ]
  },
  {
   "cell_type": "code",
   "execution_count": null,
   "metadata": {},
   "outputs": [],
   "source": [
    "fig1, ax1 = plt.subplots()\n",
    "ax1.set_xticks(np.arange(chem_params[\"lon_bounds\"][0], chem_params[\"lon_bounds\"][1], 0.05))\n",
    "ax1.set_yticks(np.arange(chem_params[\"lat_bounds\"][0], chem_params[\"lat_bounds\"][1], 0.05))\n",
    "\n",
    "\n",
    "ts = 6\n",
    "\n",
    "# Plot the heatmap\n",
    "heatmap_data = boxm.boxm_ds_unstacked.emi.sel(emi_species=\"NO\", time=fl_df.time[ts]).sel(level=178.6, method=\"nearest\").transpose(\"latitude\", \"longitude\")\n",
    "heatmap_data.plot(ax=ax1, cmap='summer')  # You can choose a colormap of your preference\n",
    "\n",
    "\n",
    "scat_fl = ax1.scatter(fl_df[\"longitude\"].loc[fl_df[\"time\"] == fl_df[\"time\"][ts]],\n",
    "                      fl_df[\"latitude\"].loc[fl_df[\"time\"] == fl_df[\"time\"][ts]], \n",
    "                      s=5, c=\"red\", label=\"Flight path\")\n",
    "\n",
    "scat_pl = ax1.scatter(pl_df[\"longitude\"].loc[pl_df[\"time\"] == fl_df[\"time\"][ts]],\n",
    "                      pl_df[\"latitude\"].loc[pl_df[\"time\"] == fl_df[\"time\"][ts]],\n",
    "                      s=10E-2 * pl_df[\"width\"].loc[pl_df[\"time\"] == fl_df[\"time\"][ts]], c=\"blue\", label=\"Plume evolution\")\n",
    "\n",
    "ax1.legend(loc=\"upper left\")\n",
    "ax1.set_xlim([chem_params[\"lon_bounds\"][0], chem_params[\"lon_bounds\"][1]])\n",
    "ax1.set_ylim([chem_params[\"lat_bounds\"][0], chem_params[\"lat_bounds\"][1]])\n",
    "#plt.grid()\n",
    "plt.show()"
   ]
  },
  {
   "cell_type": "code",
   "execution_count": null,
   "metadata": {},
   "outputs": [],
   "source": [
    "boxm.boxm_ds_unstacked.emi.sel(emi_species=\"NO\", time=fl_df.time[2]).sel(level=178.6, method=\"nearest\").transpose(\"latitude\", \"longitude\").plot()"
   ]
  },
  {
   "cell_type": "code",
   "execution_count": null,
   "metadata": {},
   "outputs": [],
   "source": [
    "boxm.mc_test(fl_df)"
   ]
  },
  {
   "cell_type": "code",
   "execution_count": 13,
   "metadata": {},
   "outputs": [],
   "source": [
    "# # Select the DataArray for the specified emi_species\n",
    "# grid_mass = boxm.boxm_ds_unstacked.emi.sel(emi_species=\"NO\", time=\"2022-01-20T13:030:00.000000000\").sel(level=178.6, method=\"nearest\") #.transpose(\"latitude\", \"longitude\").plot()\n",
    "\n",
    "# grid_mass_over_zero = grid_mass.where(grid_mass > 0, drop=True)\n",
    "# grid_mass_over_zero\n",
    "\n"
   ]
  },
  {
   "cell_type": "code",
   "execution_count": 14,
   "metadata": {},
   "outputs": [],
   "source": [
    "# plt.figure(figsize=(10, 6))  # Optional: Adjust figure size\n",
    "\n",
    "# boxm.boxm_ds[\"M\"].sel(cell=14).plot()\n",
    "# #boxm.boxm_ds[\"Y_orig\"].sel(species=\"NO\").plot()\n",
    "# plt.legend()\n",
    "# plt.show()\n",
    "#fl_gen.anim_fl(fl_df, pl_df)"
   ]
  },
  {
   "cell_type": "code",
   "execution_count": 15,
   "metadata": {},
   "outputs": [],
   "source": [
    "# boxm.anim_chem(\"emi\", \"NO\", 178.6)"
   ]
  }
 ],
 "metadata": {
  "kernelspec": {
   "display_name": "contrails",
   "language": "python",
   "name": "python3"
  },
  "language_info": {
   "codemirror_mode": {
    "name": "ipython",
    "version": 3
   },
   "file_extension": ".py",
   "mimetype": "text/x-python",
   "name": "python",
   "nbconvert_exporter": "python",
   "pygments_lexer": "ipython3",
   "version": "3.12.4"
  }
 },
 "nbformat": 4,
 "nbformat_minor": 2
}
