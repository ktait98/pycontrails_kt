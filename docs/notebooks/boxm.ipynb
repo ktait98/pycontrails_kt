{
 "cells": [
  {
   "cell_type": "code",
   "execution_count": 10,
   "metadata": {},
   "outputs": [],
   "source": [
    "import numpy as np\n",
    "import pandas as pd\n",
    "import matplotlib.pyplot as plt\n",
    "import xarray as xr\n",
    "\n",
    "from pycontrails import Flight, MetDataset\n",
    "from pycontrails.datalib.ecmwf import ERA5\n",
    "from pycontrails.core.met_var import (\n",
    "    AirTemperature,\n",
    "    RelativeHumidity,\n",
    "    SpecificHumidity,\n",
    "    EastwardWind,\n",
    "    NorthwardWind,\n",
    "    VerticalVelocity,\n",
    ")"
   ]
  },
  {
   "cell_type": "code",
   "execution_count": 11,
   "metadata": {},
   "outputs": [],
   "source": [
    "# meteorological parameters\n",
    "met_params = {\n",
    "    \"air_temperature\": 240.0,  # K\n",
    "    \"specific_humidity\": 0.001,  # 1\n",
    "    \"relative_humidity\": 0.5,  # 1\n",
    "    \"eastward_wind\": 0.0,  # m/s\n",
    "    \"northward_wind\": 0.0,  # m/s\n",
    "    \"wind_shear\": 0.005,  # 1/s\n",
    "    \"vertical_velocity\": 0.0,  # m/s\n",
    "}"
   ]
  },
  {
   "cell_type": "code",
   "execution_count": 12,
   "metadata": {},
   "outputs": [],
   "source": [
    "# flight trajectory parameters\n",
    "fl_params = {\n",
    "    \"t0_fl\": \"2022-03-02 21:00:00\",  # flight start time\n",
    "    \"ts_fl\": pd.Timedelta(minutes=1),  # flight time step\n",
    "    \"ac_type\": \"A320\",  # aircraft type\n",
    "    \"ac0_speed\": 100.0,  # m/s\n",
    "    \"ac_heading\": 45.0,  # deg\n",
    "    \"ac0_coords\": (-0.8, -0.8, 11500),  # lat, lon, alt [deg, deg, m]\n",
    "    \"sep_dist\": (5000, 2000, 0),  # dx, dy, dz [m]\n",
    "    \"n_ac\": 5,  # number of aircraft\n",
    "}"
   ]
  },
  {
   "cell_type": "code",
   "execution_count": 13,
   "metadata": {},
   "outputs": [],
   "source": [
    "# plume dispersion parameters\n",
    "plume_params = {\"dt_integration\": pd.Timedelta(minutes=5), \"max_age\": pd.Timedelta(hours=3)}"
   ]
  },
  {
   "cell_type": "code",
   "execution_count": 14,
   "metadata": {},
   "outputs": [],
   "source": [
    "# chemistry sim parameters\n",
    "chem_params = {\n",
    "    \"t0_chem\": \"2022-03-01 21:00:00\",  # chemistry start time\n",
    "    \"rt_chem\": pd.Timedelta(days=5),  # chemistry runtime\n",
    "    \"ts_chem\": pd.Timedelta(minutes=1),  # chemistry time step\n",
    "    \"lat_bounds\": (-1.0, 1.0),  # lat bounds [deg]\n",
    "    \"lon_bounds\": (-1.0, 1.0),  # lon bounds [deg]\n",
    "    \"alt_bounds\": (14500, 15000),  # alt bounds [m]\n",
    "    \"hres_chem\": 1.0,  # horizontal resolution [deg]\n",
    "    \"vres_chem\": 500,  # vertical resolution [m]\n",
    "}"
   ]
  },
  {
   "cell_type": "code",
   "execution_count": 15,
   "metadata": {},
   "outputs": [],
   "source": [
    "# generate artifical met dataset (boxm currently only supports zero-wind scenarios)\n",
    "met = xr.Dataset()"
   ]
  },
  {
   "cell_type": "code",
   "execution_count": 16,
   "metadata": {},
   "outputs": [],
   "source": [
    "# generate flight trajectories, estimate fuel burn and emissions"
   ]
  },
  {
   "cell_type": "code",
   "execution_count": 17,
   "metadata": {},
   "outputs": [],
   "source": [
    "# simulate plume dispersion and generate plume dataset"
   ]
  },
  {
   "cell_type": "code",
   "execution_count": 18,
   "metadata": {},
   "outputs": [],
   "source": [
    "# run boxm simulation and generate chemistry dataset\n",
    "# chem = Boxm()"
   ]
  }
 ],
 "metadata": {
  "kernelspec": {
   "display_name": "contrails",
   "language": "python",
   "name": "python3"
  },
  "language_info": {
   "codemirror_mode": {
    "name": "ipython",
    "version": 3
   },
   "file_extension": ".py",
   "mimetype": "text/x-python",
   "name": "python",
   "nbconvert_exporter": "python",
   "pygments_lexer": "ipython3"
  }
 },
 "nbformat": 4,
 "nbformat_minor": 2
}
