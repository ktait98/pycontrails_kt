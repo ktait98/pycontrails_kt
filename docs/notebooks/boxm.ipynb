{
 "cells": [
  {
   "cell_type": "code",
   "execution_count": 1,
   "metadata": {},
   "outputs": [],
   "source": [
    "import numpy as np\n",
    "import pandas as pd\n",
    "import matplotlib.pyplot as plt\n",
    "import xarray as xr\n",
    "import dask.array as da\n",
    "import pyproj\n",
    "\n",
    "pd.set_option(\"display.max_rows\", 200)\n",
    "import pdb\n",
    "\n",
    "from pycontrails import Flight, Fleet, MetDataset\n",
    "from pycontrails.core import models\n",
    "from pycontrails.datalib.ecmwf import ERA5\n",
    "from pycontrails.physics import geo, thermo, units, constants\n",
    "\n",
    "# from pycontrails.models.ps_model import PSFlight\n",
    "# from pycontrails.models.emissions import Emissions\n",
    "from pycontrails.ext.flight_gen import FlightGen\n",
    "from pycontrails.models.boxmodel.boxm import Boxm\n",
    "\n",
    "# from pycontrails.models.dry_advection import DryAdvection\n",
    "from pycontrails.core.met_var import (\n",
    "    AirTemperature,\n",
    "    RelativeHumidity,\n",
    "    SpecificHumidity,\n",
    "    EastwardWind,\n",
    "    NorthwardWind,\n",
    "    VerticalVelocity,\n",
    ")"
   ]
  },
  {
   "cell_type": "code",
   "execution_count": 2,
   "metadata": {},
   "outputs": [],
   "source": [
    "# meteorological parameters\n",
    "met_params = {\n",
    "    \"air_temperature\": 240.0,  # K\n",
    "    \"specific_humidity\": 0.001,  # 1\n",
    "    \"relative_humidity\": 0.5,  # 1\n",
    "    \"eastward_wind\": 0.0,  # m/s\n",
    "    \"northward_wind\": 0.0,  # m/s\n",
    "    \"lagrangian_tendency_of_air_pressure\": 0.0,  # m/s\n",
    "}"
   ]
  },
  {
   "cell_type": "code",
   "execution_count": 3,
   "metadata": {},
   "outputs": [],
   "source": [
    "# flight trajectory parameters\n",
    "fl_params = {\n",
    "    \"t0_fl\": pd.to_datetime(\"2022-03-02 14:00:00\"),  # flight start time\n",
    "    \"rt_fl\": pd.Timedelta(minutes=30),  # flight run time\n",
    "    \"ts_fl\": pd.Timedelta(minutes=2),  # flight time step\n",
    "    \"ac_type\": \"A320\",  # aircraft type\n",
    "    \"fl0_speed\": 100.0,  # m/s\n",
    "    \"fl0_heading\": 45.0,  # deg\n",
    "    \"fl0_coords0\": (-0.8, -0.8, 11500),  # lat, lon, alt [deg, deg, m]\n",
    "    \"sep_dist\": (5000, 2000, 0),  # dx, dy, dz [m]\n",
    "    \"n_ac\": 1,  # number of aircraft\n",
    "}"
   ]
  },
  {
   "cell_type": "code",
   "execution_count": 4,
   "metadata": {},
   "outputs": [],
   "source": [
    "# plume dispersion parameters\n",
    "plume_params = {\n",
    "    \"dt_integration\": pd.Timedelta(minutes=5),  # integration time step\n",
    "    \"max_age\": pd.Timedelta(hours=2),  # maximum age of the plume\n",
    "    \"depth\": 50.0,  # initial plume depth, [m]\n",
    "    \"width\": 50.0,  # initial plume width, [m]\n",
    "    \"shear\": 0.005,  # wind shear [1/s]\n",
    "}"
   ]
  },
  {
   "cell_type": "code",
   "execution_count": 5,
   "metadata": {},
   "outputs": [],
   "source": [
    "# chemistry sim parameters\n",
    "chem_params = {\n",
    "    \"t0_chem\": pd.to_datetime(\"2022-03-01 21:00:00\"),  # chemistry start time\n",
    "    \"rt_chem\": pd.Timedelta(days=1),  # chemistry runtime\n",
    "    \"ts_chem\": pd.Timedelta(minutes=5),  # chemistry time step\n",
    "    \"lat_bounds\": (-1.0, 0.0),  # lat bounds [deg]\n",
    "    \"lon_bounds\": (-1.0, 0.0),  # lon bounds [deg]\n",
    "    \"alt_bounds\": (11000, 12000),  # alt bounds [m]\n",
    "    \"hres_chem\": 0.1,  # horizontal resolution [deg]\n",
    "    \"vres_chem\": 500,  # vertical resolution [m]\n",
    "}"
   ]
  },
  {
   "cell_type": "code",
   "execution_count": 6,
   "metadata": {},
   "outputs": [],
   "source": [
    "# create lists for lats, lons, alts, and times based on chem params\n",
    "lats = np.arange(\n",
    "    chem_params[\"lat_bounds\"][0], chem_params[\"lat_bounds\"][1] + chem_params[\"hres_chem\"], chem_params[\"hres_chem\"]\n",
    ")\n",
    "\n",
    "lons = np.arange(\n",
    "    chem_params[\"lon_bounds\"][0], chem_params[\"lon_bounds\"][1] + chem_params[\"hres_chem\"], chem_params[\"hres_chem\"]\n",
    ")\n",
    "\n",
    "alts = np.arange(\n",
    "    chem_params[\"alt_bounds\"][0], chem_params[\"alt_bounds\"][1] + chem_params[\"vres_chem\"], chem_params[\"vres_chem\"]\n",
    ")\n",
    "\n",
    "times = pd.date_range(\n",
    "    start=chem_params[\"t0_chem\"],\n",
    "    end=chem_params[\"t0_chem\"] + chem_params[\"rt_chem\"],\n",
    "    freq=chem_params[\"ts_chem\"],\n",
    ")\n"
   ]
  },
  {
   "cell_type": "code",
   "execution_count": 7,
   "metadata": {},
   "outputs": [
    {
     "data": {
      "text/html": [
       "<b>MetDataset</b> with data:<br/ ><br/> <div><svg style=\"position: absolute; width: 0; height: 0; overflow: hidden\">\n",
       "<defs>\n",
       "<symbol id=\"icon-database\" viewBox=\"0 0 32 32\">\n",
       "<path d=\"M16 0c-8.837 0-16 2.239-16 5v4c0 2.761 7.163 5 16 5s16-2.239 16-5v-4c0-2.761-7.163-5-16-5z\"></path>\n",
       "<path d=\"M16 17c-8.837 0-16-2.239-16-5v6c0 2.761 7.163 5 16 5s16-2.239 16-5v-6c0 2.761-7.163 5-16 5z\"></path>\n",
       "<path d=\"M16 26c-8.837 0-16-2.239-16-5v6c0 2.761 7.163 5 16 5s16-2.239 16-5v-6c0 2.761-7.163 5-16 5z\"></path>\n",
       "</symbol>\n",
       "<symbol id=\"icon-file-text2\" viewBox=\"0 0 32 32\">\n",
       "<path d=\"M28.681 7.159c-0.694-0.947-1.662-2.053-2.724-3.116s-2.169-2.030-3.116-2.724c-1.612-1.182-2.393-1.319-2.841-1.319h-15.5c-1.378 0-2.5 1.121-2.5 2.5v27c0 1.378 1.122 2.5 2.5 2.5h23c1.378 0 2.5-1.122 2.5-2.5v-19.5c0-0.448-0.137-1.23-1.319-2.841zM24.543 5.457c0.959 0.959 1.712 1.825 2.268 2.543h-4.811v-4.811c0.718 0.556 1.584 1.309 2.543 2.268zM28 29.5c0 0.271-0.229 0.5-0.5 0.5h-23c-0.271 0-0.5-0.229-0.5-0.5v-27c0-0.271 0.229-0.5 0.5-0.5 0 0 15.499-0 15.5 0v7c0 0.552 0.448 1 1 1h7v19.5z\"></path>\n",
       "<path d=\"M23 26h-14c-0.552 0-1-0.448-1-1s0.448-1 1-1h14c0.552 0 1 0.448 1 1s-0.448 1-1 1z\"></path>\n",
       "<path d=\"M23 22h-14c-0.552 0-1-0.448-1-1s0.448-1 1-1h14c0.552 0 1 0.448 1 1s-0.448 1-1 1z\"></path>\n",
       "<path d=\"M23 18h-14c-0.552 0-1-0.448-1-1s0.448-1 1-1h14c0.552 0 1 0.448 1 1s-0.448 1-1 1z\"></path>\n",
       "</symbol>\n",
       "</defs>\n",
       "</svg>\n",
       "<style>/* CSS stylesheet for displaying xarray objects in jupyterlab.\n",
       " *\n",
       " */\n",
       "\n",
       ":root {\n",
       "  --xr-font-color0: var(--jp-content-font-color0, rgba(0, 0, 0, 1));\n",
       "  --xr-font-color2: var(--jp-content-font-color2, rgba(0, 0, 0, 0.54));\n",
       "  --xr-font-color3: var(--jp-content-font-color3, rgba(0, 0, 0, 0.38));\n",
       "  --xr-border-color: var(--jp-border-color2, #e0e0e0);\n",
       "  --xr-disabled-color: var(--jp-layout-color3, #bdbdbd);\n",
       "  --xr-background-color: var(--jp-layout-color0, white);\n",
       "  --xr-background-color-row-even: var(--jp-layout-color1, white);\n",
       "  --xr-background-color-row-odd: var(--jp-layout-color2, #eeeeee);\n",
       "}\n",
       "\n",
       "html[theme=dark],\n",
       "body[data-theme=dark],\n",
       "body.vscode-dark {\n",
       "  --xr-font-color0: rgba(255, 255, 255, 1);\n",
       "  --xr-font-color2: rgba(255, 255, 255, 0.54);\n",
       "  --xr-font-color3: rgba(255, 255, 255, 0.38);\n",
       "  --xr-border-color: #1F1F1F;\n",
       "  --xr-disabled-color: #515151;\n",
       "  --xr-background-color: #111111;\n",
       "  --xr-background-color-row-even: #111111;\n",
       "  --xr-background-color-row-odd: #313131;\n",
       "}\n",
       "\n",
       ".xr-wrap {\n",
       "  display: block !important;\n",
       "  min-width: 300px;\n",
       "  max-width: 700px;\n",
       "}\n",
       "\n",
       ".xr-text-repr-fallback {\n",
       "  /* fallback to plain text repr when CSS is not injected (untrusted notebook) */\n",
       "  display: none;\n",
       "}\n",
       "\n",
       ".xr-header {\n",
       "  padding-top: 6px;\n",
       "  padding-bottom: 6px;\n",
       "  margin-bottom: 4px;\n",
       "  border-bottom: solid 1px var(--xr-border-color);\n",
       "}\n",
       "\n",
       ".xr-header > div,\n",
       ".xr-header > ul {\n",
       "  display: inline;\n",
       "  margin-top: 0;\n",
       "  margin-bottom: 0;\n",
       "}\n",
       "\n",
       ".xr-obj-type,\n",
       ".xr-array-name {\n",
       "  margin-left: 2px;\n",
       "  margin-right: 10px;\n",
       "}\n",
       "\n",
       ".xr-obj-type {\n",
       "  color: var(--xr-font-color2);\n",
       "}\n",
       "\n",
       ".xr-sections {\n",
       "  padding-left: 0 !important;\n",
       "  display: grid;\n",
       "  grid-template-columns: 150px auto auto 1fr 20px 20px;\n",
       "}\n",
       "\n",
       ".xr-section-item {\n",
       "  display: contents;\n",
       "}\n",
       "\n",
       ".xr-section-item input {\n",
       "  display: none;\n",
       "}\n",
       "\n",
       ".xr-section-item input + label {\n",
       "  color: var(--xr-disabled-color);\n",
       "}\n",
       "\n",
       ".xr-section-item input:enabled + label {\n",
       "  cursor: pointer;\n",
       "  color: var(--xr-font-color2);\n",
       "}\n",
       "\n",
       ".xr-section-item input:enabled + label:hover {\n",
       "  color: var(--xr-font-color0);\n",
       "}\n",
       "\n",
       ".xr-section-summary {\n",
       "  grid-column: 1;\n",
       "  color: var(--xr-font-color2);\n",
       "  font-weight: 500;\n",
       "}\n",
       "\n",
       ".xr-section-summary > span {\n",
       "  display: inline-block;\n",
       "  padding-left: 0.5em;\n",
       "}\n",
       "\n",
       ".xr-section-summary-in:disabled + label {\n",
       "  color: var(--xr-font-color2);\n",
       "}\n",
       "\n",
       ".xr-section-summary-in + label:before {\n",
       "  display: inline-block;\n",
       "  content: '►';\n",
       "  font-size: 11px;\n",
       "  width: 15px;\n",
       "  text-align: center;\n",
       "}\n",
       "\n",
       ".xr-section-summary-in:disabled + label:before {\n",
       "  color: var(--xr-disabled-color);\n",
       "}\n",
       "\n",
       ".xr-section-summary-in:checked + label:before {\n",
       "  content: '▼';\n",
       "}\n",
       "\n",
       ".xr-section-summary-in:checked + label > span {\n",
       "  display: none;\n",
       "}\n",
       "\n",
       ".xr-section-summary,\n",
       ".xr-section-inline-details {\n",
       "  padding-top: 4px;\n",
       "  padding-bottom: 4px;\n",
       "}\n",
       "\n",
       ".xr-section-inline-details {\n",
       "  grid-column: 2 / -1;\n",
       "}\n",
       "\n",
       ".xr-section-details {\n",
       "  display: none;\n",
       "  grid-column: 1 / -1;\n",
       "  margin-bottom: 5px;\n",
       "}\n",
       "\n",
       ".xr-section-summary-in:checked ~ .xr-section-details {\n",
       "  display: contents;\n",
       "}\n",
       "\n",
       ".xr-array-wrap {\n",
       "  grid-column: 1 / -1;\n",
       "  display: grid;\n",
       "  grid-template-columns: 20px auto;\n",
       "}\n",
       "\n",
       ".xr-array-wrap > label {\n",
       "  grid-column: 1;\n",
       "  vertical-align: top;\n",
       "}\n",
       "\n",
       ".xr-preview {\n",
       "  color: var(--xr-font-color3);\n",
       "}\n",
       "\n",
       ".xr-array-preview,\n",
       ".xr-array-data {\n",
       "  padding: 0 5px !important;\n",
       "  grid-column: 2;\n",
       "}\n",
       "\n",
       ".xr-array-data,\n",
       ".xr-array-in:checked ~ .xr-array-preview {\n",
       "  display: none;\n",
       "}\n",
       "\n",
       ".xr-array-in:checked ~ .xr-array-data,\n",
       ".xr-array-preview {\n",
       "  display: inline-block;\n",
       "}\n",
       "\n",
       ".xr-dim-list {\n",
       "  display: inline-block !important;\n",
       "  list-style: none;\n",
       "  padding: 0 !important;\n",
       "  margin: 0;\n",
       "}\n",
       "\n",
       ".xr-dim-list li {\n",
       "  display: inline-block;\n",
       "  padding: 0;\n",
       "  margin: 0;\n",
       "}\n",
       "\n",
       ".xr-dim-list:before {\n",
       "  content: '(';\n",
       "}\n",
       "\n",
       ".xr-dim-list:after {\n",
       "  content: ')';\n",
       "}\n",
       "\n",
       ".xr-dim-list li:not(:last-child):after {\n",
       "  content: ',';\n",
       "  padding-right: 5px;\n",
       "}\n",
       "\n",
       ".xr-has-index {\n",
       "  font-weight: bold;\n",
       "}\n",
       "\n",
       ".xr-var-list,\n",
       ".xr-var-item {\n",
       "  display: contents;\n",
       "}\n",
       "\n",
       ".xr-var-item > div,\n",
       ".xr-var-item label,\n",
       ".xr-var-item > .xr-var-name span {\n",
       "  background-color: var(--xr-background-color-row-even);\n",
       "  margin-bottom: 0;\n",
       "}\n",
       "\n",
       ".xr-var-item > .xr-var-name:hover span {\n",
       "  padding-right: 5px;\n",
       "}\n",
       "\n",
       ".xr-var-list > li:nth-child(odd) > div,\n",
       ".xr-var-list > li:nth-child(odd) > label,\n",
       ".xr-var-list > li:nth-child(odd) > .xr-var-name span {\n",
       "  background-color: var(--xr-background-color-row-odd);\n",
       "}\n",
       "\n",
       ".xr-var-name {\n",
       "  grid-column: 1;\n",
       "}\n",
       "\n",
       ".xr-var-dims {\n",
       "  grid-column: 2;\n",
       "}\n",
       "\n",
       ".xr-var-dtype {\n",
       "  grid-column: 3;\n",
       "  text-align: right;\n",
       "  color: var(--xr-font-color2);\n",
       "}\n",
       "\n",
       ".xr-var-preview {\n",
       "  grid-column: 4;\n",
       "}\n",
       "\n",
       ".xr-index-preview {\n",
       "  grid-column: 2 / 5;\n",
       "  color: var(--xr-font-color2);\n",
       "}\n",
       "\n",
       ".xr-var-name,\n",
       ".xr-var-dims,\n",
       ".xr-var-dtype,\n",
       ".xr-preview,\n",
       ".xr-attrs dt {\n",
       "  white-space: nowrap;\n",
       "  overflow: hidden;\n",
       "  text-overflow: ellipsis;\n",
       "  padding-right: 10px;\n",
       "}\n",
       "\n",
       ".xr-var-name:hover,\n",
       ".xr-var-dims:hover,\n",
       ".xr-var-dtype:hover,\n",
       ".xr-attrs dt:hover {\n",
       "  overflow: visible;\n",
       "  width: auto;\n",
       "  z-index: 1;\n",
       "}\n",
       "\n",
       ".xr-var-attrs,\n",
       ".xr-var-data,\n",
       ".xr-index-data {\n",
       "  display: none;\n",
       "  background-color: var(--xr-background-color) !important;\n",
       "  padding-bottom: 5px !important;\n",
       "}\n",
       "\n",
       ".xr-var-attrs-in:checked ~ .xr-var-attrs,\n",
       ".xr-var-data-in:checked ~ .xr-var-data,\n",
       ".xr-index-data-in:checked ~ .xr-index-data {\n",
       "  display: block;\n",
       "}\n",
       "\n",
       ".xr-var-data > table {\n",
       "  float: right;\n",
       "}\n",
       "\n",
       ".xr-var-name span,\n",
       ".xr-var-data,\n",
       ".xr-index-name div,\n",
       ".xr-index-data,\n",
       ".xr-attrs {\n",
       "  padding-left: 25px !important;\n",
       "}\n",
       "\n",
       ".xr-attrs,\n",
       ".xr-var-attrs,\n",
       ".xr-var-data,\n",
       ".xr-index-data {\n",
       "  grid-column: 1 / -1;\n",
       "}\n",
       "\n",
       "dl.xr-attrs {\n",
       "  padding: 0;\n",
       "  margin: 0;\n",
       "  display: grid;\n",
       "  grid-template-columns: 125px auto;\n",
       "}\n",
       "\n",
       ".xr-attrs dt,\n",
       ".xr-attrs dd {\n",
       "  padding: 0;\n",
       "  margin: 0;\n",
       "  float: left;\n",
       "  padding-right: 10px;\n",
       "  width: auto;\n",
       "}\n",
       "\n",
       ".xr-attrs dt {\n",
       "  font-weight: normal;\n",
       "  grid-column: 1;\n",
       "}\n",
       "\n",
       ".xr-attrs dt:hover span {\n",
       "  display: inline-block;\n",
       "  background: var(--xr-background-color);\n",
       "  padding-right: 10px;\n",
       "}\n",
       "\n",
       ".xr-attrs dd {\n",
       "  grid-column: 2;\n",
       "  white-space: pre-wrap;\n",
       "  word-break: break-all;\n",
       "}\n",
       "\n",
       ".xr-icon-database,\n",
       ".xr-icon-file-text2,\n",
       ".xr-no-icon {\n",
       "  display: inline-block;\n",
       "  vertical-align: middle;\n",
       "  width: 1em;\n",
       "  height: 1.5em !important;\n",
       "  stroke-width: 0;\n",
       "  stroke: currentColor;\n",
       "  fill: currentColor;\n",
       "}\n",
       "</style><pre class='xr-text-repr-fallback'>&lt;xarray.Dataset&gt; Size: 5MB\n",
       "Dimensions:                              (longitude: 11, latitude: 11,\n",
       "                                          level: 3, time: 289)\n",
       "Coordinates:\n",
       "  * longitude                            (longitude) float64 88B -1.0 ... -2....\n",
       "  * latitude                             (latitude) float64 88B -1.0 ... -2.2...\n",
       "  * level                                (level) float64 24B 193.3 209.2 226.3\n",
       "  * time                                 (time) datetime64[ns] 2kB 2022-03-01...\n",
       "    air_pressure                         (level) float64 24B 1.933e+04 ... 2....\n",
       "    altitude                             (level) float64 24B 1.2e+04 ... 1.1e+04\n",
       "Data variables:\n",
       "    air_temperature                      (longitude, latitude, level, time) float64 839kB dask.array&lt;chunksize=(11, 11, 3, 100), meta=np.ndarray&gt;\n",
       "    specific_humidity                    (longitude, latitude, level, time) float64 839kB dask.array&lt;chunksize=(11, 11, 3, 100), meta=np.ndarray&gt;\n",
       "    relative_humidity                    (longitude, latitude, level, time) float64 839kB dask.array&lt;chunksize=(11, 11, 3, 100), meta=np.ndarray&gt;\n",
       "    eastward_wind                        (longitude, latitude, level, time) float64 839kB dask.array&lt;chunksize=(11, 11, 3, 100), meta=np.ndarray&gt;\n",
       "    northward_wind                       (longitude, latitude, level, time) float64 839kB dask.array&lt;chunksize=(11, 11, 3, 100), meta=np.ndarray&gt;\n",
       "    lagrangian_tendency_of_air_pressure  (longitude, latitude, level, time) float64 839kB dask.array&lt;chunksize=(11, 11, 3, 100), meta=np.ndarray&gt;</pre><div class='xr-wrap' style='display:none'><div class='xr-header'><div class='xr-obj-type'>xarray.Dataset</div></div><ul class='xr-sections'><li class='xr-section-item'><input id='section-be5ad11e-52bf-4425-ad27-e18e7247186b' class='xr-section-summary-in' type='checkbox' disabled ><label for='section-be5ad11e-52bf-4425-ad27-e18e7247186b' class='xr-section-summary'  title='Expand/collapse section'>Dimensions:</label><div class='xr-section-inline-details'><ul class='xr-dim-list'><li><span class='xr-has-index'>longitude</span>: 11</li><li><span class='xr-has-index'>latitude</span>: 11</li><li><span class='xr-has-index'>level</span>: 3</li><li><span class='xr-has-index'>time</span>: 289</li></ul></div><div class='xr-section-details'></div></li><li class='xr-section-item'><input id='section-cd22c8c9-e46e-44f9-877f-d8a0d67981ed' class='xr-section-summary-in' type='checkbox'  checked><label for='section-cd22c8c9-e46e-44f9-877f-d8a0d67981ed' class='xr-section-summary' >Coordinates: <span>(6)</span></label><div class='xr-section-inline-details'></div><div class='xr-section-details'><ul class='xr-var-list'><li class='xr-var-item'><div class='xr-var-name'><span class='xr-has-index'>longitude</span></div><div class='xr-var-dims'>(longitude)</div><div class='xr-var-dtype'>float64</div><div class='xr-var-preview xr-preview'>-1.0 -0.9 -0.8 ... -0.1 -2.22e-16</div><input id='attrs-fd362142-c156-4a9b-88bf-583f9f01741b' class='xr-var-attrs-in' type='checkbox' disabled><label for='attrs-fd362142-c156-4a9b-88bf-583f9f01741b' title='Show/Hide attributes'><svg class='icon xr-icon-file-text2'><use xlink:href='#icon-file-text2'></use></svg></label><input id='data-28b569d4-9b58-40c3-85a7-73a65d9a2778' class='xr-var-data-in' type='checkbox'><label for='data-28b569d4-9b58-40c3-85a7-73a65d9a2778' title='Show/Hide data repr'><svg class='icon xr-icon-database'><use xlink:href='#icon-database'></use></svg></label><div class='xr-var-attrs'><dl class='xr-attrs'></dl></div><div class='xr-var-data'><pre>array([-1.000000e+00, -9.000000e-01, -8.000000e-01, -7.000000e-01,\n",
       "       -6.000000e-01, -5.000000e-01, -4.000000e-01, -3.000000e-01,\n",
       "       -2.000000e-01, -1.000000e-01, -2.220446e-16])</pre></div></li><li class='xr-var-item'><div class='xr-var-name'><span class='xr-has-index'>latitude</span></div><div class='xr-var-dims'>(latitude)</div><div class='xr-var-dtype'>float64</div><div class='xr-var-preview xr-preview'>-1.0 -0.9 -0.8 ... -0.1 -2.22e-16</div><input id='attrs-bc4f1fb7-9724-4b20-80a4-e6ad7e65ef92' class='xr-var-attrs-in' type='checkbox' disabled><label for='attrs-bc4f1fb7-9724-4b20-80a4-e6ad7e65ef92' title='Show/Hide attributes'><svg class='icon xr-icon-file-text2'><use xlink:href='#icon-file-text2'></use></svg></label><input id='data-d16e2e16-2e36-41a7-99ad-5bf181a4f051' class='xr-var-data-in' type='checkbox'><label for='data-d16e2e16-2e36-41a7-99ad-5bf181a4f051' title='Show/Hide data repr'><svg class='icon xr-icon-database'><use xlink:href='#icon-database'></use></svg></label><div class='xr-var-attrs'><dl class='xr-attrs'></dl></div><div class='xr-var-data'><pre>array([-1.000000e+00, -9.000000e-01, -8.000000e-01, -7.000000e-01,\n",
       "       -6.000000e-01, -5.000000e-01, -4.000000e-01, -3.000000e-01,\n",
       "       -2.000000e-01, -1.000000e-01, -2.220446e-16])</pre></div></li><li class='xr-var-item'><div class='xr-var-name'><span class='xr-has-index'>level</span></div><div class='xr-var-dims'>(level)</div><div class='xr-var-dtype'>float64</div><div class='xr-var-preview xr-preview'>193.3 209.2 226.3</div><input id='attrs-b69fbb75-9292-4097-b316-a3e84d3f8b3c' class='xr-var-attrs-in' type='checkbox' ><label for='attrs-b69fbb75-9292-4097-b316-a3e84d3f8b3c' title='Show/Hide attributes'><svg class='icon xr-icon-file-text2'><use xlink:href='#icon-file-text2'></use></svg></label><input id='data-109040fd-ae17-4d7a-a90f-7fb928e5e862' class='xr-var-data-in' type='checkbox'><label for='data-109040fd-ae17-4d7a-a90f-7fb928e5e862' title='Show/Hide data repr'><svg class='icon xr-icon-database'><use xlink:href='#icon-database'></use></svg></label><div class='xr-var-attrs'><dl class='xr-attrs'><dt><span>units :</span></dt><dd>hPa</dd><dt><span>long_name :</span></dt><dd>Pressure</dd><dt><span>positive :</span></dt><dd>down</dd></dl></div><div class='xr-var-data'><pre>array([193.300623, 209.158358, 226.317009])</pre></div></li><li class='xr-var-item'><div class='xr-var-name'><span class='xr-has-index'>time</span></div><div class='xr-var-dims'>(time)</div><div class='xr-var-dtype'>datetime64[ns]</div><div class='xr-var-preview xr-preview'>2022-03-01T21:00:00 ... 2022-03-...</div><input id='attrs-92808ad8-af7e-4f3d-ac50-4d5bb24145ac' class='xr-var-attrs-in' type='checkbox' disabled><label for='attrs-92808ad8-af7e-4f3d-ac50-4d5bb24145ac' title='Show/Hide attributes'><svg class='icon xr-icon-file-text2'><use xlink:href='#icon-file-text2'></use></svg></label><input id='data-53b524f3-de8f-416a-99bc-78e746e771c6' class='xr-var-data-in' type='checkbox'><label for='data-53b524f3-de8f-416a-99bc-78e746e771c6' title='Show/Hide data repr'><svg class='icon xr-icon-database'><use xlink:href='#icon-database'></use></svg></label><div class='xr-var-attrs'><dl class='xr-attrs'></dl></div><div class='xr-var-data'><pre>array([&#x27;2022-03-01T21:00:00.000000000&#x27;, &#x27;2022-03-01T21:05:00.000000000&#x27;,\n",
       "       &#x27;2022-03-01T21:10:00.000000000&#x27;, ..., &#x27;2022-03-02T20:50:00.000000000&#x27;,\n",
       "       &#x27;2022-03-02T20:55:00.000000000&#x27;, &#x27;2022-03-02T21:00:00.000000000&#x27;],\n",
       "      dtype=&#x27;datetime64[ns]&#x27;)</pre></div></li><li class='xr-var-item'><div class='xr-var-name'><span>air_pressure</span></div><div class='xr-var-dims'>(level)</div><div class='xr-var-dtype'>float64</div><div class='xr-var-preview xr-preview'>1.933e+04 2.092e+04 2.263e+04</div><input id='attrs-33a1a2c8-c4bd-44d3-bf60-21467319caee' class='xr-var-attrs-in' type='checkbox' ><label for='attrs-33a1a2c8-c4bd-44d3-bf60-21467319caee' title='Show/Hide attributes'><svg class='icon xr-icon-file-text2'><use xlink:href='#icon-file-text2'></use></svg></label><input id='data-b5bf29c0-00e5-45a8-8d84-b6a6a096aa38' class='xr-var-data-in' type='checkbox'><label for='data-b5bf29c0-00e5-45a8-8d84-b6a6a096aa38' title='Show/Hide data repr'><svg class='icon xr-icon-database'><use xlink:href='#icon-database'></use></svg></label><div class='xr-var-attrs'><dl class='xr-attrs'><dt><span>standard_name :</span></dt><dd>air_pressure</dd><dt><span>long_name :</span></dt><dd>Air pressure</dd><dt><span>units :</span></dt><dd>Pa</dd></dl></div><div class='xr-var-data'><pre>array([19330.06232874, 20915.83584737, 22631.70090993])</pre></div></li><li class='xr-var-item'><div class='xr-var-name'><span>altitude</span></div><div class='xr-var-dims'>(level)</div><div class='xr-var-dtype'>float64</div><div class='xr-var-preview xr-preview'>1.2e+04 1.15e+04 1.1e+04</div><input id='attrs-8afd62ab-f4ac-4d6a-811c-ba0b10276c68' class='xr-var-attrs-in' type='checkbox' ><label for='attrs-8afd62ab-f4ac-4d6a-811c-ba0b10276c68' title='Show/Hide attributes'><svg class='icon xr-icon-file-text2'><use xlink:href='#icon-file-text2'></use></svg></label><input id='data-444ab05e-bfb4-4aae-b61a-f71485723868' class='xr-var-data-in' type='checkbox'><label for='data-444ab05e-bfb4-4aae-b61a-f71485723868' title='Show/Hide data repr'><svg class='icon xr-icon-database'><use xlink:href='#icon-database'></use></svg></label><div class='xr-var-attrs'><dl class='xr-attrs'><dt><span>standard_name :</span></dt><dd>altitude</dd><dt><span>long_name :</span></dt><dd>Altitude</dd><dt><span>units :</span></dt><dd>m</dd></dl></div><div class='xr-var-data'><pre>array([12000., 11500., 11000.])</pre></div></li></ul></div></li><li class='xr-section-item'><input id='section-389a8820-4004-4fee-a476-a3a4bac4d8b3' class='xr-section-summary-in' type='checkbox'  checked><label for='section-389a8820-4004-4fee-a476-a3a4bac4d8b3' class='xr-section-summary' >Data variables: <span>(6)</span></label><div class='xr-section-inline-details'></div><div class='xr-section-details'><ul class='xr-var-list'><li class='xr-var-item'><div class='xr-var-name'><span>air_temperature</span></div><div class='xr-var-dims'>(longitude, latitude, level, time)</div><div class='xr-var-dtype'>float64</div><div class='xr-var-preview xr-preview'>dask.array&lt;chunksize=(11, 11, 3, 100), meta=np.ndarray&gt;</div><input id='attrs-946fe9e3-b16c-4d01-9ce5-b5997009c954' class='xr-var-attrs-in' type='checkbox' disabled><label for='attrs-946fe9e3-b16c-4d01-9ce5-b5997009c954' title='Show/Hide attributes'><svg class='icon xr-icon-file-text2'><use xlink:href='#icon-file-text2'></use></svg></label><input id='data-78387f0f-3e8d-4572-8e94-d5a7cc12c8ae' class='xr-var-data-in' type='checkbox'><label for='data-78387f0f-3e8d-4572-8e94-d5a7cc12c8ae' title='Show/Hide data repr'><svg class='icon xr-icon-database'><use xlink:href='#icon-database'></use></svg></label><div class='xr-var-attrs'><dl class='xr-attrs'></dl></div><div class='xr-var-data'><table>\n",
       "    <tr>\n",
       "        <td>\n",
       "            <table style=\"border-collapse: collapse;\">\n",
       "                <thead>\n",
       "                    <tr>\n",
       "                        <td> </td>\n",
       "                        <th> Array </th>\n",
       "                        <th> Chunk </th>\n",
       "                    </tr>\n",
       "                </thead>\n",
       "                <tbody>\n",
       "                    \n",
       "                    <tr>\n",
       "                        <th> Bytes </th>\n",
       "                        <td> 819.59 kiB </td>\n",
       "                        <td> 283.59 kiB </td>\n",
       "                    </tr>\n",
       "                    \n",
       "                    <tr>\n",
       "                        <th> Shape </th>\n",
       "                        <td> (11, 11, 3, 289) </td>\n",
       "                        <td> (11, 11, 3, 100) </td>\n",
       "                    </tr>\n",
       "                    <tr>\n",
       "                        <th> Dask graph </th>\n",
       "                        <td colspan=\"2\"> 3 chunks in 6 graph layers </td>\n",
       "                    </tr>\n",
       "                    <tr>\n",
       "                        <th> Data type </th>\n",
       "                        <td colspan=\"2\"> float64 numpy.ndarray </td>\n",
       "                    </tr>\n",
       "                </tbody>\n",
       "            </table>\n",
       "        </td>\n",
       "        <td>\n",
       "        <svg width=\"393\" height=\"94\" style=\"stroke:rgb(0,0,0);stroke-width:1\" >\n",
       "\n",
       "  <!-- Horizontal lines -->\n",
       "  <line x1=\"0\" y1=\"0\" x2=\"32\" y2=\"0\" style=\"stroke-width:2\" />\n",
       "  <line x1=\"0\" y1=\"25\" x2=\"32\" y2=\"25\" style=\"stroke-width:2\" />\n",
       "\n",
       "  <!-- Vertical lines -->\n",
       "  <line x1=\"0\" y1=\"0\" x2=\"0\" y2=\"25\" style=\"stroke-width:2\" />\n",
       "  <line x1=\"32\" y1=\"0\" x2=\"32\" y2=\"25\" style=\"stroke-width:2\" />\n",
       "\n",
       "  <!-- Colored Rectangle -->\n",
       "  <polygon points=\"0.0,0.0 32.83052805118105,0.0 32.83052805118105,25.412616514582485 0.0,25.412616514582485\" style=\"fill:#ECB172A0;stroke-width:0\"/>\n",
       "\n",
       "  <!-- Text -->\n",
       "  <text x=\"16.415264\" y=\"45.412617\" font-size=\"1.0rem\" font-weight=\"100\" text-anchor=\"middle\" >11</text>\n",
       "  <text x=\"52.830528\" y=\"12.706308\" font-size=\"1.0rem\" font-weight=\"100\" text-anchor=\"middle\" transform=\"rotate(0,52.830528,12.706308)\">1</text>\n",
       "\n",
       "\n",
       "  <!-- Horizontal lines -->\n",
       "  <line x1=\"102\" y1=\"0\" x2=\"121\" y2=\"19\" style=\"stroke-width:2\" />\n",
       "  <line x1=\"102\" y1=\"25\" x2=\"121\" y2=\"44\" style=\"stroke-width:2\" />\n",
       "\n",
       "  <!-- Vertical lines -->\n",
       "  <line x1=\"102\" y1=\"0\" x2=\"102\" y2=\"25\" style=\"stroke-width:2\" />\n",
       "  <line x1=\"121\" y1=\"19\" x2=\"121\" y2=\"44\" style=\"stroke-width:2\" />\n",
       "\n",
       "  <!-- Colored Rectangle -->\n",
       "  <polygon points=\"102.0,0.0 121.31207532422414,19.312075324224146 121.31207532422414,44.90444046507049 102.0,25.59236514084635\" style=\"fill:#ECB172A0;stroke-width:0\"/>\n",
       "\n",
       "  <!-- Horizontal lines -->\n",
       "  <line x1=\"102\" y1=\"0\" x2=\"222\" y2=\"0\" style=\"stroke-width:2\" />\n",
       "  <line x1=\"121\" y1=\"19\" x2=\"241\" y2=\"19\" style=\"stroke-width:2\" />\n",
       "\n",
       "  <!-- Vertical lines -->\n",
       "  <line x1=\"102\" y1=\"0\" x2=\"121\" y2=\"19\" style=\"stroke-width:2\" />\n",
       "  <line x1=\"143\" y1=\"0\" x2=\"162\" y2=\"19\" />\n",
       "  <line x1=\"185\" y1=\"0\" x2=\"204\" y2=\"19\" />\n",
       "  <line x1=\"222\" y1=\"0\" x2=\"241\" y2=\"19\" style=\"stroke-width:2\" />\n",
       "\n",
       "  <!-- Colored Rectangle -->\n",
       "  <polygon points=\"102.0,0.0 222.0,0.0 241.31207532422414,19.312075324224146 121.31207532422414,19.312075324224146\" style=\"fill:#ECB172A0;stroke-width:0\"/>\n",
       "\n",
       "  <!-- Horizontal lines -->\n",
       "  <line x1=\"121\" y1=\"19\" x2=\"241\" y2=\"19\" style=\"stroke-width:2\" />\n",
       "  <line x1=\"121\" y1=\"44\" x2=\"241\" y2=\"44\" style=\"stroke-width:2\" />\n",
       "\n",
       "  <!-- Vertical lines -->\n",
       "  <line x1=\"121\" y1=\"19\" x2=\"121\" y2=\"44\" style=\"stroke-width:2\" />\n",
       "  <line x1=\"162\" y1=\"19\" x2=\"162\" y2=\"44\" />\n",
       "  <line x1=\"204\" y1=\"19\" x2=\"204\" y2=\"44\" />\n",
       "  <line x1=\"241\" y1=\"19\" x2=\"241\" y2=\"44\" style=\"stroke-width:2\" />\n",
       "\n",
       "  <!-- Colored Rectangle -->\n",
       "  <polygon points=\"121.31207532422414,19.312075324224146 241.31207532422414,19.312075324224146 241.31207532422414,44.90444046507049 121.31207532422414,44.90444046507049\" style=\"fill:#ECB172A0;stroke-width:0\"/>\n",
       "\n",
       "  <!-- Text -->\n",
       "  <text x=\"181.312075\" y=\"64.904440\" font-size=\"1.0rem\" font-weight=\"100\" text-anchor=\"middle\" >289</text>\n",
       "  <text x=\"261.312075\" y=\"32.108258\" font-size=\"1.0rem\" font-weight=\"100\" text-anchor=\"middle\" transform=\"rotate(0,261.312075,32.108258)\">3</text>\n",
       "  <text x=\"101.656038\" y=\"55.248403\" font-size=\"1.0rem\" font-weight=\"100\" text-anchor=\"middle\" transform=\"rotate(45,101.656038,55.248403)\">11</text>\n",
       "</svg>\n",
       "        </td>\n",
       "    </tr>\n",
       "</table></div></li><li class='xr-var-item'><div class='xr-var-name'><span>specific_humidity</span></div><div class='xr-var-dims'>(longitude, latitude, level, time)</div><div class='xr-var-dtype'>float64</div><div class='xr-var-preview xr-preview'>dask.array&lt;chunksize=(11, 11, 3, 100), meta=np.ndarray&gt;</div><input id='attrs-e19dca27-4204-474e-8ec8-1df04d1ff0c3' class='xr-var-attrs-in' type='checkbox' disabled><label for='attrs-e19dca27-4204-474e-8ec8-1df04d1ff0c3' title='Show/Hide attributes'><svg class='icon xr-icon-file-text2'><use xlink:href='#icon-file-text2'></use></svg></label><input id='data-cbd837d2-a094-497e-9d4e-c124734ac046' class='xr-var-data-in' type='checkbox'><label for='data-cbd837d2-a094-497e-9d4e-c124734ac046' title='Show/Hide data repr'><svg class='icon xr-icon-database'><use xlink:href='#icon-database'></use></svg></label><div class='xr-var-attrs'><dl class='xr-attrs'></dl></div><div class='xr-var-data'><table>\n",
       "    <tr>\n",
       "        <td>\n",
       "            <table style=\"border-collapse: collapse;\">\n",
       "                <thead>\n",
       "                    <tr>\n",
       "                        <td> </td>\n",
       "                        <th> Array </th>\n",
       "                        <th> Chunk </th>\n",
       "                    </tr>\n",
       "                </thead>\n",
       "                <tbody>\n",
       "                    \n",
       "                    <tr>\n",
       "                        <th> Bytes </th>\n",
       "                        <td> 819.59 kiB </td>\n",
       "                        <td> 283.59 kiB </td>\n",
       "                    </tr>\n",
       "                    \n",
       "                    <tr>\n",
       "                        <th> Shape </th>\n",
       "                        <td> (11, 11, 3, 289) </td>\n",
       "                        <td> (11, 11, 3, 100) </td>\n",
       "                    </tr>\n",
       "                    <tr>\n",
       "                        <th> Dask graph </th>\n",
       "                        <td colspan=\"2\"> 3 chunks in 6 graph layers </td>\n",
       "                    </tr>\n",
       "                    <tr>\n",
       "                        <th> Data type </th>\n",
       "                        <td colspan=\"2\"> float64 numpy.ndarray </td>\n",
       "                    </tr>\n",
       "                </tbody>\n",
       "            </table>\n",
       "        </td>\n",
       "        <td>\n",
       "        <svg width=\"393\" height=\"94\" style=\"stroke:rgb(0,0,0);stroke-width:1\" >\n",
       "\n",
       "  <!-- Horizontal lines -->\n",
       "  <line x1=\"0\" y1=\"0\" x2=\"32\" y2=\"0\" style=\"stroke-width:2\" />\n",
       "  <line x1=\"0\" y1=\"25\" x2=\"32\" y2=\"25\" style=\"stroke-width:2\" />\n",
       "\n",
       "  <!-- Vertical lines -->\n",
       "  <line x1=\"0\" y1=\"0\" x2=\"0\" y2=\"25\" style=\"stroke-width:2\" />\n",
       "  <line x1=\"32\" y1=\"0\" x2=\"32\" y2=\"25\" style=\"stroke-width:2\" />\n",
       "\n",
       "  <!-- Colored Rectangle -->\n",
       "  <polygon points=\"0.0,0.0 32.83052805118105,0.0 32.83052805118105,25.412616514582485 0.0,25.412616514582485\" style=\"fill:#ECB172A0;stroke-width:0\"/>\n",
       "\n",
       "  <!-- Text -->\n",
       "  <text x=\"16.415264\" y=\"45.412617\" font-size=\"1.0rem\" font-weight=\"100\" text-anchor=\"middle\" >11</text>\n",
       "  <text x=\"52.830528\" y=\"12.706308\" font-size=\"1.0rem\" font-weight=\"100\" text-anchor=\"middle\" transform=\"rotate(0,52.830528,12.706308)\">1</text>\n",
       "\n",
       "\n",
       "  <!-- Horizontal lines -->\n",
       "  <line x1=\"102\" y1=\"0\" x2=\"121\" y2=\"19\" style=\"stroke-width:2\" />\n",
       "  <line x1=\"102\" y1=\"25\" x2=\"121\" y2=\"44\" style=\"stroke-width:2\" />\n",
       "\n",
       "  <!-- Vertical lines -->\n",
       "  <line x1=\"102\" y1=\"0\" x2=\"102\" y2=\"25\" style=\"stroke-width:2\" />\n",
       "  <line x1=\"121\" y1=\"19\" x2=\"121\" y2=\"44\" style=\"stroke-width:2\" />\n",
       "\n",
       "  <!-- Colored Rectangle -->\n",
       "  <polygon points=\"102.0,0.0 121.31207532422414,19.312075324224146 121.31207532422414,44.90444046507049 102.0,25.59236514084635\" style=\"fill:#ECB172A0;stroke-width:0\"/>\n",
       "\n",
       "  <!-- Horizontal lines -->\n",
       "  <line x1=\"102\" y1=\"0\" x2=\"222\" y2=\"0\" style=\"stroke-width:2\" />\n",
       "  <line x1=\"121\" y1=\"19\" x2=\"241\" y2=\"19\" style=\"stroke-width:2\" />\n",
       "\n",
       "  <!-- Vertical lines -->\n",
       "  <line x1=\"102\" y1=\"0\" x2=\"121\" y2=\"19\" style=\"stroke-width:2\" />\n",
       "  <line x1=\"143\" y1=\"0\" x2=\"162\" y2=\"19\" />\n",
       "  <line x1=\"185\" y1=\"0\" x2=\"204\" y2=\"19\" />\n",
       "  <line x1=\"222\" y1=\"0\" x2=\"241\" y2=\"19\" style=\"stroke-width:2\" />\n",
       "\n",
       "  <!-- Colored Rectangle -->\n",
       "  <polygon points=\"102.0,0.0 222.0,0.0 241.31207532422414,19.312075324224146 121.31207532422414,19.312075324224146\" style=\"fill:#ECB172A0;stroke-width:0\"/>\n",
       "\n",
       "  <!-- Horizontal lines -->\n",
       "  <line x1=\"121\" y1=\"19\" x2=\"241\" y2=\"19\" style=\"stroke-width:2\" />\n",
       "  <line x1=\"121\" y1=\"44\" x2=\"241\" y2=\"44\" style=\"stroke-width:2\" />\n",
       "\n",
       "  <!-- Vertical lines -->\n",
       "  <line x1=\"121\" y1=\"19\" x2=\"121\" y2=\"44\" style=\"stroke-width:2\" />\n",
       "  <line x1=\"162\" y1=\"19\" x2=\"162\" y2=\"44\" />\n",
       "  <line x1=\"204\" y1=\"19\" x2=\"204\" y2=\"44\" />\n",
       "  <line x1=\"241\" y1=\"19\" x2=\"241\" y2=\"44\" style=\"stroke-width:2\" />\n",
       "\n",
       "  <!-- Colored Rectangle -->\n",
       "  <polygon points=\"121.31207532422414,19.312075324224146 241.31207532422414,19.312075324224146 241.31207532422414,44.90444046507049 121.31207532422414,44.90444046507049\" style=\"fill:#ECB172A0;stroke-width:0\"/>\n",
       "\n",
       "  <!-- Text -->\n",
       "  <text x=\"181.312075\" y=\"64.904440\" font-size=\"1.0rem\" font-weight=\"100\" text-anchor=\"middle\" >289</text>\n",
       "  <text x=\"261.312075\" y=\"32.108258\" font-size=\"1.0rem\" font-weight=\"100\" text-anchor=\"middle\" transform=\"rotate(0,261.312075,32.108258)\">3</text>\n",
       "  <text x=\"101.656038\" y=\"55.248403\" font-size=\"1.0rem\" font-weight=\"100\" text-anchor=\"middle\" transform=\"rotate(45,101.656038,55.248403)\">11</text>\n",
       "</svg>\n",
       "        </td>\n",
       "    </tr>\n",
       "</table></div></li><li class='xr-var-item'><div class='xr-var-name'><span>relative_humidity</span></div><div class='xr-var-dims'>(longitude, latitude, level, time)</div><div class='xr-var-dtype'>float64</div><div class='xr-var-preview xr-preview'>dask.array&lt;chunksize=(11, 11, 3, 100), meta=np.ndarray&gt;</div><input id='attrs-4fdf9603-dcb7-4189-a085-05d0d5f98ad0' class='xr-var-attrs-in' type='checkbox' disabled><label for='attrs-4fdf9603-dcb7-4189-a085-05d0d5f98ad0' title='Show/Hide attributes'><svg class='icon xr-icon-file-text2'><use xlink:href='#icon-file-text2'></use></svg></label><input id='data-d4e26d5b-0a95-4f20-bb66-48fa42808e5d' class='xr-var-data-in' type='checkbox'><label for='data-d4e26d5b-0a95-4f20-bb66-48fa42808e5d' title='Show/Hide data repr'><svg class='icon xr-icon-database'><use xlink:href='#icon-database'></use></svg></label><div class='xr-var-attrs'><dl class='xr-attrs'></dl></div><div class='xr-var-data'><table>\n",
       "    <tr>\n",
       "        <td>\n",
       "            <table style=\"border-collapse: collapse;\">\n",
       "                <thead>\n",
       "                    <tr>\n",
       "                        <td> </td>\n",
       "                        <th> Array </th>\n",
       "                        <th> Chunk </th>\n",
       "                    </tr>\n",
       "                </thead>\n",
       "                <tbody>\n",
       "                    \n",
       "                    <tr>\n",
       "                        <th> Bytes </th>\n",
       "                        <td> 819.59 kiB </td>\n",
       "                        <td> 283.59 kiB </td>\n",
       "                    </tr>\n",
       "                    \n",
       "                    <tr>\n",
       "                        <th> Shape </th>\n",
       "                        <td> (11, 11, 3, 289) </td>\n",
       "                        <td> (11, 11, 3, 100) </td>\n",
       "                    </tr>\n",
       "                    <tr>\n",
       "                        <th> Dask graph </th>\n",
       "                        <td colspan=\"2\"> 3 chunks in 6 graph layers </td>\n",
       "                    </tr>\n",
       "                    <tr>\n",
       "                        <th> Data type </th>\n",
       "                        <td colspan=\"2\"> float64 numpy.ndarray </td>\n",
       "                    </tr>\n",
       "                </tbody>\n",
       "            </table>\n",
       "        </td>\n",
       "        <td>\n",
       "        <svg width=\"393\" height=\"94\" style=\"stroke:rgb(0,0,0);stroke-width:1\" >\n",
       "\n",
       "  <!-- Horizontal lines -->\n",
       "  <line x1=\"0\" y1=\"0\" x2=\"32\" y2=\"0\" style=\"stroke-width:2\" />\n",
       "  <line x1=\"0\" y1=\"25\" x2=\"32\" y2=\"25\" style=\"stroke-width:2\" />\n",
       "\n",
       "  <!-- Vertical lines -->\n",
       "  <line x1=\"0\" y1=\"0\" x2=\"0\" y2=\"25\" style=\"stroke-width:2\" />\n",
       "  <line x1=\"32\" y1=\"0\" x2=\"32\" y2=\"25\" style=\"stroke-width:2\" />\n",
       "\n",
       "  <!-- Colored Rectangle -->\n",
       "  <polygon points=\"0.0,0.0 32.83052805118105,0.0 32.83052805118105,25.412616514582485 0.0,25.412616514582485\" style=\"fill:#ECB172A0;stroke-width:0\"/>\n",
       "\n",
       "  <!-- Text -->\n",
       "  <text x=\"16.415264\" y=\"45.412617\" font-size=\"1.0rem\" font-weight=\"100\" text-anchor=\"middle\" >11</text>\n",
       "  <text x=\"52.830528\" y=\"12.706308\" font-size=\"1.0rem\" font-weight=\"100\" text-anchor=\"middle\" transform=\"rotate(0,52.830528,12.706308)\">1</text>\n",
       "\n",
       "\n",
       "  <!-- Horizontal lines -->\n",
       "  <line x1=\"102\" y1=\"0\" x2=\"121\" y2=\"19\" style=\"stroke-width:2\" />\n",
       "  <line x1=\"102\" y1=\"25\" x2=\"121\" y2=\"44\" style=\"stroke-width:2\" />\n",
       "\n",
       "  <!-- Vertical lines -->\n",
       "  <line x1=\"102\" y1=\"0\" x2=\"102\" y2=\"25\" style=\"stroke-width:2\" />\n",
       "  <line x1=\"121\" y1=\"19\" x2=\"121\" y2=\"44\" style=\"stroke-width:2\" />\n",
       "\n",
       "  <!-- Colored Rectangle -->\n",
       "  <polygon points=\"102.0,0.0 121.31207532422414,19.312075324224146 121.31207532422414,44.90444046507049 102.0,25.59236514084635\" style=\"fill:#ECB172A0;stroke-width:0\"/>\n",
       "\n",
       "  <!-- Horizontal lines -->\n",
       "  <line x1=\"102\" y1=\"0\" x2=\"222\" y2=\"0\" style=\"stroke-width:2\" />\n",
       "  <line x1=\"121\" y1=\"19\" x2=\"241\" y2=\"19\" style=\"stroke-width:2\" />\n",
       "\n",
       "  <!-- Vertical lines -->\n",
       "  <line x1=\"102\" y1=\"0\" x2=\"121\" y2=\"19\" style=\"stroke-width:2\" />\n",
       "  <line x1=\"143\" y1=\"0\" x2=\"162\" y2=\"19\" />\n",
       "  <line x1=\"185\" y1=\"0\" x2=\"204\" y2=\"19\" />\n",
       "  <line x1=\"222\" y1=\"0\" x2=\"241\" y2=\"19\" style=\"stroke-width:2\" />\n",
       "\n",
       "  <!-- Colored Rectangle -->\n",
       "  <polygon points=\"102.0,0.0 222.0,0.0 241.31207532422414,19.312075324224146 121.31207532422414,19.312075324224146\" style=\"fill:#ECB172A0;stroke-width:0\"/>\n",
       "\n",
       "  <!-- Horizontal lines -->\n",
       "  <line x1=\"121\" y1=\"19\" x2=\"241\" y2=\"19\" style=\"stroke-width:2\" />\n",
       "  <line x1=\"121\" y1=\"44\" x2=\"241\" y2=\"44\" style=\"stroke-width:2\" />\n",
       "\n",
       "  <!-- Vertical lines -->\n",
       "  <line x1=\"121\" y1=\"19\" x2=\"121\" y2=\"44\" style=\"stroke-width:2\" />\n",
       "  <line x1=\"162\" y1=\"19\" x2=\"162\" y2=\"44\" />\n",
       "  <line x1=\"204\" y1=\"19\" x2=\"204\" y2=\"44\" />\n",
       "  <line x1=\"241\" y1=\"19\" x2=\"241\" y2=\"44\" style=\"stroke-width:2\" />\n",
       "\n",
       "  <!-- Colored Rectangle -->\n",
       "  <polygon points=\"121.31207532422414,19.312075324224146 241.31207532422414,19.312075324224146 241.31207532422414,44.90444046507049 121.31207532422414,44.90444046507049\" style=\"fill:#ECB172A0;stroke-width:0\"/>\n",
       "\n",
       "  <!-- Text -->\n",
       "  <text x=\"181.312075\" y=\"64.904440\" font-size=\"1.0rem\" font-weight=\"100\" text-anchor=\"middle\" >289</text>\n",
       "  <text x=\"261.312075\" y=\"32.108258\" font-size=\"1.0rem\" font-weight=\"100\" text-anchor=\"middle\" transform=\"rotate(0,261.312075,32.108258)\">3</text>\n",
       "  <text x=\"101.656038\" y=\"55.248403\" font-size=\"1.0rem\" font-weight=\"100\" text-anchor=\"middle\" transform=\"rotate(45,101.656038,55.248403)\">11</text>\n",
       "</svg>\n",
       "        </td>\n",
       "    </tr>\n",
       "</table></div></li><li class='xr-var-item'><div class='xr-var-name'><span>eastward_wind</span></div><div class='xr-var-dims'>(longitude, latitude, level, time)</div><div class='xr-var-dtype'>float64</div><div class='xr-var-preview xr-preview'>dask.array&lt;chunksize=(11, 11, 3, 100), meta=np.ndarray&gt;</div><input id='attrs-f0a67b53-fdfe-4ee1-9b69-9765665aaf10' class='xr-var-attrs-in' type='checkbox' disabled><label for='attrs-f0a67b53-fdfe-4ee1-9b69-9765665aaf10' title='Show/Hide attributes'><svg class='icon xr-icon-file-text2'><use xlink:href='#icon-file-text2'></use></svg></label><input id='data-d2b6aa1e-9a7d-41c3-834e-51c3931ac688' class='xr-var-data-in' type='checkbox'><label for='data-d2b6aa1e-9a7d-41c3-834e-51c3931ac688' title='Show/Hide data repr'><svg class='icon xr-icon-database'><use xlink:href='#icon-database'></use></svg></label><div class='xr-var-attrs'><dl class='xr-attrs'></dl></div><div class='xr-var-data'><table>\n",
       "    <tr>\n",
       "        <td>\n",
       "            <table style=\"border-collapse: collapse;\">\n",
       "                <thead>\n",
       "                    <tr>\n",
       "                        <td> </td>\n",
       "                        <th> Array </th>\n",
       "                        <th> Chunk </th>\n",
       "                    </tr>\n",
       "                </thead>\n",
       "                <tbody>\n",
       "                    \n",
       "                    <tr>\n",
       "                        <th> Bytes </th>\n",
       "                        <td> 819.59 kiB </td>\n",
       "                        <td> 283.59 kiB </td>\n",
       "                    </tr>\n",
       "                    \n",
       "                    <tr>\n",
       "                        <th> Shape </th>\n",
       "                        <td> (11, 11, 3, 289) </td>\n",
       "                        <td> (11, 11, 3, 100) </td>\n",
       "                    </tr>\n",
       "                    <tr>\n",
       "                        <th> Dask graph </th>\n",
       "                        <td colspan=\"2\"> 3 chunks in 6 graph layers </td>\n",
       "                    </tr>\n",
       "                    <tr>\n",
       "                        <th> Data type </th>\n",
       "                        <td colspan=\"2\"> float64 numpy.ndarray </td>\n",
       "                    </tr>\n",
       "                </tbody>\n",
       "            </table>\n",
       "        </td>\n",
       "        <td>\n",
       "        <svg width=\"393\" height=\"94\" style=\"stroke:rgb(0,0,0);stroke-width:1\" >\n",
       "\n",
       "  <!-- Horizontal lines -->\n",
       "  <line x1=\"0\" y1=\"0\" x2=\"32\" y2=\"0\" style=\"stroke-width:2\" />\n",
       "  <line x1=\"0\" y1=\"25\" x2=\"32\" y2=\"25\" style=\"stroke-width:2\" />\n",
       "\n",
       "  <!-- Vertical lines -->\n",
       "  <line x1=\"0\" y1=\"0\" x2=\"0\" y2=\"25\" style=\"stroke-width:2\" />\n",
       "  <line x1=\"32\" y1=\"0\" x2=\"32\" y2=\"25\" style=\"stroke-width:2\" />\n",
       "\n",
       "  <!-- Colored Rectangle -->\n",
       "  <polygon points=\"0.0,0.0 32.83052805118105,0.0 32.83052805118105,25.412616514582485 0.0,25.412616514582485\" style=\"fill:#ECB172A0;stroke-width:0\"/>\n",
       "\n",
       "  <!-- Text -->\n",
       "  <text x=\"16.415264\" y=\"45.412617\" font-size=\"1.0rem\" font-weight=\"100\" text-anchor=\"middle\" >11</text>\n",
       "  <text x=\"52.830528\" y=\"12.706308\" font-size=\"1.0rem\" font-weight=\"100\" text-anchor=\"middle\" transform=\"rotate(0,52.830528,12.706308)\">1</text>\n",
       "\n",
       "\n",
       "  <!-- Horizontal lines -->\n",
       "  <line x1=\"102\" y1=\"0\" x2=\"121\" y2=\"19\" style=\"stroke-width:2\" />\n",
       "  <line x1=\"102\" y1=\"25\" x2=\"121\" y2=\"44\" style=\"stroke-width:2\" />\n",
       "\n",
       "  <!-- Vertical lines -->\n",
       "  <line x1=\"102\" y1=\"0\" x2=\"102\" y2=\"25\" style=\"stroke-width:2\" />\n",
       "  <line x1=\"121\" y1=\"19\" x2=\"121\" y2=\"44\" style=\"stroke-width:2\" />\n",
       "\n",
       "  <!-- Colored Rectangle -->\n",
       "  <polygon points=\"102.0,0.0 121.31207532422414,19.312075324224146 121.31207532422414,44.90444046507049 102.0,25.59236514084635\" style=\"fill:#ECB172A0;stroke-width:0\"/>\n",
       "\n",
       "  <!-- Horizontal lines -->\n",
       "  <line x1=\"102\" y1=\"0\" x2=\"222\" y2=\"0\" style=\"stroke-width:2\" />\n",
       "  <line x1=\"121\" y1=\"19\" x2=\"241\" y2=\"19\" style=\"stroke-width:2\" />\n",
       "\n",
       "  <!-- Vertical lines -->\n",
       "  <line x1=\"102\" y1=\"0\" x2=\"121\" y2=\"19\" style=\"stroke-width:2\" />\n",
       "  <line x1=\"143\" y1=\"0\" x2=\"162\" y2=\"19\" />\n",
       "  <line x1=\"185\" y1=\"0\" x2=\"204\" y2=\"19\" />\n",
       "  <line x1=\"222\" y1=\"0\" x2=\"241\" y2=\"19\" style=\"stroke-width:2\" />\n",
       "\n",
       "  <!-- Colored Rectangle -->\n",
       "  <polygon points=\"102.0,0.0 222.0,0.0 241.31207532422414,19.312075324224146 121.31207532422414,19.312075324224146\" style=\"fill:#ECB172A0;stroke-width:0\"/>\n",
       "\n",
       "  <!-- Horizontal lines -->\n",
       "  <line x1=\"121\" y1=\"19\" x2=\"241\" y2=\"19\" style=\"stroke-width:2\" />\n",
       "  <line x1=\"121\" y1=\"44\" x2=\"241\" y2=\"44\" style=\"stroke-width:2\" />\n",
       "\n",
       "  <!-- Vertical lines -->\n",
       "  <line x1=\"121\" y1=\"19\" x2=\"121\" y2=\"44\" style=\"stroke-width:2\" />\n",
       "  <line x1=\"162\" y1=\"19\" x2=\"162\" y2=\"44\" />\n",
       "  <line x1=\"204\" y1=\"19\" x2=\"204\" y2=\"44\" />\n",
       "  <line x1=\"241\" y1=\"19\" x2=\"241\" y2=\"44\" style=\"stroke-width:2\" />\n",
       "\n",
       "  <!-- Colored Rectangle -->\n",
       "  <polygon points=\"121.31207532422414,19.312075324224146 241.31207532422414,19.312075324224146 241.31207532422414,44.90444046507049 121.31207532422414,44.90444046507049\" style=\"fill:#ECB172A0;stroke-width:0\"/>\n",
       "\n",
       "  <!-- Text -->\n",
       "  <text x=\"181.312075\" y=\"64.904440\" font-size=\"1.0rem\" font-weight=\"100\" text-anchor=\"middle\" >289</text>\n",
       "  <text x=\"261.312075\" y=\"32.108258\" font-size=\"1.0rem\" font-weight=\"100\" text-anchor=\"middle\" transform=\"rotate(0,261.312075,32.108258)\">3</text>\n",
       "  <text x=\"101.656038\" y=\"55.248403\" font-size=\"1.0rem\" font-weight=\"100\" text-anchor=\"middle\" transform=\"rotate(45,101.656038,55.248403)\">11</text>\n",
       "</svg>\n",
       "        </td>\n",
       "    </tr>\n",
       "</table></div></li><li class='xr-var-item'><div class='xr-var-name'><span>northward_wind</span></div><div class='xr-var-dims'>(longitude, latitude, level, time)</div><div class='xr-var-dtype'>float64</div><div class='xr-var-preview xr-preview'>dask.array&lt;chunksize=(11, 11, 3, 100), meta=np.ndarray&gt;</div><input id='attrs-9f8a1ee9-afd9-4e08-b2af-8c7e1153d284' class='xr-var-attrs-in' type='checkbox' disabled><label for='attrs-9f8a1ee9-afd9-4e08-b2af-8c7e1153d284' title='Show/Hide attributes'><svg class='icon xr-icon-file-text2'><use xlink:href='#icon-file-text2'></use></svg></label><input id='data-5636f9cb-c054-40f6-b7e8-91c358ff1330' class='xr-var-data-in' type='checkbox'><label for='data-5636f9cb-c054-40f6-b7e8-91c358ff1330' title='Show/Hide data repr'><svg class='icon xr-icon-database'><use xlink:href='#icon-database'></use></svg></label><div class='xr-var-attrs'><dl class='xr-attrs'></dl></div><div class='xr-var-data'><table>\n",
       "    <tr>\n",
       "        <td>\n",
       "            <table style=\"border-collapse: collapse;\">\n",
       "                <thead>\n",
       "                    <tr>\n",
       "                        <td> </td>\n",
       "                        <th> Array </th>\n",
       "                        <th> Chunk </th>\n",
       "                    </tr>\n",
       "                </thead>\n",
       "                <tbody>\n",
       "                    \n",
       "                    <tr>\n",
       "                        <th> Bytes </th>\n",
       "                        <td> 819.59 kiB </td>\n",
       "                        <td> 283.59 kiB </td>\n",
       "                    </tr>\n",
       "                    \n",
       "                    <tr>\n",
       "                        <th> Shape </th>\n",
       "                        <td> (11, 11, 3, 289) </td>\n",
       "                        <td> (11, 11, 3, 100) </td>\n",
       "                    </tr>\n",
       "                    <tr>\n",
       "                        <th> Dask graph </th>\n",
       "                        <td colspan=\"2\"> 3 chunks in 6 graph layers </td>\n",
       "                    </tr>\n",
       "                    <tr>\n",
       "                        <th> Data type </th>\n",
       "                        <td colspan=\"2\"> float64 numpy.ndarray </td>\n",
       "                    </tr>\n",
       "                </tbody>\n",
       "            </table>\n",
       "        </td>\n",
       "        <td>\n",
       "        <svg width=\"393\" height=\"94\" style=\"stroke:rgb(0,0,0);stroke-width:1\" >\n",
       "\n",
       "  <!-- Horizontal lines -->\n",
       "  <line x1=\"0\" y1=\"0\" x2=\"32\" y2=\"0\" style=\"stroke-width:2\" />\n",
       "  <line x1=\"0\" y1=\"25\" x2=\"32\" y2=\"25\" style=\"stroke-width:2\" />\n",
       "\n",
       "  <!-- Vertical lines -->\n",
       "  <line x1=\"0\" y1=\"0\" x2=\"0\" y2=\"25\" style=\"stroke-width:2\" />\n",
       "  <line x1=\"32\" y1=\"0\" x2=\"32\" y2=\"25\" style=\"stroke-width:2\" />\n",
       "\n",
       "  <!-- Colored Rectangle -->\n",
       "  <polygon points=\"0.0,0.0 32.83052805118105,0.0 32.83052805118105,25.412616514582485 0.0,25.412616514582485\" style=\"fill:#ECB172A0;stroke-width:0\"/>\n",
       "\n",
       "  <!-- Text -->\n",
       "  <text x=\"16.415264\" y=\"45.412617\" font-size=\"1.0rem\" font-weight=\"100\" text-anchor=\"middle\" >11</text>\n",
       "  <text x=\"52.830528\" y=\"12.706308\" font-size=\"1.0rem\" font-weight=\"100\" text-anchor=\"middle\" transform=\"rotate(0,52.830528,12.706308)\">1</text>\n",
       "\n",
       "\n",
       "  <!-- Horizontal lines -->\n",
       "  <line x1=\"102\" y1=\"0\" x2=\"121\" y2=\"19\" style=\"stroke-width:2\" />\n",
       "  <line x1=\"102\" y1=\"25\" x2=\"121\" y2=\"44\" style=\"stroke-width:2\" />\n",
       "\n",
       "  <!-- Vertical lines -->\n",
       "  <line x1=\"102\" y1=\"0\" x2=\"102\" y2=\"25\" style=\"stroke-width:2\" />\n",
       "  <line x1=\"121\" y1=\"19\" x2=\"121\" y2=\"44\" style=\"stroke-width:2\" />\n",
       "\n",
       "  <!-- Colored Rectangle -->\n",
       "  <polygon points=\"102.0,0.0 121.31207532422414,19.312075324224146 121.31207532422414,44.90444046507049 102.0,25.59236514084635\" style=\"fill:#ECB172A0;stroke-width:0\"/>\n",
       "\n",
       "  <!-- Horizontal lines -->\n",
       "  <line x1=\"102\" y1=\"0\" x2=\"222\" y2=\"0\" style=\"stroke-width:2\" />\n",
       "  <line x1=\"121\" y1=\"19\" x2=\"241\" y2=\"19\" style=\"stroke-width:2\" />\n",
       "\n",
       "  <!-- Vertical lines -->\n",
       "  <line x1=\"102\" y1=\"0\" x2=\"121\" y2=\"19\" style=\"stroke-width:2\" />\n",
       "  <line x1=\"143\" y1=\"0\" x2=\"162\" y2=\"19\" />\n",
       "  <line x1=\"185\" y1=\"0\" x2=\"204\" y2=\"19\" />\n",
       "  <line x1=\"222\" y1=\"0\" x2=\"241\" y2=\"19\" style=\"stroke-width:2\" />\n",
       "\n",
       "  <!-- Colored Rectangle -->\n",
       "  <polygon points=\"102.0,0.0 222.0,0.0 241.31207532422414,19.312075324224146 121.31207532422414,19.312075324224146\" style=\"fill:#ECB172A0;stroke-width:0\"/>\n",
       "\n",
       "  <!-- Horizontal lines -->\n",
       "  <line x1=\"121\" y1=\"19\" x2=\"241\" y2=\"19\" style=\"stroke-width:2\" />\n",
       "  <line x1=\"121\" y1=\"44\" x2=\"241\" y2=\"44\" style=\"stroke-width:2\" />\n",
       "\n",
       "  <!-- Vertical lines -->\n",
       "  <line x1=\"121\" y1=\"19\" x2=\"121\" y2=\"44\" style=\"stroke-width:2\" />\n",
       "  <line x1=\"162\" y1=\"19\" x2=\"162\" y2=\"44\" />\n",
       "  <line x1=\"204\" y1=\"19\" x2=\"204\" y2=\"44\" />\n",
       "  <line x1=\"241\" y1=\"19\" x2=\"241\" y2=\"44\" style=\"stroke-width:2\" />\n",
       "\n",
       "  <!-- Colored Rectangle -->\n",
       "  <polygon points=\"121.31207532422414,19.312075324224146 241.31207532422414,19.312075324224146 241.31207532422414,44.90444046507049 121.31207532422414,44.90444046507049\" style=\"fill:#ECB172A0;stroke-width:0\"/>\n",
       "\n",
       "  <!-- Text -->\n",
       "  <text x=\"181.312075\" y=\"64.904440\" font-size=\"1.0rem\" font-weight=\"100\" text-anchor=\"middle\" >289</text>\n",
       "  <text x=\"261.312075\" y=\"32.108258\" font-size=\"1.0rem\" font-weight=\"100\" text-anchor=\"middle\" transform=\"rotate(0,261.312075,32.108258)\">3</text>\n",
       "  <text x=\"101.656038\" y=\"55.248403\" font-size=\"1.0rem\" font-weight=\"100\" text-anchor=\"middle\" transform=\"rotate(45,101.656038,55.248403)\">11</text>\n",
       "</svg>\n",
       "        </td>\n",
       "    </tr>\n",
       "</table></div></li><li class='xr-var-item'><div class='xr-var-name'><span>lagrangian_tendency_of_air_pressure</span></div><div class='xr-var-dims'>(longitude, latitude, level, time)</div><div class='xr-var-dtype'>float64</div><div class='xr-var-preview xr-preview'>dask.array&lt;chunksize=(11, 11, 3, 100), meta=np.ndarray&gt;</div><input id='attrs-ec08190c-9ea9-4baa-b25d-3fa035d44072' class='xr-var-attrs-in' type='checkbox' disabled><label for='attrs-ec08190c-9ea9-4baa-b25d-3fa035d44072' title='Show/Hide attributes'><svg class='icon xr-icon-file-text2'><use xlink:href='#icon-file-text2'></use></svg></label><input id='data-ee5e57e6-c4cb-45d0-9850-21ae618e3adf' class='xr-var-data-in' type='checkbox'><label for='data-ee5e57e6-c4cb-45d0-9850-21ae618e3adf' title='Show/Hide data repr'><svg class='icon xr-icon-database'><use xlink:href='#icon-database'></use></svg></label><div class='xr-var-attrs'><dl class='xr-attrs'></dl></div><div class='xr-var-data'><table>\n",
       "    <tr>\n",
       "        <td>\n",
       "            <table style=\"border-collapse: collapse;\">\n",
       "                <thead>\n",
       "                    <tr>\n",
       "                        <td> </td>\n",
       "                        <th> Array </th>\n",
       "                        <th> Chunk </th>\n",
       "                    </tr>\n",
       "                </thead>\n",
       "                <tbody>\n",
       "                    \n",
       "                    <tr>\n",
       "                        <th> Bytes </th>\n",
       "                        <td> 819.59 kiB </td>\n",
       "                        <td> 283.59 kiB </td>\n",
       "                    </tr>\n",
       "                    \n",
       "                    <tr>\n",
       "                        <th> Shape </th>\n",
       "                        <td> (11, 11, 3, 289) </td>\n",
       "                        <td> (11, 11, 3, 100) </td>\n",
       "                    </tr>\n",
       "                    <tr>\n",
       "                        <th> Dask graph </th>\n",
       "                        <td colspan=\"2\"> 3 chunks in 6 graph layers </td>\n",
       "                    </tr>\n",
       "                    <tr>\n",
       "                        <th> Data type </th>\n",
       "                        <td colspan=\"2\"> float64 numpy.ndarray </td>\n",
       "                    </tr>\n",
       "                </tbody>\n",
       "            </table>\n",
       "        </td>\n",
       "        <td>\n",
       "        <svg width=\"393\" height=\"94\" style=\"stroke:rgb(0,0,0);stroke-width:1\" >\n",
       "\n",
       "  <!-- Horizontal lines -->\n",
       "  <line x1=\"0\" y1=\"0\" x2=\"32\" y2=\"0\" style=\"stroke-width:2\" />\n",
       "  <line x1=\"0\" y1=\"25\" x2=\"32\" y2=\"25\" style=\"stroke-width:2\" />\n",
       "\n",
       "  <!-- Vertical lines -->\n",
       "  <line x1=\"0\" y1=\"0\" x2=\"0\" y2=\"25\" style=\"stroke-width:2\" />\n",
       "  <line x1=\"32\" y1=\"0\" x2=\"32\" y2=\"25\" style=\"stroke-width:2\" />\n",
       "\n",
       "  <!-- Colored Rectangle -->\n",
       "  <polygon points=\"0.0,0.0 32.83052805118105,0.0 32.83052805118105,25.412616514582485 0.0,25.412616514582485\" style=\"fill:#ECB172A0;stroke-width:0\"/>\n",
       "\n",
       "  <!-- Text -->\n",
       "  <text x=\"16.415264\" y=\"45.412617\" font-size=\"1.0rem\" font-weight=\"100\" text-anchor=\"middle\" >11</text>\n",
       "  <text x=\"52.830528\" y=\"12.706308\" font-size=\"1.0rem\" font-weight=\"100\" text-anchor=\"middle\" transform=\"rotate(0,52.830528,12.706308)\">1</text>\n",
       "\n",
       "\n",
       "  <!-- Horizontal lines -->\n",
       "  <line x1=\"102\" y1=\"0\" x2=\"121\" y2=\"19\" style=\"stroke-width:2\" />\n",
       "  <line x1=\"102\" y1=\"25\" x2=\"121\" y2=\"44\" style=\"stroke-width:2\" />\n",
       "\n",
       "  <!-- Vertical lines -->\n",
       "  <line x1=\"102\" y1=\"0\" x2=\"102\" y2=\"25\" style=\"stroke-width:2\" />\n",
       "  <line x1=\"121\" y1=\"19\" x2=\"121\" y2=\"44\" style=\"stroke-width:2\" />\n",
       "\n",
       "  <!-- Colored Rectangle -->\n",
       "  <polygon points=\"102.0,0.0 121.31207532422414,19.312075324224146 121.31207532422414,44.90444046507049 102.0,25.59236514084635\" style=\"fill:#ECB172A0;stroke-width:0\"/>\n",
       "\n",
       "  <!-- Horizontal lines -->\n",
       "  <line x1=\"102\" y1=\"0\" x2=\"222\" y2=\"0\" style=\"stroke-width:2\" />\n",
       "  <line x1=\"121\" y1=\"19\" x2=\"241\" y2=\"19\" style=\"stroke-width:2\" />\n",
       "\n",
       "  <!-- Vertical lines -->\n",
       "  <line x1=\"102\" y1=\"0\" x2=\"121\" y2=\"19\" style=\"stroke-width:2\" />\n",
       "  <line x1=\"143\" y1=\"0\" x2=\"162\" y2=\"19\" />\n",
       "  <line x1=\"185\" y1=\"0\" x2=\"204\" y2=\"19\" />\n",
       "  <line x1=\"222\" y1=\"0\" x2=\"241\" y2=\"19\" style=\"stroke-width:2\" />\n",
       "\n",
       "  <!-- Colored Rectangle -->\n",
       "  <polygon points=\"102.0,0.0 222.0,0.0 241.31207532422414,19.312075324224146 121.31207532422414,19.312075324224146\" style=\"fill:#ECB172A0;stroke-width:0\"/>\n",
       "\n",
       "  <!-- Horizontal lines -->\n",
       "  <line x1=\"121\" y1=\"19\" x2=\"241\" y2=\"19\" style=\"stroke-width:2\" />\n",
       "  <line x1=\"121\" y1=\"44\" x2=\"241\" y2=\"44\" style=\"stroke-width:2\" />\n",
       "\n",
       "  <!-- Vertical lines -->\n",
       "  <line x1=\"121\" y1=\"19\" x2=\"121\" y2=\"44\" style=\"stroke-width:2\" />\n",
       "  <line x1=\"162\" y1=\"19\" x2=\"162\" y2=\"44\" />\n",
       "  <line x1=\"204\" y1=\"19\" x2=\"204\" y2=\"44\" />\n",
       "  <line x1=\"241\" y1=\"19\" x2=\"241\" y2=\"44\" style=\"stroke-width:2\" />\n",
       "\n",
       "  <!-- Colored Rectangle -->\n",
       "  <polygon points=\"121.31207532422414,19.312075324224146 241.31207532422414,19.312075324224146 241.31207532422414,44.90444046507049 121.31207532422414,44.90444046507049\" style=\"fill:#ECB172A0;stroke-width:0\"/>\n",
       "\n",
       "  <!-- Text -->\n",
       "  <text x=\"181.312075\" y=\"64.904440\" font-size=\"1.0rem\" font-weight=\"100\" text-anchor=\"middle\" >289</text>\n",
       "  <text x=\"261.312075\" y=\"32.108258\" font-size=\"1.0rem\" font-weight=\"100\" text-anchor=\"middle\" transform=\"rotate(0,261.312075,32.108258)\">3</text>\n",
       "  <text x=\"101.656038\" y=\"55.248403\" font-size=\"1.0rem\" font-weight=\"100\" text-anchor=\"middle\" transform=\"rotate(45,101.656038,55.248403)\">11</text>\n",
       "</svg>\n",
       "        </td>\n",
       "    </tr>\n",
       "</table></div></li></ul></div></li><li class='xr-section-item'><input id='section-847bd163-3027-4134-be6a-2bd7f7cacf2e' class='xr-section-summary-in' type='checkbox'  ><label for='section-847bd163-3027-4134-be6a-2bd7f7cacf2e' class='xr-section-summary' >Indexes: <span>(4)</span></label><div class='xr-section-inline-details'></div><div class='xr-section-details'><ul class='xr-var-list'><li class='xr-var-item'><div class='xr-index-name'><div>longitude</div></div><div class='xr-index-preview'>PandasIndex</div><div></div><input id='index-47afa446-335e-4a69-b97c-abf7156d2eb2' class='xr-index-data-in' type='checkbox'/><label for='index-47afa446-335e-4a69-b97c-abf7156d2eb2' title='Show/Hide index repr'><svg class='icon xr-icon-database'><use xlink:href='#icon-database'></use></svg></label><div class='xr-index-data'><pre>PandasIndex(Index([                  -1.0,                   -0.9,                   -0.8,\n",
       "          -0.7000000000000001,    -0.6000000000000001,    -0.5000000000000001,\n",
       "         -0.40000000000000013,   -0.30000000000000016,   -0.20000000000000018,\n",
       "          -0.1000000000000002, -2.220446049250313e-16],\n",
       "      dtype=&#x27;float64&#x27;, name=&#x27;longitude&#x27;))</pre></div></li><li class='xr-var-item'><div class='xr-index-name'><div>latitude</div></div><div class='xr-index-preview'>PandasIndex</div><div></div><input id='index-b9d108d5-7fc8-41de-b4ac-6f95595a8376' class='xr-index-data-in' type='checkbox'/><label for='index-b9d108d5-7fc8-41de-b4ac-6f95595a8376' title='Show/Hide index repr'><svg class='icon xr-icon-database'><use xlink:href='#icon-database'></use></svg></label><div class='xr-index-data'><pre>PandasIndex(Index([                  -1.0,                   -0.9,                   -0.8,\n",
       "          -0.7000000000000001,    -0.6000000000000001,    -0.5000000000000001,\n",
       "         -0.40000000000000013,   -0.30000000000000016,   -0.20000000000000018,\n",
       "          -0.1000000000000002, -2.220446049250313e-16],\n",
       "      dtype=&#x27;float64&#x27;, name=&#x27;latitude&#x27;))</pre></div></li><li class='xr-var-item'><div class='xr-index-name'><div>level</div></div><div class='xr-index-preview'>PandasIndex</div><div></div><input id='index-0b9d65a9-bcab-447a-a8aa-1e1c35f1f8e9' class='xr-index-data-in' type='checkbox'/><label for='index-0b9d65a9-bcab-447a-a8aa-1e1c35f1f8e9' title='Show/Hide index repr'><svg class='icon xr-icon-database'><use xlink:href='#icon-database'></use></svg></label><div class='xr-index-data'><pre>PandasIndex(Index([193.30062328740988, 209.15835847374416, 226.31700909926982], dtype=&#x27;float64&#x27;, name=&#x27;level&#x27;))</pre></div></li><li class='xr-var-item'><div class='xr-index-name'><div>time</div></div><div class='xr-index-preview'>PandasIndex</div><div></div><input id='index-46e9df36-413e-49be-b15f-2d5fbb1e1e27' class='xr-index-data-in' type='checkbox'/><label for='index-46e9df36-413e-49be-b15f-2d5fbb1e1e27' title='Show/Hide index repr'><svg class='icon xr-icon-database'><use xlink:href='#icon-database'></use></svg></label><div class='xr-index-data'><pre>PandasIndex(DatetimeIndex([&#x27;2022-03-01 21:00:00&#x27;, &#x27;2022-03-01 21:05:00&#x27;,\n",
       "               &#x27;2022-03-01 21:10:00&#x27;, &#x27;2022-03-01 21:15:00&#x27;,\n",
       "               &#x27;2022-03-01 21:20:00&#x27;, &#x27;2022-03-01 21:25:00&#x27;,\n",
       "               &#x27;2022-03-01 21:30:00&#x27;, &#x27;2022-03-01 21:35:00&#x27;,\n",
       "               &#x27;2022-03-01 21:40:00&#x27;, &#x27;2022-03-01 21:45:00&#x27;,\n",
       "               ...\n",
       "               &#x27;2022-03-02 20:15:00&#x27;, &#x27;2022-03-02 20:20:00&#x27;,\n",
       "               &#x27;2022-03-02 20:25:00&#x27;, &#x27;2022-03-02 20:30:00&#x27;,\n",
       "               &#x27;2022-03-02 20:35:00&#x27;, &#x27;2022-03-02 20:40:00&#x27;,\n",
       "               &#x27;2022-03-02 20:45:00&#x27;, &#x27;2022-03-02 20:50:00&#x27;,\n",
       "               &#x27;2022-03-02 20:55:00&#x27;, &#x27;2022-03-02 21:00:00&#x27;],\n",
       "              dtype=&#x27;datetime64[ns]&#x27;, name=&#x27;time&#x27;, length=289, freq=None))</pre></div></li></ul></div></li><li class='xr-section-item'><input id='section-e2b11a11-b3f5-49f0-9012-71ac0bbd0019' class='xr-section-summary-in' type='checkbox' disabled ><label for='section-e2b11a11-b3f5-49f0-9012-71ac0bbd0019' class='xr-section-summary'  title='Expand/collapse section'>Attributes: <span>(0)</span></label><div class='xr-section-inline-details'></div><div class='xr-section-details'><dl class='xr-attrs'></dl></div></li></ul></div></div>"
      ],
      "text/plain": [
       "MetDataset with data:\n",
       "\n",
       "<xarray.Dataset> Size: 5MB\n",
       "Dimensions:                              (longitude: 11, latitude: 11,\n",
       "                                          level: 3, time: 289)\n",
       "Coordinates:\n",
       "  * longitude                            (longitude) float64 88B -1.0 ... -2....\n",
       "  * latitude                             (latitude) float64 88B -1.0 ... -2.2...\n",
       "  * level                                (level) float64 24B 193.3 209.2 226.3\n",
       "  * time                                 (time) datetime64[ns] 2kB 2022-03-01...\n",
       "    air_pressure                         (level) float64 24B 1.933e+04 ... 2....\n",
       "    altitude                             (level) float64 24B 1.2e+04 ... 1.1e+04\n",
       "Data variables:\n",
       "    air_temperature                      (longitude, latitude, level, time) float64 839kB dask.array<chunksize=(11, 11, 3, 100), meta=np.ndarray>\n",
       "    specific_humidity                    (longitude, latitude, level, time) float64 839kB dask.array<chunksize=(11, 11, 3, 100), meta=np.ndarray>\n",
       "    relative_humidity                    (longitude, latitude, level, time) float64 839kB dask.array<chunksize=(11, 11, 3, 100), meta=np.ndarray>\n",
       "    eastward_wind                        (longitude, latitude, level, time) float64 839kB dask.array<chunksize=(11, 11, 3, 100), meta=np.ndarray>\n",
       "    northward_wind                       (longitude, latitude, level, time) float64 839kB dask.array<chunksize=(11, 11, 3, 100), meta=np.ndarray>\n",
       "    lagrangian_tendency_of_air_pressure  (longitude, latitude, level, time) float64 839kB dask.array<chunksize=(11, 11, 3, 100), meta=np.ndarray>"
      ]
     },
     "execution_count": 7,
     "metadata": {},
     "output_type": "execute_result"
    }
   ],
   "source": [
    "# generate artifical met dataset (boxm currently only supports zero-wind scenarios)\n",
    "data_vars = {\n",
    "    param: (\n",
    "        [\"longitude\", \"latitude\", \"level\", \"time\"],\n",
    "        da.full(\n",
    "            (len(lons), len(lats), len(alts), len(times)),\n",
    "            value,\n",
    "            chunks=(len(lons), len(lats), len(alts), 100),\n",
    "        ),\n",
    "    )\n",
    "    for param, value in met_params.items()\n",
    "}\n",
    "\n",
    "met = xr.Dataset(\n",
    "    data_vars,\n",
    "    coords={\"longitude\": lons, \"latitude\": lats, \"level\": units.m_to_pl(alts), \"time\": times},\n",
    ")\n",
    "\n",
    "met = MetDataset(met)\n",
    "\n",
    "met"
   ]
  },
  {
   "cell_type": "code",
   "execution_count": 8,
   "metadata": {},
   "outputs": [],
   "source": [
    "# instantiate FlightGen object\n",
    "fl_gen = FlightGen(met, fl_params, plume_params, chem_params)"
   ]
  },
  {
   "cell_type": "code",
   "execution_count": 9,
   "metadata": {},
   "outputs": [
    {
     "data": {
      "text/plain": [
       "[Flight [4 keys x 10 length, 3 attributes]\n",
       " \tKeys: longitude, latitude, altitude, time\n",
       " \tAttributes:\n",
       " \ttime                [2022-03-02 14:00:00, 2022-03-02 14:18:00]\n",
       " \tlongitude           [-0.8, -0.114]\n",
       " \tlatitude            [-0.8, -0.109]\n",
       " \taltitude            [11500.0, 11500.0]\n",
       " \tflight_id           0\n",
       " \taircraft_type       A320\n",
       " \tcrs                 EPSG:4326]"
      ]
     },
     "execution_count": 9,
     "metadata": {},
     "output_type": "execute_result"
    }
   ],
   "source": [
    "fl = fl_gen.traj_gen()\n",
    "\n",
    "fl"
   ]
  },
  {
   "cell_type": "code",
   "execution_count": 10,
   "metadata": {},
   "outputs": [
    {
     "name": "stdout",
     "output_type": "stream",
     "text": [
      "Calculating CO2 emissions indices: 3.16\n",
      "Calculating H2O emissions indices: 1.23\n",
      "Calculating SO2 emissions indices: 0.00084\n",
      "Calculating nvPM emissions indices: [7.17e-05 7.17e-05 7.17e-05 7.17e-05 7.17e-05 7.17e-05 7.17e-05 7.17e-05\n",
      " 7.17e-05      nan]\n",
      "Calculating NO emissions indices: [0.01260816 0.01260816 0.01260816 0.01260816 0.01260816 0.01260816\n",
      " 0.01260816 0.01260816 0.01260816        nan]\n",
      "Calculating NO2 emissions indices: [0.00066359 0.00066359 0.00066359 0.00066359 0.00066359 0.00066359\n",
      " 0.00066359 0.00066359 0.00066359        nan]\n",
      "Calculating CO emissions indices: [0.0005606 0.0005606 0.0005606 0.0005606 0.0005606 0.0005606 0.0005606\n",
      " 0.0005606 0.0005606       nan]\n",
      "Calculating HCHO emissions indices: [6.56316157e-06 6.56316157e-06 6.56316157e-06 6.56316157e-06\n",
      " 6.56316157e-06 6.56316157e-06 6.56316157e-06 6.56316157e-06\n",
      " 6.56316157e-06            nan]\n",
      "Calculating CH3CHO emissions indices: [2.18772052e-06 2.18772052e-06 2.18772052e-06 2.18772052e-06\n",
      " 2.18772052e-06 2.18772052e-06 2.18772052e-06 2.18772052e-06\n",
      " 2.18772052e-06            nan]\n",
      "Calculating C2H4 emissions indices: [8.20395197e-06 8.20395197e-06 8.20395197e-06 8.20395197e-06\n",
      " 8.20395197e-06 8.20395197e-06 8.20395197e-06 8.20395197e-06\n",
      " 8.20395197e-06            nan]\n",
      "Calculating C3H6 emissions indices: [2.18772052e-06 2.18772052e-06 2.18772052e-06 2.18772052e-06\n",
      " 2.18772052e-06 2.18772052e-06 2.18772052e-06 2.18772052e-06\n",
      " 2.18772052e-06            nan]\n",
      "Calculating C2H2 emissions indices: [2.18772052e-06 2.18772052e-06 2.18772052e-06 2.18772052e-06\n",
      " 2.18772052e-06 2.18772052e-06 2.18772052e-06 2.18772052e-06\n",
      " 2.18772052e-06            nan]\n",
      "Calculating BENZENE emissions indices: [1.09386026e-06 1.09386026e-06 1.09386026e-06 1.09386026e-06\n",
      " 1.09386026e-06 1.09386026e-06 1.09386026e-06 1.09386026e-06\n",
      " 1.09386026e-06            nan]\n"
     ]
    },
    {
     "name": "stderr",
     "output_type": "stream",
     "text": [
      "/home/ktait98/pycontrails_kt/pycontrails/ext/flight_gen.py:128: FutureWarning: Series.fillna with 'method' is deprecated and will raise in a future version. Use obj.ffill() or obj.bfill() instead.\n",
      "  flights[i].dataframe[column] = flights[i].dataframe[column].fillna(method='ffill')\n"
     ]
    }
   ],
   "source": [
    "# estimate fuel burn and emissions using ps_model and emissions model\n",
    "fl = fl_gen.calc_fb_emissions()\n"
   ]
  },
  {
   "cell_type": "code",
   "execution_count": 11,
   "metadata": {},
   "outputs": [
    {
     "data": {
      "image/png": "[encoded data removed]",
      "text/plain": [
       "<Figure size 640x480 with 1 Axes>"
      ]
     },
     "metadata": {},
     "output_type": "display_data"
    }
   ],
   "source": [
    "# visualise the fleet\n",
    "ax = plt.axes()\n",
    "ax.set_xlim([lons[0], lons[-1]])\n",
    "ax.set_ylim([lats[0], lats[-1]])\n",
    "for i in fl:\n",
    "    i.plot(ax=ax)"
   ]
  },
  {
   "cell_type": "code",
   "execution_count": 12,
   "metadata": {},
   "outputs": [
    {
     "name": "stderr",
     "output_type": "stream",
     "text": [
      "/home/ktait98/pycontrails_kt/pycontrails/ext/flight_gen.py:183: FutureWarning: Series.fillna with 'method' is deprecated and will raise in a future version. Use obj.ffill() or obj.bfill() instead.\n",
      "  flights[i][column] = flights[i][column].fillna(method='ffill')\n"
     ]
    },
    {
     "data": {
      "text/html": [
       "<div>\n",
       "<style scoped>\n",
       "    .dataframe tbody tr th:only-of-type {\n",
       "        vertical-align: middle;\n",
       "    }\n",
       "\n",
       "    .dataframe tbody tr th {\n",
       "        vertical-align: top;\n",
       "    }\n",
       "\n",
       "    .dataframe thead th {\n",
       "        text-align: right;\n",
       "    }\n",
       "</style>\n",
       "<table border=\"1\" class=\"dataframe\">\n",
       "  <thead>\n",
       "    <tr style=\"text-align: right;\">\n",
       "      <th></th>\n",
       "      <th>longitude</th>\n",
       "      <th>latitude</th>\n",
       "      <th>altitude</th>\n",
       "      <th>time</th>\n",
       "      <th>air_temperature</th>\n",
       "      <th>specific_humidity</th>\n",
       "      <th>true_airspeed</th>\n",
       "      <th>flight_id</th>\n",
       "      <th>aircraft_mass</th>\n",
       "      <th>engine_efficiency</th>\n",
       "      <th>fuel_flow</th>\n",
       "      <th>fuel_burn</th>\n",
       "      <th>thrust</th>\n",
       "      <th>rocd</th>\n",
       "      <th>fuel_flow_per_engine</th>\n",
       "      <th>...</th>\n",
       "      <th>nvpm_number</th>\n",
       "      <th>CO2</th>\n",
       "      <th>H2O</th>\n",
       "      <th>SO2</th>\n",
       "      <th>nvPM</th>\n",
       "      <th>NO</th>\n",
       "      <th>NO2</th>\n",
       "      <th>CO</th>\n",
       "      <th>HCHO</th>\n",
       "      <th>CH3CHO</th>\n",
       "      <th>C2H4</th>\n",
       "      <th>C3H6</th>\n",
       "      <th>C2H2</th>\n",
       "      <th>BENZENE</th>\n",
       "      <th>waypoint</th>\n",
       "    </tr>\n",
       "  </thead>\n",
       "  <tbody>\n",
       "    <tr>\n",
       "      <th>0</th>\n",
       "      <td>-0.800000</td>\n",
       "      <td>-0.800000</td>\n",
       "      <td>11500.0</td>\n",
       "      <td>2022-03-02 14:00:00</td>\n",
       "      <td>240.0</td>\n",
       "      <td>0.001</td>\n",
       "      <td>100.226641</td>\n",
       "      <td>0.0</td>\n",
       "      <td>60355.747889</td>\n",
       "      <td>0.099498</td>\n",
       "      <td>0.869221</td>\n",
       "      <td>104.306539</td>\n",
       "      <td>86971.857009</td>\n",
       "      <td>0.0</td>\n",
       "      <td>0.434611</td>\n",
       "      <td>...</td>\n",
       "      <td>1.136941e+17</td>\n",
       "      <td>0.000001</td>\n",
       "      <td>4.266898e-07</td>\n",
       "      <td>2.913979e-10</td>\n",
       "      <td>2.487289e-11</td>\n",
       "      <td>4.373800e-09</td>\n",
       "      <td>2.302000e-10</td>\n",
       "      <td>1.944746e-10</td>\n",
       "      <td>2.276775e-12</td>\n",
       "      <td>7.589251e-13</td>\n",
       "      <td>2.845969e-12</td>\n",
       "      <td>7.589251e-13</td>\n",
       "      <td>7.589251e-13</td>\n",
       "      <td>3.794626e-13</td>\n",
       "      <td>0</td>\n",
       "    </tr>\n",
       "    <tr>\n",
       "      <th>1</th>\n",
       "      <td>-0.723776</td>\n",
       "      <td>-0.723258</td>\n",
       "      <td>11500.0</td>\n",
       "      <td>2022-03-02 14:02:00</td>\n",
       "      <td>240.0</td>\n",
       "      <td>0.001</td>\n",
       "      <td>100.227482</td>\n",
       "      <td>0.0</td>\n",
       "      <td>60251.441351</td>\n",
       "      <td>0.099499</td>\n",
       "      <td>0.869221</td>\n",
       "      <td>104.306502</td>\n",
       "      <td>86683.787706</td>\n",
       "      <td>0.0</td>\n",
       "      <td>0.434610</td>\n",
       "      <td>...</td>\n",
       "      <td>1.136941e+17</td>\n",
       "      <td>0.000001</td>\n",
       "      <td>4.266860e-07</td>\n",
       "      <td>2.913953e-10</td>\n",
       "      <td>2.487267e-11</td>\n",
       "      <td>4.373762e-09</td>\n",
       "      <td>2.301980e-10</td>\n",
       "      <td>1.944729e-10</td>\n",
       "      <td>2.276756e-12</td>\n",
       "      <td>7.589185e-13</td>\n",
       "      <td>2.845944e-12</td>\n",
       "      <td>7.589185e-13</td>\n",
       "      <td>7.589185e-13</td>\n",
       "      <td>3.794593e-13</td>\n",
       "      <td>1</td>\n",
       "    </tr>\n",
       "    <tr>\n",
       "      <th>2</th>\n",
       "      <td>-0.647552</td>\n",
       "      <td>-0.646515</td>\n",
       "      <td>11500.0</td>\n",
       "      <td>2022-03-02 14:04:00</td>\n",
       "      <td>240.0</td>\n",
       "      <td>0.001</td>\n",
       "      <td>100.228235</td>\n",
       "      <td>0.0</td>\n",
       "      <td>60147.134849</td>\n",
       "      <td>0.099500</td>\n",
       "      <td>0.869221</td>\n",
       "      <td>104.306470</td>\n",
       "      <td>86396.366660</td>\n",
       "      <td>0.0</td>\n",
       "      <td>0.434610</td>\n",
       "      <td>...</td>\n",
       "      <td>1.136941e+17</td>\n",
       "      <td>0.000001</td>\n",
       "      <td>4.266827e-07</td>\n",
       "      <td>2.913931e-10</td>\n",
       "      <td>2.487248e-11</td>\n",
       "      <td>4.373728e-09</td>\n",
       "      <td>2.301962e-10</td>\n",
       "      <td>1.944713e-10</td>\n",
       "      <td>2.276738e-12</td>\n",
       "      <td>7.589126e-13</td>\n",
       "      <td>2.845922e-12</td>\n",
       "      <td>7.589126e-13</td>\n",
       "      <td>7.589126e-13</td>\n",
       "      <td>3.794563e-13</td>\n",
       "      <td>2</td>\n",
       "    </tr>\n",
       "    <tr>\n",
       "      <th>3</th>\n",
       "      <td>-0.571328</td>\n",
       "      <td>-0.569773</td>\n",
       "      <td>11500.0</td>\n",
       "      <td>2022-03-02 14:06:00</td>\n",
       "      <td>240.0</td>\n",
       "      <td>0.001</td>\n",
       "      <td>100.228898</td>\n",
       "      <td>0.0</td>\n",
       "      <td>60042.828379</td>\n",
       "      <td>0.099500</td>\n",
       "      <td>0.869220</td>\n",
       "      <td>104.306441</td>\n",
       "      <td>86109.592281</td>\n",
       "      <td>0.0</td>\n",
       "      <td>0.434610</td>\n",
       "      <td>...</td>\n",
       "      <td>1.136940e+17</td>\n",
       "      <td>0.000001</td>\n",
       "      <td>4.266797e-07</td>\n",
       "      <td>2.913910e-10</td>\n",
       "      <td>2.487231e-11</td>\n",
       "      <td>4.373698e-09</td>\n",
       "      <td>2.301946e-10</td>\n",
       "      <td>1.944700e-10</td>\n",
       "      <td>2.276722e-12</td>\n",
       "      <td>7.589074e-13</td>\n",
       "      <td>2.845903e-12</td>\n",
       "      <td>7.589074e-13</td>\n",
       "      <td>7.589074e-13</td>\n",
       "      <td>3.794537e-13</td>\n",
       "      <td>3</td>\n",
       "    </tr>\n",
       "    <tr>\n",
       "      <th>4</th>\n",
       "      <td>-0.495104</td>\n",
       "      <td>-0.493031</td>\n",
       "      <td>11500.0</td>\n",
       "      <td>2022-03-02 14:08:00</td>\n",
       "      <td>240.0</td>\n",
       "      <td>0.001</td>\n",
       "      <td>100.229471</td>\n",
       "      <td>0.0</td>\n",
       "      <td>59938.521938</td>\n",
       "      <td>0.099501</td>\n",
       "      <td>0.869220</td>\n",
       "      <td>104.306416</td>\n",
       "      <td>85823.462986</td>\n",
       "      <td>0.0</td>\n",
       "      <td>0.434610</td>\n",
       "      <td>...</td>\n",
       "      <td>1.136940e+17</td>\n",
       "      <td>0.000001</td>\n",
       "      <td>4.266772e-07</td>\n",
       "      <td>2.913893e-10</td>\n",
       "      <td>2.487216e-11</td>\n",
       "      <td>4.373671e-09</td>\n",
       "      <td>2.301932e-10</td>\n",
       "      <td>1.944688e-10</td>\n",
       "      <td>2.276708e-12</td>\n",
       "      <td>7.589028e-13</td>\n",
       "      <td>2.845886e-12</td>\n",
       "      <td>7.589028e-13</td>\n",
       "      <td>7.589028e-13</td>\n",
       "      <td>3.794514e-13</td>\n",
       "      <td>4</td>\n",
       "    </tr>\n",
       "    <tr>\n",
       "      <th>5</th>\n",
       "      <td>-0.418881</td>\n",
       "      <td>-0.416289</td>\n",
       "      <td>11500.0</td>\n",
       "      <td>2022-03-02 14:10:00</td>\n",
       "      <td>240.0</td>\n",
       "      <td>0.001</td>\n",
       "      <td>100.229956</td>\n",
       "      <td>0.0</td>\n",
       "      <td>59834.215522</td>\n",
       "      <td>0.099502</td>\n",
       "      <td>0.869220</td>\n",
       "      <td>104.306395</td>\n",
       "      <td>85537.977196</td>\n",
       "      <td>0.0</td>\n",
       "      <td>0.434610</td>\n",
       "      <td>...</td>\n",
       "      <td>1.136940e+17</td>\n",
       "      <td>0.000001</td>\n",
       "      <td>4.266751e-07</td>\n",
       "      <td>2.913878e-10</td>\n",
       "      <td>2.487203e-11</td>\n",
       "      <td>4.373649e-09</td>\n",
       "      <td>2.301921e-10</td>\n",
       "      <td>1.944679e-10</td>\n",
       "      <td>2.276697e-12</td>\n",
       "      <td>7.588990e-13</td>\n",
       "      <td>2.845871e-12</td>\n",
       "      <td>7.588990e-13</td>\n",
       "      <td>7.588990e-13</td>\n",
       "      <td>3.794495e-13</td>\n",
       "      <td>5</td>\n",
       "    </tr>\n",
       "    <tr>\n",
       "      <th>6</th>\n",
       "      <td>-0.342657</td>\n",
       "      <td>-0.339546</td>\n",
       "      <td>11500.0</td>\n",
       "      <td>2022-03-02 14:12:00</td>\n",
       "      <td>240.0</td>\n",
       "      <td>0.001</td>\n",
       "      <td>100.230351</td>\n",
       "      <td>0.0</td>\n",
       "      <td>59729.909127</td>\n",
       "      <td>0.099502</td>\n",
       "      <td>0.869220</td>\n",
       "      <td>104.306378</td>\n",
       "      <td>85252.665603</td>\n",
       "      <td>0.0</td>\n",
       "      <td>0.434610</td>\n",
       "      <td>...</td>\n",
       "      <td>1.136940e+17</td>\n",
       "      <td>0.000001</td>\n",
       "      <td>4.266733e-07</td>\n",
       "      <td>2.913866e-10</td>\n",
       "      <td>2.487193e-11</td>\n",
       "      <td>4.373631e-09</td>\n",
       "      <td>2.301911e-10</td>\n",
       "      <td>1.944671e-10</td>\n",
       "      <td>2.276688e-12</td>\n",
       "      <td>7.588959e-13</td>\n",
       "      <td>2.845860e-12</td>\n",
       "      <td>7.588959e-13</td>\n",
       "      <td>7.588959e-13</td>\n",
       "      <td>3.794479e-13</td>\n",
       "      <td>6</td>\n",
       "    </tr>\n",
       "    <tr>\n",
       "      <th>7</th>\n",
       "      <td>-0.266433</td>\n",
       "      <td>-0.262804</td>\n",
       "      <td>11500.0</td>\n",
       "      <td>2022-03-02 14:14:00</td>\n",
       "      <td>240.0</td>\n",
       "      <td>0.001</td>\n",
       "      <td>100.229717</td>\n",
       "      <td>0.0</td>\n",
       "      <td>59625.602750</td>\n",
       "      <td>0.099502</td>\n",
       "      <td>0.869220</td>\n",
       "      <td>104.306405</td>\n",
       "      <td>84969.934151</td>\n",
       "      <td>0.0</td>\n",
       "      <td>0.434610</td>\n",
       "      <td>...</td>\n",
       "      <td>1.136940e+17</td>\n",
       "      <td>0.000001</td>\n",
       "      <td>4.266761e-07</td>\n",
       "      <td>2.913886e-10</td>\n",
       "      <td>2.487210e-11</td>\n",
       "      <td>4.373660e-09</td>\n",
       "      <td>2.301926e-10</td>\n",
       "      <td>1.944684e-10</td>\n",
       "      <td>2.276703e-12</td>\n",
       "      <td>7.589009e-13</td>\n",
       "      <td>2.845878e-12</td>\n",
       "      <td>7.589009e-13</td>\n",
       "      <td>7.589009e-13</td>\n",
       "      <td>3.794504e-13</td>\n",
       "      <td>7</td>\n",
       "    </tr>\n",
       "    <tr>\n",
       "      <th>8</th>\n",
       "      <td>-0.190212</td>\n",
       "      <td>-0.186060</td>\n",
       "      <td>11500.0</td>\n",
       "      <td>2022-03-02 14:16:00</td>\n",
       "      <td>240.0</td>\n",
       "      <td>0.001</td>\n",
       "      <td>100.228994</td>\n",
       "      <td>0.0</td>\n",
       "      <td>59521.296344</td>\n",
       "      <td>0.099501</td>\n",
       "      <td>0.869220</td>\n",
       "      <td>104.306437</td>\n",
       "      <td>84688.233511</td>\n",
       "      <td>0.0</td>\n",
       "      <td>0.434610</td>\n",
       "      <td>...</td>\n",
       "      <td>1.136940e+17</td>\n",
       "      <td>0.000001</td>\n",
       "      <td>4.266793e-07</td>\n",
       "      <td>2.913908e-10</td>\n",
       "      <td>2.487228e-11</td>\n",
       "      <td>4.373693e-09</td>\n",
       "      <td>2.301944e-10</td>\n",
       "      <td>1.944698e-10</td>\n",
       "      <td>2.276720e-12</td>\n",
       "      <td>7.589066e-13</td>\n",
       "      <td>2.845900e-12</td>\n",
       "      <td>7.589066e-13</td>\n",
       "      <td>7.589066e-13</td>\n",
       "      <td>3.794533e-13</td>\n",
       "      <td>8</td>\n",
       "    </tr>\n",
       "    <tr>\n",
       "      <th>9</th>\n",
       "      <td>-0.113994</td>\n",
       "      <td>-0.109315</td>\n",
       "      <td>11500.0</td>\n",
       "      <td>2022-03-02 14:18:00</td>\n",
       "      <td>240.0</td>\n",
       "      <td>0.001</td>\n",
       "      <td>100.228994</td>\n",
       "      <td>0.0</td>\n",
       "      <td>59416.989908</td>\n",
       "      <td>0.099501</td>\n",
       "      <td>0.869220</td>\n",
       "      <td>104.306437</td>\n",
       "      <td>84688.233511</td>\n",
       "      <td>0.0</td>\n",
       "      <td>0.434610</td>\n",
       "      <td>...</td>\n",
       "      <td>1.136940e+17</td>\n",
       "      <td>0.000001</td>\n",
       "      <td>4.266793e-07</td>\n",
       "      <td>2.913908e-10</td>\n",
       "      <td>2.487228e-11</td>\n",
       "      <td>4.373693e-09</td>\n",
       "      <td>2.301944e-10</td>\n",
       "      <td>1.944698e-10</td>\n",
       "      <td>2.276720e-12</td>\n",
       "      <td>7.589066e-13</td>\n",
       "      <td>2.845900e-12</td>\n",
       "      <td>7.589066e-13</td>\n",
       "      <td>7.589066e-13</td>\n",
       "      <td>3.794533e-13</td>\n",
       "      <td>9</td>\n",
       "    </tr>\n",
       "  </tbody>\n",
       "</table>\n",
       "<p>10 rows × 45 columns</p>\n",
       "</div>"
      ],
      "text/plain": [
       "   longitude  latitude  altitude                time  air_temperature  \\\n",
       "0  -0.800000 -0.800000   11500.0 2022-03-02 14:00:00            240.0   \n",
       "1  -0.723776 -0.723258   11500.0 2022-03-02 14:02:00            240.0   \n",
       "2  -0.647552 -0.646515   11500.0 2022-03-02 14:04:00            240.0   \n",
       "3  -0.571328 -0.569773   11500.0 2022-03-02 14:06:00            240.0   \n",
       "4  -0.495104 -0.493031   11500.0 2022-03-02 14:08:00            240.0   \n",
       "5  -0.418881 -0.416289   11500.0 2022-03-02 14:10:00            240.0   \n",
       "6  -0.342657 -0.339546   11500.0 2022-03-02 14:12:00            240.0   \n",
       "7  -0.266433 -0.262804   11500.0 2022-03-02 14:14:00            240.0   \n",
       "8  -0.190212 -0.186060   11500.0 2022-03-02 14:16:00            240.0   \n",
       "9  -0.113994 -0.109315   11500.0 2022-03-02 14:18:00            240.0   \n",
       "\n",
       "   specific_humidity  true_airspeed  flight_id  aircraft_mass  \\\n",
       "0              0.001     100.226641        0.0   60355.747889   \n",
       "1              0.001     100.227482        0.0   60251.441351   \n",
       "2              0.001     100.228235        0.0   60147.134849   \n",
       "3              0.001     100.228898        0.0   60042.828379   \n",
       "4              0.001     100.229471        0.0   59938.521938   \n",
       "5              0.001     100.229956        0.0   59834.215522   \n",
       "6              0.001     100.230351        0.0   59729.909127   \n",
       "7              0.001     100.229717        0.0   59625.602750   \n",
       "8              0.001     100.228994        0.0   59521.296344   \n",
       "9              0.001     100.228994        0.0   59416.989908   \n",
       "\n",
       "   engine_efficiency  fuel_flow   fuel_burn        thrust  rocd  \\\n",
       "0           0.099498   0.869221  104.306539  86971.857009   0.0   \n",
       "1           0.099499   0.869221  104.306502  86683.787706   0.0   \n",
       "2           0.099500   0.869221  104.306470  86396.366660   0.0   \n",
       "3           0.099500   0.869220  104.306441  86109.592281   0.0   \n",
       "4           0.099501   0.869220  104.306416  85823.462986   0.0   \n",
       "5           0.099502   0.869220  104.306395  85537.977196   0.0   \n",
       "6           0.099502   0.869220  104.306378  85252.665603   0.0   \n",
       "7           0.099502   0.869220  104.306405  84969.934151   0.0   \n",
       "8           0.099501   0.869220  104.306437  84688.233511   0.0   \n",
       "9           0.099501   0.869220  104.306437  84688.233511   0.0   \n",
       "\n",
       "   fuel_flow_per_engine  ...   nvpm_number       CO2           H2O  \\\n",
       "0              0.434611  ...  1.136941e+17  0.000001  4.266898e-07   \n",
       "1              0.434610  ...  1.136941e+17  0.000001  4.266860e-07   \n",
       "2              0.434610  ...  1.136941e+17  0.000001  4.266827e-07   \n",
       "3              0.434610  ...  1.136940e+17  0.000001  4.266797e-07   \n",
       "4              0.434610  ...  1.136940e+17  0.000001  4.266772e-07   \n",
       "5              0.434610  ...  1.136940e+17  0.000001  4.266751e-07   \n",
       "6              0.434610  ...  1.136940e+17  0.000001  4.266733e-07   \n",
       "7              0.434610  ...  1.136940e+17  0.000001  4.266761e-07   \n",
       "8              0.434610  ...  1.136940e+17  0.000001  4.266793e-07   \n",
       "9              0.434610  ...  1.136940e+17  0.000001  4.266793e-07   \n",
       "\n",
       "            SO2          nvPM            NO           NO2            CO  \\\n",
       "0  2.913979e-10  2.487289e-11  4.373800e-09  2.302000e-10  1.944746e-10   \n",
       "1  2.913953e-10  2.487267e-11  4.373762e-09  2.301980e-10  1.944729e-10   \n",
       "2  2.913931e-10  2.487248e-11  4.373728e-09  2.301962e-10  1.944713e-10   \n",
       "3  2.913910e-10  2.487231e-11  4.373698e-09  2.301946e-10  1.944700e-10   \n",
       "4  2.913893e-10  2.487216e-11  4.373671e-09  2.301932e-10  1.944688e-10   \n",
       "5  2.913878e-10  2.487203e-11  4.373649e-09  2.301921e-10  1.944679e-10   \n",
       "6  2.913866e-10  2.487193e-11  4.373631e-09  2.301911e-10  1.944671e-10   \n",
       "7  2.913886e-10  2.487210e-11  4.373660e-09  2.301926e-10  1.944684e-10   \n",
       "8  2.913908e-10  2.487228e-11  4.373693e-09  2.301944e-10  1.944698e-10   \n",
       "9  2.913908e-10  2.487228e-11  4.373693e-09  2.301944e-10  1.944698e-10   \n",
       "\n",
       "           HCHO        CH3CHO          C2H4          C3H6          C2H2  \\\n",
       "0  2.276775e-12  7.589251e-13  2.845969e-12  7.589251e-13  7.589251e-13   \n",
       "1  2.276756e-12  7.589185e-13  2.845944e-12  7.589185e-13  7.589185e-13   \n",
       "2  2.276738e-12  7.589126e-13  2.845922e-12  7.589126e-13  7.589126e-13   \n",
       "3  2.276722e-12  7.589074e-13  2.845903e-12  7.589074e-13  7.589074e-13   \n",
       "4  2.276708e-12  7.589028e-13  2.845886e-12  7.589028e-13  7.589028e-13   \n",
       "5  2.276697e-12  7.588990e-13  2.845871e-12  7.588990e-13  7.588990e-13   \n",
       "6  2.276688e-12  7.588959e-13  2.845860e-12  7.588959e-13  7.588959e-13   \n",
       "7  2.276703e-12  7.589009e-13  2.845878e-12  7.589009e-13  7.589009e-13   \n",
       "8  2.276720e-12  7.589066e-13  2.845900e-12  7.589066e-13  7.589066e-13   \n",
       "9  2.276720e-12  7.589066e-13  2.845900e-12  7.589066e-13  7.589066e-13   \n",
       "\n",
       "        BENZENE  waypoint  \n",
       "0  3.794626e-13         0  \n",
       "1  3.794593e-13         1  \n",
       "2  3.794563e-13         2  \n",
       "3  3.794537e-13         3  \n",
       "4  3.794514e-13         4  \n",
       "5  3.794495e-13         5  \n",
       "6  3.794479e-13         6  \n",
       "7  3.794504e-13         7  \n",
       "8  3.794533e-13         8  \n",
       "9  3.794533e-13         9  \n",
       "\n",
       "[10 rows x 45 columns]"
      ]
     },
     "execution_count": 12,
     "metadata": {},
     "output_type": "execute_result"
    }
   ],
   "source": [
    "# simulate plume dispersion/advection using dry advection model\n",
    "fl_df, pl_df = fl_gen.sim_plumes()\n",
    "\n",
    "pd.set_option(\"display.max_rows\", 500)\n",
    "pd.set_option(\"display.max_columns\", 30)\n",
    "\n",
    "fl_df"
   ]
  },
  {
   "cell_type": "code",
   "execution_count": 13,
   "metadata": {},
   "outputs": [],
   "source": [
    "fl_gen.anim_fl(fl_df, pl_df)"
   ]
  },
  {
   "cell_type": "code",
   "execution_count": 14,
   "metadata": {},
   "outputs": [
    {
     "name": "stdout",
     "output_type": "stream",
     "text": [
      "Processing time:  2022-03-02 14:05:00\n"
     ]
    },
    {
     "data": {
      "application/vnd.jupyter.widget-view+json": {
       "model_id": "0f9f2b19a5d2429b8c5de64a0033b26e",
       "version_major": 2,
       "version_minor": 0
      },
      "text/plain": [
       "  0%|          | 0/2 [00:00<?, ?it/s]"
      ]
     },
     "metadata": {},
     "output_type": "display_data"
    },
    {
     "data": {
      "application/vnd.jupyter.widget-view+json": {
       "model_id": "1dda645f389041ef846080540dd5ce6c",
       "version_major": 2,
       "version_minor": 0
      },
      "text/plain": [
       "  0%|          | 0/2 [00:00<?, ?it/s]"
      ]
     },
     "metadata": {},
     "output_type": "display_data"
    },
    {
     "data": {
      "application/vnd.jupyter.widget-view+json": {
       "model_id": "27d23666375049339390700b4353368e",
       "version_major": 2,
       "version_minor": 0
      },
      "text/plain": [
       "  0%|          | 0/2 [00:00<?, ?it/s]"
      ]
     },
     "metadata": {},
     "output_type": "display_data"
    },
    {
     "name": "stdout",
     "output_type": "stream",
     "text": [
      "Processing time:  2022-03-02 14:10:00\n"
     ]
    },
    {
     "data": {
      "application/vnd.jupyter.widget-view+json": {
       "model_id": "fe4ced38e45e45a3a8b90cdc11156b49",
       "version_major": 2,
       "version_minor": 0
      },
      "text/plain": [
       "  0%|          | 0/4 [00:00<?, ?it/s]"
      ]
     },
     "metadata": {},
     "output_type": "display_data"
    },
    {
     "data": {
      "application/vnd.jupyter.widget-view+json": {
       "model_id": "c20b987415e4435183db56ad24078587",
       "version_major": 2,
       "version_minor": 0
      },
      "text/plain": [
       "  0%|          | 0/4 [00:00<?, ?it/s]"
      ]
     },
     "metadata": {},
     "output_type": "display_data"
    },
    {
     "data": {
      "application/vnd.jupyter.widget-view+json": {
       "model_id": "6e049d4ddbee4d4bbee5e65d6a410636",
       "version_major": 2,
       "version_minor": 0
      },
      "text/plain": [
       "  0%|          | 0/4 [00:00<?, ?it/s]"
      ]
     },
     "metadata": {},
     "output_type": "display_data"
    },
    {
     "name": "stdout",
     "output_type": "stream",
     "text": [
      "Processing time:  2022-03-02 14:15:00\n"
     ]
    },
    {
     "data": {
      "application/vnd.jupyter.widget-view+json": {
       "model_id": "0bcd3ac5038a4974a9bb76049d7b34b1",
       "version_major": 2,
       "version_minor": 0
      },
      "text/plain": [
       "  0%|          | 0/7 [00:00<?, ?it/s]"
      ]
     },
     "metadata": {},
     "output_type": "display_data"
    },
    {
     "data": {
      "application/vnd.jupyter.widget-view+json": {
       "model_id": "d41d13b80c3b4cbca7dec8bdf8b18314",
       "version_major": 2,
       "version_minor": 0
      },
      "text/plain": [
       "  0%|          | 0/7 [00:00<?, ?it/s]"
      ]
     },
     "metadata": {},
     "output_type": "display_data"
    },
    {
     "data": {
      "application/vnd.jupyter.widget-view+json": {
       "model_id": "8d0abda2367d4dddb9d6a849c2471f1d",
       "version_major": 2,
       "version_minor": 0
      },
      "text/plain": [
       "  0%|          | 0/7 [00:00<?, ?it/s]"
      ]
     },
     "metadata": {},
     "output_type": "display_data"
    },
    {
     "name": "stdout",
     "output_type": "stream",
     "text": [
      "Processing time:  2022-03-02 14:20:00\n"
     ]
    },
    {
     "data": {
      "application/vnd.jupyter.widget-view+json": {
       "model_id": "dab09d851dac432b9e935433d26b9e1f",
       "version_major": 2,
       "version_minor": 0
      },
      "text/plain": [
       "  0%|          | 0/9 [00:00<?, ?it/s]"
      ]
     },
     "metadata": {},
     "output_type": "display_data"
    },
    {
     "data": {
      "application/vnd.jupyter.widget-view+json": {
       "model_id": "e83031c9f1ca4c20b190c47fe2c777ac",
       "version_major": 2,
       "version_minor": 0
      },
      "text/plain": [
       "  0%|          | 0/9 [00:00<?, ?it/s]"
      ]
     },
     "metadata": {},
     "output_type": "display_data"
    },
    {
     "data": {
      "application/vnd.jupyter.widget-view+json": {
       "model_id": "e0f4314d4a0649c79903f560ae39e020",
       "version_major": 2,
       "version_minor": 0
      },
      "text/plain": [
       "  0%|          | 0/9 [00:00<?, ?it/s]"
      ]
     },
     "metadata": {},
     "output_type": "display_data"
    },
    {
     "name": "stdout",
     "output_type": "stream",
     "text": [
      "Processing time:  2022-03-02 14:25:00\n"
     ]
    },
    {
     "data": {
      "application/vnd.jupyter.widget-view+json": {
       "model_id": "ed5e3300f43a4f339f63b96eb8b9e37c",
       "version_major": 2,
       "version_minor": 0
      },
      "text/plain": [
       "  0%|          | 0/9 [00:00<?, ?it/s]"
      ]
     },
     "metadata": {},
     "output_type": "display_data"
    },
    {
     "data": {
      "application/vnd.jupyter.widget-view+json": {
       "model_id": "d7398eed5c0a41f5af875043b8683716",
       "version_major": 2,
       "version_minor": 0
      },
      "text/plain": [
       "  0%|          | 0/9 [00:00<?, ?it/s]"
      ]
     },
     "metadata": {},
     "output_type": "display_data"
    },
    {
     "data": {
      "application/vnd.jupyter.widget-view+json": {
       "model_id": "ee2f38e977be4a3682598650709bb46b",
       "version_major": 2,
       "version_minor": 0
      },
      "text/plain": [
       "  0%|          | 0/9 [00:00<?, ?it/s]"
      ]
     },
     "metadata": {},
     "output_type": "display_data"
    },
    {
     "name": "stdout",
     "output_type": "stream",
     "text": [
      "Processing time:  2022-03-02 14:30:00\n"
     ]
    },
    {
     "data": {
      "application/vnd.jupyter.widget-view+json": {
       "model_id": "f64cb4d5d33548d2b417d61f4e97cd35",
       "version_major": 2,
       "version_minor": 0
      },
      "text/plain": [
       "  0%|          | 0/9 [00:00<?, ?it/s]"
      ]
     },
     "metadata": {},
     "output_type": "display_data"
    },
    {
     "data": {
      "application/vnd.jupyter.widget-view+json": {
       "model_id": "74b4a7ae9f4b490896fce6a58f2bf5aa",
       "version_major": 2,
       "version_minor": 0
      },
      "text/plain": [
       "  0%|          | 0/9 [00:00<?, ?it/s]"
      ]
     },
     "metadata": {},
     "output_type": "display_data"
    },
    {
     "data": {
      "application/vnd.jupyter.widget-view+json": {
       "model_id": "cb28c74195d74815ab408abde8575cd7",
       "version_major": 2,
       "version_minor": 0
      },
      "text/plain": [
       "  0%|          | 0/9 [00:00<?, ?it/s]"
      ]
     },
     "metadata": {},
     "output_type": "display_data"
    },
    {
     "name": "stdout",
     "output_type": "stream",
     "text": [
      "Processing time:  2022-03-02 14:35:00\n"
     ]
    },
    {
     "data": {
      "application/vnd.jupyter.widget-view+json": {
       "model_id": "a09cd16ba8b644a2a05de662f0697003",
       "version_major": 2,
       "version_minor": 0
      },
      "text/plain": [
       "  0%|          | 0/9 [00:00<?, ?it/s]"
      ]
     },
     "metadata": {},
     "output_type": "display_data"
    },
    {
     "data": {
      "application/vnd.jupyter.widget-view+json": {
       "model_id": "b807a9d2b992451f84e15e0cd00ea3c3",
       "version_major": 2,
       "version_minor": 0
      },
      "text/plain": [
       "  0%|          | 0/9 [00:00<?, ?it/s]"
      ]
     },
     "metadata": {},
     "output_type": "display_data"
    },
    {
     "data": {
      "application/vnd.jupyter.widget-view+json": {
       "model_id": "e8dee466472f4838b3ebd4ad07edb672",
       "version_major": 2,
       "version_minor": 0
      },
      "text/plain": [
       "  0%|          | 0/9 [00:00<?, ?it/s]"
      ]
     },
     "metadata": {},
     "output_type": "display_data"
    },
    {
     "name": "stdout",
     "output_type": "stream",
     "text": [
      "Processing time:  2022-03-02 14:40:00\n"
     ]
    },
    {
     "data": {
      "application/vnd.jupyter.widget-view+json": {
       "model_id": "3cd083bf4e4443cfae394c216e4f58c1",
       "version_major": 2,
       "version_minor": 0
      },
      "text/plain": [
       "  0%|          | 0/9 [00:00<?, ?it/s]"
      ]
     },
     "metadata": {},
     "output_type": "display_data"
    },
    {
     "data": {
      "application/vnd.jupyter.widget-view+json": {
       "model_id": "e6a922de59e440ea837b057c46fd54bb",
       "version_major": 2,
       "version_minor": 0
      },
      "text/plain": [
       "  0%|          | 0/9 [00:00<?, ?it/s]"
      ]
     },
     "metadata": {},
     "output_type": "display_data"
    },
    {
     "data": {
      "application/vnd.jupyter.widget-view+json": {
       "model_id": "22938f0263ad48208fe0e06c2c9469ea",
       "version_major": 2,
       "version_minor": 0
      },
      "text/plain": [
       "  0%|          | 0/9 [00:00<?, ?it/s]"
      ]
     },
     "metadata": {},
     "output_type": "display_data"
    },
    {
     "name": "stdout",
     "output_type": "stream",
     "text": [
      "Processing time:  2022-03-02 14:45:00\n"
     ]
    },
    {
     "data": {
      "application/vnd.jupyter.widget-view+json": {
       "model_id": "f3329eee0b1042629033db359b1ca92f",
       "version_major": 2,
       "version_minor": 0
      },
      "text/plain": [
       "  0%|          | 0/9 [00:00<?, ?it/s]"
      ]
     },
     "metadata": {},
     "output_type": "display_data"
    },
    {
     "data": {
      "application/vnd.jupyter.widget-view+json": {
       "model_id": "354ebfd09b314c1d968aed763578c97e",
       "version_major": 2,
       "version_minor": 0
      },
      "text/plain": [
       "  0%|          | 0/9 [00:00<?, ?it/s]"
      ]
     },
     "metadata": {},
     "output_type": "display_data"
    },
    {
     "data": {
      "application/vnd.jupyter.widget-view+json": {
       "model_id": "0c8481f8da1c4cfbaaac0395014bc52e",
       "version_major": 2,
       "version_minor": 0
      },
      "text/plain": [
       "  0%|          | 0/9 [00:00<?, ?it/s]"
      ]
     },
     "metadata": {},
     "output_type": "display_data"
    },
    {
     "name": "stdout",
     "output_type": "stream",
     "text": [
      "Processing time:  2022-03-02 14:50:00\n"
     ]
    },
    {
     "data": {
      "application/vnd.jupyter.widget-view+json": {
       "model_id": "a28b6806dc0c4d03ad69227f5a88bf49",
       "version_major": 2,
       "version_minor": 0
      },
      "text/plain": [
       "  0%|          | 0/9 [00:00<?, ?it/s]"
      ]
     },
     "metadata": {},
     "output_type": "display_data"
    },
    {
     "data": {
      "application/vnd.jupyter.widget-view+json": {
       "model_id": "327da7c180bd42cabdd94453710ec2ee",
       "version_major": 2,
       "version_minor": 0
      },
      "text/plain": [
       "  0%|          | 0/9 [00:00<?, ?it/s]"
      ]
     },
     "metadata": {},
     "output_type": "display_data"
    },
    {
     "data": {
      "application/vnd.jupyter.widget-view+json": {
       "model_id": "25c37b580269441f8bfc39bff6e19103",
       "version_major": 2,
       "version_minor": 0
      },
      "text/plain": [
       "  0%|          | 0/9 [00:00<?, ?it/s]"
      ]
     },
     "metadata": {},
     "output_type": "display_data"
    },
    {
     "name": "stdout",
     "output_type": "stream",
     "text": [
      "Processing time:  2022-03-02 14:55:00\n"
     ]
    },
    {
     "data": {
      "application/vnd.jupyter.widget-view+json": {
       "model_id": "cd2f49c1e8554ddea2f19d6b21d1048c",
       "version_major": 2,
       "version_minor": 0
      },
      "text/plain": [
       "  0%|          | 0/9 [00:00<?, ?it/s]"
      ]
     },
     "metadata": {},
     "output_type": "display_data"
    },
    {
     "data": {
      "application/vnd.jupyter.widget-view+json": {
       "model_id": "24c77fe2985844c3b9bf32a7aa482064",
       "version_major": 2,
       "version_minor": 0
      },
      "text/plain": [
       "  0%|          | 0/9 [00:00<?, ?it/s]"
      ]
     },
     "metadata": {},
     "output_type": "display_data"
    },
    {
     "data": {
      "application/vnd.jupyter.widget-view+json": {
       "model_id": "78036caf73b746408b83dc04fde1d122",
       "version_major": 2,
       "version_minor": 0
      },
      "text/plain": [
       "  0%|          | 0/9 [00:00<?, ?it/s]"
      ]
     },
     "metadata": {},
     "output_type": "display_data"
    },
    {
     "name": "stdout",
     "output_type": "stream",
     "text": [
      "Processing time:  2022-03-02 15:00:00\n"
     ]
    },
    {
     "data": {
      "application/vnd.jupyter.widget-view+json": {
       "model_id": "75c497ab513c43c3bfa4a4e65cc9fcee",
       "version_major": 2,
       "version_minor": 0
      },
      "text/plain": [
       "  0%|          | 0/9 [00:00<?, ?it/s]"
      ]
     },
     "metadata": {},
     "output_type": "display_data"
    },
    {
     "data": {
      "application/vnd.jupyter.widget-view+json": {
       "model_id": "178212847ebe46dbab4b161da70e7802",
       "version_major": 2,
       "version_minor": 0
      },
      "text/plain": [
       "  0%|          | 0/9 [00:00<?, ?it/s]"
      ]
     },
     "metadata": {},
     "output_type": "display_data"
    },
    {
     "data": {
      "application/vnd.jupyter.widget-view+json": {
       "model_id": "eec235c6a2774da6b6b47aeceeaf6f7f",
       "version_major": 2,
       "version_minor": 0
      },
      "text/plain": [
       "  0%|          | 0/9 [00:00<?, ?it/s]"
      ]
     },
     "metadata": {},
     "output_type": "display_data"
    },
    {
     "name": "stdout",
     "output_type": "stream",
     "text": [
      "Processing time:  2022-03-02 15:05:00\n"
     ]
    },
    {
     "data": {
      "application/vnd.jupyter.widget-view+json": {
       "model_id": "167d0b2bbb284d34a47ba622ed02e0e7",
       "version_major": 2,
       "version_minor": 0
      },
      "text/plain": [
       "  0%|          | 0/9 [00:00<?, ?it/s]"
      ]
     },
     "metadata": {},
     "output_type": "display_data"
    },
    {
     "data": {
      "application/vnd.jupyter.widget-view+json": {
       "model_id": "e2aa1898e3d545309b840351ac7906b1",
       "version_major": 2,
       "version_minor": 0
      },
      "text/plain": [
       "  0%|          | 0/9 [00:00<?, ?it/s]"
      ]
     },
     "metadata": {},
     "output_type": "display_data"
    },
    {
     "data": {
      "application/vnd.jupyter.widget-view+json": {
       "model_id": "4aec13976dca4210a553e9210505a485",
       "version_major": 2,
       "version_minor": 0
      },
      "text/plain": [
       "  0%|          | 0/9 [00:00<?, ?it/s]"
      ]
     },
     "metadata": {},
     "output_type": "display_data"
    },
    {
     "name": "stdout",
     "output_type": "stream",
     "text": [
      "Processing time:  2022-03-02 15:10:00\n"
     ]
    },
    {
     "data": {
      "application/vnd.jupyter.widget-view+json": {
       "model_id": "84041f68122540e4bdf680d2c19bd20f",
       "version_major": 2,
       "version_minor": 0
      },
      "text/plain": [
       "  0%|          | 0/9 [00:00<?, ?it/s]"
      ]
     },
     "metadata": {},
     "output_type": "display_data"
    },
    {
     "data": {
      "application/vnd.jupyter.widget-view+json": {
       "model_id": "b4fa13be75a64e699a0d38de71132280",
       "version_major": 2,
       "version_minor": 0
      },
      "text/plain": [
       "  0%|          | 0/9 [00:00<?, ?it/s]"
      ]
     },
     "metadata": {},
     "output_type": "display_data"
    },
    {
     "data": {
      "application/vnd.jupyter.widget-view+json": {
       "model_id": "dae1c27405c1409f97bc3d1102fb5330",
       "version_major": 2,
       "version_minor": 0
      },
      "text/plain": [
       "  0%|          | 0/9 [00:00<?, ?it/s]"
      ]
     },
     "metadata": {},
     "output_type": "display_data"
    },
    {
     "name": "stdout",
     "output_type": "stream",
     "text": [
      "Processing time:  2022-03-02 15:15:00\n"
     ]
    },
    {
     "data": {
      "application/vnd.jupyter.widget-view+json": {
       "model_id": "6f212941067e448585a3b47770dc59e1",
       "version_major": 2,
       "version_minor": 0
      },
      "text/plain": [
       "  0%|          | 0/9 [00:00<?, ?it/s]"
      ]
     },
     "metadata": {},
     "output_type": "display_data"
    },
    {
     "data": {
      "application/vnd.jupyter.widget-view+json": {
       "model_id": "133d62c61ed34c29911bf456ecf8ab38",
       "version_major": 2,
       "version_minor": 0
      },
      "text/plain": [
       "  0%|          | 0/9 [00:00<?, ?it/s]"
      ]
     },
     "metadata": {},
     "output_type": "display_data"
    },
    {
     "data": {
      "application/vnd.jupyter.widget-view+json": {
       "model_id": "81785d4bf2674ce3a1bc25b054d1846f",
       "version_major": 2,
       "version_minor": 0
      },
      "text/plain": [
       "  0%|          | 0/9 [00:00<?, ?it/s]"
      ]
     },
     "metadata": {},
     "output_type": "display_data"
    },
    {
     "name": "stdout",
     "output_type": "stream",
     "text": [
      "Processing time:  2022-03-02 15:20:00\n"
     ]
    },
    {
     "data": {
      "application/vnd.jupyter.widget-view+json": {
       "model_id": "58c51c0d19a4404ea1651ec2b4503089",
       "version_major": 2,
       "version_minor": 0
      },
      "text/plain": [
       "  0%|          | 0/9 [00:00<?, ?it/s]"
      ]
     },
     "metadata": {},
     "output_type": "display_data"
    },
    {
     "data": {
      "application/vnd.jupyter.widget-view+json": {
       "model_id": "a5c2567b20ba49eabe36a973c8a8be59",
       "version_major": 2,
       "version_minor": 0
      },
      "text/plain": [
       "  0%|          | 0/9 [00:00<?, ?it/s]"
      ]
     },
     "metadata": {},
     "output_type": "display_data"
    },
    {
     "data": {
      "application/vnd.jupyter.widget-view+json": {
       "model_id": "d79ca5ab1e7a4be3a093a61f497e0553",
       "version_major": 2,
       "version_minor": 0
      },
      "text/plain": [
       "  0%|          | 0/9 [00:00<?, ?it/s]"
      ]
     },
     "metadata": {},
     "output_type": "display_data"
    },
    {
     "name": "stdout",
     "output_type": "stream",
     "text": [
      "Processing time:  2022-03-02 15:25:00\n"
     ]
    },
    {
     "data": {
      "application/vnd.jupyter.widget-view+json": {
       "model_id": "ef59eb6d0bf74276a9b0db28d6082600",
       "version_major": 2,
       "version_minor": 0
      },
      "text/plain": [
       "  0%|          | 0/9 [00:00<?, ?it/s]"
      ]
     },
     "metadata": {},
     "output_type": "display_data"
    },
    {
     "data": {
      "application/vnd.jupyter.widget-view+json": {
       "model_id": "753ff5ce1c324fc0a2b3bf82e4d4dc31",
       "version_major": 2,
       "version_minor": 0
      },
      "text/plain": [
       "  0%|          | 0/9 [00:00<?, ?it/s]"
      ]
     },
     "metadata": {},
     "output_type": "display_data"
    },
    {
     "data": {
      "application/vnd.jupyter.widget-view+json": {
       "model_id": "bfdaead875164f569f8aab978e4791d1",
       "version_major": 2,
       "version_minor": 0
      },
      "text/plain": [
       "  0%|          | 0/9 [00:00<?, ?it/s]"
      ]
     },
     "metadata": {},
     "output_type": "display_data"
    },
    {
     "name": "stdout",
     "output_type": "stream",
     "text": [
      "Processing time:  2022-03-02 15:30:00\n"
     ]
    },
    {
     "data": {
      "application/vnd.jupyter.widget-view+json": {
       "model_id": "c34cf39f970b4f1fa0389310f52b197a",
       "version_major": 2,
       "version_minor": 0
      },
      "text/plain": [
       "  0%|          | 0/9 [00:00<?, ?it/s]"
      ]
     },
     "metadata": {},
     "output_type": "display_data"
    },
    {
     "data": {
      "application/vnd.jupyter.widget-view+json": {
       "model_id": "ab84b8e9a2b042fab467b15cf2bdda79",
       "version_major": 2,
       "version_minor": 0
      },
      "text/plain": [
       "  0%|          | 0/9 [00:00<?, ?it/s]"
      ]
     },
     "metadata": {},
     "output_type": "display_data"
    },
    {
     "data": {
      "application/vnd.jupyter.widget-view+json": {
       "model_id": "81d8ac820d7846699371664fe5c08a03",
       "version_major": 2,
       "version_minor": 0
      },
      "text/plain": [
       "  0%|          | 0/9 [00:00<?, ?it/s]"
      ]
     },
     "metadata": {},
     "output_type": "display_data"
    },
    {
     "name": "stdout",
     "output_type": "stream",
     "text": [
      "Processing time:  2022-03-02 15:35:00\n"
     ]
    },
    {
     "data": {
      "application/vnd.jupyter.widget-view+json": {
       "model_id": "9b5bda98d6524660b6a6ead182fa55a1",
       "version_major": 2,
       "version_minor": 0
      },
      "text/plain": [
       "  0%|          | 0/9 [00:00<?, ?it/s]"
      ]
     },
     "metadata": {},
     "output_type": "display_data"
    },
    {
     "data": {
      "application/vnd.jupyter.widget-view+json": {
       "model_id": "8a69f588c0ee4a57ae4d7b54fe529c5d",
       "version_major": 2,
       "version_minor": 0
      },
      "text/plain": [
       "  0%|          | 0/9 [00:00<?, ?it/s]"
      ]
     },
     "metadata": {},
     "output_type": "display_data"
    },
    {
     "data": {
      "application/vnd.jupyter.widget-view+json": {
       "model_id": "0ac34ad88a4748c38cb8062ae1012197",
       "version_major": 2,
       "version_minor": 0
      },
      "text/plain": [
       "  0%|          | 0/9 [00:00<?, ?it/s]"
      ]
     },
     "metadata": {},
     "output_type": "display_data"
    },
    {
     "name": "stdout",
     "output_type": "stream",
     "text": [
      "Processing time:  2022-03-02 15:40:00\n"
     ]
    },
    {
     "data": {
      "application/vnd.jupyter.widget-view+json": {
       "model_id": "3914fbcaa5d44a69976e9f4cfe5a948f",
       "version_major": 2,
       "version_minor": 0
      },
      "text/plain": [
       "  0%|          | 0/9 [00:00<?, ?it/s]"
      ]
     },
     "metadata": {},
     "output_type": "display_data"
    },
    {
     "data": {
      "application/vnd.jupyter.widget-view+json": {
       "model_id": "37050f06679a4692a5be9bf31ba2cf70",
       "version_major": 2,
       "version_minor": 0
      },
      "text/plain": [
       "  0%|          | 0/9 [00:00<?, ?it/s]"
      ]
     },
     "metadata": {},
     "output_type": "display_data"
    },
    {
     "data": {
      "application/vnd.jupyter.widget-view+json": {
       "model_id": "6bce55548d484090b53b298fe8051e24",
       "version_major": 2,
       "version_minor": 0
      },
      "text/plain": [
       "  0%|          | 0/9 [00:00<?, ?it/s]"
      ]
     },
     "metadata": {},
     "output_type": "display_data"
    },
    {
     "name": "stdout",
     "output_type": "stream",
     "text": [
      "Processing time:  2022-03-02 15:45:00\n"
     ]
    },
    {
     "data": {
      "application/vnd.jupyter.widget-view+json": {
       "model_id": "5eb2b54be39d452e8194a8d5ca4baa53",
       "version_major": 2,
       "version_minor": 0
      },
      "text/plain": [
       "  0%|          | 0/9 [00:00<?, ?it/s]"
      ]
     },
     "metadata": {},
     "output_type": "display_data"
    },
    {
     "data": {
      "application/vnd.jupyter.widget-view+json": {
       "model_id": "0677ca80c25c4c1e9d880470684341c0",
       "version_major": 2,
       "version_minor": 0
      },
      "text/plain": [
       "  0%|          | 0/9 [00:00<?, ?it/s]"
      ]
     },
     "metadata": {},
     "output_type": "display_data"
    },
    {
     "data": {
      "application/vnd.jupyter.widget-view+json": {
       "model_id": "fafec396bbea4d72ab1a47e6b7e70bb6",
       "version_major": 2,
       "version_minor": 0
      },
      "text/plain": [
       "  0%|          | 0/9 [00:00<?, ?it/s]"
      ]
     },
     "metadata": {},
     "output_type": "display_data"
    },
    {
     "name": "stdout",
     "output_type": "stream",
     "text": [
      "Processing time:  2022-03-02 15:50:00\n"
     ]
    },
    {
     "data": {
      "application/vnd.jupyter.widget-view+json": {
       "model_id": "86f78d00612e4615ab63bf33209d5ab7",
       "version_major": 2,
       "version_minor": 0
      },
      "text/plain": [
       "  0%|          | 0/9 [00:00<?, ?it/s]"
      ]
     },
     "metadata": {},
     "output_type": "display_data"
    },
    {
     "data": {
      "application/vnd.jupyter.widget-view+json": {
       "model_id": "9de795b6b510417a9b91ea054d70c839",
       "version_major": 2,
       "version_minor": 0
      },
      "text/plain": [
       "  0%|          | 0/9 [00:00<?, ?it/s]"
      ]
     },
     "metadata": {},
     "output_type": "display_data"
    },
    {
     "data": {
      "application/vnd.jupyter.widget-view+json": {
       "model_id": "fc8728cb449e43ea9cf2dee5b266f258",
       "version_major": 2,
       "version_minor": 0
      },
      "text/plain": [
       "  0%|          | 0/9 [00:00<?, ?it/s]"
      ]
     },
     "metadata": {},
     "output_type": "display_data"
    },
    {
     "name": "stdout",
     "output_type": "stream",
     "text": [
      "Processing time:  2022-03-02 15:55:00\n"
     ]
    },
    {
     "data": {
      "application/vnd.jupyter.widget-view+json": {
       "model_id": "4440233215224f2d90e474aae0839f0d",
       "version_major": 2,
       "version_minor": 0
      },
      "text/plain": [
       "  0%|          | 0/9 [00:00<?, ?it/s]"
      ]
     },
     "metadata": {},
     "output_type": "display_data"
    },
    {
     "data": {
      "application/vnd.jupyter.widget-view+json": {
       "model_id": "0d3198ad98914b9491b631272b2488c6",
       "version_major": 2,
       "version_minor": 0
      },
      "text/plain": [
       "  0%|          | 0/9 [00:00<?, ?it/s]"
      ]
     },
     "metadata": {},
     "output_type": "display_data"
    },
    {
     "data": {
      "application/vnd.jupyter.widget-view+json": {
       "model_id": "7f6b5f86c3bf4ca48b0ad0ccc5331167",
       "version_major": 2,
       "version_minor": 0
      },
      "text/plain": [
       "  0%|          | 0/9 [00:00<?, ?it/s]"
      ]
     },
     "metadata": {},
     "output_type": "display_data"
    },
    {
     "name": "stdout",
     "output_type": "stream",
     "text": [
      "Processing time:  2022-03-02 16:00:00\n"
     ]
    },
    {
     "data": {
      "application/vnd.jupyter.widget-view+json": {
       "model_id": "bb5db93ec31a4d928fdd3679deca6443",
       "version_major": 2,
       "version_minor": 0
      },
      "text/plain": [
       "  0%|          | 0/9 [00:00<?, ?it/s]"
      ]
     },
     "metadata": {},
     "output_type": "display_data"
    },
    {
     "data": {
      "application/vnd.jupyter.widget-view+json": {
       "model_id": "a830fd9c48f84fd9a5550e95c1ddd9c5",
       "version_major": 2,
       "version_minor": 0
      },
      "text/plain": [
       "  0%|          | 0/9 [00:00<?, ?it/s]"
      ]
     },
     "metadata": {},
     "output_type": "display_data"
    },
    {
     "data": {
      "application/vnd.jupyter.widget-view+json": {
       "model_id": "63751c9471c64c70ac8845d78b4be8b5",
       "version_major": 2,
       "version_minor": 0
      },
      "text/plain": [
       "  0%|          | 0/9 [00:00<?, ?it/s]"
      ]
     },
     "metadata": {},
     "output_type": "display_data"
    },
    {
     "name": "stdout",
     "output_type": "stream",
     "text": [
      "Processing time:  2022-03-02 16:05:00\n"
     ]
    },
    {
     "data": {
      "application/vnd.jupyter.widget-view+json": {
       "model_id": "f8e5c2d080b145a9a9f942e54bb018cd",
       "version_major": 2,
       "version_minor": 0
      },
      "text/plain": [
       "  0%|          | 0/6 [00:00<?, ?it/s]"
      ]
     },
     "metadata": {},
     "output_type": "display_data"
    },
    {
     "data": {
      "application/vnd.jupyter.widget-view+json": {
       "model_id": "9ecc032a8d2743f4937f14836455ba30",
       "version_major": 2,
       "version_minor": 0
      },
      "text/plain": [
       "  0%|          | 0/6 [00:00<?, ?it/s]"
      ]
     },
     "metadata": {},
     "output_type": "display_data"
    },
    {
     "data": {
      "application/vnd.jupyter.widget-view+json": {
       "model_id": "ac9d429743da4b4f9417a57c338a4250",
       "version_major": 2,
       "version_minor": 0
      },
      "text/plain": [
       "  0%|          | 0/6 [00:00<?, ?it/s]"
      ]
     },
     "metadata": {},
     "output_type": "display_data"
    },
    {
     "name": "stdout",
     "output_type": "stream",
     "text": [
      "Processing time:  2022-03-02 16:10:00\n"
     ]
    },
    {
     "data": {
      "application/vnd.jupyter.widget-view+json": {
       "model_id": "642f97ba01cc4beba0d7fad29b3d4522",
       "version_major": 2,
       "version_minor": 0
      },
      "text/plain": [
       "  0%|          | 0/4 [00:00<?, ?it/s]"
      ]
     },
     "metadata": {},
     "output_type": "display_data"
    },
    {
     "data": {
      "application/vnd.jupyter.widget-view+json": {
       "model_id": "7a68c89fa19e457dbc6208804d0455dc",
       "version_major": 2,
       "version_minor": 0
      },
      "text/plain": [
       "  0%|          | 0/4 [00:00<?, ?it/s]"
      ]
     },
     "metadata": {},
     "output_type": "display_data"
    },
    {
     "data": {
      "application/vnd.jupyter.widget-view+json": {
       "model_id": "c3bafbe3fee44214847cb58fbee28df9",
       "version_major": 2,
       "version_minor": 0
      },
      "text/plain": [
       "  0%|          | 0/4 [00:00<?, ?it/s]"
      ]
     },
     "metadata": {},
     "output_type": "display_data"
    },
    {
     "name": "stdout",
     "output_type": "stream",
     "text": [
      "Processing time:  2022-03-02 16:15:00\n"
     ]
    },
    {
     "data": {
      "application/vnd.jupyter.widget-view+json": {
       "model_id": "f727eaa0e7f04bb2a7036f57eccd62b7",
       "version_major": 2,
       "version_minor": 0
      },
      "text/plain": [
       "  0%|          | 0/1 [00:00<?, ?it/s]"
      ]
     },
     "metadata": {},
     "output_type": "display_data"
    },
    {
     "data": {
      "application/vnd.jupyter.widget-view+json": {
       "model_id": "63de704e02a24e148fc27719cd4c3484",
       "version_major": 2,
       "version_minor": 0
      },
      "text/plain": [
       "  0%|          | 0/1 [00:00<?, ?it/s]"
      ]
     },
     "metadata": {},
     "output_type": "display_data"
    },
    {
     "data": {
      "application/vnd.jupyter.widget-view+json": {
       "model_id": "cbc60ad44ca344458052b4f74ac9d817",
       "version_major": 2,
       "version_minor": 0
      },
      "text/plain": [
       "  0%|          | 0/1 [00:00<?, ?it/s]"
      ]
     },
     "metadata": {},
     "output_type": "display_data"
    }
   ],
   "source": [
    "# convert plume dataframe to EMI geospatial xarray dataset\n",
    "emi = fl_gen.plume_to_grid(lats, lons, alts, times)\n",
    "\n"
   ]
  },
  {
   "cell_type": "code",
   "execution_count": 15,
   "metadata": {},
   "outputs": [
    {
     "data": {
      "text/html": [
       "<div><svg style=\"position: absolute; width: 0; height: 0; overflow: hidden\">\n",
       "<defs>\n",
       "<symbol id=\"icon-database\" viewBox=\"0 0 32 32\">\n",
       "<path d=\"M16 0c-8.837 0-16 2.239-16 5v4c0 2.761 7.163 5 16 5s16-2.239 16-5v-4c0-2.761-7.163-5-16-5z\"></path>\n",
       "<path d=\"M16 17c-8.837 0-16-2.239-16-5v6c0 2.761 7.163 5 16 5s16-2.239 16-5v-6c0 2.761-7.163 5-16 5z\"></path>\n",
       "<path d=\"M16 26c-8.837 0-16-2.239-16-5v6c0 2.761 7.163 5 16 5s16-2.239 16-5v-6c0 2.761-7.163 5-16 5z\"></path>\n",
       "</symbol>\n",
       "<symbol id=\"icon-file-text2\" viewBox=\"0 0 32 32\">\n",
       "<path d=\"M28.681 7.159c-0.694-0.947-1.662-2.053-2.724-3.116s-2.169-2.030-3.116-2.724c-1.612-1.182-2.393-1.319-2.841-1.319h-15.5c-1.378 0-2.5 1.121-2.5 2.5v27c0 1.378 1.122 2.5 2.5 2.5h23c1.378 0 2.5-1.122 2.5-2.5v-19.5c0-0.448-0.137-1.23-1.319-2.841zM24.543 5.457c0.959 0.959 1.712 1.825 2.268 2.543h-4.811v-4.811c0.718 0.556 1.584 1.309 2.543 2.268zM28 29.5c0 0.271-0.229 0.5-0.5 0.5h-23c-0.271 0-0.5-0.229-0.5-0.5v-27c0-0.271 0.229-0.5 0.5-0.5 0 0 15.499-0 15.5 0v7c0 0.552 0.448 1 1 1h7v19.5z\"></path>\n",
       "<path d=\"M23 26h-14c-0.552 0-1-0.448-1-1s0.448-1 1-1h14c0.552 0 1 0.448 1 1s-0.448 1-1 1z\"></path>\n",
       "<path d=\"M23 22h-14c-0.552 0-1-0.448-1-1s0.448-1 1-1h14c0.552 0 1 0.448 1 1s-0.448 1-1 1z\"></path>\n",
       "<path d=\"M23 18h-14c-0.552 0-1-0.448-1-1s0.448-1 1-1h14c0.552 0 1 0.448 1 1s-0.448 1-1 1z\"></path>\n",
       "</symbol>\n",
       "</defs>\n",
       "</svg>\n",
       "<style>/* CSS stylesheet for displaying xarray objects in jupyterlab.\n",
       " *\n",
       " */\n",
       "\n",
       ":root {\n",
       "  --xr-font-color0: var(--jp-content-font-color0, rgba(0, 0, 0, 1));\n",
       "  --xr-font-color2: var(--jp-content-font-color2, rgba(0, 0, 0, 0.54));\n",
       "  --xr-font-color3: var(--jp-content-font-color3, rgba(0, 0, 0, 0.38));\n",
       "  --xr-border-color: var(--jp-border-color2, #e0e0e0);\n",
       "  --xr-disabled-color: var(--jp-layout-color3, #bdbdbd);\n",
       "  --xr-background-color: var(--jp-layout-color0, white);\n",
       "  --xr-background-color-row-even: var(--jp-layout-color1, white);\n",
       "  --xr-background-color-row-odd: var(--jp-layout-color2, #eeeeee);\n",
       "}\n",
       "\n",
       "html[theme=dark],\n",
       "body[data-theme=dark],\n",
       "body.vscode-dark {\n",
       "  --xr-font-color0: rgba(255, 255, 255, 1);\n",
       "  --xr-font-color2: rgba(255, 255, 255, 0.54);\n",
       "  --xr-font-color3: rgba(255, 255, 255, 0.38);\n",
       "  --xr-border-color: #1F1F1F;\n",
       "  --xr-disabled-color: #515151;\n",
       "  --xr-background-color: #111111;\n",
       "  --xr-background-color-row-even: #111111;\n",
       "  --xr-background-color-row-odd: #313131;\n",
       "}\n",
       "\n",
       ".xr-wrap {\n",
       "  display: block !important;\n",
       "  min-width: 300px;\n",
       "  max-width: 700px;\n",
       "}\n",
       "\n",
       ".xr-text-repr-fallback {\n",
       "  /* fallback to plain text repr when CSS is not injected (untrusted notebook) */\n",
       "  display: none;\n",
       "}\n",
       "\n",
       ".xr-header {\n",
       "  padding-top: 6px;\n",
       "  padding-bottom: 6px;\n",
       "  margin-bottom: 4px;\n",
       "  border-bottom: solid 1px var(--xr-border-color);\n",
       "}\n",
       "\n",
       ".xr-header > div,\n",
       ".xr-header > ul {\n",
       "  display: inline;\n",
       "  margin-top: 0;\n",
       "  margin-bottom: 0;\n",
       "}\n",
       "\n",
       ".xr-obj-type,\n",
       ".xr-array-name {\n",
       "  margin-left: 2px;\n",
       "  margin-right: 10px;\n",
       "}\n",
       "\n",
       ".xr-obj-type {\n",
       "  color: var(--xr-font-color2);\n",
       "}\n",
       "\n",
       ".xr-sections {\n",
       "  padding-left: 0 !important;\n",
       "  display: grid;\n",
       "  grid-template-columns: 150px auto auto 1fr 20px 20px;\n",
       "}\n",
       "\n",
       ".xr-section-item {\n",
       "  display: contents;\n",
       "}\n",
       "\n",
       ".xr-section-item input {\n",
       "  display: none;\n",
       "}\n",
       "\n",
       ".xr-section-item input + label {\n",
       "  color: var(--xr-disabled-color);\n",
       "}\n",
       "\n",
       ".xr-section-item input:enabled + label {\n",
       "  cursor: pointer;\n",
       "  color: var(--xr-font-color2);\n",
       "}\n",
       "\n",
       ".xr-section-item input:enabled + label:hover {\n",
       "  color: var(--xr-font-color0);\n",
       "}\n",
       "\n",
       ".xr-section-summary {\n",
       "  grid-column: 1;\n",
       "  color: var(--xr-font-color2);\n",
       "  font-weight: 500;\n",
       "}\n",
       "\n",
       ".xr-section-summary > span {\n",
       "  display: inline-block;\n",
       "  padding-left: 0.5em;\n",
       "}\n",
       "\n",
       ".xr-section-summary-in:disabled + label {\n",
       "  color: var(--xr-font-color2);\n",
       "}\n",
       "\n",
       ".xr-section-summary-in + label:before {\n",
       "  display: inline-block;\n",
       "  content: '►';\n",
       "  font-size: 11px;\n",
       "  width: 15px;\n",
       "  text-align: center;\n",
       "}\n",
       "\n",
       ".xr-section-summary-in:disabled + label:before {\n",
       "  color: var(--xr-disabled-color);\n",
       "}\n",
       "\n",
       ".xr-section-summary-in:checked + label:before {\n",
       "  content: '▼';\n",
       "}\n",
       "\n",
       ".xr-section-summary-in:checked + label > span {\n",
       "  display: none;\n",
       "}\n",
       "\n",
       ".xr-section-summary,\n",
       ".xr-section-inline-details {\n",
       "  padding-top: 4px;\n",
       "  padding-bottom: 4px;\n",
       "}\n",
       "\n",
       ".xr-section-inline-details {\n",
       "  grid-column: 2 / -1;\n",
       "}\n",
       "\n",
       ".xr-section-details {\n",
       "  display: none;\n",
       "  grid-column: 1 / -1;\n",
       "  margin-bottom: 5px;\n",
       "}\n",
       "\n",
       ".xr-section-summary-in:checked ~ .xr-section-details {\n",
       "  display: contents;\n",
       "}\n",
       "\n",
       ".xr-array-wrap {\n",
       "  grid-column: 1 / -1;\n",
       "  display: grid;\n",
       "  grid-template-columns: 20px auto;\n",
       "}\n",
       "\n",
       ".xr-array-wrap > label {\n",
       "  grid-column: 1;\n",
       "  vertical-align: top;\n",
       "}\n",
       "\n",
       ".xr-preview {\n",
       "  color: var(--xr-font-color3);\n",
       "}\n",
       "\n",
       ".xr-array-preview,\n",
       ".xr-array-data {\n",
       "  padding: 0 5px !important;\n",
       "  grid-column: 2;\n",
       "}\n",
       "\n",
       ".xr-array-data,\n",
       ".xr-array-in:checked ~ .xr-array-preview {\n",
       "  display: none;\n",
       "}\n",
       "\n",
       ".xr-array-in:checked ~ .xr-array-data,\n",
       ".xr-array-preview {\n",
       "  display: inline-block;\n",
       "}\n",
       "\n",
       ".xr-dim-list {\n",
       "  display: inline-block !important;\n",
       "  list-style: none;\n",
       "  padding: 0 !important;\n",
       "  margin: 0;\n",
       "}\n",
       "\n",
       ".xr-dim-list li {\n",
       "  display: inline-block;\n",
       "  padding: 0;\n",
       "  margin: 0;\n",
       "}\n",
       "\n",
       ".xr-dim-list:before {\n",
       "  content: '(';\n",
       "}\n",
       "\n",
       ".xr-dim-list:after {\n",
       "  content: ')';\n",
       "}\n",
       "\n",
       ".xr-dim-list li:not(:last-child):after {\n",
       "  content: ',';\n",
       "  padding-right: 5px;\n",
       "}\n",
       "\n",
       ".xr-has-index {\n",
       "  font-weight: bold;\n",
       "}\n",
       "\n",
       ".xr-var-list,\n",
       ".xr-var-item {\n",
       "  display: contents;\n",
       "}\n",
       "\n",
       ".xr-var-item > div,\n",
       ".xr-var-item label,\n",
       ".xr-var-item > .xr-var-name span {\n",
       "  background-color: var(--xr-background-color-row-even);\n",
       "  margin-bottom: 0;\n",
       "}\n",
       "\n",
       ".xr-var-item > .xr-var-name:hover span {\n",
       "  padding-right: 5px;\n",
       "}\n",
       "\n",
       ".xr-var-list > li:nth-child(odd) > div,\n",
       ".xr-var-list > li:nth-child(odd) > label,\n",
       ".xr-var-list > li:nth-child(odd) > .xr-var-name span {\n",
       "  background-color: var(--xr-background-color-row-odd);\n",
       "}\n",
       "\n",
       ".xr-var-name {\n",
       "  grid-column: 1;\n",
       "}\n",
       "\n",
       ".xr-var-dims {\n",
       "  grid-column: 2;\n",
       "}\n",
       "\n",
       ".xr-var-dtype {\n",
       "  grid-column: 3;\n",
       "  text-align: right;\n",
       "  color: var(--xr-font-color2);\n",
       "}\n",
       "\n",
       ".xr-var-preview {\n",
       "  grid-column: 4;\n",
       "}\n",
       "\n",
       ".xr-index-preview {\n",
       "  grid-column: 2 / 5;\n",
       "  color: var(--xr-font-color2);\n",
       "}\n",
       "\n",
       ".xr-var-name,\n",
       ".xr-var-dims,\n",
       ".xr-var-dtype,\n",
       ".xr-preview,\n",
       ".xr-attrs dt {\n",
       "  white-space: nowrap;\n",
       "  overflow: hidden;\n",
       "  text-overflow: ellipsis;\n",
       "  padding-right: 10px;\n",
       "}\n",
       "\n",
       ".xr-var-name:hover,\n",
       ".xr-var-dims:hover,\n",
       ".xr-var-dtype:hover,\n",
       ".xr-attrs dt:hover {\n",
       "  overflow: visible;\n",
       "  width: auto;\n",
       "  z-index: 1;\n",
       "}\n",
       "\n",
       ".xr-var-attrs,\n",
       ".xr-var-data,\n",
       ".xr-index-data {\n",
       "  display: none;\n",
       "  background-color: var(--xr-background-color) !important;\n",
       "  padding-bottom: 5px !important;\n",
       "}\n",
       "\n",
       ".xr-var-attrs-in:checked ~ .xr-var-attrs,\n",
       ".xr-var-data-in:checked ~ .xr-var-data,\n",
       ".xr-index-data-in:checked ~ .xr-index-data {\n",
       "  display: block;\n",
       "}\n",
       "\n",
       ".xr-var-data > table {\n",
       "  float: right;\n",
       "}\n",
       "\n",
       ".xr-var-name span,\n",
       ".xr-var-data,\n",
       ".xr-index-name div,\n",
       ".xr-index-data,\n",
       ".xr-attrs {\n",
       "  padding-left: 25px !important;\n",
       "}\n",
       "\n",
       ".xr-attrs,\n",
       ".xr-var-attrs,\n",
       ".xr-var-data,\n",
       ".xr-index-data {\n",
       "  grid-column: 1 / -1;\n",
       "}\n",
       "\n",
       "dl.xr-attrs {\n",
       "  padding: 0;\n",
       "  margin: 0;\n",
       "  display: grid;\n",
       "  grid-template-columns: 125px auto;\n",
       "}\n",
       "\n",
       ".xr-attrs dt,\n",
       ".xr-attrs dd {\n",
       "  padding: 0;\n",
       "  margin: 0;\n",
       "  float: left;\n",
       "  padding-right: 10px;\n",
       "  width: auto;\n",
       "}\n",
       "\n",
       ".xr-attrs dt {\n",
       "  font-weight: normal;\n",
       "  grid-column: 1;\n",
       "}\n",
       "\n",
       ".xr-attrs dt:hover span {\n",
       "  display: inline-block;\n",
       "  background: var(--xr-background-color);\n",
       "  padding-right: 10px;\n",
       "}\n",
       "\n",
       ".xr-attrs dd {\n",
       "  grid-column: 2;\n",
       "  white-space: pre-wrap;\n",
       "  word-break: break-all;\n",
       "}\n",
       "\n",
       ".xr-icon-database,\n",
       ".xr-icon-file-text2,\n",
       ".xr-no-icon {\n",
       "  display: inline-block;\n",
       "  vertical-align: middle;\n",
       "  width: 1em;\n",
       "  height: 1.5em !important;\n",
       "  stroke-width: 0;\n",
       "  stroke: currentColor;\n",
       "  fill: currentColor;\n",
       "}\n",
       "</style><pre class='xr-text-repr-fallback'>&lt;xarray.DataArray &#x27;emi&#x27; (longitude: 11, latitude: 11, level: 3, time: 289)&gt; Size: 839kB\n",
       "array([[[[0., 0., 0., ..., 0., 0., 0.],\n",
       "         [0., 0., 0., ..., 0., 0., 0.],\n",
       "         [0., 0., 0., ..., 0., 0., 0.]],\n",
       "\n",
       "        [[0., 0., 0., ..., 0., 0., 0.],\n",
       "         [0., 0., 0., ..., 0., 0., 0.],\n",
       "         [0., 0., 0., ..., 0., 0., 0.]],\n",
       "\n",
       "        [[0., 0., 0., ..., 0., 0., 0.],\n",
       "         [0., 0., 0., ..., 0., 0., 0.],\n",
       "         [0., 0., 0., ..., 0., 0., 0.]],\n",
       "\n",
       "        ...,\n",
       "\n",
       "        [[0., 0., 0., ..., 0., 0., 0.],\n",
       "         [0., 0., 0., ..., 0., 0., 0.],\n",
       "         [0., 0., 0., ..., 0., 0., 0.]],\n",
       "\n",
       "        [[0., 0., 0., ..., 0., 0., 0.],\n",
       "         [0., 0., 0., ..., 0., 0., 0.],\n",
       "...\n",
       "         [0., 0., 0., ..., 0., 0., 0.],\n",
       "         [0., 0., 0., ..., 0., 0., 0.]],\n",
       "\n",
       "        [[0., 0., 0., ..., 0., 0., 0.],\n",
       "         [0., 0., 0., ..., 0., 0., 0.],\n",
       "         [0., 0., 0., ..., 0., 0., 0.]],\n",
       "\n",
       "        ...,\n",
       "\n",
       "        [[0., 0., 0., ..., 0., 0., 0.],\n",
       "         [0., 0., 0., ..., 0., 0., 0.],\n",
       "         [0., 0., 0., ..., 0., 0., 0.]],\n",
       "\n",
       "        [[0., 0., 0., ..., 0., 0., 0.],\n",
       "         [0., 0., 0., ..., 0., 0., 0.],\n",
       "         [0., 0., 0., ..., 0., 0., 0.]],\n",
       "\n",
       "        [[0., 0., 0., ..., 0., 0., 0.],\n",
       "         [0., 0., 0., ..., 0., 0., 0.],\n",
       "         [0., 0., 0., ..., 0., 0., 0.]]]])\n",
       "Coordinates:\n",
       "  * longitude     (longitude) float64 88B -1.0 -0.9 -0.8 ... -0.2 -0.1 -2.22e-16\n",
       "  * latitude      (latitude) float64 88B -1.0 -0.9 -0.8 ... -0.2 -0.1 -2.22e-16\n",
       "  * level         (level) float64 24B 193.3 209.2 226.3\n",
       "  * time          (time) datetime64[ns] 2kB 2022-03-01T21:00:00 ... 2022-03-0...\n",
       "    emi_species   &lt;U7 28B &#x27;NO&#x27;\n",
       "    air_pressure  (level) float64 24B 1.933e+04 2.092e+04 2.263e+04\n",
       "    altitude      (level) float64 24B 1.2e+04 1.15e+04 1.1e+04</pre><div class='xr-wrap' style='display:none'><div class='xr-header'><div class='xr-obj-type'>xarray.DataArray</div><div class='xr-array-name'>'emi'</div><ul class='xr-dim-list'><li><span class='xr-has-index'>longitude</span>: 11</li><li><span class='xr-has-index'>latitude</span>: 11</li><li><span class='xr-has-index'>level</span>: 3</li><li><span class='xr-has-index'>time</span>: 289</li></ul></div><ul class='xr-sections'><li class='xr-section-item'><div class='xr-array-wrap'><input id='section-287edb15-4822-437d-9ee5-f836a890b02f' class='xr-array-in' type='checkbox' checked><label for='section-287edb15-4822-437d-9ee5-f836a890b02f' title='Show/hide data repr'><svg class='icon xr-icon-database'><use xlink:href='#icon-database'></use></svg></label><div class='xr-array-preview xr-preview'><span>0.0 0.0 0.0 0.0 0.0 0.0 0.0 0.0 ... 0.0 0.0 0.0 0.0 0.0 0.0 0.0 0.0</span></div><div class='xr-array-data'><pre>array([[[[0., 0., 0., ..., 0., 0., 0.],\n",
       "         [0., 0., 0., ..., 0., 0., 0.],\n",
       "         [0., 0., 0., ..., 0., 0., 0.]],\n",
       "\n",
       "        [[0., 0., 0., ..., 0., 0., 0.],\n",
       "         [0., 0., 0., ..., 0., 0., 0.],\n",
       "         [0., 0., 0., ..., 0., 0., 0.]],\n",
       "\n",
       "        [[0., 0., 0., ..., 0., 0., 0.],\n",
       "         [0., 0., 0., ..., 0., 0., 0.],\n",
       "         [0., 0., 0., ..., 0., 0., 0.]],\n",
       "\n",
       "        ...,\n",
       "\n",
       "        [[0., 0., 0., ..., 0., 0., 0.],\n",
       "         [0., 0., 0., ..., 0., 0., 0.],\n",
       "         [0., 0., 0., ..., 0., 0., 0.]],\n",
       "\n",
       "        [[0., 0., 0., ..., 0., 0., 0.],\n",
       "         [0., 0., 0., ..., 0., 0., 0.],\n",
       "...\n",
       "         [0., 0., 0., ..., 0., 0., 0.],\n",
       "         [0., 0., 0., ..., 0., 0., 0.]],\n",
       "\n",
       "        [[0., 0., 0., ..., 0., 0., 0.],\n",
       "         [0., 0., 0., ..., 0., 0., 0.],\n",
       "         [0., 0., 0., ..., 0., 0., 0.]],\n",
       "\n",
       "        ...,\n",
       "\n",
       "        [[0., 0., 0., ..., 0., 0., 0.],\n",
       "         [0., 0., 0., ..., 0., 0., 0.],\n",
       "         [0., 0., 0., ..., 0., 0., 0.]],\n",
       "\n",
       "        [[0., 0., 0., ..., 0., 0., 0.],\n",
       "         [0., 0., 0., ..., 0., 0., 0.],\n",
       "         [0., 0., 0., ..., 0., 0., 0.]],\n",
       "\n",
       "        [[0., 0., 0., ..., 0., 0., 0.],\n",
       "         [0., 0., 0., ..., 0., 0., 0.],\n",
       "         [0., 0., 0., ..., 0., 0., 0.]]]])</pre></div></div></li><li class='xr-section-item'><input id='section-3942f3ae-3fc7-480f-82b0-514244f15f6c' class='xr-section-summary-in' type='checkbox'  checked><label for='section-3942f3ae-3fc7-480f-82b0-514244f15f6c' class='xr-section-summary' >Coordinates: <span>(7)</span></label><div class='xr-section-inline-details'></div><div class='xr-section-details'><ul class='xr-var-list'><li class='xr-var-item'><div class='xr-var-name'><span class='xr-has-index'>longitude</span></div><div class='xr-var-dims'>(longitude)</div><div class='xr-var-dtype'>float64</div><div class='xr-var-preview xr-preview'>-1.0 -0.9 -0.8 ... -0.1 -2.22e-16</div><input id='attrs-b7ccff3e-8252-49bf-9715-319e7fa73a2a' class='xr-var-attrs-in' type='checkbox' disabled><label for='attrs-b7ccff3e-8252-49bf-9715-319e7fa73a2a' title='Show/Hide attributes'><svg class='icon xr-icon-file-text2'><use xlink:href='#icon-file-text2'></use></svg></label><input id='data-ee5251c4-e7c1-4233-afc7-ed0969048f0a' class='xr-var-data-in' type='checkbox'><label for='data-ee5251c4-e7c1-4233-afc7-ed0969048f0a' title='Show/Hide data repr'><svg class='icon xr-icon-database'><use xlink:href='#icon-database'></use></svg></label><div class='xr-var-attrs'><dl class='xr-attrs'></dl></div><div class='xr-var-data'><pre>array([-1.000000e+00, -9.000000e-01, -8.000000e-01, -7.000000e-01,\n",
       "       -6.000000e-01, -5.000000e-01, -4.000000e-01, -3.000000e-01,\n",
       "       -2.000000e-01, -1.000000e-01, -2.220446e-16])</pre></div></li><li class='xr-var-item'><div class='xr-var-name'><span class='xr-has-index'>latitude</span></div><div class='xr-var-dims'>(latitude)</div><div class='xr-var-dtype'>float64</div><div class='xr-var-preview xr-preview'>-1.0 -0.9 -0.8 ... -0.1 -2.22e-16</div><input id='attrs-d3e8a1de-d042-4c53-9e88-8da7014969a9' class='xr-var-attrs-in' type='checkbox' disabled><label for='attrs-d3e8a1de-d042-4c53-9e88-8da7014969a9' title='Show/Hide attributes'><svg class='icon xr-icon-file-text2'><use xlink:href='#icon-file-text2'></use></svg></label><input id='data-552f680d-4a3e-4ed7-bdf4-1bf33b79f687' class='xr-var-data-in' type='checkbox'><label for='data-552f680d-4a3e-4ed7-bdf4-1bf33b79f687' title='Show/Hide data repr'><svg class='icon xr-icon-database'><use xlink:href='#icon-database'></use></svg></label><div class='xr-var-attrs'><dl class='xr-attrs'></dl></div><div class='xr-var-data'><pre>array([-1.000000e+00, -9.000000e-01, -8.000000e-01, -7.000000e-01,\n",
       "       -6.000000e-01, -5.000000e-01, -4.000000e-01, -3.000000e-01,\n",
       "       -2.000000e-01, -1.000000e-01, -2.220446e-16])</pre></div></li><li class='xr-var-item'><div class='xr-var-name'><span class='xr-has-index'>level</span></div><div class='xr-var-dims'>(level)</div><div class='xr-var-dtype'>float64</div><div class='xr-var-preview xr-preview'>193.3 209.2 226.3</div><input id='attrs-1703b019-d5ff-4b59-a853-b21d7e035917' class='xr-var-attrs-in' type='checkbox' ><label for='attrs-1703b019-d5ff-4b59-a853-b21d7e035917' title='Show/Hide attributes'><svg class='icon xr-icon-file-text2'><use xlink:href='#icon-file-text2'></use></svg></label><input id='data-884e46a5-421b-4278-ba76-84ac14df1417' class='xr-var-data-in' type='checkbox'><label for='data-884e46a5-421b-4278-ba76-84ac14df1417' title='Show/Hide data repr'><svg class='icon xr-icon-database'><use xlink:href='#icon-database'></use></svg></label><div class='xr-var-attrs'><dl class='xr-attrs'><dt><span>units :</span></dt><dd>hPa</dd><dt><span>long_name :</span></dt><dd>Pressure</dd><dt><span>positive :</span></dt><dd>down</dd></dl></div><div class='xr-var-data'><pre>array([193.300623, 209.158358, 226.317009])</pre></div></li><li class='xr-var-item'><div class='xr-var-name'><span class='xr-has-index'>time</span></div><div class='xr-var-dims'>(time)</div><div class='xr-var-dtype'>datetime64[ns]</div><div class='xr-var-preview xr-preview'>2022-03-01T21:00:00 ... 2022-03-...</div><input id='attrs-c1f193ef-eb93-4064-80d4-2fd1d0148e17' class='xr-var-attrs-in' type='checkbox' disabled><label for='attrs-c1f193ef-eb93-4064-80d4-2fd1d0148e17' title='Show/Hide attributes'><svg class='icon xr-icon-file-text2'><use xlink:href='#icon-file-text2'></use></svg></label><input id='data-f20b78d0-c7ce-423b-9bad-970c1c7e7ce1' class='xr-var-data-in' type='checkbox'><label for='data-f20b78d0-c7ce-423b-9bad-970c1c7e7ce1' title='Show/Hide data repr'><svg class='icon xr-icon-database'><use xlink:href='#icon-database'></use></svg></label><div class='xr-var-attrs'><dl class='xr-attrs'></dl></div><div class='xr-var-data'><pre>array([&#x27;2022-03-01T21:00:00.000000000&#x27;, &#x27;2022-03-01T21:05:00.000000000&#x27;,\n",
       "       &#x27;2022-03-01T21:10:00.000000000&#x27;, ..., &#x27;2022-03-02T20:50:00.000000000&#x27;,\n",
       "       &#x27;2022-03-02T20:55:00.000000000&#x27;, &#x27;2022-03-02T21:00:00.000000000&#x27;],\n",
       "      dtype=&#x27;datetime64[ns]&#x27;)</pre></div></li><li class='xr-var-item'><div class='xr-var-name'><span>emi_species</span></div><div class='xr-var-dims'>()</div><div class='xr-var-dtype'>&lt;U7</div><div class='xr-var-preview xr-preview'>&#x27;NO&#x27;</div><input id='attrs-800fd7b5-ebea-4e60-8106-56f8cca184e8' class='xr-var-attrs-in' type='checkbox' disabled><label for='attrs-800fd7b5-ebea-4e60-8106-56f8cca184e8' title='Show/Hide attributes'><svg class='icon xr-icon-file-text2'><use xlink:href='#icon-file-text2'></use></svg></label><input id='data-990ece6a-ddc8-4609-b8f9-65419c828183' class='xr-var-data-in' type='checkbox'><label for='data-990ece6a-ddc8-4609-b8f9-65419c828183' title='Show/Hide data repr'><svg class='icon xr-icon-database'><use xlink:href='#icon-database'></use></svg></label><div class='xr-var-attrs'><dl class='xr-attrs'></dl></div><div class='xr-var-data'><pre>array(&#x27;NO&#x27;, dtype=&#x27;&lt;U7&#x27;)</pre></div></li><li class='xr-var-item'><div class='xr-var-name'><span>air_pressure</span></div><div class='xr-var-dims'>(level)</div><div class='xr-var-dtype'>float64</div><div class='xr-var-preview xr-preview'>1.933e+04 2.092e+04 2.263e+04</div><input id='attrs-ed551afd-e47a-43bc-a2c3-a59fbe1e4caf' class='xr-var-attrs-in' type='checkbox' ><label for='attrs-ed551afd-e47a-43bc-a2c3-a59fbe1e4caf' title='Show/Hide attributes'><svg class='icon xr-icon-file-text2'><use xlink:href='#icon-file-text2'></use></svg></label><input id='data-94a346b4-3df6-46e2-a9cf-8eb475627712' class='xr-var-data-in' type='checkbox'><label for='data-94a346b4-3df6-46e2-a9cf-8eb475627712' title='Show/Hide data repr'><svg class='icon xr-icon-database'><use xlink:href='#icon-database'></use></svg></label><div class='xr-var-attrs'><dl class='xr-attrs'><dt><span>standard_name :</span></dt><dd>air_pressure</dd><dt><span>long_name :</span></dt><dd>Air pressure</dd><dt><span>units :</span></dt><dd>Pa</dd></dl></div><div class='xr-var-data'><pre>array([19330.06232874, 20915.83584737, 22631.70090993])</pre></div></li><li class='xr-var-item'><div class='xr-var-name'><span>altitude</span></div><div class='xr-var-dims'>(level)</div><div class='xr-var-dtype'>float64</div><div class='xr-var-preview xr-preview'>1.2e+04 1.15e+04 1.1e+04</div><input id='attrs-63c3d61c-dc0a-4ba1-a526-113830b645e5' class='xr-var-attrs-in' type='checkbox' ><label for='attrs-63c3d61c-dc0a-4ba1-a526-113830b645e5' title='Show/Hide attributes'><svg class='icon xr-icon-file-text2'><use xlink:href='#icon-file-text2'></use></svg></label><input id='data-2117b9de-6be9-4e3d-8ca0-4528100baaa9' class='xr-var-data-in' type='checkbox'><label for='data-2117b9de-6be9-4e3d-8ca0-4528100baaa9' title='Show/Hide data repr'><svg class='icon xr-icon-database'><use xlink:href='#icon-database'></use></svg></label><div class='xr-var-attrs'><dl class='xr-attrs'><dt><span>standard_name :</span></dt><dd>altitude</dd><dt><span>long_name :</span></dt><dd>Altitude</dd><dt><span>units :</span></dt><dd>m</dd></dl></div><div class='xr-var-data'><pre>array([12000., 11500., 11000.])</pre></div></li></ul></div></li><li class='xr-section-item'><input id='section-793e523d-7ab9-448e-9d10-905dd9d457ca' class='xr-section-summary-in' type='checkbox'  ><label for='section-793e523d-7ab9-448e-9d10-905dd9d457ca' class='xr-section-summary' >Indexes: <span>(4)</span></label><div class='xr-section-inline-details'></div><div class='xr-section-details'><ul class='xr-var-list'><li class='xr-var-item'><div class='xr-index-name'><div>longitude</div></div><div class='xr-index-preview'>PandasIndex</div><div></div><input id='index-e954b520-04c3-4332-a2e0-a23903162704' class='xr-index-data-in' type='checkbox'/><label for='index-e954b520-04c3-4332-a2e0-a23903162704' title='Show/Hide index repr'><svg class='icon xr-icon-database'><use xlink:href='#icon-database'></use></svg></label><div class='xr-index-data'><pre>PandasIndex(Index([                  -1.0,                   -0.9,                   -0.8,\n",
       "          -0.7000000000000001,    -0.6000000000000001,    -0.5000000000000001,\n",
       "         -0.40000000000000013,   -0.30000000000000016,   -0.20000000000000018,\n",
       "          -0.1000000000000002, -2.220446049250313e-16],\n",
       "      dtype=&#x27;float64&#x27;, name=&#x27;longitude&#x27;))</pre></div></li><li class='xr-var-item'><div class='xr-index-name'><div>latitude</div></div><div class='xr-index-preview'>PandasIndex</div><div></div><input id='index-94e03c6b-5761-4eeb-a82a-0ffd792bd3f9' class='xr-index-data-in' type='checkbox'/><label for='index-94e03c6b-5761-4eeb-a82a-0ffd792bd3f9' title='Show/Hide index repr'><svg class='icon xr-icon-database'><use xlink:href='#icon-database'></use></svg></label><div class='xr-index-data'><pre>PandasIndex(Index([                  -1.0,                   -0.9,                   -0.8,\n",
       "          -0.7000000000000001,    -0.6000000000000001,    -0.5000000000000001,\n",
       "         -0.40000000000000013,   -0.30000000000000016,   -0.20000000000000018,\n",
       "          -0.1000000000000002, -2.220446049250313e-16],\n",
       "      dtype=&#x27;float64&#x27;, name=&#x27;latitude&#x27;))</pre></div></li><li class='xr-var-item'><div class='xr-index-name'><div>level</div></div><div class='xr-index-preview'>PandasIndex</div><div></div><input id='index-5d655f6d-3c4b-48a1-919b-27f5b0437715' class='xr-index-data-in' type='checkbox'/><label for='index-5d655f6d-3c4b-48a1-919b-27f5b0437715' title='Show/Hide index repr'><svg class='icon xr-icon-database'><use xlink:href='#icon-database'></use></svg></label><div class='xr-index-data'><pre>PandasIndex(Index([193.30062328740988, 209.15835847374416, 226.31700909926982], dtype=&#x27;float64&#x27;, name=&#x27;level&#x27;))</pre></div></li><li class='xr-var-item'><div class='xr-index-name'><div>time</div></div><div class='xr-index-preview'>PandasIndex</div><div></div><input id='index-ee45aab2-37aa-4ad9-ba52-14783bd34370' class='xr-index-data-in' type='checkbox'/><label for='index-ee45aab2-37aa-4ad9-ba52-14783bd34370' title='Show/Hide index repr'><svg class='icon xr-icon-database'><use xlink:href='#icon-database'></use></svg></label><div class='xr-index-data'><pre>PandasIndex(DatetimeIndex([&#x27;2022-03-01 21:00:00&#x27;, &#x27;2022-03-01 21:05:00&#x27;,\n",
       "               &#x27;2022-03-01 21:10:00&#x27;, &#x27;2022-03-01 21:15:00&#x27;,\n",
       "               &#x27;2022-03-01 21:20:00&#x27;, &#x27;2022-03-01 21:25:00&#x27;,\n",
       "               &#x27;2022-03-01 21:30:00&#x27;, &#x27;2022-03-01 21:35:00&#x27;,\n",
       "               &#x27;2022-03-01 21:40:00&#x27;, &#x27;2022-03-01 21:45:00&#x27;,\n",
       "               ...\n",
       "               &#x27;2022-03-02 20:15:00&#x27;, &#x27;2022-03-02 20:20:00&#x27;,\n",
       "               &#x27;2022-03-02 20:25:00&#x27;, &#x27;2022-03-02 20:30:00&#x27;,\n",
       "               &#x27;2022-03-02 20:35:00&#x27;, &#x27;2022-03-02 20:40:00&#x27;,\n",
       "               &#x27;2022-03-02 20:45:00&#x27;, &#x27;2022-03-02 20:50:00&#x27;,\n",
       "               &#x27;2022-03-02 20:55:00&#x27;, &#x27;2022-03-02 21:00:00&#x27;],\n",
       "              dtype=&#x27;datetime64[ns]&#x27;, name=&#x27;time&#x27;, length=289, freq=None))</pre></div></li></ul></div></li><li class='xr-section-item'><input id='section-74f08d38-34c5-45f3-9436-f6bc267a4cd1' class='xr-section-summary-in' type='checkbox' disabled ><label for='section-74f08d38-34c5-45f3-9436-f6bc267a4cd1' class='xr-section-summary'  title='Expand/collapse section'>Attributes: <span>(0)</span></label><div class='xr-section-inline-details'></div><div class='xr-section-details'><dl class='xr-attrs'></dl></div></li></ul></div></div>"
      ],
      "text/plain": [
       "<xarray.DataArray 'emi' (longitude: 11, latitude: 11, level: 3, time: 289)> Size: 839kB\n",
       "array([[[[0., 0., 0., ..., 0., 0., 0.],\n",
       "         [0., 0., 0., ..., 0., 0., 0.],\n",
       "         [0., 0., 0., ..., 0., 0., 0.]],\n",
       "\n",
       "        [[0., 0., 0., ..., 0., 0., 0.],\n",
       "         [0., 0., 0., ..., 0., 0., 0.],\n",
       "         [0., 0., 0., ..., 0., 0., 0.]],\n",
       "\n",
       "        [[0., 0., 0., ..., 0., 0., 0.],\n",
       "         [0., 0., 0., ..., 0., 0., 0.],\n",
       "         [0., 0., 0., ..., 0., 0., 0.]],\n",
       "\n",
       "        ...,\n",
       "\n",
       "        [[0., 0., 0., ..., 0., 0., 0.],\n",
       "         [0., 0., 0., ..., 0., 0., 0.],\n",
       "         [0., 0., 0., ..., 0., 0., 0.]],\n",
       "\n",
       "        [[0., 0., 0., ..., 0., 0., 0.],\n",
       "         [0., 0., 0., ..., 0., 0., 0.],\n",
       "...\n",
       "         [0., 0., 0., ..., 0., 0., 0.],\n",
       "         [0., 0., 0., ..., 0., 0., 0.]],\n",
       "\n",
       "        [[0., 0., 0., ..., 0., 0., 0.],\n",
       "         [0., 0., 0., ..., 0., 0., 0.],\n",
       "         [0., 0., 0., ..., 0., 0., 0.]],\n",
       "\n",
       "        ...,\n",
       "\n",
       "        [[0., 0., 0., ..., 0., 0., 0.],\n",
       "         [0., 0., 0., ..., 0., 0., 0.],\n",
       "         [0., 0., 0., ..., 0., 0., 0.]],\n",
       "\n",
       "        [[0., 0., 0., ..., 0., 0., 0.],\n",
       "         [0., 0., 0., ..., 0., 0., 0.],\n",
       "         [0., 0., 0., ..., 0., 0., 0.]],\n",
       "\n",
       "        [[0., 0., 0., ..., 0., 0., 0.],\n",
       "         [0., 0., 0., ..., 0., 0., 0.],\n",
       "         [0., 0., 0., ..., 0., 0., 0.]]]])\n",
       "Coordinates:\n",
       "  * longitude     (longitude) float64 88B -1.0 -0.9 -0.8 ... -0.2 -0.1 -2.22e-16\n",
       "  * latitude      (latitude) float64 88B -1.0 -0.9 -0.8 ... -0.2 -0.1 -2.22e-16\n",
       "  * level         (level) float64 24B 193.3 209.2 226.3\n",
       "  * time          (time) datetime64[ns] 2kB 2022-03-01T21:00:00 ... 2022-03-0...\n",
       "    emi_species   <U7 28B 'NO'\n",
       "    air_pressure  (level) float64 24B 1.933e+04 2.092e+04 2.263e+04\n",
       "    altitude      (level) float64 24B 1.2e+04 1.15e+04 1.1e+04"
      ]
     },
     "execution_count": 15,
     "metadata": {},
     "output_type": "execute_result"
    }
   ],
   "source": [
    "#emi.data.sel(emi_species=\"NO\", latitude=-0.8, longitude=-0.8).compute()\n",
    "emi[\"emi\"].data.loc[:, :, :, :, \"NO\"] #.sel(emi_species=\"NO\").isel(time=0).sel(level=units.m_to_pl(11500), method=\"nearest\").plot()"
   ]
  },
  {
   "cell_type": "code",
   "execution_count": 16,
   "metadata": {},
   "outputs": [
    {
     "name": "stderr",
     "output_type": "stream",
     "text": [
      "/home/ktait98/miniconda3/envs/contrails/lib/python3.12/site-packages/xarray/backends/plugins.py:80: RuntimeWarning: Engine 'cfgrib' loading failed:\n",
      "Cannot find the ecCodes library\n",
      "  warnings.warn(f\"Engine {name!r} loading failed:\\n{ex}\", RuntimeWarning)\n"
     ]
    }
   ],
   "source": [
    "# init boxm simulation and generate chemistry dataset\n",
    "boxm = Boxm(met=met, params=chem_params)"
   ]
  },
  {
   "cell_type": "code",
   "execution_count": 17,
   "metadata": {},
   "outputs": [],
   "source": [
    "# run boxm simulation\n",
    "chem = boxm.eval(emi)"
   ]
  },
  {
   "cell_type": "code",
   "execution_count": 18,
   "metadata": {},
   "outputs": [
    {
     "data": {
      "text/plain": [
       "array([[6.31216217e+18, 6.31216217e+18, 6.31216217e+18, 6.31216217e+18,\n",
       "        6.31216217e+18, 6.31216217e+18, 6.31216217e+18, 6.31216217e+18,\n",
       "        6.31216217e+18, 6.31216217e+18, 6.31216217e+18],\n",
       "       [6.31216217e+18, 6.31216217e+18, 6.31216217e+18, 6.31216217e+18,\n",
       "        6.31216217e+18, 6.31216217e+18, 6.31216217e+18, 6.31216217e+18,\n",
       "        6.31216217e+18, 6.31216217e+18, 6.31216217e+18],\n",
       "       [6.31216217e+18, 6.31216217e+18, 6.31216217e+18, 6.31216217e+18,\n",
       "        6.31216217e+18, 6.31216217e+18, 6.31216217e+18, 6.31216217e+18,\n",
       "        6.31216217e+18, 6.31216217e+18, 6.31216217e+18],\n",
       "       [6.31216217e+18, 6.31216217e+18, 6.31216217e+18, 6.31216217e+18,\n",
       "        6.31216217e+18, 6.31216217e+18, 6.31216217e+18, 6.31216217e+18,\n",
       "        6.31216217e+18, 6.31216217e+18, 6.31216217e+18],\n",
       "       [6.31216217e+18, 6.31216217e+18, 6.31216217e+18, 6.31216217e+18,\n",
       "        6.31216217e+18, 6.31216217e+18, 6.31216217e+18, 6.31216217e+18,\n",
       "        6.31216217e+18, 6.31216217e+18, 6.31216217e+18],\n",
       "       [6.31216217e+18, 6.31216217e+18, 6.31216217e+18, 6.31216217e+18,\n",
       "        6.31216217e+18, 6.31216217e+18, 6.31216217e+18, 6.31216217e+18,\n",
       "        6.31216217e+18, 6.31216217e+18, 6.31216217e+18],\n",
       "       [6.31216217e+18, 6.31216217e+18, 6.31216217e+18, 6.31216217e+18,\n",
       "        6.31216217e+18, 6.31216217e+18, 6.31216217e+18, 6.31216217e+18,\n",
       "        6.31216217e+18, 6.31216217e+18, 6.31216217e+18],\n",
       "       [6.31216217e+18, 6.31216217e+18, 6.31216217e+18, 6.31216217e+18,\n",
       "        6.31216217e+18, 6.31216217e+18, 6.31216217e+18, 6.31216217e+18,\n",
       "        6.31216217e+18, 6.31216217e+18, 6.31216217e+18],\n",
       "       [6.31216217e+18, 6.31216217e+18, 6.31216217e+18, 6.31216217e+18,\n",
       "        6.31216217e+18, 6.31216217e+18, 6.31216217e+18, 6.31216217e+18,\n",
       "        6.31216217e+18, 6.31216217e+18, 6.31216217e+18],\n",
       "       [6.31216217e+18, 6.31216217e+18, 6.31216217e+18, 6.31216217e+18,\n",
       "        6.31216217e+18, 6.31216217e+18, 6.31216217e+18, 6.31216217e+18,\n",
       "        6.31216217e+18, 6.31216217e+18, 6.31216217e+18],\n",
       "       [6.31216217e+18, 6.31216217e+18, 6.31216217e+18, 6.31216217e+18,\n",
       "        6.31216217e+18, 6.31216217e+18, 6.31216217e+18, 6.31216217e+18,\n",
       "        6.31216217e+18, 6.31216217e+18, 6.31216217e+18]])"
      ]
     },
     "execution_count": 18,
     "metadata": {},
     "output_type": "execute_result"
    }
   ],
   "source": [
    "boxm.boxm_input[\"M\"].isel(time=0).sel(level=units.m_to_pl(11500), method=\"nearest\").values"
   ]
  },
  {
   "cell_type": "code",
   "execution_count": 19,
   "metadata": {},
   "outputs": [
    {
     "data": {
      "image/png": "[encoded data removed]",
      "text/plain": [
       "<Figure size 1200x800 with 2 Axes>"
      ]
     },
     "metadata": {},
     "output_type": "display_data"
    }
   ],
   "source": [
    "mda = boxm.boxm_input[\"emi\"].isel(time=slice(200, 250)).sel(emi_species=\"NO\").sel(level=units.m_to_pl(11500), method=\"nearest\").compute()\n",
    "boxm.anim_chem(mda)"
   ]
  },
  {
   "cell_type": "code",
   "execution_count": 20,
   "metadata": {},
   "outputs": [
    {
     "data": {
      "text/plain": [
       "array(9.90350087e+10)"
      ]
     },
     "execution_count": 20,
     "metadata": {},
     "output_type": "execute_result"
    }
   ],
   "source": [
    "boxm.boxm_input[\"emi\"].sel(emi_species=\"NO\").sel(level=units.m_to_pl(11500), method=\"nearest\").max().values"
   ]
  },
  {
   "cell_type": "code",
   "execution_count": null,
   "metadata": {},
   "outputs": [],
   "source": []
  }
 ],
 "metadata": {
  "kernelspec": {
   "display_name": "contrails",
   "language": "python",
   "name": "python3"
  },
  "language_info": {
   "codemirror_mode": {
    "name": "ipython",
    "version": 3
   },
   "file_extension": ".py",
   "mimetype": "text/x-python",
   "name": "python",
   "nbconvert_exporter": "python",
   "pygments_lexer": "ipython3",
   "version": "3.12.3"
  }
 },
 "nbformat": 4,
 "nbformat_minor": 2
}
