{
 "cells": [
  {
   "cell_type": "code",
   "execution_count": 1,
   "metadata": {},
   "outputs": [],
   "source": [
    "import numpy as np\n",
    "import pandas as pd\n",
    "import matplotlib.pyplot as plt\n",
    "import xarray as xr\n",
    "import dask.array as da\n",
    "import pyproj\n",
    "pd.set_option(\"display.max_rows\", 200)\n",
    "import pdb\n",
    "\n",
    "from pycontrails import Flight, Fleet, MetDataset\n",
    "from pycontrails.core import datalib, models\n",
    "from pycontrails.datalib.ecmwf import ERA5\n",
    "from pycontrails.physics import geo, thermo, units, constants\n",
    "#from pycontrails.models.ps_model import PSFlight \n",
    "#from pycontrails.models.emissions import Emissions\n",
    "from pycontrails.ext.flight_gen import FlightGen\n",
    "from pycontrails.models.boxmodel.boxm import Boxm\n",
    "#from pycontrails.models.dry_advection import DryAdvection\n",
    "from pycontrails.core.met_var import (\n",
    "    AirTemperature,\n",
    "    RelativeHumidity,\n",
    "    SpecificHumidity,\n",
    "    EastwardWind,\n",
    "    NorthwardWind,\n",
    "    VerticalVelocity,\n",
    ")"
   ]
  },
  {
   "cell_type": "code",
   "execution_count": null,
   "metadata": {},
   "outputs": [],
   "source": [
    "# meteorological parameters\n",
    "met_params = {\n",
    "    \"air_temperature\": 240.0,  # K\n",
    "    \"specific_humidity\": 0.001,  # 1\n",
    "    \"relative_humidity\": 0.5,  # 1\n",
    "    \"eastward_wind\": 0.0,  # m/s\n",
    "    \"northward_wind\": 0.0,  # m/s\n",
    "    \"lagrangian_tendency_of_air_pressure\": 0.0,  # m/s\n",
    "}"
   ]
  },
  {
   "cell_type": "code",
   "execution_count": null,
   "metadata": {},
   "outputs": [],
   "source": [
    "# flight trajectory parameters\n",
    "fl_params = {\n",
    "    \"t0_fl\": pd.to_datetime(\"2022-03-02 14:00:00\"),  # flight start time\n",
    "    \"rt_fl\": pd.Timedelta(minutes=30),  # flight run time\n",
    "    \"ts_fl\": pd.Timedelta(minutes=2),  # flight time step\n",
    "    \"ac_type\": \"A320\",  # aircraft type\n",
    "    \"fl0_speed\": 100.0,  # m/s\n",
    "    \"fl0_heading\": 45.0,  # deg\n",
    "    \"fl0_coords0\": (-0.8, -0.8, 11500),  # lat, lon, alt [deg, deg, m]\n",
    "    \"sep_dist\": (5000, 2000, 0),  # dx, dy, dz [m]\n",
    "    \"n_ac\": 2,  # number of aircraft\n",
    "}"
   ]
  },
  {
   "cell_type": "code",
   "execution_count": null,
   "metadata": {},
   "outputs": [],
   "source": [
    "# plume dispersion parameters\n",
    "plume_params = {\n",
    "    \"dt_integration\": pd.Timedelta(minutes=5), # integration time step\n",
    "    \"max_age\": pd.Timedelta(hours=1), # maximum age of the plume\n",
    "    \"depth\": 50.0,  # initial plume depth, [m]\n",
    "    \"width\": 40.0,  # initial plume width, [m]\n",
    "    \"shear\": 0.005 # wind shear [1/s]\n",
    "}"
   ]
  },
  {
   "cell_type": "code",
   "execution_count": null,
   "metadata": {},
   "outputs": [],
   "source": [
    "# chemistry sim parameters\n",
    "chem_params = {\n",
    "    \"t0_chem\": pd.to_datetime(\"2022-03-01 21:00:00\"),  # chemistry start time\n",
    "    \"rt_chem\": pd.Timedelta(days=1),  # chemistry runtime\n",
    "    \"ts_chem\": pd.Timedelta(minutes=5),  # chemistry time step\n",
    "    \"lat_bounds\": (-1.0, 0.0),  # lat bounds [deg]\n",
    "    \"lon_bounds\": (-1.0, 0.0),  # lon bounds [deg]\n",
    "    \"alt_bounds\": (11000, 12500),  # alt bounds [m]\n",
    "    \"hres_chem\": 0.1,  # horizontal resolution [deg]\n",
    "    \"vres_chem\": 100,  # vertical resolution [m]\n",
    "}"
   ]
  },
  {
   "cell_type": "code",
   "execution_count": null,
   "metadata": {},
   "outputs": [],
   "source": [
    "# create lists for lats, lons, alts, and times based on chem params\n",
    "lats = np.arange(\n",
    "    chem_params[\"lat_bounds\"][0], chem_params[\"lat_bounds\"][1], chem_params[\"hres_chem\"]\n",
    ")\n",
    "\n",
    "lons = np.arange(\n",
    "    chem_params[\"lon_bounds\"][0], chem_params[\"lon_bounds\"][1], chem_params[\"hres_chem\"]\n",
    ")\n",
    "\n",
    "alts = np.arange(\n",
    "    chem_params[\"alt_bounds\"][0], chem_params[\"alt_bounds\"][1], chem_params[\"vres_chem\"]\n",
    ")\n",
    "\n",
    "times = pd.date_range(\n",
    "    start=chem_params[\"t0_chem\"],\n",
    "    end=chem_params[\"t0_chem\"] + chem_params[\"rt_chem\"],\n",
    "    freq=chem_params[\"ts_chem\"],\n",
    ")"
   ]
  },
  {
   "cell_type": "code",
   "execution_count": null,
   "metadata": {},
   "outputs": [],
   "source": [
    "# generate artifical met dataset (boxm currently only supports zero-wind scenarios)\n",
    "data_vars = {\n",
    "    param: (\n",
    "        [\"longitude\", \"latitude\", \"level\", \"time\"],\n",
    "        da.full(\n",
    "            (len(lons), len(lats), len(alts), len(times)),\n",
    "            value,\n",
    "            chunks=(len(lons), len(lats), len(alts), 100),\n",
    "        ),\n",
    "    )\n",
    "    for param, value in met_params.items()\n",
    "}\n",
    "\n",
    "met = xr.Dataset(\n",
    "    data_vars, coords={\"longitude\": lons, \"latitude\": lats, \"level\": units.m_to_pl(alts), \"time\": times}\n",
    ")\n",
    "\n",
    "met = MetDataset(met)\n",
    "\n",
    "met"
   ]
  },
  {
   "cell_type": "code",
   "execution_count": null,
   "metadata": {},
   "outputs": [],
   "source": [
    "# instantiate FlightGen object\n",
    "fl_gen = FlightGen(met, fl_params, plume_params, chem_params)"
   ]
  },
  {
   "cell_type": "code",
   "execution_count": null,
   "metadata": {},
   "outputs": [],
   "source": [
    "fl = fl_gen.traj_gen()"
   ]
  },
  {
   "cell_type": "code",
   "execution_count": null,
   "metadata": {},
   "outputs": [],
   "source": [
    "# estimate fuel burn and emissions using ps_model and emissions model\n",
    "fl = fl_gen.calc_fb_emissions()\n"
   ]
  },
  {
   "cell_type": "code",
   "execution_count": null,
   "metadata": {},
   "outputs": [],
   "source": [
    "# visualise the fleet\n",
    "ax = plt.axes()\n",
    "ax.set_xlim([lons[0], lons[-1]])\n",
    "ax.set_ylim([lats[0], lats[-1]])\n",
    "for i in fl:\n",
    "    i.plot(ax=ax)"
   ]
  },
  {
   "cell_type": "code",
   "execution_count": null,
   "metadata": {},
   "outputs": [],
   "source": [
    "# simulate plume dispersion/advection using dry advection model\n",
    "fl_df, pl_df = fl_gen.sim_plumes()\n",
    "\n",
    "pl_df\n"
   ]
  },
  {
   "cell_type": "code",
   "execution_count": null,
   "metadata": {},
   "outputs": [],
   "source": [
    "fl_gen.anim_fl(fl_df, pl_df)"
   ]
  },
  {
   "cell_type": "code",
   "execution_count": null,
   "metadata": {},
   "outputs": [],
   "source": [
    "# convert plume dataframe to EMI geospatial xarray dataset \n",
    "emi = fl_gen.plume_to_grid()"
   ]
  },
  {
   "cell_type": "code",
   "execution_count": null,
   "metadata": {},
   "outputs": [],
   "source": [
    "# animate emi dataset\n"
   ]
  },
  {
   "cell_type": "code",
   "execution_count": null,
   "metadata": {},
   "outputs": [],
   "source": [
    "# init boxm simulation and generate chemistry dataset\n",
    "boxm = Boxm(met=met, params=chem_params)\n",
    "bg_chem = boxm.bg_chem"
   ]
  },
  {
   "cell_type": "code",
   "execution_count": null,
   "metadata": {},
   "outputs": [],
   "source": [
    "# run boxm simulation\n",
    "chem = boxm.eval(emi)"
   ]
  },
  {
   "cell_type": "code",
   "execution_count": null,
   "metadata": {},
   "outputs": [],
   "source": [
    "# chem"
   ]
  }
 ],
 "metadata": {
  "kernelspec": {
   "display_name": "contrails",
   "language": "python",
   "name": "python3"
  },
  "language_info": {
   "codemirror_mode": {
    "name": "ipython",
    "version": 3
   },
   "file_extension": ".py",
   "mimetype": "text/x-python",
   "name": "python",
   "nbconvert_exporter": "python",
   "pygments_lexer": "ipython3",
   "version": "3.12.3"
  }
 },
 "nbformat": 4,
 "nbformat_minor": 2
}
