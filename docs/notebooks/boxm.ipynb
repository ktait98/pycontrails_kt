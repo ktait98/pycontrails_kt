{
 "cells": [
  {
   "cell_type": "code",
   "execution_count": null,
   "metadata": {},
   "outputs": [],
   "source": [
    "import numpy as np\n",
    "import pandas as pd\n",
    "import matplotlib.pyplot as plt\n",
    "import xarray as xr\n",
    "import dask.array as da\n",
    "import pyproj\n",
    "\n",
    "from pycontrails import Flight, Fleet, MetDataset\n",
    "from pycontrails.core import datalib, models\n",
    "from pycontrails.datalib.ecmwf import ERA5\n",
    "from pycontrails.physics import geo, thermo, units, constants\n",
    "from pycontrails.models.ps_model import PSFlight \n",
    "from pycontrails.models.emissions import Emissions\n",
    "from pycontrails.models.dry_advection import DryAdvection\n",
    "from pycontrails.core.met_var import (\n",
    "    AirTemperature,\n",
    "    RelativeHumidity,\n",
    "    SpecificHumidity,\n",
    "    EastwardWind,\n",
    "    NorthwardWind,\n",
    "    VerticalVelocity,\n",
    ")"
   ]
  },
  {
   "cell_type": "code",
   "execution_count": null,
   "metadata": {},
   "outputs": [],
   "source": [
    "# meteorological parameters\n",
    "met_params = {\n",
    "    \"air_temperature\": 240.0,  # K\n",
    "    \"specific_humidity\": 0.001,  # 1\n",
    "    \"relative_humidity\": 0.5,  # 1\n",
    "    \"eastward_wind\": 0.0,  # m/s\n",
    "    \"northward_wind\": 0.0,  # m/s\n",
    "    \"wind_shear\": 0.005,  # 1/s\n",
    "    \"lagrangian_tendency_of_air_pressure\": 0.0,  # m/s\n",
    "}"
   ]
  },
  {
   "cell_type": "code",
   "execution_count": null,
   "metadata": {},
   "outputs": [],
   "source": [
    "# flight trajectory parameters\n",
    "fl_params = {\n",
    "    \"t0_fl\": pd.to_datetime(\"2022-03-02 21:00:00\"),  # flight start time\n",
    "    \"rt_fl\": pd.Timedelta(minutes=30),  # flight run time\n",
    "    \"ts_fl\": pd.Timedelta(minutes=1),  # flight time step\n",
    "    \"ac_type\": \"A320\",  # aircraft type\n",
    "    \"ac0_speed\": 100.0,  # m/s\n",
    "    \"ac_heading\": 45.0,  # deg\n",
    "    \"ac0_coords0\": (-0.8, -0.8, 11500),  # lat, lon, alt [deg, deg, m]\n",
    "    \"sep_dist\": (5000, 2000, 0),  # dx, dy, dz [m]\n",
    "    \"n_ac\": 5,  # number of aircraft\n",
    "}"
   ]
  },
  {
   "cell_type": "code",
   "execution_count": null,
   "metadata": {},
   "outputs": [],
   "source": [
    "# plume dispersion parameters\n",
    "plume_params = {\n",
    "    \"dt_integration\": pd.Timedelta(minutes=5), # integration time step\n",
    "    \"max_age\": pd.Timedelta(hours=3), # maximum age of the plume\n",
    "    \"depth\": 50.0,  # initial plume depth, [m]\n",
    "    \"width\": 40.0  # initial plume width, [m]\n",
    "        }"
   ]
  },
  {
   "cell_type": "code",
   "execution_count": null,
   "metadata": {},
   "outputs": [],
   "source": [
    "# chemistry sim parameters\n",
    "chem_params = {\n",
    "    \"t0_chem\": pd.to_datetime(\"2022-03-01 21:00:00\"),  # chemistry start time\n",
    "    \"rt_chem\": pd.Timedelta(days=5),  # chemistry runtime\n",
    "    \"ts_chem\": pd.Timedelta(minutes=1),  # chemistry time step\n",
    "    \"lat_bounds\": (-1.0, 1.0),  # lat bounds [deg]\n",
    "    \"lon_bounds\": (-1.0, 1.0),  # lon bounds [deg]\n",
    "    \"alt_bounds\": (10500, 12500),  # alt bounds [m]\n",
    "    \"hres_chem\": 0.1,  # horizontal resolution [deg]\n",
    "    \"vres_chem\": 100,  # vertical resolution [m]\n",
    "}"
   ]
  },
  {
   "cell_type": "code",
   "execution_count": null,
   "metadata": {},
   "outputs": [],
   "source": [
    "# create lists for lats, lons, alts, and times based on chem params\n",
    "lats = np.arange(\n",
    "    chem_params[\"lat_bounds\"][0], chem_params[\"lat_bounds\"][1], chem_params[\"hres_chem\"]\n",
    ")\n",
    "\n",
    "lons = np.arange(\n",
    "    chem_params[\"lon_bounds\"][0], chem_params[\"lon_bounds\"][1], chem_params[\"hres_chem\"]\n",
    ")\n",
    "\n",
    "alts = np.arange(\n",
    "    chem_params[\"alt_bounds\"][0], chem_params[\"alt_bounds\"][1], chem_params[\"vres_chem\"]\n",
    ")\n",
    "\n",
    "times = pd.date_range(\n",
    "    start=chem_params[\"t0_chem\"],\n",
    "    end=chem_params[\"t0_chem\"] + chem_params[\"rt_chem\"],\n",
    "    freq=chem_params[\"ts_chem\"],\n",
    ")"
   ]
  },
  {
   "cell_type": "code",
   "execution_count": null,
   "metadata": {},
   "outputs": [],
   "source": [
    "# generate artifical met dataset (boxm currently only supports zero-wind scenarios)\n",
    "data_vars = {\n",
    "    param: (\n",
    "        [\"longitude\", \"latitude\", \"level\", \"time\"],\n",
    "        da.full(\n",
    "            (len(lons), len(lats), len(alts), len(times)),\n",
    "            value,\n",
    "            chunks=(len(lons), len(lats), len(alts), 100),\n",
    "        ),\n",
    "    )\n",
    "    for param, value in met_params.items()\n",
    "}\n",
    "\n",
    "met = xr.Dataset(\n",
    "    data_vars, coords={\"longitude\": lons, \"latitude\": lats, \"level\": units.m_to_pl(alts), \"time\": times}\n",
    ")\n",
    "\n",
    "met = MetDataset(met)\n",
    "\n",
    "met"
   ]
  },
  {
   "cell_type": "code",
   "execution_count": null,
   "metadata": {},
   "outputs": [],
   "source": [
    "# generate leader flight trajectory\n",
    "flights = []\n",
    "\n",
    "lon0, lat0, alt0 = fl_params[\"ac0_coords0\"]\n",
    "heading = fl_params[\"ac_heading\"]\n",
    "dist = fl_params[\"ac0_speed\"] * fl_params[\"rt_fl\"].total_seconds()\n",
    "\n",
    "# calculate the final coordinates\n",
    "geod = pyproj.Geod(ellps=\"WGS84\")\n",
    "lon1, lat1, _ = geod.fwd(lon0, lat0, heading, dist)\n",
    "\n",
    "# create flight object for leader flight and resample points according to ts_fl\n",
    "df = pd.DataFrame()\n",
    "df[\"longitude\"] = [lon0, lon1]\n",
    "df[\"latitude\"] = [lat0, lat1]\n",
    "df[\"altitude\"] = [alt0, alt0]\n",
    "df[\"time\"] = [fl_params[\"t0_fl\"], fl_params[\"t0_fl\"] + fl_params[\"rt_fl\"]],\n",
    "\n",
    "ts_fl_min = int(fl_params[\"ts_fl\"].total_seconds() / 60)\n",
    "\n",
    "fl0 = Flight(df).resample_and_fill(freq=f\"{ts_fl_min}min\")\n",
    "fl0.attrs = {\"flight_id\": int(0), \"aircraft_type\": fl_params[\"ac_type\"]}\n",
    "\n",
    "flights.append(fl0)\n",
    "\n",
    "fl = fl0"
   ]
  },
  {
   "cell_type": "code",
   "execution_count": null,
   "metadata": {},
   "outputs": [],
   "source": [
    "\n",
    "# create follower flight trajectories\n",
    "for i in range(fl_params[\"n_ac\"]):\n",
    "    fl = fl.copy()\n",
    "\n",
    "    # calculate new coords for follower flight\n",
    "    lon_dx, lat_dx, _ = geod.fwd(lon0, lat0, heading, fl_params[\"sep_dist\"][0])\n",
    "    lon_dx_dy, lat_dx_dy, _ = geod.fwd(lon_dx, lat_dx, heading + 90, fl_params[\"sep_dist\"][1])\n",
    "    alt_dx_dy = alt0 + fl_params[\"sep_dist\"][2]\n",
    "\n",
    "    # Calculate the differences in lat, lon, alt\n",
    "    dlat = lat_dx_dy - lat0\n",
    "    dlon = lon_dx_dy - lon0\n",
    "    dalt = alt_dx_dy - alt0\n",
    "\n",
    "    # Update the latitude and longitude of each point in the flight path\n",
    "    fl[\"latitude\"] += dlat\n",
    "    fl[\"longitude\"] += dlon\n",
    "    fl[\"altitude\"] += dalt\n",
    "    fl.attrs = {\"flight_id\": int(i + 1), \"aircraft_type\": fl_params[\"ac_type\"]}\n",
    "    flights.append(fl)\n",
    "\n",
    "    # Update starting coordinates for next flight\n",
    "    lon0, lat0, alt0 = lon_dx_dy, lat_dx_dy, alt_dx_dy"
   ]
  },
  {
   "cell_type": "code",
   "execution_count": null,
   "metadata": {},
   "outputs": [],
   "source": [
    "# visualise the fleet\n",
    "ax = plt.axes()\n",
    "ax.set_xlim([lons[0], lons[-1]])\n",
    "ax.set_ylim([lats[0], lats[-1]])\n",
    "for fl in flights:\n",
    "    fl.plot(ax=ax)"
   ]
  },
  {
   "cell_type": "code",
   "execution_count": null,
   "metadata": {},
   "outputs": [],
   "source": [
    "# estimate fuel flow and fuel burn using ps_model\n",
    "\n",
    "ps_model = PSFlight()\n",
    "emi = Emissions()\n",
    "\n",
    "for i, fl in enumerate(flights):\n",
    "    \n",
    "    # # downselect met data to the flight trajectory\n",
    "    fl[\"air_temperature\"] = models.interpolate_met(met, fl, \"air_temperature\")\n",
    "    fl[\"specific_humidity\"] = models.interpolate_met(met, fl, \"specific_humidity\")\n",
    "    fl[\"true_airspeed\"] = fl.segment_groundspeed()\n",
    "    \n",
    "    # get ac performance data using Poll-Schumann Model\n",
    "    fl = ps_model.eval(fl)\n",
    "\n",
    "    # get emissions data\n",
    "    fl = emi.eval(fl)\n",
    "\n",
    "    # emission indices\n",
    "    eis = {\n",
    "    \"co2_m\": 3.16,\n",
    "    \"h2o_m\": 1.23,\n",
    "    \"so2_m\": 0.00084,\n",
    "    \"nvpm_m\": fl[\"nvpm_ei_m\"],\n",
    "    \"nox_m\": fl[\"nox_ei\"],\n",
    "    \"co_m\": fl[\"co_ei\"],\n",
    "    # hydrocarbon speciation\n",
    "    \"hcho_m\": 0.12 * fl[\"hc_ei\"], # formaldehyde\n",
    "    \"ch3cho_m\": 0.04 * fl[\"hc_ei\"], # acetaldehyde\n",
    "    \"c2h4_m\": 0.15 * fl[\"hc_ei\"], # ethylene\n",
    "    \"c3h6_m\": 0.04 * fl[\"hc_ei\"], # propene\n",
    "    \"c2h2_m\": 0.04 * fl[\"hc_ei\"], # acetylene\n",
    "    \"benzene_m\": 0.02 * fl[\"hc_ei\"] # benzene\n",
    "    }\n",
    "\n",
    "    # calculate emission mass per metre squared for each species\n",
    "    for species, ei in eis.items():\n",
    "        fl[species] = (ei * fl[\"fuel_flow\"] / fl[\"true_airspeed\"]) / chem_params[\"vres_chem\"] / 1E+03 # why divide by 1E+03? g or kg"
   ]
  },
  {
   "cell_type": "code",
   "execution_count": null,
   "metadata": {},
   "outputs": [],
   "source": [
    "# simulate plume dispersion/advection\n",
    "dry_adv = DryAdvection(met, plume_params)"
   ]
  },
  {
   "cell_type": "code",
   "execution_count": null,
   "metadata": {},
   "outputs": [],
   "source": [
    "# run boxm simulation and generate chemistry dataset\n",
    "# chem = Boxm()"
   ]
  }
 ],
 "metadata": {
  "kernelspec": {
   "display_name": "contrails",
   "language": "python",
   "name": "python3"
  },
  "language_info": {
   "codemirror_mode": {
    "name": "ipython",
    "version": 3
   },
   "file_extension": ".py",
   "mimetype": "text/x-python",
   "name": "python",
   "nbconvert_exporter": "python",
   "pygments_lexer": "ipython3",
   "version": "3.12.3"
  }
 },
 "nbformat": 4,
 "nbformat_minor": 2
}
